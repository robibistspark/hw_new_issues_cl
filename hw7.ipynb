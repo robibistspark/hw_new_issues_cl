{
  "cells": [
    {
      "cell_type": "markdown",
      "id": "1bf6f873",
      "metadata": {
        "id": "1bf6f873"
      },
      "source": [
        "**Домашнее задание №8 (вообще вроде 7)**"
      ]
    },
    {
      "cell_type": "markdown",
      "source": [
        "## Imports"
      ],
      "metadata": {
        "id": "Tzy3gdvxL4IR"
      },
      "id": "Tzy3gdvxL4IR"
    },
    {
      "cell_type": "code",
      "source": [
        "import os\n",
        "os.environ[\"KERAS_BACKEND\"] = \"torch\"\n",
        "\n",
        "import keras\n",
        "print(keras.__version__)"
      ],
      "metadata": {
        "colab": {
          "base_uri": "https://localhost:8080/"
        },
        "id": "M6iRdEG2L4IT",
        "outputId": "91417cd9-e211-44c5-8fa5-2d1ccf24ea46"
      },
      "execution_count": 1,
      "outputs": [
        {
          "output_type": "stream",
          "name": "stdout",
          "text": [
            "3.8.0\n"
          ]
        }
      ],
      "id": "M6iRdEG2L4IT"
    },
    {
      "cell_type": "code",
      "source": [
        "import pandas as pd\n",
        "import numpy as np\n",
        "from string import punctuation\n",
        "from sklearn.model_selection import train_test_split\n",
        "from collections import Counter\n",
        "# from IPython.display import Image\n",
        "# from IPython.core.display import HTML\n",
        "import matplotlib.pyplot as plt\n",
        "%matplotlib inline"
      ],
      "metadata": {
        "id": "RThGd8naL7z3"
      },
      "id": "RThGd8naL7z3",
      "execution_count": 2,
      "outputs": []
    },
    {
      "cell_type": "code",
      "source": [
        "from sklearn.metrics import classification_report"
      ],
      "metadata": {
        "id": "pBpiOaV1YusR"
      },
      "id": "pBpiOaV1YusR",
      "execution_count": 3,
      "outputs": []
    },
    {
      "cell_type": "code",
      "source": [
        "# import locale\n",
        "# locale.getpreferredencoding = lambda: \"UTF-8\"\n",
        "# !pip install datasets\n",
        "from datasets import load_dataset"
      ],
      "metadata": {
        "id": "OxabmJr0hUVa"
      },
      "id": "OxabmJr0hUVa",
      "execution_count": 6,
      "outputs": []
    },
    {
      "cell_type": "code",
      "source": [
        "import re"
      ],
      "metadata": {
        "id": "-3cEcxWWwaUC"
      },
      "id": "-3cEcxWWwaUC",
      "execution_count": 7,
      "outputs": []
    },
    {
      "cell_type": "markdown",
      "id": "3b4bd487",
      "metadata": {
        "id": "3b4bd487"
      },
      "source": [
        "# Задание 1 (4 балла)\n",
        "\n",
        "Обучите 2 модели похожую по архитектуре на модель из ULMFit для задачи классификации текста (датасет - lenta_40k )\n",
        "В моделях должно быть как минимум два рекуррентных слоя, а финальный вектор для классификации составляться из последнего состояния RNN (так делалось в семинаре), а также AveragePooling и MaxPooling из всех векторов последовательности (конкатенируйте последнее состояния и результаты пулинга). В первой модели используйте обычные слои, а во второй Bidirectional. Рассчитайте по классовую точность/полноту/f-меру для каждой из модели (результаты не должны быть совсем близкие к нулю после обучения на хотя бы нескольких эпохах)."
      ]
    },
    {
      "cell_type": "markdown",
      "source": [
        "## Data"
      ],
      "metadata": {
        "id": "JqXjkqorLphP"
      },
      "id": "JqXjkqorLphP"
    },
    {
      "cell_type": "code",
      "source": [
        "!wget 'https://github.com/mannefedov/compling_nlp_hse_course/raw/refs/heads/master/data/lenta_40k.csv.zip'"
      ],
      "metadata": {
        "id": "lE40BDkKD629"
      },
      "id": "lE40BDkKD629",
      "execution_count": null,
      "outputs": []
    },
    {
      "cell_type": "code",
      "source": [
        "!unzip 'lenta_40k.csv.zip'"
      ],
      "metadata": {
        "id": "UQaPJpSWEHv1"
      },
      "id": "UQaPJpSWEHv1",
      "execution_count": null,
      "outputs": []
    },
    {
      "cell_type": "code",
      "source": [
        "data = pd.read_csv('lenta_40k.csv.zip')"
      ],
      "metadata": {
        "id": "PGMAKLofMlyE"
      },
      "id": "PGMAKLofMlyE",
      "execution_count": null,
      "outputs": []
    },
    {
      "cell_type": "code",
      "source": [
        "data.head(5)"
      ],
      "metadata": {
        "colab": {
          "base_uri": "https://localhost:8080/",
          "height": 206
        },
        "id": "H2mSY_nZMsUa",
        "outputId": "3ae56227-e85c-4b8a-a39b-940bfa2e16c7"
      },
      "id": "H2mSY_nZMsUa",
      "execution_count": null,
      "outputs": [
        {
          "output_type": "execute_result",
          "data": {
            "text/plain": [
              "                                                text           topic\n",
              "0  Россия должна сотрудничать с Всемирным антидоп...           Спорт\n",
              "1  Уголовный суд Кувейта 28 июня освободил под за...             Мир\n",
              "2  Французский журнал Charlie Hebdo опубликовал н...  Интернет и СМИ\n",
              "3  В Петербурге в доме № 53 по улице Лени Голиков...          Россия\n",
              "4  В московском аэропорту \"Домодедово\" задержан г...          Россия"
            ],
            "text/html": [
              "\n",
              "  <div id=\"df-a2600eb3-2ffb-40e6-990c-070a55648fdf\" class=\"colab-df-container\">\n",
              "    <div>\n",
              "<style scoped>\n",
              "    .dataframe tbody tr th:only-of-type {\n",
              "        vertical-align: middle;\n",
              "    }\n",
              "\n",
              "    .dataframe tbody tr th {\n",
              "        vertical-align: top;\n",
              "    }\n",
              "\n",
              "    .dataframe thead th {\n",
              "        text-align: right;\n",
              "    }\n",
              "</style>\n",
              "<table border=\"1\" class=\"dataframe\">\n",
              "  <thead>\n",
              "    <tr style=\"text-align: right;\">\n",
              "      <th></th>\n",
              "      <th>text</th>\n",
              "      <th>topic</th>\n",
              "    </tr>\n",
              "  </thead>\n",
              "  <tbody>\n",
              "    <tr>\n",
              "      <th>0</th>\n",
              "      <td>Россия должна сотрудничать с Всемирным антидоп...</td>\n",
              "      <td>Спорт</td>\n",
              "    </tr>\n",
              "    <tr>\n",
              "      <th>1</th>\n",
              "      <td>Уголовный суд Кувейта 28 июня освободил под за...</td>\n",
              "      <td>Мир</td>\n",
              "    </tr>\n",
              "    <tr>\n",
              "      <th>2</th>\n",
              "      <td>Французский журнал Charlie Hebdo опубликовал н...</td>\n",
              "      <td>Интернет и СМИ</td>\n",
              "    </tr>\n",
              "    <tr>\n",
              "      <th>3</th>\n",
              "      <td>В Петербурге в доме № 53 по улице Лени Голиков...</td>\n",
              "      <td>Россия</td>\n",
              "    </tr>\n",
              "    <tr>\n",
              "      <th>4</th>\n",
              "      <td>В московском аэропорту \"Домодедово\" задержан г...</td>\n",
              "      <td>Россия</td>\n",
              "    </tr>\n",
              "  </tbody>\n",
              "</table>\n",
              "</div>\n",
              "    <div class=\"colab-df-buttons\">\n",
              "\n",
              "  <div class=\"colab-df-container\">\n",
              "    <button class=\"colab-df-convert\" onclick=\"convertToInteractive('df-a2600eb3-2ffb-40e6-990c-070a55648fdf')\"\n",
              "            title=\"Convert this dataframe to an interactive table.\"\n",
              "            style=\"display:none;\">\n",
              "\n",
              "  <svg xmlns=\"http://www.w3.org/2000/svg\" height=\"24px\" viewBox=\"0 -960 960 960\">\n",
              "    <path d=\"M120-120v-720h720v720H120Zm60-500h600v-160H180v160Zm220 220h160v-160H400v160Zm0 220h160v-160H400v160ZM180-400h160v-160H180v160Zm440 0h160v-160H620v160ZM180-180h160v-160H180v160Zm440 0h160v-160H620v160Z\"/>\n",
              "  </svg>\n",
              "    </button>\n",
              "\n",
              "  <style>\n",
              "    .colab-df-container {\n",
              "      display:flex;\n",
              "      gap: 12px;\n",
              "    }\n",
              "\n",
              "    .colab-df-convert {\n",
              "      background-color: #E8F0FE;\n",
              "      border: none;\n",
              "      border-radius: 50%;\n",
              "      cursor: pointer;\n",
              "      display: none;\n",
              "      fill: #1967D2;\n",
              "      height: 32px;\n",
              "      padding: 0 0 0 0;\n",
              "      width: 32px;\n",
              "    }\n",
              "\n",
              "    .colab-df-convert:hover {\n",
              "      background-color: #E2EBFA;\n",
              "      box-shadow: 0px 1px 2px rgba(60, 64, 67, 0.3), 0px 1px 3px 1px rgba(60, 64, 67, 0.15);\n",
              "      fill: #174EA6;\n",
              "    }\n",
              "\n",
              "    .colab-df-buttons div {\n",
              "      margin-bottom: 4px;\n",
              "    }\n",
              "\n",
              "    [theme=dark] .colab-df-convert {\n",
              "      background-color: #3B4455;\n",
              "      fill: #D2E3FC;\n",
              "    }\n",
              "\n",
              "    [theme=dark] .colab-df-convert:hover {\n",
              "      background-color: #434B5C;\n",
              "      box-shadow: 0px 1px 3px 1px rgba(0, 0, 0, 0.15);\n",
              "      filter: drop-shadow(0px 1px 2px rgba(0, 0, 0, 0.3));\n",
              "      fill: #FFFFFF;\n",
              "    }\n",
              "  </style>\n",
              "\n",
              "    <script>\n",
              "      const buttonEl =\n",
              "        document.querySelector('#df-a2600eb3-2ffb-40e6-990c-070a55648fdf button.colab-df-convert');\n",
              "      buttonEl.style.display =\n",
              "        google.colab.kernel.accessAllowed ? 'block' : 'none';\n",
              "\n",
              "      async function convertToInteractive(key) {\n",
              "        const element = document.querySelector('#df-a2600eb3-2ffb-40e6-990c-070a55648fdf');\n",
              "        const dataTable =\n",
              "          await google.colab.kernel.invokeFunction('convertToInteractive',\n",
              "                                                    [key], {});\n",
              "        if (!dataTable) return;\n",
              "\n",
              "        const docLinkHtml = 'Like what you see? Visit the ' +\n",
              "          '<a target=\"_blank\" href=https://colab.research.google.com/notebooks/data_table.ipynb>data table notebook</a>'\n",
              "          + ' to learn more about interactive tables.';\n",
              "        element.innerHTML = '';\n",
              "        dataTable['output_type'] = 'display_data';\n",
              "        await google.colab.output.renderOutput(dataTable, element);\n",
              "        const docLink = document.createElement('div');\n",
              "        docLink.innerHTML = docLinkHtml;\n",
              "        element.appendChild(docLink);\n",
              "      }\n",
              "    </script>\n",
              "  </div>\n",
              "\n",
              "\n",
              "<div id=\"df-3a50dd0a-a146-45ee-9bcd-48fa76197854\">\n",
              "  <button class=\"colab-df-quickchart\" onclick=\"quickchart('df-3a50dd0a-a146-45ee-9bcd-48fa76197854')\"\n",
              "            title=\"Suggest charts\"\n",
              "            style=\"display:none;\">\n",
              "\n",
              "<svg xmlns=\"http://www.w3.org/2000/svg\" height=\"24px\"viewBox=\"0 0 24 24\"\n",
              "     width=\"24px\">\n",
              "    <g>\n",
              "        <path d=\"M19 3H5c-1.1 0-2 .9-2 2v14c0 1.1.9 2 2 2h14c1.1 0 2-.9 2-2V5c0-1.1-.9-2-2-2zM9 17H7v-7h2v7zm4 0h-2V7h2v10zm4 0h-2v-4h2v4z\"/>\n",
              "    </g>\n",
              "</svg>\n",
              "  </button>\n",
              "\n",
              "<style>\n",
              "  .colab-df-quickchart {\n",
              "      --bg-color: #E8F0FE;\n",
              "      --fill-color: #1967D2;\n",
              "      --hover-bg-color: #E2EBFA;\n",
              "      --hover-fill-color: #174EA6;\n",
              "      --disabled-fill-color: #AAA;\n",
              "      --disabled-bg-color: #DDD;\n",
              "  }\n",
              "\n",
              "  [theme=dark] .colab-df-quickchart {\n",
              "      --bg-color: #3B4455;\n",
              "      --fill-color: #D2E3FC;\n",
              "      --hover-bg-color: #434B5C;\n",
              "      --hover-fill-color: #FFFFFF;\n",
              "      --disabled-bg-color: #3B4455;\n",
              "      --disabled-fill-color: #666;\n",
              "  }\n",
              "\n",
              "  .colab-df-quickchart {\n",
              "    background-color: var(--bg-color);\n",
              "    border: none;\n",
              "    border-radius: 50%;\n",
              "    cursor: pointer;\n",
              "    display: none;\n",
              "    fill: var(--fill-color);\n",
              "    height: 32px;\n",
              "    padding: 0;\n",
              "    width: 32px;\n",
              "  }\n",
              "\n",
              "  .colab-df-quickchart:hover {\n",
              "    background-color: var(--hover-bg-color);\n",
              "    box-shadow: 0 1px 2px rgba(60, 64, 67, 0.3), 0 1px 3px 1px rgba(60, 64, 67, 0.15);\n",
              "    fill: var(--button-hover-fill-color);\n",
              "  }\n",
              "\n",
              "  .colab-df-quickchart-complete:disabled,\n",
              "  .colab-df-quickchart-complete:disabled:hover {\n",
              "    background-color: var(--disabled-bg-color);\n",
              "    fill: var(--disabled-fill-color);\n",
              "    box-shadow: none;\n",
              "  }\n",
              "\n",
              "  .colab-df-spinner {\n",
              "    border: 2px solid var(--fill-color);\n",
              "    border-color: transparent;\n",
              "    border-bottom-color: var(--fill-color);\n",
              "    animation:\n",
              "      spin 1s steps(1) infinite;\n",
              "  }\n",
              "\n",
              "  @keyframes spin {\n",
              "    0% {\n",
              "      border-color: transparent;\n",
              "      border-bottom-color: var(--fill-color);\n",
              "      border-left-color: var(--fill-color);\n",
              "    }\n",
              "    20% {\n",
              "      border-color: transparent;\n",
              "      border-left-color: var(--fill-color);\n",
              "      border-top-color: var(--fill-color);\n",
              "    }\n",
              "    30% {\n",
              "      border-color: transparent;\n",
              "      border-left-color: var(--fill-color);\n",
              "      border-top-color: var(--fill-color);\n",
              "      border-right-color: var(--fill-color);\n",
              "    }\n",
              "    40% {\n",
              "      border-color: transparent;\n",
              "      border-right-color: var(--fill-color);\n",
              "      border-top-color: var(--fill-color);\n",
              "    }\n",
              "    60% {\n",
              "      border-color: transparent;\n",
              "      border-right-color: var(--fill-color);\n",
              "    }\n",
              "    80% {\n",
              "      border-color: transparent;\n",
              "      border-right-color: var(--fill-color);\n",
              "      border-bottom-color: var(--fill-color);\n",
              "    }\n",
              "    90% {\n",
              "      border-color: transparent;\n",
              "      border-bottom-color: var(--fill-color);\n",
              "    }\n",
              "  }\n",
              "</style>\n",
              "\n",
              "  <script>\n",
              "    async function quickchart(key) {\n",
              "      const quickchartButtonEl =\n",
              "        document.querySelector('#' + key + ' button');\n",
              "      quickchartButtonEl.disabled = true;  // To prevent multiple clicks.\n",
              "      quickchartButtonEl.classList.add('colab-df-spinner');\n",
              "      try {\n",
              "        const charts = await google.colab.kernel.invokeFunction(\n",
              "            'suggestCharts', [key], {});\n",
              "      } catch (error) {\n",
              "        console.error('Error during call to suggestCharts:', error);\n",
              "      }\n",
              "      quickchartButtonEl.classList.remove('colab-df-spinner');\n",
              "      quickchartButtonEl.classList.add('colab-df-quickchart-complete');\n",
              "    }\n",
              "    (() => {\n",
              "      let quickchartButtonEl =\n",
              "        document.querySelector('#df-3a50dd0a-a146-45ee-9bcd-48fa76197854 button');\n",
              "      quickchartButtonEl.style.display =\n",
              "        google.colab.kernel.accessAllowed ? 'block' : 'none';\n",
              "    })();\n",
              "  </script>\n",
              "</div>\n",
              "    </div>\n",
              "  </div>\n"
            ],
            "application/vnd.google.colaboratory.intrinsic+json": {
              "type": "dataframe",
              "variable_name": "data",
              "summary": "{\n  \"name\": \"data\",\n  \"rows\": 44356,\n  \"fields\": [\n    {\n      \"column\": \"text\",\n      \"properties\": {\n        \"dtype\": \"string\",\n        \"num_unique_values\": 44319,\n        \"samples\": [\n          \"\\u0412 \\u041c\\u043e\\u0441\\u043a\\u0432\\u0435 \\u0432 \\u043f\\u044f\\u0442\\u043d\\u0438\\u0446\\u0443, 29 \\u0444\\u0435\\u0432\\u0440\\u0430\\u043b\\u044f, \\u0437\\u0430\\u0434\\u0435\\u0440\\u0436\\u0430\\u043d \\u043e\\u0434\\u0438\\u043d \\u0438\\u0437 \\u043b\\u0438\\u0434\\u0435\\u0440\\u043e\\u0432 \\u043d\\u0430\\u0446\\u0431\\u043e\\u043b\\u043e\\u0432 \\u0412\\u043b\\u0430\\u0434\\u0438\\u043c\\u0438\\u0440 \\u041b\\u0438\\u043d\\u0434\\u0435\\u0440\\u043c\\u0430\\u043d, \\u0438\\u0437\\u0432\\u0435\\u0441\\u0442\\u043d\\u044b\\u0439 \\u0442\\u0430\\u043a\\u0436\\u0435 \\u043a\\u0430\\u043a \\u0410\\u0431\\u0435\\u043b\\u044c. \\u041e\\u0431 \\u044d\\u0442\\u043e\\u043c \\u0441\\u043e\\u043e\\u0431\\u0449\\u0430\\u0435\\u0442 \\u0421\\u043e\\u0431\\u043a\\u043e\\u0440.Ru \\u0441\\u043e \\u0441\\u0441\\u044b\\u043b\\u043a\\u043e\\u0439 \\u043d\\u0430 \\u0441\\u0430\\u043c\\u043e\\u0433\\u043e \\u0410\\u0431\\u0435\\u043b\\u044f. \\u0410\\u0431\\u0435\\u043b\\u044c, \\u0440\\u0430\\u0437\\u044b\\u0441\\u043a\\u0438\\u0432\\u0430\\u0435\\u043c\\u044b\\u0439 \\u043f\\u0440\\u0430\\u0432\\u043e\\u043e\\u0445\\u0440\\u0430\\u043d\\u0438\\u0442\\u0435\\u043b\\u044c\\u043d\\u044b\\u043c\\u0438 \\u043e\\u0440\\u0433\\u0430\\u043d\\u0430\\u043c\\u0438 \\u041b\\u0430\\u0442\\u0432\\u0438\\u0438 \\u043f\\u043e \\u043e\\u0431\\u0432\\u0438\\u043d\\u0435\\u043d\\u0438\\u044e \\u0432 \\u043f\\u043e\\u0434\\u0433\\u043e\\u0442\\u043e\\u0432\\u043a\\u0435 \\u043f\\u043e\\u043a\\u0443\\u0448\\u0435\\u043d\\u0438\\u044f \\u043d\\u0430 \\u043f\\u0440\\u0435\\u0437\\u0438\\u0434\\u0435\\u043d\\u0442\\u0430 \\u0441\\u0442\\u0440\\u0430\\u043d\\u044b, \\u0441 2003 \\u0433\\u043e\\u0434\\u0430 \\u0436\\u0438\\u043b \\u0432 \\u0420\\u043e\\u0441\\u0441\\u0438\\u0438 \\u0438 \\u0434\\u0432\\u0430\\u0436\\u0434\\u044b \\u043f\\u0440\\u043e\\u0441\\u0438\\u043b \\u043f\\u0440\\u0435\\u0434\\u043e\\u0441\\u0442\\u0430\\u0432\\u0438\\u0442\\u044c \\u0435\\u043c\\u0443 \\u043f\\u043e\\u043b\\u0438\\u0442\\u0438\\u0447\\u0435\\u0441\\u043a\\u043e\\u0435 \\u0443\\u0431\\u0435\\u0436\\u0438\\u0449\\u0435, \\u0443\\u0442\\u0432\\u0435\\u0440\\u0436\\u0434\\u0430\\u044f, \\u0447\\u0442\\u043e \\u0435\\u0433\\u043e \\u043f\\u0440\\u0435\\u0441\\u043b\\u0435\\u0434\\u0443\\u044e\\u0442 \\u043f\\u043e \\u043f\\u043e\\u043b\\u0438\\u0442\\u0438\\u0447\\u0435\\u0441\\u043a\\u0438\\u043c \\u043c\\u043e\\u0442\\u0438\\u0432\\u0430\\u043c. \\u0412 \\u0442\\u043e \\u0436\\u0435 \\u0432\\u0440\\u0435\\u043c\\u044f \\u043e\\u043d \\u0430\\u043a\\u0442\\u0438\\u0432\\u043d\\u043e \\u0443\\u0447\\u0430\\u0441\\u0442\\u0432\\u043e\\u0432\\u0430\\u043b \\u0432 \\u0434\\u0435\\u044f\\u0442\\u0435\\u043b\\u044c\\u043d\\u043e\\u0441\\u0442\\u0438 \\u0437\\u0430\\u043f\\u0440\\u0435\\u0449\\u0435\\u043d\\u043d\\u043e\\u0439 \\u041d\\u0430\\u0446\\u0438\\u043e\\u043d\\u0430\\u043b-\\u0431\\u043e\\u043b\\u044c\\u0448\\u0435\\u0432\\u0438\\u0441\\u0442\\u0441\\u043a\\u043e\\u0439 \\u043f\\u0430\\u0440\\u0442\\u0438\\u0438 \\u0438 \\u043e\\u043f\\u043f\\u043e\\u0437\\u0438\\u0446\\u0438\\u043e\\u043d\\u043d\\u043e\\u0439 \\u043a\\u043e\\u0430\\u043b\\u0438\\u0446\\u0438\\u0438 \\\"\\u0414\\u0440\\u0443\\u0433\\u0430\\u044f \\u0420\\u043e\\u0441\\u0441\\u0438\\u044f\\\". \\u041b\\u0435\\u0442\\u043e\\u043c 2006 \\u0433\\u043e\\u0434\\u0430 \\u041a\\u0443\\u0437\\u044c\\u043c\\u0438\\u043d\\u0441\\u043a\\u0438\\u0439 \\u0440\\u0430\\u0439\\u043e\\u043d\\u043d\\u044b\\u0439 \\u0441\\u0443\\u0434 \\u043f\\u043e\\u0441\\u0442\\u0430\\u043d\\u043e\\u0432\\u0438\\u043b \\u0434\\u0435\\u043f\\u043e\\u0440\\u0442\\u0438\\u0440\\u043e\\u0432\\u0430\\u0442\\u044c \\u0410\\u0431\\u0435\\u043b\\u044f \\u0438\\u0437 \\u0420\\u043e\\u0441\\u0441\\u0438\\u0438 \\u0437\\u0430 \\u043d\\u0430\\u0440\\u0443\\u0448\\u0435\\u043d\\u0438\\u0435 \\u043f\\u0430\\u0441\\u043f\\u043e\\u0440\\u0442\\u043d\\u043e\\u0433\\u043e \\u0440\\u0435\\u0436\\u0438\\u043c\\u0430, \\u043d\\u043e \\u043f\\u043e \\u0434\\u043e\\u0440\\u043e\\u0433\\u0435 \\u0432 \\u041b\\u0430\\u0442\\u0432\\u0438\\u044e \\u043e\\u043d \\u043f\\u0440\\u043e\\u043f\\u0430\\u043b. \\u0410\\u0431\\u0435\\u043b\\u044c, \\u043f\\u043e \\u0434\\u0430\\u043d\\u043d\\u044b\\u043c \\u0421\\u043e\\u0431\\u043a\\u043e\\u0440.Ru, \\u0443\\u0436\\u0435 \\u0434\\u043e\\u0441\\u0442\\u0430\\u0432\\u043b\\u0435\\u043d \\u0432 \\u0418\\u0437\\u043c\\u0430\\u0439\\u043b\\u043e\\u0432\\u0441\\u043a\\u0438\\u0439 \\u0441\\u0443\\u0434, \\u043a\\u043e\\u0442\\u043e\\u0440\\u044b\\u0439 \\u0440\\u0435\\u0448\\u0438\\u0442, \\u0441\\u043b\\u0435\\u0434\\u0443\\u0435\\u0442 \\u043b\\u0438 \\u043f\\u043e\\u0432\\u0442\\u043e\\u0440\\u043d\\u043e \\u0434\\u0435\\u043f\\u043e\\u0440\\u0442\\u0438\\u0440\\u043e\\u0432\\u0430\\u0442\\u044c \\u0435\\u0433\\u043e \\u0432 \\u041b\\u0430\\u0442\\u0432\\u0438\\u044e.\",\n          \"\\u0420\\u043e\\u0441\\u0441\\u0438\\u044f \\u0441\\u043f\\u0435\\u0446\\u0438\\u0430\\u043b\\u044c\\u043d\\u043e \\u0437\\u0430\\u043c\\u0435\\u0434\\u043b\\u0438\\u043b\\u0430 \\u043f\\u0435\\u0440\\u0435\\u0433\\u043e\\u0432\\u043e\\u0440\\u044b \\u0441 \\u0421\\u0428\\u0410 \\u043f\\u043e \\u043f\\u0430\\u0440\\u0430\\u043c\\u0435\\u0442\\u0440\\u0430\\u043c \\u0432\\u0441\\u0442\\u0443\\u043f\\u043b\\u0435\\u043d\\u0438\\u044f \\u0432 \\u0412\\u0422\\u041e (World Trade Organisation, WTO). \\u041e\\u0431 \\u044d\\u0442\\u043e\\u043c \\u0437\\u0430\\u044f\\u0432\\u0438\\u043b \\u0433\\u043b\\u0430\\u0432\\u0430 \\u0440\\u043e\\u0441\\u0441\\u0438\\u0439\\u0441\\u043a\\u043e\\u0439 \\u0434\\u0435\\u043b\\u0435\\u0433\\u0430\\u0446\\u0438\\u0438 \\u043d\\u0430 \\u043f\\u0435\\u0440\\u0435\\u0433\\u043e\\u0432\\u043e\\u0440\\u0430\\u0445 \\u043f\\u043e \\u043f\\u0440\\u0438\\u0441\\u043e\\u0435\\u0434\\u0438\\u043d\\u0435\\u043d\\u0438\\u044e \\u043a \\u0412\\u0422\\u041e \\u041c\\u0430\\u043a\\u0441\\u0438\\u043c \\u041c\\u0435\\u0434\\u0432\\u0435\\u0434\\u043a\\u043e\\u0432, \\u043f\\u0438\\u0448\\u0435\\u0442 \\\"\\u0420\\u043e\\u0441\\u0441\\u0438\\u0439\\u0441\\u043a\\u0430\\u044f \\u0433\\u0430\\u0437\\u0435\\u0442\\u0430\\\". \\u0413\\u043b\\u0430\\u0432\\u043d\\u044b\\u0439 \\u043f\\u0435\\u0440\\u0435\\u0433\\u043e\\u0432\\u043e\\u0440\\u0449\\u0438\\u043a \\u043e\\u0442\\u043a\\u0430\\u0437\\u0430\\u043b\\u0441\\u044f \\u0443\\u0442\\u043e\\u0447\\u043d\\u0438\\u0442\\u044c \\u0434\\u0435\\u0442\\u0430\\u043b\\u0438 \\u0437\\u0430\\u043c\\u0435\\u0434\\u043b\\u0435\\u043d\\u0438\\u044f, \\u043d\\u043e \\u0441\\u043a\\u0430\\u0437\\u0430\\u043b, \\u0447\\u0442\\u043e \\u0420\\u043e\\u0441\\u0441\\u0438\\u044f \\u0432\\u0437\\u044f\\u043b\\u0430 \\u043f\\u0430\\u0443\\u0437\\u0443 \\u0438\\u0437-\\u0437\\u0430 \\u0442\\u043e\\u0433\\u043e, \\u0447\\u0442\\u043e \\u043d\\u0435 \\u043c\\u043e\\u0436\\u0435\\u0442 \\u043d\\u0430\\u0439\\u0442\\u0438 \\u0440\\u0435\\u0448\\u0435\\u043d\\u0438\\u044f \\u043d\\u0435\\u0441\\u043a\\u043e\\u043b\\u044c\\u043a\\u0438\\u0445 \\u043f\\u0440\\u043e\\u0431\\u043b\\u0435\\u043c \\u043f\\u043e \\u043f\\u0435\\u0440\\u0435\\u0433\\u043e\\u0432\\u043e\\u0440\\u0430\\u043c \\u043a\\u0430\\u043a \\u0441 \\u0421\\u0428\\u0410, \\u0442\\u0430\\u043a \\u0438 \\u0441 \\u0434\\u0440\\u0443\\u0433\\u0438\\u043c\\u0438 \\u0441\\u0442\\u0440\\u0430\\u043d\\u0430\\u043c\\u0438. \\u041c\\u0435\\u0434\\u0432\\u0435\\u0434\\u043a\\u043e\\u0432 \\u0437\\u0430\\u044f\\u0432\\u0438\\u043b, \\u0447\\u0442\\u043e, \\u0442\\u0435\\u043c \\u043d\\u0435 \\u043c\\u0435\\u043d\\u0435\\u0435, \\u043f\\u0435\\u0440\\u0435\\u0433\\u043e\\u0432\\u043e\\u0440\\u043d\\u044b\\u0439 \\u043f\\u0440\\u043e\\u0446\\u0435\\u0441\\u0441 \\u043d\\u0435 \\u043f\\u0440\\u0435\\u0440\\u0432\\u0430\\u043d \\u0438 \\u0443 \\u0420\\u043e\\u0441\\u0441\\u0438\\u0438 \\u043e\\u0441\\u0442\\u0430\\u0435\\u0442\\u0441\\u044f \\u0442\\u0435\\u0445\\u043d\\u0438\\u0447\\u0435\\u0441\\u043a\\u0430\\u044f \\u0432\\u043e\\u0437\\u043c\\u043e\\u0436\\u043d\\u043e\\u0441\\u0442\\u044c \\u0432\\u0441\\u0442\\u0443\\u043f\\u0438\\u0442\\u044c \\u0432 \\u0442\\u043e\\u0440\\u0433\\u043e\\u0432\\u044b\\u0439 \\u043a\\u043b\\u0443\\u0431 \\u043a \\u043a\\u043e\\u043d\\u0446\\u0443 2006 \\u0433\\u043e\\u0434\\u0430. \\u041c\\u0430\\u043a\\u0441\\u0438\\u043c \\u041c\\u0435\\u0434\\u0432\\u0435\\u0434\\u043a\\u043e\\u0432 \\u0432 \\u043e\\u0447\\u0435\\u0440\\u0435\\u0434\\u043d\\u043e\\u0439 \\u0440\\u0430\\u0437 \\u043f\\u043e\\u0432\\u0442\\u043e\\u0440\\u0438\\u043b, \\u0447\\u0442\\u043e \\u0420\\u043e\\u0441\\u0441\\u0438\\u044f \\u043d\\u0435 \\u0441\\u043e\\u0431\\u0438\\u0440\\u0430\\u0435\\u0442\\u0441\\u044f \\u0438\\u0434\\u0442\\u0438 \\u043d\\u0430 \\u0437\\u043d\\u0430\\u0447\\u0438\\u0442\\u0435\\u043b\\u044c\\u043d\\u044b\\u0435 \\u0443\\u0441\\u0442\\u0443\\u043f\\u043a\\u0438 \\u0421\\u0428\\u0410 \\u0438 \\u043d\\u0435 \\u0431\\u0443\\u0434\\u0435\\u0442 \\u0436\\u0435\\u0440\\u0442\\u0432\\u043e\\u0432\\u0430\\u0442\\u044c \\u0441\\u0432\\u043e\\u0438\\u043c\\u0438 \\u044d\\u043a\\u043e\\u043d\\u043e\\u043c\\u0438\\u0447\\u0435\\u0441\\u043a\\u0438\\u043c\\u0438 \\u0442\\u0440\\u0435\\u0431\\u043e\\u0432\\u0430\\u043d\\u0438\\u044f\\u043c\\u0438 \\u0440\\u0430\\u0434\\u0438 \\u0441\\u043a\\u043e\\u0440\\u0435\\u0439\\u0448\\u0435\\u0433\\u043e \\u0432\\u0441\\u0442\\u0443\\u043f\\u043b\\u0435\\u043d\\u0438\\u044f \\u0432 \\u0412\\u0422\\u041e. \\u0421\\u043b\\u043e\\u0432\\u0430 \\u0433\\u043b\\u0430\\u0432\\u043d\\u043e\\u0433\\u043e \\u043f\\u0435\\u0440\\u0435\\u0433\\u043e\\u0432\\u043e\\u0440\\u0449\\u0438\\u043a\\u0430 \\u0441\\u0442\\u0440\\u0430\\u043d\\u044b \\u043f\\u043e \\u0432\\u0441\\u0442\\u0443\\u043f\\u043b\\u0435\\u043d\\u0438\\u044e \\u0432 \\u0412\\u0422\\u041e \\u043f\\u0440\\u0430\\u043a\\u0442\\u0438\\u0447\\u0435\\u0441\\u043a\\u0438 \\u043f\\u043e\\u043b\\u043d\\u043e\\u0441\\u0442\\u044c\\u044e \\u0441\\u043e\\u0432\\u043f\\u0430\\u0434\\u0430\\u044e\\u0442 \\u0441 \\u043c\\u043d\\u0435\\u043d\\u0438\\u0435\\u043c \\u0441\\u043f\\u0438\\u043a\\u0435\\u0440\\u0430 \\u0413\\u043e\\u0441\\u0434\\u0443\\u043c\\u044b \\u0411\\u043e\\u0440\\u0438\\u0441\\u0430 \\u0413\\u0440\\u044b\\u0437\\u043b\\u043e\\u0432\\u0430. \\u041d\\u0430\\u043a\\u0430\\u043d\\u0443\\u043d\\u0435 \\u043e\\u043d \\u0437\\u0430\\u044f\\u0432\\u0438\\u043b, \\u0447\\u0442\\u043e \\u043f\\u0440\\u0438\\u0441\\u043e\\u0435\\u0434\\u0438\\u043d\\u0435\\u043d\\u0438\\u0435 \\u043a \\u0442\\u043e\\u0440\\u0433\\u043e\\u0432\\u043e\\u043c\\u0443 \\u043a\\u043b\\u0443\\u0431\\u0443 \\u043d\\u0435 \\u043c\\u043e\\u0436\\u0435\\u0442 \\u044f\\u0432\\u043b\\u044f\\u0442\\u044c\\u0441\\u044f \\u0434\\u043b\\u044f \\u0420\\u043e\\u0441\\u0441\\u0438\\u0438 \\u0441\\u0430\\u043c\\u043e\\u0446\\u0435\\u043b\\u044c\\u044e \\u0438 \\u043e\\u0442\\u0432\\u0435\\u0440\\u0433 \\u0432\\u043e\\u0437\\u043c\\u043e\\u0436\\u043d\\u044b\\u0435 \\u043a\\u043e\\u043c\\u043f\\u0440\\u043e\\u043c\\u0438\\u0441\\u0441\\u044b \\u0441 \\u0421\\u0428\\u0410. \\u041d\\u0435\\u0441\\u043a\\u043e\\u043b\\u044c\\u043a\\u043e \\u0434\\u043d\\u0435\\u0439 \\u043d\\u0430\\u0437\\u0430\\u0434 \\u0433\\u043b\\u0430\\u0432\\u0430 \\u0441\\u0435\\u043d\\u0430\\u0442\\u0441\\u043a\\u043e\\u0433\\u043e \\u0431\\u043e\\u043b\\u044c\\u0448\\u0438\\u043d\\u0441\\u0442\\u0432\\u0430 \\u0421\\u0428\\u0410 \\u0440\\u0435\\u0441\\u043f\\u0443\\u0431\\u043b\\u0438\\u043a\\u0430\\u043d\\u0435\\u0446 \\u0411\\u0438\\u043b\\u043b \\u0424\\u0440\\u0438\\u0441\\u0442 (Bill Frist) \\u0441\\u0432\\u044f\\u0437\\u0430\\u043b \\u0432\\u043e\\u0437\\u043c\\u043e\\u0436\\u043d\\u043e\\u0441\\u0442\\u044c \\u0432\\u0441\\u0442\\u0443\\u043f\\u043b\\u0435\\u043d\\u0438\\u044f \\u0420\\u043e\\u0441\\u0441\\u0438\\u0438 \\u0432 \\u0412\\u0422\\u041e \\u043d\\u0435 \\u0442\\u043e\\u043b\\u044c\\u043a\\u043e \\u0441 \\u044d\\u043a\\u043e\\u043d\\u043e\\u043c\\u0438\\u0447\\u0435\\u0441\\u043a\\u0438\\u043c\\u0438, \\u043d\\u043e \\u0438 \\u0441 \\u043f\\u043e\\u043b\\u0438\\u0442\\u0438\\u0447\\u0435\\u0441\\u043a\\u0438\\u043c\\u0438 \\u043f\\u0440\\u043e\\u0431\\u043b\\u0435\\u043c\\u0430\\u043c\\u0438, \\u0432 \\u0447\\u0430\\u0441\\u0442\\u043d\\u043e\\u0441\\u0442\\u0438, \\u043f\\u043e\\u0437\\u0438\\u0446\\u0438\\u0438 \\u0441\\u0442\\u0440\\u0430\\u043d\\u044b \\u043f\\u043e \\u044f\\u0434\\u0435\\u0440\\u043d\\u043e\\u0439 \\u043f\\u0440\\u043e\\u0433\\u0440\\u0430\\u043c\\u043c\\u0435 \\u0418\\u0440\\u0430\\u043d\\u0430 \\u0438 \\u0441\\u0432\\u043e\\u0431\\u043e\\u0434\\u0435 \\u0441\\u043b\\u043e\\u0432\\u0430. \\u0420\\u043e\\u0441\\u0441\\u0438\\u044f \\u043f\\u044b\\u0442\\u0430\\u0435\\u0442\\u0441\\u044f \\u0432\\u0441\\u0442\\u0443\\u043f\\u0438\\u0442\\u044c \\u0432 \\u0412\\u0422\\u041e \\u0441 1994 \\u0433\\u043e\\u0434\\u0430.\\u041d\\u0430 \\u0434\\u0430\\u043d\\u043d\\u044b\\u0439 \\u043c\\u043e\\u043c\\u0435\\u043d\\u0442 \\u043e\\u0441\\u043d\\u043e\\u0432\\u043d\\u044b\\u043c \\u043f\\u0440\\u0435\\u043f\\u044f\\u0442\\u0441\\u0442\\u0432\\u0438\\u0435\\u043c \\u043a \\u0447\\u043b\\u0435\\u043d\\u0441\\u0442\\u0432\\u0443 \\u0432 \\u0412\\u0422\\u041e \\u044f\\u0432\\u043b\\u044f\\u0435\\u0442\\u0441\\u044f \\u043f\\u043e\\u0437\\u0438\\u0446\\u0438\\u044f \\u0421\\u0428\\u0410.\",\n          \"\\u0412 \\u0430\\u043c\\u0435\\u0440\\u0438\\u043a\\u0430\\u043d\\u0441\\u043a\\u043e\\u043c \\u0448\\u0442\\u0430\\u0442\\u0435 \\u0424\\u043b\\u043e\\u0440\\u0438\\u0434\\u0430 \\u0434\\u0432\\u043e\\u0435 \\u0437\\u043b\\u043e\\u0443\\u043c\\u044b\\u0448\\u043b\\u0435\\u043d\\u043d\\u0438\\u043a\\u043e\\u0432 \\u043f\\u043e\\u0445\\u0438\\u0442\\u0438\\u043b\\u0438 \\u043c\\u0430\\u0448\\u0438\\u043d\\u0443 \\u0434\\u043b\\u044f \\u043f\\u0435\\u0440\\u0435\\u0441\\u0447\\u0435\\u0442\\u0430 \\u0431\\u044e\\u043b\\u043b\\u0435\\u0442\\u0435\\u043d\\u0438\\u0439 \\u0441 \\u043e\\u0434\\u043d\\u043e\\u0433\\u043e \\u0438\\u0437 \\u0438\\u0437\\u0431\\u0438\\u0440\\u0430\\u0442\\u0435\\u043b\\u044c\\u043d\\u044b\\u0445 \\u0443\\u0447\\u0430\\u0441\\u0442\\u043a\\u043e\\u0432 \\u0432 \\u0433\\u0440\\u0430\\u0444\\u0441\\u0442\\u0432\\u0435 \\u041f\\u0430\\u043b\\u043c \\u0411\\u0438\\u0447, \\u0441\\u043e\\u043e\\u0431\\u0449\\u0430\\u0435\\u0442 \\u0420\\u0418\\u0410 \\\"\\u041d\\u043e\\u0432\\u043e\\u0441\\u0442\\u0438\\\". \\u041f\\u0440\\u0435\\u0441\\u0442\\u0443\\u043f\\u043d\\u0438\\u043a\\u0438 \\u043f\\u043e\\u043f\\u044b\\u0442\\u0430\\u043b\\u0438\\u0441\\u044c \\u043f\\u0440\\u043e\\u0434\\u0430\\u0442\\u044c \\u043c\\u0430\\u0448\\u0438\\u043d\\u0443 \\u0437\\u0430 20 \\u0442\\u044b\\u0441\\u044f\\u0447 \\u0434\\u043e\\u043b\\u043b\\u0430\\u0440\\u043e\\u0432 \\u0447\\u0435\\u0440\\u0435\\u0437 \\u0430\\u043d\\u043e\\u043d\\u0438\\u043c\\u043d\\u044b\\u0439 \\u0430\\u0443\\u043a\\u0446\\u0438\\u043e\\u043d \\u043d\\u0430 \\u043e\\u0434\\u043d\\u043e\\u043c \\u0438\\u0437 \\u0441\\u0430\\u0439\\u0442\\u043e\\u0432 \\u0432 \\u0418\\u043d\\u0442\\u0435\\u0440\\u043d\\u0435\\u0442\\u0435. \\u041e\\u043d\\u0438 \\u0431\\u044b\\u043b\\u0438 \\u043f\\u043e\\u0439\\u043c\\u0430\\u043d\\u044b \\u0441 \\u043f\\u043e\\u043b\\u0438\\u0447\\u043d\\u044b\\u043c \\u0432 \\u043c\\u043e\\u043c\\u0435\\u043d\\u0442 \\u043f\\u0435\\u0440\\u0435\\u0434\\u0430\\u0447\\u0438 \\u0430\\u043f\\u043f\\u043f\\u0430\\u0440\\u0430\\u0442\\u0430 \\\"\\u043f\\u043e\\u043a\\u0443\\u043f\\u0430\\u0442\\u0435\\u043b\\u044f\\u043c\\\", \\u043a\\u043e\\u0442\\u043e\\u0440\\u044b\\u043c\\u0438 \\u0431\\u044b\\u043b\\u0438 \\u043f\\u0435\\u0440\\u0435\\u043e\\u0434\\u0435\\u0442\\u044b\\u0435 \\u043f\\u0440\\u0435\\u0434\\u0441\\u0442\\u0430\\u0432\\u0438\\u0442\\u0435\\u043b\\u0438 \\u043f\\u0440\\u0430\\u0432\\u043e\\u043e\\u0445\\u0440\\u0430\\u043d\\u0438\\u0442\\u0435\\u043b\\u044c\\u043d\\u044b\\u0445 \\u043e\\u0440\\u0433\\u0430\\u043d\\u043e\\u0432. \\u041f\\u043e \\u0437\\u0430\\u043a\\u043e\\u043d\\u0430\\u043c \\u0421\\u0428\\u0410 \\u043e\\u0431\\u043b\\u0430\\u0434\\u0430\\u043d\\u0438\\u0435 \\u0447\\u0430\\u0441\\u0442\\u043d\\u044b\\u043c \\u043b\\u0438\\u0446\\u043e\\u043c \\u0441\\u0447\\u0435\\u0442\\u043d\\u043e\\u0439 \\u043c\\u0430\\u0448\\u0438\\u043d\\u043e\\u0439 \\u0434\\u043b\\u044f \\u043e\\u0431\\u0440\\u0430\\u0431\\u043e\\u0442\\u043a\\u0438 \\u0438\\u0437\\u0431\\u0438\\u0440\\u0430\\u0442\\u0435\\u043b\\u044c\\u043d\\u044b\\u0445 \\u0431\\u044e\\u043b\\u043b\\u0435\\u0442\\u0435\\u043d\\u0438\\u0439 \\u044f\\u0432\\u043b\\u044f\\u0435\\u0442\\u0441\\u044f \\u043f\\u0440\\u0435\\u0441\\u0442\\u0443\\u043f\\u043b\\u0435\\u043d\\u0438\\u0435\\u043c, \\u043f\\u0435\\u0440\\u0435\\u0434\\u0430\\u0435\\u0442 \\u0430\\u0433\\u0435\\u043d\\u0442\\u0441\\u0442\\u0432\\u043e.\"\n        ],\n        \"semantic_type\": \"\",\n        \"description\": \"\"\n      }\n    },\n    {\n      \"column\": \"topic\",\n      \"properties\": {\n        \"dtype\": \"category\",\n        \"num_unique_values\": 19,\n        \"samples\": [\n          \"\\u0421\\u043f\\u043e\\u0440\\u0442\",\n          \"\\u0421\\u0438\\u043b\\u043e\\u0432\\u044b\\u0435 \\u0441\\u0442\\u0440\\u0443\\u043a\\u0442\\u0443\\u0440\\u044b\",\n          \"\\u0414\\u043e\\u043c\"\n        ],\n        \"semantic_type\": \"\",\n        \"description\": \"\"\n      }\n    }\n  ]\n}"
            }
          },
          "metadata": {},
          "execution_count": 69
        }
      ]
    },
    {
      "cell_type": "markdown",
      "source": [
        "## Preprocessing"
      ],
      "metadata": {
        "id": "5wkE7j6sLuGf"
      },
      "id": "5wkE7j6sLuGf"
    },
    {
      "cell_type": "code",
      "source": [
        "def preprocess(text):\n",
        "    tokens = text.lower().split()\n",
        "    tokens = [token.strip(punctuation) for token in tokens]\n",
        "    return tokens"
      ],
      "metadata": {
        "id": "nzJonKLCLshx"
      },
      "id": "nzJonKLCLshx",
      "execution_count": null,
      "outputs": []
    },
    {
      "cell_type": "code",
      "source": [
        "# словарь\n",
        "vocab = Counter()\n",
        "\n",
        "for text in data.text:\n",
        "    vocab.update(preprocess(text))"
      ],
      "metadata": {
        "id": "vtep5ZllMNn5"
      },
      "id": "vtep5ZllMNn5",
      "execution_count": null,
      "outputs": []
    },
    {
      "cell_type": "code",
      "source": [
        "# отфильтрованный словарь\n",
        "filtered_vocab = set()\n",
        "\n",
        "for word in vocab:\n",
        "    if vocab[word] > 30:\n",
        "        filtered_vocab.add(word)"
      ],
      "metadata": {
        "id": "TKgwMVlkMR1m"
      },
      "id": "TKgwMVlkMR1m",
      "execution_count": null,
      "outputs": []
    },
    {
      "cell_type": "code",
      "source": [
        "# индексируем слова\n",
        "word2id = {'PAD':0, 'UNK':1}\n",
        "\n",
        "for word in filtered_vocab:\n",
        "    word2id[word] = len(word2id)"
      ],
      "metadata": {
        "id": "IWgY48mfMR8W"
      },
      "id": "IWgY48mfMR8W",
      "execution_count": null,
      "outputs": []
    },
    {
      "cell_type": "code",
      "source": [
        "id2word = {i:word for word, i in word2id.items()}"
      ],
      "metadata": {
        "id": "LExgBofGMSBV"
      },
      "id": "LExgBofGMSBV",
      "execution_count": null,
      "outputs": []
    },
    {
      "cell_type": "code",
      "source": [
        "# переводим тексты в последовательности индексов\n",
        "X = []\n",
        "\n",
        "for text in data.text:\n",
        "    tokens = preprocess(text)\n",
        "    ids = [word2id.get(token, 1) for token in tokens]\n",
        "    X.append(ids)"
      ],
      "metadata": {
        "id": "1AGQnCS3MSD4"
      },
      "id": "1AGQnCS3MSD4",
      "execution_count": null,
      "outputs": []
    },
    {
      "cell_type": "code",
      "source": [
        "MAX_LEN = max(len(x) for x in X)\n",
        "MEAN_LEN = np.median([len(x) for x in X])\n",
        "\n",
        "MAX_LEN, MEAN_LEN"
      ],
      "metadata": {
        "colab": {
          "base_uri": "https://localhost:8080/"
        },
        "id": "xLDTatQeMSJi",
        "outputId": "5807989e-a008-4e9e-9845-1a78d8bfcb18"
      },
      "id": "xLDTatQeMSJi",
      "execution_count": null,
      "outputs": [
        {
          "output_type": "execute_result",
          "data": {
            "text/plain": [
              "(1748, 170.0)"
            ]
          },
          "metadata": {},
          "execution_count": 76
        }
      ]
    },
    {
      "cell_type": "code",
      "source": [
        "MAX_LEN = int(MEAN_LEN + 30)"
      ],
      "metadata": {
        "id": "RY6A0abqMbWA"
      },
      "id": "RY6A0abqMbWA",
      "execution_count": null,
      "outputs": []
    },
    {
      "cell_type": "code",
      "source": [
        "# паддинг\n",
        "X = keras.preprocessing.sequence.pad_sequences(X, maxlen=MAX_LEN)"
      ],
      "metadata": {
        "id": "_nSAJzBOMbXM"
      },
      "id": "_nSAJzBOMbXM",
      "execution_count": null,
      "outputs": []
    },
    {
      "cell_type": "code",
      "source": [
        "id2label = {i:label for i, label in enumerate(set(data.topic.values))}\n",
        "label2id = {l:i for i, l in id2label.items()}"
      ],
      "metadata": {
        "id": "ci0uQybXMbbH"
      },
      "id": "ci0uQybXMbbH",
      "execution_count": null,
      "outputs": []
    },
    {
      "cell_type": "code",
      "source": [
        "y = keras.utils.to_categorical([label2id[label] for label in data.topic.values])"
      ],
      "metadata": {
        "id": "TFzEBVlsMbcR"
      },
      "id": "TFzEBVlsMbcR",
      "execution_count": null,
      "outputs": []
    },
    {
      "cell_type": "code",
      "source": [
        "X_train, X_valid, y_train, y_valid = train_test_split(X, y, test_size=0.05, stratify=y)"
      ],
      "metadata": {
        "id": "vq1e3I3XNAD3"
      },
      "id": "vq1e3I3XNAD3",
      "execution_count": null,
      "outputs": []
    },
    {
      "cell_type": "code",
      "source": [
        "id2label = {i:label for i, label in enumerate(set(data.topic.values))}\n",
        "id2label"
      ],
      "metadata": {
        "colab": {
          "base_uri": "https://localhost:8080/"
        },
        "id": "JgJJqlXiZMRK",
        "outputId": "22d7a555-cbbb-4af8-cfe8-b6984276981f"
      },
      "execution_count": null,
      "outputs": [
        {
          "output_type": "execute_result",
          "data": {
            "text/plain": [
              "{0: 'Бизнес',\n",
              " 1: 'Бывший СССР',\n",
              " 2: 'Библиотека',\n",
              " 3: 'Легпром',\n",
              " 4: 'Из жизни',\n",
              " 5: 'Культура',\n",
              " 6: 'Спорт',\n",
              " 7: 'Культпросвет ',\n",
              " 8: 'Россия',\n",
              " 9: 'Интернет и СМИ',\n",
              " 10: 'Мир',\n",
              " 11: 'Экономика',\n",
              " 12: 'Путешествия',\n",
              " 13: '69-я параллель',\n",
              " 14: 'Силовые структуры',\n",
              " 15: 'Крым',\n",
              " 16: 'Наука и техника',\n",
              " 17: 'Ценности',\n",
              " 18: 'Дом'}"
            ]
          },
          "metadata": {},
          "execution_count": 82
        }
      ],
      "id": "JgJJqlXiZMRK"
    },
    {
      "cell_type": "markdown",
      "source": [
        "## Model #1"
      ],
      "metadata": {
        "id": "NjqPAXfeNLs1"
      },
      "id": "NjqPAXfeNLs1"
    },
    {
      "cell_type": "markdown",
      "source": [
        "- минимум два рекуррентных слоя\n",
        "- финальный вектор для классификации составляться из\n",
        "  - последнего состояния RNN (так делалось в семинаре)\n",
        "  - AveragePooling и MaxPooling из всех векторов последовательности (конкатенируйте последнее состояние и результаты пулинга)\n",
        "- обычные слои (unidirectional)"
      ],
      "metadata": {
        "id": "wVEirGiDRXqF"
      },
      "id": "wVEirGiDRXqF"
    },
    {
      "cell_type": "markdown",
      "source": [
        "### Compiling"
      ],
      "metadata": {
        "id": "YrbxKXV6ZPe5"
      },
      "id": "YrbxKXV6ZPe5"
    },
    {
      "cell_type": "code",
      "source": [
        "inputs = keras.layers.Input(shape=(MAX_LEN,))\n",
        "embeddings = keras.layers.Embedding(input_dim=len(word2id), output_dim=30)(inputs, )\n",
        "\n",
        "rnn = keras.layers.SimpleRNN(64, return_sequences=True)(embeddings)\n",
        "rnn2 = keras.layers.LSTM(64, return_sequences=True)(rnn)\n",
        "\n",
        "pool1 = keras.layers.GlobalAveragePooling1D()(rnn2)\n",
        "pool2 = keras.layers.GlobalMaxPooling1D()(rnn2)\n",
        "\n",
        "concat = keras.layers.concatenate((rnn2[:, -1, :], pool1, pool2,), axis=1)\n",
        "outputs = keras.layers.Dense(len(label2id), activation='softmax')(concat)\n",
        "\n",
        "model = keras.Model(inputs=inputs, outputs=outputs)\n",
        "optimizer = keras.optimizers.Adam(learning_rate=0.001)\n",
        "\n",
        "model.compile(optimizer=optimizer,\n",
        "              loss='categorical_crossentropy',\n",
        "              metrics=[keras.metrics.RecallAtPrecision(0.8, name='rec@prec')])"
      ],
      "metadata": {
        "id": "8j6kpIZeNNCy"
      },
      "id": "8j6kpIZeNNCy",
      "execution_count": null,
      "outputs": []
    },
    {
      "cell_type": "code",
      "source": [
        "model.summary()"
      ],
      "metadata": {
        "colab": {
          "base_uri": "https://localhost:8080/",
          "height": 508
        },
        "id": "fROFsoV6VVrE",
        "outputId": "c3b60a12-ba43-41b3-c0b9-67253e587495"
      },
      "id": "fROFsoV6VVrE",
      "execution_count": null,
      "outputs": [
        {
          "output_type": "display_data",
          "data": {
            "text/plain": [
              "\u001b[1mModel: \"functional_1\"\u001b[0m\n"
            ],
            "text/html": [
              "<pre style=\"white-space:pre;overflow-x:auto;line-height:normal;font-family:Menlo,'DejaVu Sans Mono',consolas,'Courier New',monospace\"><span style=\"font-weight: bold\">Model: \"functional_1\"</span>\n",
              "</pre>\n"
            ]
          },
          "metadata": {}
        },
        {
          "output_type": "display_data",
          "data": {
            "text/plain": [
              "┏━━━━━━━━━━━━━━━━━━━━━━━━━━━┳━━━━━━━━━━━━━━━━━━━━━━━━┳━━━━━━━━━━━━━━━━┳━━━━━━━━━━━━━━━━━━━━━━━━┓\n",
              "┃\u001b[1m \u001b[0m\u001b[1mLayer (type)             \u001b[0m\u001b[1m \u001b[0m┃\u001b[1m \u001b[0m\u001b[1mOutput Shape          \u001b[0m\u001b[1m \u001b[0m┃\u001b[1m \u001b[0m\u001b[1m       Param #\u001b[0m\u001b[1m \u001b[0m┃\u001b[1m \u001b[0m\u001b[1mConnected to          \u001b[0m\u001b[1m \u001b[0m┃\n",
              "┡━━━━━━━━━━━━━━━━━━━━━━━━━━━╇━━━━━━━━━━━━━━━━━━━━━━━━╇━━━━━━━━━━━━━━━━╇━━━━━━━━━━━━━━━━━━━━━━━━┩\n",
              "│ input_layer_11            │ (\u001b[38;5;45mNone\u001b[0m, \u001b[38;5;34m200\u001b[0m)            │              \u001b[38;5;34m0\u001b[0m │ -                      │\n",
              "│ (\u001b[38;5;33mInputLayer\u001b[0m)              │                        │                │                        │\n",
              "├───────────────────────────┼────────────────────────┼────────────────┼────────────────────────┤\n",
              "│ embedding_11 (\u001b[38;5;33mEmbedding\u001b[0m)  │ (\u001b[38;5;45mNone\u001b[0m, \u001b[38;5;34m200\u001b[0m, \u001b[38;5;34m30\u001b[0m)        │        \u001b[38;5;34m722,790\u001b[0m │ input_layer_11[\u001b[38;5;34m0\u001b[0m][\u001b[38;5;34m0\u001b[0m]   │\n",
              "├───────────────────────────┼────────────────────────┼────────────────┼────────────────────────┤\n",
              "│ simple_rnn_11 (\u001b[38;5;33mSimpleRNN\u001b[0m) │ (\u001b[38;5;45mNone\u001b[0m, \u001b[38;5;34m200\u001b[0m, \u001b[38;5;34m64\u001b[0m)        │          \u001b[38;5;34m6,080\u001b[0m │ embedding_11[\u001b[38;5;34m0\u001b[0m][\u001b[38;5;34m0\u001b[0m]     │\n",
              "├───────────────────────────┼────────────────────────┼────────────────┼────────────────────────┤\n",
              "│ lstm_11 (\u001b[38;5;33mLSTM\u001b[0m)            │ (\u001b[38;5;45mNone\u001b[0m, \u001b[38;5;34m200\u001b[0m, \u001b[38;5;34m64\u001b[0m)        │         \u001b[38;5;34m33,024\u001b[0m │ simple_rnn_11[\u001b[38;5;34m0\u001b[0m][\u001b[38;5;34m0\u001b[0m]    │\n",
              "├───────────────────────────┼────────────────────────┼────────────────┼────────────────────────┤\n",
              "│ get_item_1 (\u001b[38;5;33mGetItem\u001b[0m)      │ (\u001b[38;5;45mNone\u001b[0m, \u001b[38;5;34m64\u001b[0m)             │              \u001b[38;5;34m0\u001b[0m │ lstm_11[\u001b[38;5;34m0\u001b[0m][\u001b[38;5;34m0\u001b[0m]          │\n",
              "├───────────────────────────┼────────────────────────┼────────────────┼────────────────────────┤\n",
              "│ global_average_pooling1d… │ (\u001b[38;5;45mNone\u001b[0m, \u001b[38;5;34m64\u001b[0m)             │              \u001b[38;5;34m0\u001b[0m │ lstm_11[\u001b[38;5;34m0\u001b[0m][\u001b[38;5;34m0\u001b[0m]          │\n",
              "│ (\u001b[38;5;33mGlobalAveragePooling1D\u001b[0m)  │                        │                │                        │\n",
              "├───────────────────────────┼────────────────────────┼────────────────┼────────────────────────┤\n",
              "│ global_max_pooling1d_2    │ (\u001b[38;5;45mNone\u001b[0m, \u001b[38;5;34m64\u001b[0m)             │              \u001b[38;5;34m0\u001b[0m │ lstm_11[\u001b[38;5;34m0\u001b[0m][\u001b[38;5;34m0\u001b[0m]          │\n",
              "│ (\u001b[38;5;33mGlobalMaxPooling1D\u001b[0m)      │                        │                │                        │\n",
              "├───────────────────────────┼────────────────────────┼────────────────┼────────────────────────┤\n",
              "│ concatenate_5             │ (\u001b[38;5;45mNone\u001b[0m, \u001b[38;5;34m192\u001b[0m)            │              \u001b[38;5;34m0\u001b[0m │ get_item_1[\u001b[38;5;34m0\u001b[0m][\u001b[38;5;34m0\u001b[0m],      │\n",
              "│ (\u001b[38;5;33mConcatenate\u001b[0m)             │                        │                │ global_average_poolin… │\n",
              "│                           │                        │                │ global_max_pooling1d_… │\n",
              "├───────────────────────────┼────────────────────────┼────────────────┼────────────────────────┤\n",
              "│ dense_1 (\u001b[38;5;33mDense\u001b[0m)           │ (\u001b[38;5;45mNone\u001b[0m, \u001b[38;5;34m19\u001b[0m)             │          \u001b[38;5;34m3,667\u001b[0m │ concatenate_5[\u001b[38;5;34m0\u001b[0m][\u001b[38;5;34m0\u001b[0m]    │\n",
              "└───────────────────────────┴────────────────────────┴────────────────┴────────────────────────┘\n"
            ],
            "text/html": [
              "<pre style=\"white-space:pre;overflow-x:auto;line-height:normal;font-family:Menlo,'DejaVu Sans Mono',consolas,'Courier New',monospace\">┏━━━━━━━━━━━━━━━━━━━━━━━━━━━┳━━━━━━━━━━━━━━━━━━━━━━━━┳━━━━━━━━━━━━━━━━┳━━━━━━━━━━━━━━━━━━━━━━━━┓\n",
              "┃<span style=\"font-weight: bold\"> Layer (type)              </span>┃<span style=\"font-weight: bold\"> Output Shape           </span>┃<span style=\"font-weight: bold\">        Param # </span>┃<span style=\"font-weight: bold\"> Connected to           </span>┃\n",
              "┡━━━━━━━━━━━━━━━━━━━━━━━━━━━╇━━━━━━━━━━━━━━━━━━━━━━━━╇━━━━━━━━━━━━━━━━╇━━━━━━━━━━━━━━━━━━━━━━━━┩\n",
              "│ input_layer_11            │ (<span style=\"color: #00d7ff; text-decoration-color: #00d7ff\">None</span>, <span style=\"color: #00af00; text-decoration-color: #00af00\">200</span>)            │              <span style=\"color: #00af00; text-decoration-color: #00af00\">0</span> │ -                      │\n",
              "│ (<span style=\"color: #0087ff; text-decoration-color: #0087ff\">InputLayer</span>)              │                        │                │                        │\n",
              "├───────────────────────────┼────────────────────────┼────────────────┼────────────────────────┤\n",
              "│ embedding_11 (<span style=\"color: #0087ff; text-decoration-color: #0087ff\">Embedding</span>)  │ (<span style=\"color: #00d7ff; text-decoration-color: #00d7ff\">None</span>, <span style=\"color: #00af00; text-decoration-color: #00af00\">200</span>, <span style=\"color: #00af00; text-decoration-color: #00af00\">30</span>)        │        <span style=\"color: #00af00; text-decoration-color: #00af00\">722,790</span> │ input_layer_11[<span style=\"color: #00af00; text-decoration-color: #00af00\">0</span>][<span style=\"color: #00af00; text-decoration-color: #00af00\">0</span>]   │\n",
              "├───────────────────────────┼────────────────────────┼────────────────┼────────────────────────┤\n",
              "│ simple_rnn_11 (<span style=\"color: #0087ff; text-decoration-color: #0087ff\">SimpleRNN</span>) │ (<span style=\"color: #00d7ff; text-decoration-color: #00d7ff\">None</span>, <span style=\"color: #00af00; text-decoration-color: #00af00\">200</span>, <span style=\"color: #00af00; text-decoration-color: #00af00\">64</span>)        │          <span style=\"color: #00af00; text-decoration-color: #00af00\">6,080</span> │ embedding_11[<span style=\"color: #00af00; text-decoration-color: #00af00\">0</span>][<span style=\"color: #00af00; text-decoration-color: #00af00\">0</span>]     │\n",
              "├───────────────────────────┼────────────────────────┼────────────────┼────────────────────────┤\n",
              "│ lstm_11 (<span style=\"color: #0087ff; text-decoration-color: #0087ff\">LSTM</span>)            │ (<span style=\"color: #00d7ff; text-decoration-color: #00d7ff\">None</span>, <span style=\"color: #00af00; text-decoration-color: #00af00\">200</span>, <span style=\"color: #00af00; text-decoration-color: #00af00\">64</span>)        │         <span style=\"color: #00af00; text-decoration-color: #00af00\">33,024</span> │ simple_rnn_11[<span style=\"color: #00af00; text-decoration-color: #00af00\">0</span>][<span style=\"color: #00af00; text-decoration-color: #00af00\">0</span>]    │\n",
              "├───────────────────────────┼────────────────────────┼────────────────┼────────────────────────┤\n",
              "│ get_item_1 (<span style=\"color: #0087ff; text-decoration-color: #0087ff\">GetItem</span>)      │ (<span style=\"color: #00d7ff; text-decoration-color: #00d7ff\">None</span>, <span style=\"color: #00af00; text-decoration-color: #00af00\">64</span>)             │              <span style=\"color: #00af00; text-decoration-color: #00af00\">0</span> │ lstm_11[<span style=\"color: #00af00; text-decoration-color: #00af00\">0</span>][<span style=\"color: #00af00; text-decoration-color: #00af00\">0</span>]          │\n",
              "├───────────────────────────┼────────────────────────┼────────────────┼────────────────────────┤\n",
              "│ global_average_pooling1d… │ (<span style=\"color: #00d7ff; text-decoration-color: #00d7ff\">None</span>, <span style=\"color: #00af00; text-decoration-color: #00af00\">64</span>)             │              <span style=\"color: #00af00; text-decoration-color: #00af00\">0</span> │ lstm_11[<span style=\"color: #00af00; text-decoration-color: #00af00\">0</span>][<span style=\"color: #00af00; text-decoration-color: #00af00\">0</span>]          │\n",
              "│ (<span style=\"color: #0087ff; text-decoration-color: #0087ff\">GlobalAveragePooling1D</span>)  │                        │                │                        │\n",
              "├───────────────────────────┼────────────────────────┼────────────────┼────────────────────────┤\n",
              "│ global_max_pooling1d_2    │ (<span style=\"color: #00d7ff; text-decoration-color: #00d7ff\">None</span>, <span style=\"color: #00af00; text-decoration-color: #00af00\">64</span>)             │              <span style=\"color: #00af00; text-decoration-color: #00af00\">0</span> │ lstm_11[<span style=\"color: #00af00; text-decoration-color: #00af00\">0</span>][<span style=\"color: #00af00; text-decoration-color: #00af00\">0</span>]          │\n",
              "│ (<span style=\"color: #0087ff; text-decoration-color: #0087ff\">GlobalMaxPooling1D</span>)      │                        │                │                        │\n",
              "├───────────────────────────┼────────────────────────┼────────────────┼────────────────────────┤\n",
              "│ concatenate_5             │ (<span style=\"color: #00d7ff; text-decoration-color: #00d7ff\">None</span>, <span style=\"color: #00af00; text-decoration-color: #00af00\">192</span>)            │              <span style=\"color: #00af00; text-decoration-color: #00af00\">0</span> │ get_item_1[<span style=\"color: #00af00; text-decoration-color: #00af00\">0</span>][<span style=\"color: #00af00; text-decoration-color: #00af00\">0</span>],      │\n",
              "│ (<span style=\"color: #0087ff; text-decoration-color: #0087ff\">Concatenate</span>)             │                        │                │ global_average_poolin… │\n",
              "│                           │                        │                │ global_max_pooling1d_… │\n",
              "├───────────────────────────┼────────────────────────┼────────────────┼────────────────────────┤\n",
              "│ dense_1 (<span style=\"color: #0087ff; text-decoration-color: #0087ff\">Dense</span>)           │ (<span style=\"color: #00d7ff; text-decoration-color: #00d7ff\">None</span>, <span style=\"color: #00af00; text-decoration-color: #00af00\">19</span>)             │          <span style=\"color: #00af00; text-decoration-color: #00af00\">3,667</span> │ concatenate_5[<span style=\"color: #00af00; text-decoration-color: #00af00\">0</span>][<span style=\"color: #00af00; text-decoration-color: #00af00\">0</span>]    │\n",
              "└───────────────────────────┴────────────────────────┴────────────────┴────────────────────────┘\n",
              "</pre>\n"
            ]
          },
          "metadata": {}
        },
        {
          "output_type": "display_data",
          "data": {
            "text/plain": [
              "\u001b[1m Total params: \u001b[0m\u001b[38;5;34m765,561\u001b[0m (2.92 MB)\n"
            ],
            "text/html": [
              "<pre style=\"white-space:pre;overflow-x:auto;line-height:normal;font-family:Menlo,'DejaVu Sans Mono',consolas,'Courier New',monospace\"><span style=\"font-weight: bold\"> Total params: </span><span style=\"color: #00af00; text-decoration-color: #00af00\">765,561</span> (2.92 MB)\n",
              "</pre>\n"
            ]
          },
          "metadata": {}
        },
        {
          "output_type": "display_data",
          "data": {
            "text/plain": [
              "\u001b[1m Trainable params: \u001b[0m\u001b[38;5;34m765,561\u001b[0m (2.92 MB)\n"
            ],
            "text/html": [
              "<pre style=\"white-space:pre;overflow-x:auto;line-height:normal;font-family:Menlo,'DejaVu Sans Mono',consolas,'Courier New',monospace\"><span style=\"font-weight: bold\"> Trainable params: </span><span style=\"color: #00af00; text-decoration-color: #00af00\">765,561</span> (2.92 MB)\n",
              "</pre>\n"
            ]
          },
          "metadata": {}
        },
        {
          "output_type": "display_data",
          "data": {
            "text/plain": [
              "\u001b[1m Non-trainable params: \u001b[0m\u001b[38;5;34m0\u001b[0m (0.00 B)\n"
            ],
            "text/html": [
              "<pre style=\"white-space:pre;overflow-x:auto;line-height:normal;font-family:Menlo,'DejaVu Sans Mono',consolas,'Courier New',monospace\"><span style=\"font-weight: bold\"> Non-trainable params: </span><span style=\"color: #00af00; text-decoration-color: #00af00\">0</span> (0.00 B)\n",
              "</pre>\n"
            ]
          },
          "metadata": {}
        }
      ]
    },
    {
      "cell_type": "code",
      "source": [
        "early_stop = keras.callbacks.EarlyStopping(monitor='val_rec@prec',\n",
        "                                              min_delta=0.01, # какая разница считается как улучшение\n",
        "                                              patience=5, # сколько эпох терпеть отсутствие улучшений\n",
        "                                              verbose=1,\n",
        "                                              mode='max',\n",
        "                                              )\n",
        "checkpoint = keras.callbacks.ModelCheckpoint('model.weights.h5', # названия файла\n",
        "                                                monitor='val_rec@prec', # за какой метрикой следить\n",
        "                                                verbose=1, # будет печатать что происходит\n",
        "                                                save_weights_only=True, # если нужно только веса сохранить\n",
        "                                                save_best_only=True, # сохранять только лучшие\n",
        "                                                mode='max', # если метрика должна расти, то тут max и min если наоборот\n",
        "                                                save_freq='epoch' # как часто вызывать\n",
        "                                               )"
      ],
      "metadata": {
        "id": "JgTUYg82VwhX"
      },
      "id": "JgTUYg82VwhX",
      "execution_count": null,
      "outputs": []
    },
    {
      "cell_type": "markdown",
      "source": [
        "### Fitting"
      ],
      "metadata": {
        "id": "--HwUgNyZSTj"
      },
      "id": "--HwUgNyZSTj"
    },
    {
      "cell_type": "code",
      "source": [
        "model.fit(X_train, y_train,\n",
        "          validation_data=(X_valid, y_valid),\n",
        "          batch_size=2000,\n",
        "          epochs=20,\n",
        "          callbacks=[checkpoint, early_stop])"
      ],
      "metadata": {
        "colab": {
          "base_uri": "https://localhost:8080/"
        },
        "id": "ndq_mg1bToNl",
        "outputId": "a6721f63-0b0d-47a2-c840-e4169009a19a"
      },
      "id": "ndq_mg1bToNl",
      "execution_count": null,
      "outputs": [
        {
          "output_type": "stream",
          "name": "stdout",
          "text": [
            "Epoch 1/20\n",
            "\u001b[1m22/22\u001b[0m \u001b[32m━━━━━━━━━━━━━━━━━━━━\u001b[0m\u001b[37m\u001b[0m \u001b[1m0s\u001b[0m 439ms/step - loss: 2.7026 - rec@prec: 1.2987e-05\n",
            "Epoch 1: val_rec@prec improved from 0.00000 to 0.00045, saving model to model.weights.h5\n",
            "\u001b[1m22/22\u001b[0m \u001b[32m━━━━━━━━━━━━━━━━━━━━\u001b[0m\u001b[37m\u001b[0m \u001b[1m10s\u001b[0m 464ms/step - loss: 2.6957 - rec@prec: 1.2422e-05 - val_loss: 2.3528 - val_rec@prec: 4.5086e-04\n",
            "Epoch 2/20\n",
            "\u001b[1m22/22\u001b[0m \u001b[32m━━━━━━━━━━━━━━━━━━━━\u001b[0m\u001b[37m\u001b[0m \u001b[1m0s\u001b[0m 456ms/step - loss: 2.2904 - rec@prec: 8.2731e-05\n",
            "Epoch 2: val_rec@prec did not improve from 0.00045\n",
            "\u001b[1m22/22\u001b[0m \u001b[32m━━━━━━━━━━━━━━━━━━━━\u001b[0m\u001b[37m\u001b[0m \u001b[1m10s\u001b[0m 478ms/step - loss: 2.2887 - rec@prec: 8.3261e-05 - val_loss: 2.1758 - val_rec@prec: 0.0000e+00\n",
            "Epoch 3/20\n",
            "\u001b[1m22/22\u001b[0m \u001b[32m━━━━━━━━━━━━━━━━━━━━\u001b[0m\u001b[37m\u001b[0m \u001b[1m0s\u001b[0m 414ms/step - loss: 2.0570 - rec@prec: 1.8772e-04\n",
            "Epoch 3: val_rec@prec did not improve from 0.00045\n",
            "\u001b[1m22/22\u001b[0m \u001b[32m━━━━━━━━━━━━━━━━━━━━\u001b[0m\u001b[37m\u001b[0m \u001b[1m10s\u001b[0m 437ms/step - loss: 2.0542 - rec@prec: 1.8059e-04 - val_loss: 1.8870 - val_rec@prec: 4.5086e-04\n",
            "Epoch 4/20\n",
            "\u001b[1m22/22\u001b[0m \u001b[32m━━━━━━━━━━━━━━━━━━━━\u001b[0m\u001b[37m\u001b[0m \u001b[1m0s\u001b[0m 423ms/step - loss: 1.7995 - rec@prec: 0.0015\n",
            "Epoch 4: val_rec@prec improved from 0.00045 to 0.01398, saving model to model.weights.h5\n",
            "\u001b[1m22/22\u001b[0m \u001b[32m━━━━━━━━━━━━━━━━━━━━\u001b[0m\u001b[37m\u001b[0m \u001b[1m10s\u001b[0m 446ms/step - loss: 1.7975 - rec@prec: 0.0015 - val_loss: 1.8466 - val_rec@prec: 0.0140\n",
            "Epoch 5/20\n",
            "\u001b[1m22/22\u001b[0m \u001b[32m━━━━━━━━━━━━━━━━━━━━\u001b[0m\u001b[37m\u001b[0m \u001b[1m0s\u001b[0m 408ms/step - loss: 1.6492 - rec@prec: 0.0274\n",
            "Epoch 5: val_rec@prec improved from 0.01398 to 0.13075, saving model to model.weights.h5\n",
            "\u001b[1m22/22\u001b[0m \u001b[32m━━━━━━━━━━━━━━━━━━━━\u001b[0m\u001b[37m\u001b[0m \u001b[1m10s\u001b[0m 440ms/step - loss: 1.6472 - rec@prec: 0.0282 - val_loss: 1.6322 - val_rec@prec: 0.1307\n",
            "Epoch 6/20\n",
            "\u001b[1m22/22\u001b[0m \u001b[32m━━━━━━━━━━━━━━━━━━━━\u001b[0m\u001b[37m\u001b[0m \u001b[1m0s\u001b[0m 395ms/step - loss: 1.4081 - rec@prec: 0.2700\n",
            "Epoch 6: val_rec@prec improved from 0.13075 to 0.29216, saving model to model.weights.h5\n",
            "\u001b[1m22/22\u001b[0m \u001b[32m━━━━━━━━━━━━━━━━━━━━\u001b[0m\u001b[37m\u001b[0m \u001b[1m9s\u001b[0m 419ms/step - loss: 1.4073 - rec@prec: 0.2719 - val_loss: 1.4907 - val_rec@prec: 0.2922\n",
            "Epoch 7/20\n",
            "\u001b[1m22/22\u001b[0m \u001b[32m━━━━━━━━━━━━━━━━━━━━\u001b[0m\u001b[37m\u001b[0m \u001b[1m0s\u001b[0m 411ms/step - loss: 1.2179 - rec@prec: 0.4704\n",
            "Epoch 7: val_rec@prec improved from 0.29216 to 0.34851, saving model to model.weights.h5\n",
            "\u001b[1m22/22\u001b[0m \u001b[32m━━━━━━━━━━━━━━━━━━━━\u001b[0m\u001b[37m\u001b[0m \u001b[1m10s\u001b[0m 436ms/step - loss: 1.2171 - rec@prec: 0.4710 - val_loss: 1.4013 - val_rec@prec: 0.3485\n",
            "Epoch 8/20\n",
            "\u001b[1m22/22\u001b[0m \u001b[32m━━━━━━━━━━━━━━━━━━━━\u001b[0m\u001b[37m\u001b[0m \u001b[1m0s\u001b[0m 426ms/step - loss: 1.0533 - rec@prec: 0.5963\n",
            "Epoch 8: val_rec@prec improved from 0.34851 to 0.40577, saving model to model.weights.h5\n",
            "\u001b[1m22/22\u001b[0m \u001b[32m━━━━━━━━━━━━━━━━━━━━\u001b[0m\u001b[37m\u001b[0m \u001b[1m10s\u001b[0m 450ms/step - loss: 1.0526 - rec@prec: 0.5966 - val_loss: 1.3292 - val_rec@prec: 0.4058\n",
            "Epoch 9/20\n",
            "\u001b[1m22/22\u001b[0m \u001b[32m━━━━━━━━━━━━━━━━━━━━\u001b[0m\u001b[37m\u001b[0m \u001b[1m0s\u001b[0m 415ms/step - loss: 0.9227 - rec@prec: 0.6771\n",
            "Epoch 9: val_rec@prec improved from 0.40577 to 0.42200, saving model to model.weights.h5\n",
            "\u001b[1m22/22\u001b[0m \u001b[32m━━━━━━━━━━━━━━━━━━━━\u001b[0m\u001b[37m\u001b[0m \u001b[1m10s\u001b[0m 439ms/step - loss: 0.9219 - rec@prec: 0.6775 - val_loss: 1.3395 - val_rec@prec: 0.4220\n",
            "Epoch 10/20\n",
            "\u001b[1m22/22\u001b[0m \u001b[32m━━━━━━━━━━━━━━━━━━━━\u001b[0m\u001b[37m\u001b[0m \u001b[1m0s\u001b[0m 404ms/step - loss: 0.7924 - rec@prec: 0.7591\n",
            "Epoch 10: val_rec@prec did not improve from 0.42200\n",
            "\u001b[1m22/22\u001b[0m \u001b[32m━━━━━━━━━━━━━━━━━━━━\u001b[0m\u001b[37m\u001b[0m \u001b[1m10s\u001b[0m 436ms/step - loss: 0.7918 - rec@prec: 0.7594 - val_loss: 1.3459 - val_rec@prec: 0.4197\n",
            "Epoch 11/20\n",
            "\u001b[1m22/22\u001b[0m \u001b[32m━━━━━━━━━━━━━━━━━━━━\u001b[0m\u001b[37m\u001b[0m \u001b[1m0s\u001b[0m 387ms/step - loss: 0.7329 - rec@prec: 0.7854\n",
            "Epoch 11: val_rec@prec improved from 0.42200 to 0.44094, saving model to model.weights.h5\n",
            "\u001b[1m22/22\u001b[0m \u001b[32m━━━━━━━━━━━━━━━━━━━━\u001b[0m\u001b[37m\u001b[0m \u001b[1m9s\u001b[0m 412ms/step - loss: 0.7320 - rec@prec: 0.7860 - val_loss: 1.3469 - val_rec@prec: 0.4409\n",
            "Epoch 12/20\n",
            "\u001b[1m22/22\u001b[0m \u001b[32m━━━━━━━━━━━━━━━━━━━━\u001b[0m\u001b[37m\u001b[0m \u001b[1m0s\u001b[0m 413ms/step - loss: 0.6487 - rec@prec: 0.8281\n",
            "Epoch 12: val_rec@prec did not improve from 0.44094\n",
            "\u001b[1m22/22\u001b[0m \u001b[32m━━━━━━━━━━━━━━━━━━━━\u001b[0m\u001b[37m\u001b[0m \u001b[1m9s\u001b[0m 434ms/step - loss: 0.6483 - rec@prec: 0.8283 - val_loss: 1.3762 - val_rec@prec: 0.4220\n",
            "Epoch 13/20\n",
            "\u001b[1m22/22\u001b[0m \u001b[32m━━━━━━━━━━━━━━━━━━━━\u001b[0m\u001b[37m\u001b[0m \u001b[1m0s\u001b[0m 419ms/step - loss: 0.6435 - rec@prec: 0.8266\n",
            "Epoch 13: val_rec@prec improved from 0.44094 to 0.47115, saving model to model.weights.h5\n",
            "\u001b[1m22/22\u001b[0m \u001b[32m━━━━━━━━━━━━━━━━━━━━\u001b[0m\u001b[37m\u001b[0m \u001b[1m10s\u001b[0m 443ms/step - loss: 0.6420 - rec@prec: 0.8274 - val_loss: 1.3372 - val_rec@prec: 0.4711\n",
            "Epoch 14/20\n",
            "\u001b[1m22/22\u001b[0m \u001b[32m━━━━━━━━━━━━━━━━━━━━\u001b[0m\u001b[37m\u001b[0m \u001b[1m0s\u001b[0m 417ms/step - loss: 0.5297 - rec@prec: 0.8821\n",
            "Epoch 14: val_rec@prec improved from 0.47115 to 0.48783, saving model to model.weights.h5\n",
            "\u001b[1m22/22\u001b[0m \u001b[32m━━━━━━━━━━━━━━━━━━━━\u001b[0m\u001b[37m\u001b[0m \u001b[1m10s\u001b[0m 442ms/step - loss: 0.5295 - rec@prec: 0.8821 - val_loss: 1.3740 - val_rec@prec: 0.4878\n",
            "Epoch 15/20\n",
            "\u001b[1m22/22\u001b[0m \u001b[32m━━━━━━━━━━━━━━━━━━━━\u001b[0m\u001b[37m\u001b[0m \u001b[1m0s\u001b[0m 410ms/step - loss: 0.4790 - rec@prec: 0.8995\n",
            "Epoch 15: val_rec@prec did not improve from 0.48783\n",
            "\u001b[1m22/22\u001b[0m \u001b[32m━━━━━━━━━━━━━━━━━━━━\u001b[0m\u001b[37m\u001b[0m \u001b[1m10s\u001b[0m 443ms/step - loss: 0.4790 - rec@prec: 0.8995 - val_loss: 1.4074 - val_rec@prec: 0.4707\n",
            "Epoch 16/20\n",
            "\u001b[1m22/22\u001b[0m \u001b[32m━━━━━━━━━━━━━━━━━━━━\u001b[0m\u001b[37m\u001b[0m \u001b[1m0s\u001b[0m 387ms/step - loss: 0.4698 - rec@prec: 0.9011\n",
            "Epoch 16: val_rec@prec did not improve from 0.48783\n",
            "\u001b[1m22/22\u001b[0m \u001b[32m━━━━━━━━━━━━━━━━━━━━\u001b[0m\u001b[37m\u001b[0m \u001b[1m9s\u001b[0m 409ms/step - loss: 0.4696 - rec@prec: 0.9013 - val_loss: 1.4071 - val_rec@prec: 0.4585\n",
            "Epoch 17/20\n",
            "\u001b[1m22/22\u001b[0m \u001b[32m━━━━━━━━━━━━━━━━━━━━\u001b[0m\u001b[37m\u001b[0m \u001b[1m0s\u001b[0m 423ms/step - loss: 0.4076 - rec@prec: 0.9255\n",
            "Epoch 17: val_rec@prec did not improve from 0.48783\n",
            "\u001b[1m22/22\u001b[0m \u001b[32m━━━━━━━━━━━━━━━━━━━━\u001b[0m\u001b[37m\u001b[0m \u001b[1m10s\u001b[0m 446ms/step - loss: 0.4079 - rec@prec: 0.9254 - val_loss: 1.4968 - val_rec@prec: 0.3828\n",
            "Epoch 18/20\n",
            "\u001b[1m22/22\u001b[0m \u001b[32m━━━━━━━━━━━━━━━━━━━━\u001b[0m\u001b[37m\u001b[0m \u001b[1m0s\u001b[0m 414ms/step - loss: 0.4975 - rec@prec: 0.8894\n",
            "Epoch 18: val_rec@prec did not improve from 0.48783\n",
            "\u001b[1m22/22\u001b[0m \u001b[32m━━━━━━━━━━━━━━━━━━━━\u001b[0m\u001b[37m\u001b[0m \u001b[1m10s\u001b[0m 436ms/step - loss: 0.4956 - rec@prec: 0.8902 - val_loss: 1.4622 - val_rec@prec: 0.4563\n",
            "Epoch 19/20\n",
            "\u001b[1m22/22\u001b[0m \u001b[32m━━━━━━━━━━━━━━━━━━━━\u001b[0m\u001b[37m\u001b[0m \u001b[1m0s\u001b[0m 423ms/step - loss: 0.3804 - rec@prec: 0.9353\n",
            "Epoch 19: val_rec@prec did not improve from 0.48783\n",
            "\u001b[1m22/22\u001b[0m \u001b[32m━━━━━━━━━━━━━━━━━━━━\u001b[0m\u001b[37m\u001b[0m \u001b[1m10s\u001b[0m 445ms/step - loss: 0.3800 - rec@prec: 0.9355 - val_loss: 1.4066 - val_rec@prec: 0.4675\n",
            "Epoch 19: early stopping\n"
          ]
        },
        {
          "output_type": "execute_result",
          "data": {
            "text/plain": [
              "<keras.src.callbacks.history.History at 0x7a31c057d2d0>"
            ]
          },
          "metadata": {},
          "execution_count": 44
        }
      ]
    },
    {
      "cell_type": "code",
      "source": [
        "plt.plot(model.history.history['rec@prec'])\n",
        "plt.plot(model.history.history['val_rec@prec'])\n",
        "plt.title('model metrics')\n",
        "plt.ylabel('recall at precision')\n",
        "plt.xlabel('epoch')\n",
        "plt.legend(['train', 'val'], loc='upper left')\n",
        "plt.show()"
      ],
      "metadata": {
        "colab": {
          "base_uri": "https://localhost:8080/",
          "height": 472
        },
        "id": "1_T5qVu_YFDq",
        "outputId": "10b9c736-c432-45ed-be1f-a6a80c5740ee"
      },
      "id": "1_T5qVu_YFDq",
      "execution_count": null,
      "outputs": [
        {
          "output_type": "display_data",
          "data": {
            "text/plain": [
              "<Figure size 640x480 with 1 Axes>"
            ],
            "image/png": "[encoded data removed]"
          },
          "metadata": {}
        }
      ]
    },
    {
      "cell_type": "markdown",
      "source": [
        "### Evaluation"
      ],
      "metadata": {
        "id": "VG1J7DO4ZVRz"
      },
      "id": "VG1J7DO4ZVRz"
    },
    {
      "cell_type": "code",
      "source": [
        "pred = model.predict(X_valid).argmax(1)"
      ],
      "metadata": {
        "colab": {
          "base_uri": "https://localhost:8080/"
        },
        "id": "DAdU2HJaYfrx",
        "outputId": "c1820c53-1dd8-46a4-97eb-60282c93e073"
      },
      "id": "DAdU2HJaYfrx",
      "execution_count": null,
      "outputs": [
        {
          "output_type": "stream",
          "name": "stdout",
          "text": [
            "\u001b[1m70/70\u001b[0m \u001b[32m━━━━━━━━━━━━━━━━━━━━\u001b[0m\u001b[37m\u001b[0m \u001b[1m18s\u001b[0m 260ms/step\n"
          ]
        }
      ]
    },
    {
      "cell_type": "code",
      "source": [
        "print(classification_report(y_valid.argmax(1).reshape(-1), pred.reshape(-1), labels=list(id2label.keys()),\n",
        "                                                                     target_names=list(id2label.values()),\n",
        "                                                                     zero_division=0))"
      ],
      "metadata": {
        "colab": {
          "base_uri": "https://localhost:8080/"
        },
        "id": "3WYxSKXraA0Z",
        "outputId": "114936ab-935f-4595-fa6d-788696ecfd10"
      },
      "id": "3WYxSKXraA0Z",
      "execution_count": null,
      "outputs": [
        {
          "output_type": "stream",
          "name": "stdout",
          "text": [
            "                   precision    recall  f1-score   support\n",
            "\n",
            "           Бизнес       0.29      0.09      0.14        22\n",
            "      Бывший СССР       0.58      0.58      0.58       159\n",
            "       Библиотека       0.00      0.00      0.00         0\n",
            "          Легпром       0.00      0.00      0.00         0\n",
            "         Из жизни       0.22      0.20      0.21        84\n",
            "         Культура       0.78      0.63      0.69       159\n",
            "            Спорт       0.93      0.91      0.92       195\n",
            "    Культпросвет        0.00      0.00      0.00         1\n",
            "           Россия       0.73      0.66      0.69       481\n",
            "   Интернет и СМИ       0.38      0.46      0.41       132\n",
            "              Мир       0.64      0.74      0.69       410\n",
            "        Экономика       0.74      0.72      0.73       239\n",
            "      Путешествия       0.12      0.05      0.07        21\n",
            "   69-я параллель       0.00      0.00      0.00         4\n",
            "Силовые структуры       0.15      0.17      0.16        60\n",
            "             Крым       0.00      0.00      0.00         2\n",
            "  Наука и техника       0.63      0.76      0.69       160\n",
            "         Ценности       0.00      0.00      0.00        23\n",
            "              Дом       0.38      0.45      0.41        66\n",
            "\n",
            "         accuracy                           0.63      2218\n",
            "        macro avg       0.35      0.34      0.34      2218\n",
            "     weighted avg       0.63      0.63      0.63      2218\n",
            "\n"
          ]
        }
      ]
    },
    {
      "cell_type": "markdown",
      "source": [
        "## Model #2"
      ],
      "metadata": {
        "id": "DzSkBvtENhx7"
      },
      "id": "DzSkBvtENhx7"
    },
    {
      "cell_type": "markdown",
      "source": [
        "- минимум два рекуррентных слоя\n",
        "- финальный вектор для классификации составляться из\n",
        "  - последнего состояния RNN (так делалось в семинаре)\n",
        "  - AveragePooling и MaxPooling из всех векторов последовательности (конкатенируйте последнее состояние и результаты пулинга)\n",
        "- Bidirectional слои (отличие)"
      ],
      "metadata": {
        "id": "VBcf6X7pQyVX"
      },
      "id": "VBcf6X7pQyVX"
    },
    {
      "cell_type": "markdown",
      "source": [
        "### Compiling"
      ],
      "metadata": {
        "id": "S3dSxiKbk3Mq"
      },
      "id": "S3dSxiKbk3Mq"
    },
    {
      "cell_type": "code",
      "source": [
        "inputs = keras.layers.Input(shape=(MAX_LEN,))\n",
        "embeddings = keras.layers.Embedding(input_dim=len(word2id), output_dim=30)(inputs, )\n",
        "\n",
        "rnn = keras.layers.Bidirectional(keras.layers.LSTM(64, return_sequences=True))(embeddings)\n",
        "rnn2 = keras.layers.Bidirectional(keras.layers.LSTM(64, return_sequences=True))(rnn)\n",
        "\n",
        "pool1 = keras.layers.GlobalAveragePooling1D()(rnn2)\n",
        "pool2 = keras.layers.GlobalMaxPooling1D()(rnn2)\n",
        "\n",
        "concat = keras.layers.concatenate((rnn2[:, -1, :], pool1, pool2,), axis=1)\n",
        "outputs = keras.layers.Dense(len(label2id), activation='softmax')(concat)\n",
        "\n",
        "model = keras.Model(inputs=inputs, outputs=outputs)\n",
        "optimizer = keras.optimizers.Adam(learning_rate=0.001)\n",
        "\n",
        "model.compile(optimizer=optimizer,\n",
        "              loss='categorical_crossentropy',\n",
        "              metrics=[keras.metrics.RecallAtPrecision(0.8, name='rec@prec')])"
      ],
      "metadata": {
        "id": "2TxDSPIQbBer"
      },
      "execution_count": null,
      "outputs": [],
      "id": "2TxDSPIQbBer"
    },
    {
      "cell_type": "code",
      "source": [
        "model.summary()"
      ],
      "metadata": {
        "colab": {
          "base_uri": "https://localhost:8080/",
          "height": 541
        },
        "outputId": "762dc61f-d5c7-4eea-e658-1fcc44c28eb0",
        "id": "ThLk7HJ_bBet"
      },
      "execution_count": null,
      "outputs": [
        {
          "output_type": "display_data",
          "data": {
            "text/plain": [
              "\u001b[1mModel: \"functional_11\"\u001b[0m\n"
            ],
            "text/html": [
              "<pre style=\"white-space:pre;overflow-x:auto;line-height:normal;font-family:Menlo,'DejaVu Sans Mono',consolas,'Courier New',monospace\"><span style=\"font-weight: bold\">Model: \"functional_11\"</span>\n",
              "</pre>\n"
            ]
          },
          "metadata": {}
        },
        {
          "output_type": "display_data",
          "data": {
            "text/plain": [
              "┏━━━━━━━━━━━━━━━━━━━━━━━━━━━┳━━━━━━━━━━━━━━━━━━━━━━━━┳━━━━━━━━━━━━━━━━┳━━━━━━━━━━━━━━━━━━━━━━━━┓\n",
              "┃\u001b[1m \u001b[0m\u001b[1mLayer (type)             \u001b[0m\u001b[1m \u001b[0m┃\u001b[1m \u001b[0m\u001b[1mOutput Shape          \u001b[0m\u001b[1m \u001b[0m┃\u001b[1m \u001b[0m\u001b[1m       Param #\u001b[0m\u001b[1m \u001b[0m┃\u001b[1m \u001b[0m\u001b[1mConnected to          \u001b[0m\u001b[1m \u001b[0m┃\n",
              "┡━━━━━━━━━━━━━━━━━━━━━━━━━━━╇━━━━━━━━━━━━━━━━━━━━━━━━╇━━━━━━━━━━━━━━━━╇━━━━━━━━━━━━━━━━━━━━━━━━┩\n",
              "│ input_layer_24            │ (\u001b[38;5;45mNone\u001b[0m, \u001b[38;5;34m200\u001b[0m)            │              \u001b[38;5;34m0\u001b[0m │ -                      │\n",
              "│ (\u001b[38;5;33mInputLayer\u001b[0m)              │                        │                │                        │\n",
              "├───────────────────────────┼────────────────────────┼────────────────┼────────────────────────┤\n",
              "│ embedding_24 (\u001b[38;5;33mEmbedding\u001b[0m)  │ (\u001b[38;5;45mNone\u001b[0m, \u001b[38;5;34m200\u001b[0m, \u001b[38;5;34m30\u001b[0m)        │        \u001b[38;5;34m722,790\u001b[0m │ input_layer_24[\u001b[38;5;34m0\u001b[0m][\u001b[38;5;34m0\u001b[0m]   │\n",
              "├───────────────────────────┼────────────────────────┼────────────────┼────────────────────────┤\n",
              "│ bidirectional_18          │ (\u001b[38;5;45mNone\u001b[0m, \u001b[38;5;34m200\u001b[0m, \u001b[38;5;34m128\u001b[0m)       │         \u001b[38;5;34m48,640\u001b[0m │ embedding_24[\u001b[38;5;34m0\u001b[0m][\u001b[38;5;34m0\u001b[0m]     │\n",
              "│ (\u001b[38;5;33mBidirectional\u001b[0m)           │                        │                │                        │\n",
              "├───────────────────────────┼────────────────────────┼────────────────┼────────────────────────┤\n",
              "│ bidirectional_19          │ (\u001b[38;5;45mNone\u001b[0m, \u001b[38;5;34m200\u001b[0m, \u001b[38;5;34m128\u001b[0m)       │         \u001b[38;5;34m98,816\u001b[0m │ bidirectional_18[\u001b[38;5;34m0\u001b[0m][\u001b[38;5;34m0\u001b[0m] │\n",
              "│ (\u001b[38;5;33mBidirectional\u001b[0m)           │                        │                │                        │\n",
              "├───────────────────────────┼────────────────────────┼────────────────┼────────────────────────┤\n",
              "│ get_item_11 (\u001b[38;5;33mGetItem\u001b[0m)     │ (\u001b[38;5;45mNone\u001b[0m, \u001b[38;5;34m128\u001b[0m)            │              \u001b[38;5;34m0\u001b[0m │ bidirectional_19[\u001b[38;5;34m0\u001b[0m][\u001b[38;5;34m0\u001b[0m] │\n",
              "├───────────────────────────┼────────────────────────┼────────────────┼────────────────────────┤\n",
              "│ global_average_pooling1d… │ (\u001b[38;5;45mNone\u001b[0m, \u001b[38;5;34m128\u001b[0m)            │              \u001b[38;5;34m0\u001b[0m │ bidirectional_19[\u001b[38;5;34m0\u001b[0m][\u001b[38;5;34m0\u001b[0m] │\n",
              "│ (\u001b[38;5;33mGlobalAveragePooling1D\u001b[0m)  │                        │                │                        │\n",
              "├───────────────────────────┼────────────────────────┼────────────────┼────────────────────────┤\n",
              "│ global_max_pooling1d_13   │ (\u001b[38;5;45mNone\u001b[0m, \u001b[38;5;34m128\u001b[0m)            │              \u001b[38;5;34m0\u001b[0m │ bidirectional_19[\u001b[38;5;34m0\u001b[0m][\u001b[38;5;34m0\u001b[0m] │\n",
              "│ (\u001b[38;5;33mGlobalMaxPooling1D\u001b[0m)      │                        │                │                        │\n",
              "├───────────────────────────┼────────────────────────┼────────────────┼────────────────────────┤\n",
              "│ concatenate_16            │ (\u001b[38;5;45mNone\u001b[0m, \u001b[38;5;34m384\u001b[0m)            │              \u001b[38;5;34m0\u001b[0m │ get_item_11[\u001b[38;5;34m0\u001b[0m][\u001b[38;5;34m0\u001b[0m],     │\n",
              "│ (\u001b[38;5;33mConcatenate\u001b[0m)             │                        │                │ global_average_poolin… │\n",
              "│                           │                        │                │ global_max_pooling1d_… │\n",
              "├───────────────────────────┼────────────────────────┼────────────────┼────────────────────────┤\n",
              "│ dense_11 (\u001b[38;5;33mDense\u001b[0m)          │ (\u001b[38;5;45mNone\u001b[0m, \u001b[38;5;34m19\u001b[0m)             │          \u001b[38;5;34m7,315\u001b[0m │ concatenate_16[\u001b[38;5;34m0\u001b[0m][\u001b[38;5;34m0\u001b[0m]   │\n",
              "└───────────────────────────┴────────────────────────┴────────────────┴────────────────────────┘\n"
            ],
            "text/html": [
              "<pre style=\"white-space:pre;overflow-x:auto;line-height:normal;font-family:Menlo,'DejaVu Sans Mono',consolas,'Courier New',monospace\">┏━━━━━━━━━━━━━━━━━━━━━━━━━━━┳━━━━━━━━━━━━━━━━━━━━━━━━┳━━━━━━━━━━━━━━━━┳━━━━━━━━━━━━━━━━━━━━━━━━┓\n",
              "┃<span style=\"font-weight: bold\"> Layer (type)              </span>┃<span style=\"font-weight: bold\"> Output Shape           </span>┃<span style=\"font-weight: bold\">        Param # </span>┃<span style=\"font-weight: bold\"> Connected to           </span>┃\n",
              "┡━━━━━━━━━━━━━━━━━━━━━━━━━━━╇━━━━━━━━━━━━━━━━━━━━━━━━╇━━━━━━━━━━━━━━━━╇━━━━━━━━━━━━━━━━━━━━━━━━┩\n",
              "│ input_layer_24            │ (<span style=\"color: #00d7ff; text-decoration-color: #00d7ff\">None</span>, <span style=\"color: #00af00; text-decoration-color: #00af00\">200</span>)            │              <span style=\"color: #00af00; text-decoration-color: #00af00\">0</span> │ -                      │\n",
              "│ (<span style=\"color: #0087ff; text-decoration-color: #0087ff\">InputLayer</span>)              │                        │                │                        │\n",
              "├───────────────────────────┼────────────────────────┼────────────────┼────────────────────────┤\n",
              "│ embedding_24 (<span style=\"color: #0087ff; text-decoration-color: #0087ff\">Embedding</span>)  │ (<span style=\"color: #00d7ff; text-decoration-color: #00d7ff\">None</span>, <span style=\"color: #00af00; text-decoration-color: #00af00\">200</span>, <span style=\"color: #00af00; text-decoration-color: #00af00\">30</span>)        │        <span style=\"color: #00af00; text-decoration-color: #00af00\">722,790</span> │ input_layer_24[<span style=\"color: #00af00; text-decoration-color: #00af00\">0</span>][<span style=\"color: #00af00; text-decoration-color: #00af00\">0</span>]   │\n",
              "├───────────────────────────┼────────────────────────┼────────────────┼────────────────────────┤\n",
              "│ bidirectional_18          │ (<span style=\"color: #00d7ff; text-decoration-color: #00d7ff\">None</span>, <span style=\"color: #00af00; text-decoration-color: #00af00\">200</span>, <span style=\"color: #00af00; text-decoration-color: #00af00\">128</span>)       │         <span style=\"color: #00af00; text-decoration-color: #00af00\">48,640</span> │ embedding_24[<span style=\"color: #00af00; text-decoration-color: #00af00\">0</span>][<span style=\"color: #00af00; text-decoration-color: #00af00\">0</span>]     │\n",
              "│ (<span style=\"color: #0087ff; text-decoration-color: #0087ff\">Bidirectional</span>)           │                        │                │                        │\n",
              "├───────────────────────────┼────────────────────────┼────────────────┼────────────────────────┤\n",
              "│ bidirectional_19          │ (<span style=\"color: #00d7ff; text-decoration-color: #00d7ff\">None</span>, <span style=\"color: #00af00; text-decoration-color: #00af00\">200</span>, <span style=\"color: #00af00; text-decoration-color: #00af00\">128</span>)       │         <span style=\"color: #00af00; text-decoration-color: #00af00\">98,816</span> │ bidirectional_18[<span style=\"color: #00af00; text-decoration-color: #00af00\">0</span>][<span style=\"color: #00af00; text-decoration-color: #00af00\">0</span>] │\n",
              "│ (<span style=\"color: #0087ff; text-decoration-color: #0087ff\">Bidirectional</span>)           │                        │                │                        │\n",
              "├───────────────────────────┼────────────────────────┼────────────────┼────────────────────────┤\n",
              "│ get_item_11 (<span style=\"color: #0087ff; text-decoration-color: #0087ff\">GetItem</span>)     │ (<span style=\"color: #00d7ff; text-decoration-color: #00d7ff\">None</span>, <span style=\"color: #00af00; text-decoration-color: #00af00\">128</span>)            │              <span style=\"color: #00af00; text-decoration-color: #00af00\">0</span> │ bidirectional_19[<span style=\"color: #00af00; text-decoration-color: #00af00\">0</span>][<span style=\"color: #00af00; text-decoration-color: #00af00\">0</span>] │\n",
              "├───────────────────────────┼────────────────────────┼────────────────┼────────────────────────┤\n",
              "│ global_average_pooling1d… │ (<span style=\"color: #00d7ff; text-decoration-color: #00d7ff\">None</span>, <span style=\"color: #00af00; text-decoration-color: #00af00\">128</span>)            │              <span style=\"color: #00af00; text-decoration-color: #00af00\">0</span> │ bidirectional_19[<span style=\"color: #00af00; text-decoration-color: #00af00\">0</span>][<span style=\"color: #00af00; text-decoration-color: #00af00\">0</span>] │\n",
              "│ (<span style=\"color: #0087ff; text-decoration-color: #0087ff\">GlobalAveragePooling1D</span>)  │                        │                │                        │\n",
              "├───────────────────────────┼────────────────────────┼────────────────┼────────────────────────┤\n",
              "│ global_max_pooling1d_13   │ (<span style=\"color: #00d7ff; text-decoration-color: #00d7ff\">None</span>, <span style=\"color: #00af00; text-decoration-color: #00af00\">128</span>)            │              <span style=\"color: #00af00; text-decoration-color: #00af00\">0</span> │ bidirectional_19[<span style=\"color: #00af00; text-decoration-color: #00af00\">0</span>][<span style=\"color: #00af00; text-decoration-color: #00af00\">0</span>] │\n",
              "│ (<span style=\"color: #0087ff; text-decoration-color: #0087ff\">GlobalMaxPooling1D</span>)      │                        │                │                        │\n",
              "├───────────────────────────┼────────────────────────┼────────────────┼────────────────────────┤\n",
              "│ concatenate_16            │ (<span style=\"color: #00d7ff; text-decoration-color: #00d7ff\">None</span>, <span style=\"color: #00af00; text-decoration-color: #00af00\">384</span>)            │              <span style=\"color: #00af00; text-decoration-color: #00af00\">0</span> │ get_item_11[<span style=\"color: #00af00; text-decoration-color: #00af00\">0</span>][<span style=\"color: #00af00; text-decoration-color: #00af00\">0</span>],     │\n",
              "│ (<span style=\"color: #0087ff; text-decoration-color: #0087ff\">Concatenate</span>)             │                        │                │ global_average_poolin… │\n",
              "│                           │                        │                │ global_max_pooling1d_… │\n",
              "├───────────────────────────┼────────────────────────┼────────────────┼────────────────────────┤\n",
              "│ dense_11 (<span style=\"color: #0087ff; text-decoration-color: #0087ff\">Dense</span>)          │ (<span style=\"color: #00d7ff; text-decoration-color: #00d7ff\">None</span>, <span style=\"color: #00af00; text-decoration-color: #00af00\">19</span>)             │          <span style=\"color: #00af00; text-decoration-color: #00af00\">7,315</span> │ concatenate_16[<span style=\"color: #00af00; text-decoration-color: #00af00\">0</span>][<span style=\"color: #00af00; text-decoration-color: #00af00\">0</span>]   │\n",
              "└───────────────────────────┴────────────────────────┴────────────────┴────────────────────────┘\n",
              "</pre>\n"
            ]
          },
          "metadata": {}
        },
        {
          "output_type": "display_data",
          "data": {
            "text/plain": [
              "\u001b[1m Total params: \u001b[0m\u001b[38;5;34m877,561\u001b[0m (3.35 MB)\n"
            ],
            "text/html": [
              "<pre style=\"white-space:pre;overflow-x:auto;line-height:normal;font-family:Menlo,'DejaVu Sans Mono',consolas,'Courier New',monospace\"><span style=\"font-weight: bold\"> Total params: </span><span style=\"color: #00af00; text-decoration-color: #00af00\">877,561</span> (3.35 MB)\n",
              "</pre>\n"
            ]
          },
          "metadata": {}
        },
        {
          "output_type": "display_data",
          "data": {
            "text/plain": [
              "\u001b[1m Trainable params: \u001b[0m\u001b[38;5;34m877,561\u001b[0m (3.35 MB)\n"
            ],
            "text/html": [
              "<pre style=\"white-space:pre;overflow-x:auto;line-height:normal;font-family:Menlo,'DejaVu Sans Mono',consolas,'Courier New',monospace\"><span style=\"font-weight: bold\"> Trainable params: </span><span style=\"color: #00af00; text-decoration-color: #00af00\">877,561</span> (3.35 MB)\n",
              "</pre>\n"
            ]
          },
          "metadata": {}
        },
        {
          "output_type": "display_data",
          "data": {
            "text/plain": [
              "\u001b[1m Non-trainable params: \u001b[0m\u001b[38;5;34m0\u001b[0m (0.00 B)\n"
            ],
            "text/html": [
              "<pre style=\"white-space:pre;overflow-x:auto;line-height:normal;font-family:Menlo,'DejaVu Sans Mono',consolas,'Courier New',monospace\"><span style=\"font-weight: bold\"> Non-trainable params: </span><span style=\"color: #00af00; text-decoration-color: #00af00\">0</span> (0.00 B)\n",
              "</pre>\n"
            ]
          },
          "metadata": {}
        }
      ],
      "id": "ThLk7HJ_bBet"
    },
    {
      "cell_type": "code",
      "source": [
        "early_stop = keras.callbacks.EarlyStopping(monitor='val_rec@prec',\n",
        "                                              min_delta=0.01, # какая разница считается как улучшение\n",
        "                                              patience=5, # сколько эпох терпеть отсутствие улучшений\n",
        "                                              verbose=1,\n",
        "                                              mode='max',\n",
        "                                              )\n",
        "checkpoint = keras.callbacks.ModelCheckpoint('model.weights.h5', # названия файла\n",
        "                                                monitor='val_rec@prec', # за какой метрикой следить\n",
        "                                                verbose=1, # будет печатать что происходит\n",
        "                                                save_weights_only=True, # если нужно только веса сохранить\n",
        "                                                save_best_only=True, # сохранять только лучшие\n",
        "                                                mode='max', # если метрика должна расти, то тут max и min если наоборот\n",
        "                                                save_freq='epoch' # как часто вызывать\n",
        "                                               )"
      ],
      "metadata": {
        "id": "ji89PxbwbBeu"
      },
      "execution_count": null,
      "outputs": [],
      "id": "ji89PxbwbBeu"
    },
    {
      "cell_type": "markdown",
      "source": [
        "### Fitting"
      ],
      "metadata": {
        "id": "TbAgAw1VbBev"
      },
      "id": "TbAgAw1VbBev"
    },
    {
      "cell_type": "code",
      "source": [
        "model.fit(X_train, y_train,\n",
        "          validation_data=(X_valid, y_valid),\n",
        "          batch_size=2000,\n",
        "          epochs=10,\n",
        "          callbacks=[checkpoint, early_stop])"
      ],
      "metadata": {
        "colab": {
          "base_uri": "https://localhost:8080/"
        },
        "outputId": "c7dabd41-eb4e-4ad5-f7aa-7f09bae2e295",
        "id": "rTYiRqasbBev"
      },
      "execution_count": null,
      "outputs": [
        {
          "output_type": "stream",
          "name": "stdout",
          "text": [
            "Epoch 1/10\n",
            "\u001b[1m22/22\u001b[0m \u001b[32m━━━━━━━━━━━━━━━━━━━━\u001b[0m\u001b[37m\u001b[0m \u001b[1m0s\u001b[0m 1s/step - loss: 2.3915 - rec@prec: 0.0000e+00\n",
            "Epoch 1: val_rec@prec improved from -inf to 0.00000, saving model to model.weights.h5\n",
            "\u001b[1m22/22\u001b[0m \u001b[32m━━━━━━━━━━━━━━━━━━━━\u001b[0m\u001b[37m\u001b[0m \u001b[1m25s\u001b[0m 1s/step - loss: 2.3899 - rec@prec: 0.0000e+00 - val_loss: 2.2891 - val_rec@prec: 0.0000e+00\n",
            "Epoch 2/10\n",
            "\u001b[1m22/22\u001b[0m \u001b[32m━━━━━━━━━━━━━━━━━━━━\u001b[0m\u001b[37m\u001b[0m \u001b[1m0s\u001b[0m 1s/step - loss: 2.1884 - rec@prec: 3.7879e-06\n",
            "Epoch 2: val_rec@prec did not improve from 0.00000\n",
            "\u001b[1m22/22\u001b[0m \u001b[32m━━━━━━━━━━━━━━━━━━━━\u001b[0m\u001b[37m\u001b[0m \u001b[1m29s\u001b[0m 1s/step - loss: 2.1848 - rec@prec: 3.6232e-06 - val_loss: 1.9790 - val_rec@prec: 0.0000e+00\n",
            "Epoch 3/10\n",
            "\u001b[1m22/22\u001b[0m \u001b[32m━━━━━━━━━━━━━━━━━━━━\u001b[0m\u001b[37m\u001b[0m \u001b[1m0s\u001b[0m 1s/step - loss: 1.9276 - rec@prec: 1.5152e-06\n",
            "Epoch 3: val_rec@prec improved from 0.00000 to 0.00135, saving model to model.weights.h5\n",
            "\u001b[1m22/22\u001b[0m \u001b[32m━━━━━━━━━━━━━━━━━━━━\u001b[0m\u001b[37m\u001b[0m \u001b[1m30s\u001b[0m 1s/step - loss: 1.9261 - rec@prec: 1.4493e-06 - val_loss: 1.8549 - val_rec@prec: 0.0014\n",
            "Epoch 4/10\n",
            "\u001b[1m22/22\u001b[0m \u001b[32m━━━━━━━━━━━━━━━━━━━━\u001b[0m\u001b[37m\u001b[0m \u001b[1m0s\u001b[0m 1s/step - loss: 1.7531 - rec@prec: 0.0170\n",
            "Epoch 4: val_rec@prec improved from 0.00135 to 0.13571, saving model to model.weights.h5\n",
            "\u001b[1m22/22\u001b[0m \u001b[32m━━━━━━━━━━━━━━━━━━━━\u001b[0m\u001b[37m\u001b[0m \u001b[1m26s\u001b[0m 1s/step - loss: 1.7511 - rec@prec: 0.0186 - val_loss: 1.6147 - val_rec@prec: 0.1357\n",
            "Epoch 5/10\n",
            "\u001b[1m22/22\u001b[0m \u001b[32m━━━━━━━━━━━━━━━━━━━━\u001b[0m\u001b[37m\u001b[0m \u001b[1m0s\u001b[0m 1s/step - loss: 1.4732 - rec@prec: 0.1718\n",
            "Epoch 5: val_rec@prec improved from 0.13571 to 0.19702, saving model to model.weights.h5\n",
            "\u001b[1m22/22\u001b[0m \u001b[32m━━━━━━━━━━━━━━━━━━━━\u001b[0m\u001b[37m\u001b[0m \u001b[1m28s\u001b[0m 1s/step - loss: 1.4711 - rec@prec: 0.1730 - val_loss: 1.5020 - val_rec@prec: 0.1970\n",
            "Epoch 6/10\n",
            "\u001b[1m22/22\u001b[0m \u001b[32m━━━━━━━━━━━━━━━━━━━━\u001b[0m\u001b[37m\u001b[0m \u001b[1m0s\u001b[0m 1s/step - loss: 1.2605 - rec@prec: 0.3088\n",
            "Epoch 6: val_rec@prec improved from 0.19702 to 0.28539, saving model to model.weights.h5\n",
            "\u001b[1m22/22\u001b[0m \u001b[32m━━━━━━━━━━━━━━━━━━━━\u001b[0m\u001b[37m\u001b[0m \u001b[1m27s\u001b[0m 1s/step - loss: 1.2579 - rec@prec: 0.3111 - val_loss: 1.3604 - val_rec@prec: 0.2854\n",
            "Epoch 7/10\n",
            "\u001b[1m22/22\u001b[0m \u001b[32m━━━━━━━━━━━━━━━━━━━━\u001b[0m\u001b[37m\u001b[0m \u001b[1m0s\u001b[0m 1s/step - loss: 1.0640 - rec@prec: 0.4654\n",
            "Epoch 7: val_rec@prec improved from 0.28539 to 0.39811, saving model to model.weights.h5\n",
            "\u001b[1m22/22\u001b[0m \u001b[32m━━━━━━━━━━━━━━━━━━━━\u001b[0m\u001b[37m\u001b[0m \u001b[1m26s\u001b[0m 1s/step - loss: 1.0622 - rec@prec: 0.4672 - val_loss: 1.2896 - val_rec@prec: 0.3981\n",
            "Epoch 8/10\n",
            "\u001b[1m22/22\u001b[0m \u001b[32m━━━━━━━━━━━━━━━━━━━━\u001b[0m\u001b[37m\u001b[0m \u001b[1m0s\u001b[0m 1s/step - loss: 0.9121 - rec@prec: 0.6012\n",
            "Epoch 8: val_rec@prec improved from 0.39811 to 0.40216, saving model to model.weights.h5\n",
            "\u001b[1m22/22\u001b[0m \u001b[32m━━━━━━━━━━━━━━━━━━━━\u001b[0m\u001b[37m\u001b[0m \u001b[1m25s\u001b[0m 1s/step - loss: 0.9116 - rec@prec: 0.6017 - val_loss: 1.2682 - val_rec@prec: 0.4022\n",
            "Epoch 9/10\n",
            "\u001b[1m22/22\u001b[0m \u001b[32m━━━━━━━━━━━━━━━━━━━━\u001b[0m\u001b[37m\u001b[0m \u001b[1m0s\u001b[0m 1s/step - loss: 0.8169 - rec@prec: 0.6787\n",
            "Epoch 9: val_rec@prec did not improve from 0.40216\n",
            "\u001b[1m22/22\u001b[0m \u001b[32m━━━━━━━━━━━━━━━━━━━━\u001b[0m\u001b[37m\u001b[0m \u001b[1m26s\u001b[0m 1s/step - loss: 0.8166 - rec@prec: 0.6793 - val_loss: 1.2811 - val_rec@prec: 0.3972\n",
            "Epoch 10/10\n",
            "\u001b[1m22/22\u001b[0m \u001b[32m━━━━━━━━━━━━━━━━━━━━\u001b[0m\u001b[37m\u001b[0m \u001b[1m0s\u001b[0m 1s/step - loss: 0.7422 - rec@prec: 0.7440\n",
            "Epoch 10: val_rec@prec improved from 0.40216 to 0.46258, saving model to model.weights.h5\n",
            "\u001b[1m22/22\u001b[0m \u001b[32m━━━━━━━━━━━━━━━━━━━━\u001b[0m\u001b[37m\u001b[0m \u001b[1m25s\u001b[0m 1s/step - loss: 0.7424 - rec@prec: 0.7439 - val_loss: 1.2673 - val_rec@prec: 0.4626\n"
          ]
        },
        {
          "output_type": "execute_result",
          "data": {
            "text/plain": [
              "<keras.src.callbacks.history.History at 0x7a31c0582e50>"
            ]
          },
          "metadata": {},
          "execution_count": 111
        }
      ],
      "id": "rTYiRqasbBev"
    },
    {
      "cell_type": "code",
      "source": [
        "plt.plot(model.history.history['rec@prec'])\n",
        "plt.plot(model.history.history['val_rec@prec'])\n",
        "plt.title('model metrics')\n",
        "plt.ylabel('recall at precision')\n",
        "plt.xlabel('epoch')\n",
        "plt.legend(['train', 'val'], loc='upper left')\n",
        "plt.show()"
      ],
      "metadata": {
        "colab": {
          "base_uri": "https://localhost:8080/",
          "height": 472
        },
        "outputId": "31a02a5c-6098-4607-d518-935ba96b0cad",
        "id": "3xNzAxpDbBew"
      },
      "execution_count": null,
      "outputs": [
        {
          "output_type": "display_data",
          "data": {
            "text/plain": [
              "<Figure size 640x480 with 1 Axes>"
            ],
            "image/png": "[encoded data removed]"
          },
          "metadata": {}
        }
      ],
      "id": "3xNzAxpDbBew"
    },
    {
      "cell_type": "markdown",
      "source": [
        "### Evaluation"
      ],
      "metadata": {
        "id": "eEMm_JL-bBex"
      },
      "id": "eEMm_JL-bBex"
    },
    {
      "cell_type": "code",
      "source": [
        "pred = model.predict(X_valid).argmax(1)"
      ],
      "metadata": {
        "colab": {
          "base_uri": "https://localhost:8080/"
        },
        "outputId": "f40f3082-68dd-4c80-ab80-7adc92330c20",
        "id": "88JhlFEIbBey"
      },
      "execution_count": null,
      "outputs": [
        {
          "output_type": "stream",
          "name": "stdout",
          "text": [
            "\u001b[1m70/70\u001b[0m \u001b[32m━━━━━━━━━━━━━━━━━━━━\u001b[0m\u001b[37m\u001b[0m \u001b[1m39s\u001b[0m 552ms/step\n"
          ]
        }
      ],
      "id": "88JhlFEIbBey"
    },
    {
      "cell_type": "code",
      "source": [
        "print(classification_report(y_valid.argmax(1).reshape(-1), pred.reshape(-1), labels=list(id2label.keys()),\n",
        "                                                                     target_names=list(id2label.values()),\n",
        "                                                                     zero_division=0))"
      ],
      "metadata": {
        "colab": {
          "base_uri": "https://localhost:8080/"
        },
        "outputId": "b2e56c84-73e3-4065-898a-f941cb377198",
        "id": "UP59-0PNbBez"
      },
      "execution_count": null,
      "outputs": [
        {
          "output_type": "stream",
          "name": "stdout",
          "text": [
            "                   precision    recall  f1-score   support\n",
            "\n",
            "           Бизнес       0.00      0.00      0.00        22\n",
            "      Бывший СССР       0.76      0.38      0.51       159\n",
            "       Библиотека       0.00      0.00      0.00         0\n",
            "          Легпром       0.00      0.00      0.00         0\n",
            "         Из жизни       0.20      0.20      0.20        84\n",
            "         Культура       0.83      0.70      0.76       159\n",
            "            Спорт       0.97      0.87      0.92       195\n",
            "    Культпросвет        0.00      0.00      0.00         1\n",
            "           Россия       0.54      0.74      0.62       481\n",
            "   Интернет и СМИ       0.26      0.38      0.31       132\n",
            "              Мир       0.67      0.70      0.69       410\n",
            "        Экономика       0.75      0.76      0.76       239\n",
            "      Путешествия       0.00      0.00      0.00        21\n",
            "   69-я параллель       0.00      0.00      0.00         4\n",
            "Силовые структуры       0.00      0.00      0.00        60\n",
            "             Крым       0.00      0.00      0.00         2\n",
            "  Наука и техника       0.72      0.68      0.70       160\n",
            "         Ценности       0.00      0.00      0.00        23\n",
            "              Дом       0.62      0.50      0.55        66\n",
            "\n",
            "         accuracy                           0.62      2218\n",
            "        macro avg       0.33      0.31      0.32      2218\n",
            "     weighted avg       0.61      0.62      0.61      2218\n",
            "\n"
          ]
        }
      ],
      "id": "UP59-0PNbBez"
    },
    {
      "cell_type": "markdown",
      "id": "ed5d6eea",
      "metadata": {
        "id": "ed5d6eea"
      },
      "source": [
        "# Задание 2 (6 баллов)\n"
      ]
    },
    {
      "cell_type": "markdown",
      "source": [
        "*Задача: sequence labelling*"
      ],
      "metadata": {
        "id": "Ldbp8hs2hKOS"
      },
      "id": "Ldbp8hs2hKOS"
    },
    {
      "cell_type": "markdown",
      "id": "5c2c07cf",
      "metadata": {
        "id": "5c2c07cf"
      },
      "source": [
        "На данных википедии (wikiann) обучите и сравните 3 модели:  \n",
        "1. модель в которой как минимум два рекуррентных слоя, причем один из них GRU, а другой LSTM\n",
        "2. модель в которой как минимум 3 рекуррентных слоя идут друг за другом и при этом 2-ой и 3-й слои еще имеют residual connection к изначальным эмбедингам. Для того, чтобы сделать residual connection вам нужно будет использовать одинаковую размерность эмбедингов и количество unit'ов в RNN слоях, чтобы их можно было просуммировать\n",
        "3. модель в которой будут и рекуррентные, и сверточные слои (как минимум 2 rnn и как минимум 2 cnn слоя). В cnn слоях будьте аккуратны с укорачиванием последовательности и используйте паддинг\n",
        "\n",
        "\n",
        "\n",
        "Сравните качество по метрикам (точность/полнота/f-мера). Также придумайте несколько сложных примеров и проверьте, какие сущности определяет каждая из моделей."
      ]
    },
    {
      "cell_type": "markdown",
      "source": [
        "## Data"
      ],
      "metadata": {
        "id": "IMmyl0xdi0mL"
      },
      "id": "IMmyl0xdi0mL"
    },
    {
      "cell_type": "code",
      "execution_count": 8,
      "id": "fb704b1b",
      "metadata": {
        "colab": {
          "base_uri": "https://localhost:8080/",
          "height": 365,
          "referenced_widgets": [
            "8c02cd6213214b58897ec079149fd112",
            "1c3731a3d66848e9af6679dcbea728b1",
            "ae9b4656f61e4cf3a55fea8efd216f59",
            "857b2b003ffe4c12acbdd28500b6041b",
            "5e1f27fcc7c74f80a999695790c80a48",
            "380a3e962a8e496bb34dabd04a512f87",
            "ca026ee69b8243cf90afbbe2a73009dc",
            "ff21fec5550d4652ac9ee7b510d907d0",
            "05b35df0bf174d5cb31d75f764b53725",
            "743c97b64f5a4ed3be3da5a90a426764",
            "99acfc83e4414eb8ad508a0d7ec5a3dc",
            "44011d6d5da14e8893e3e7d112d59bfe",
            "a94f8be1c3634dff8dcafe7be7e4e027",
            "2a289518c2fb4c73b5501d83e533ccd4",
            "eccf9373bd8141a3ad62c82c5463f500",
            "1ebc75accae949e092b9cd391c16e5df",
            "b1a113d6d0d5479ebca3cb1890e01083",
            "b1724a420d244e83ac1d6729d8396b13",
            "343a5f0428204f4d99c60e2d15574dda",
            "4b6f41ef5bd84448b3bc2923ba605f7f",
            "1b3b1123a53444418a605074bb255125",
            "ee146cdd43254736a9626f540b94305a",
            "1f6696f48e204dc68d5a8747595a0405",
            "99f3df633d2d4c2484fe7e5a14277398",
            "1327a074517d4159838c4b7e6b518b5b",
            "5065ebae4cf04590a418eac0a769112d",
            "4006635eb76e47dfb6c699f2af40b838",
            "9bc61ba2cc1d4695a1068254854bcc9b",
            "211657139e024e5db76b3b74e5c570b0",
            "0fc8273f4d404a00b1879953ba4cf7f7",
            "e5975f9878f74d7096c3d8cb277afd6a",
            "c3c178573f574a6aaa5ff897739c1613",
            "e9e77e6db4334a3dbddff538731d7523",
            "d98f47f1b38e48848e83c0523539e7e6",
            "3897c0e33b0e47da9f6d96be7b0281f9",
            "6e049ae132bf445fac2fcf1be0696e30",
            "60bf813e1e974b39a3c27c187ea71050",
            "6445056aae8c417c8040ae950c44c2b2",
            "0ff2a3a0a76e441c9195633fbc681b13",
            "b6dfcf4a8d9941fb858b8d6580d716cd",
            "f442033916f547f79e5bb068dda9c2ba",
            "4f3020e183ad4310ab00677126278a8c",
            "4d7c537b11684f7abb96cbf8a0b33d8c",
            "70f8ea036ef243ada614c23db182a830",
            "1e8ffea4e473447d9e6130c7a3d2a898",
            "f09d164e6258459a84687550c068020d",
            "2b50451b07fb44bab8b1ae4a2f8f85c1",
            "2f363f42c9934bda8702e066072c93bb",
            "2a823a0c69c34b3180f921340f9038d2",
            "0529f4e6cf0648ac87fcaa30f9d627c2",
            "e2edd077044a40eba0dd10aa28a8a693",
            "2f97b261699f402fb3fbea113b3baa54",
            "6e2cd5b51a5b44619aff96c9b31e4bc4",
            "ab7b68a5bd3f48c398ca971d39a01b24",
            "a07f3d2a97a342a68f65b3f221232959",
            "90bb8b7bad324cf282077dca1b152aa4",
            "41a5a8a66df4405ea97517c3f7a29c56",
            "aa7d67425d8b4a41b562d979930cdc1a",
            "dc1008c2e43e4d1582723cce3f929927",
            "f9c06e9c8dd74bbc99e0366aa10d5d9e",
            "68851b81685c44a08b70be03c586279b",
            "5a8e5421085646199cc6a576a5033a4d",
            "7fe72ec271f1466aa03a978ff028ddc5",
            "ce68bc06eeb4487fb232057e376c281f",
            "8aa530f516fc4f7a9e2f9145ed72ebad",
            "3616adca627a4f96be7ead495088ac24",
            "94e92159b9e843eba8a5cd7c4c4e7a62",
            "a1ae0130a68e4331a8c7ffe12f6f7c53",
            "4770dcb4e01d4d7eb4dbcb82c5678df0",
            "811c7270022a48029a3e469fbb57eacf",
            "8ec2dd8a04454d0bb4587d29bf5b542a",
            "f4983f7ae74944288d283113cbe5a67a",
            "4c0e2a1bdee04e228eac7a3e177091ee",
            "92b18c3f296c4d5790ce785006b5d2fb",
            "38264c2283854ff0beac77eb7568448d",
            "296dceec5c2f40f7b5c9e861a34494df",
            "6f037528154c4af29d199999e752635b"
          ]
        },
        "id": "fb704b1b",
        "outputId": "580f6bf7-afd9-4f74-b888-cb43619ab9c6"
      },
      "outputs": [
        {
          "output_type": "stream",
          "name": "stderr",
          "text": [
            "/usr/local/lib/python3.11/dist-packages/huggingface_hub/utils/_auth.py:94: UserWarning: \n",
            "The secret `HF_TOKEN` does not exist in your Colab secrets.\n",
            "To authenticate with the Hugging Face Hub, create a token in your settings tab (https://huggingface.co/settings/tokens), set it as secret in your Google Colab and restart your session.\n",
            "You will be able to reuse this secret in all of your notebooks.\n",
            "Please note that authentication is recommended but still optional to access public models or datasets.\n",
            "  warnings.warn(\n"
          ]
        },
        {
          "output_type": "display_data",
          "data": {
            "text/plain": [
              "README.md:   0%|          | 0.00/158k [00:00<?, ?B/s]"
            ],
            "application/vnd.jupyter.widget-view+json": {
              "version_major": 2,
              "version_minor": 0,
              "model_id": "8c02cd6213214b58897ec079149fd112"
            }
          },
          "metadata": {}
        },
        {
          "output_type": "display_data",
          "data": {
            "text/plain": [
              "validation-00000-of-00001.parquet:   0%|          | 0.00/809k [00:00<?, ?B/s]"
            ],
            "application/vnd.jupyter.widget-view+json": {
              "version_major": 2,
              "version_minor": 0,
              "model_id": "44011d6d5da14e8893e3e7d112d59bfe"
            }
          },
          "metadata": {}
        },
        {
          "output_type": "display_data",
          "data": {
            "text/plain": [
              "test-00000-of-00001.parquet:   0%|          | 0.00/816k [00:00<?, ?B/s]"
            ],
            "application/vnd.jupyter.widget-view+json": {
              "version_major": 2,
              "version_minor": 0,
              "model_id": "1f6696f48e204dc68d5a8747595a0405"
            }
          },
          "metadata": {}
        },
        {
          "output_type": "display_data",
          "data": {
            "text/plain": [
              "train-00000-of-00001.parquet:   0%|          | 0.00/1.63M [00:00<?, ?B/s]"
            ],
            "application/vnd.jupyter.widget-view+json": {
              "version_major": 2,
              "version_minor": 0,
              "model_id": "d98f47f1b38e48848e83c0523539e7e6"
            }
          },
          "metadata": {}
        },
        {
          "output_type": "display_data",
          "data": {
            "text/plain": [
              "Generating validation split:   0%|          | 0/10000 [00:00<?, ? examples/s]"
            ],
            "application/vnd.jupyter.widget-view+json": {
              "version_major": 2,
              "version_minor": 0,
              "model_id": "1e8ffea4e473447d9e6130c7a3d2a898"
            }
          },
          "metadata": {}
        },
        {
          "output_type": "display_data",
          "data": {
            "text/plain": [
              "Generating test split:   0%|          | 0/10000 [00:00<?, ? examples/s]"
            ],
            "application/vnd.jupyter.widget-view+json": {
              "version_major": 2,
              "version_minor": 0,
              "model_id": "90bb8b7bad324cf282077dca1b152aa4"
            }
          },
          "metadata": {}
        },
        {
          "output_type": "display_data",
          "data": {
            "text/plain": [
              "Generating train split:   0%|          | 0/20000 [00:00<?, ? examples/s]"
            ],
            "application/vnd.jupyter.widget-view+json": {
              "version_major": 2,
              "version_minor": 0,
              "model_id": "94e92159b9e843eba8a5cd7c4c4e7a62"
            }
          },
          "metadata": {}
        }
      ],
      "source": [
        "dataset = load_dataset(\"wikiann\", 'ru')"
      ]
    },
    {
      "cell_type": "code",
      "execution_count": 9,
      "id": "24b4e4aa",
      "metadata": {
        "colab": {
          "base_uri": "https://localhost:8080/"
        },
        "id": "24b4e4aa",
        "outputId": "d726686d-f0d0-4433-9448-8a777e0a649b"
      },
      "outputs": [
        {
          "output_type": "execute_result",
          "data": {
            "text/plain": [
              "DatasetDict({\n",
              "    validation: Dataset({\n",
              "        features: ['tokens', 'ner_tags', 'langs', 'spans'],\n",
              "        num_rows: 10000\n",
              "    })\n",
              "    test: Dataset({\n",
              "        features: ['tokens', 'ner_tags', 'langs', 'spans'],\n",
              "        num_rows: 10000\n",
              "    })\n",
              "    train: Dataset({\n",
              "        features: ['tokens', 'ner_tags', 'langs', 'spans'],\n",
              "        num_rows: 20000\n",
              "    })\n",
              "})"
            ]
          },
          "metadata": {},
          "execution_count": 9
        }
      ],
      "source": [
        "dataset"
      ]
    },
    {
      "cell_type": "markdown",
      "source": [
        "## Preprocessing"
      ],
      "metadata": {
        "id": "xK3MoD0yi2aa"
      },
      "id": "xK3MoD0yi2aa"
    },
    {
      "cell_type": "code",
      "execution_count": 10,
      "id": "8035db14",
      "metadata": {
        "id": "8035db14"
      },
      "outputs": [],
      "source": [
        "# словарь\n",
        "vocab = Counter()\n",
        "\n",
        "for sent in dataset['train']['tokens']:\n",
        "    vocab.update([x.lower() for x in sent])"
      ]
    },
    {
      "cell_type": "code",
      "source": [
        "# тут словарь не очень большой и тут нужно предсказывать тэги для всех слов\n",
        "# поэтому не будем фильтровать словарь\n",
        "len(vocab)"
      ],
      "metadata": {
        "colab": {
          "base_uri": "https://localhost:8080/"
        },
        "id": "F_p3zPtKjC5a",
        "outputId": "8978f3fc-ab61-4ca7-c89c-9134874fbbbb"
      },
      "id": "F_p3zPtKjC5a",
      "execution_count": 11,
      "outputs": [
        {
          "output_type": "execute_result",
          "data": {
            "text/plain": [
              "36015"
            ]
          },
          "metadata": {},
          "execution_count": 11
        }
      ]
    },
    {
      "cell_type": "code",
      "source": [
        "# индексируем слова\n",
        "word2id = {'PAD':0, 'UNK':1}\n",
        "\n",
        "for word in vocab:\n",
        "    word2id[word] = len(word2id)"
      ],
      "metadata": {
        "id": "ZtpBa_VmjDvV"
      },
      "id": "ZtpBa_VmjDvV",
      "execution_count": 12,
      "outputs": []
    },
    {
      "cell_type": "code",
      "source": [
        "id2word = {i:word for word, i in word2id.items()}"
      ],
      "metadata": {
        "id": "X0Pl1NkXjE0B"
      },
      "id": "X0Pl1NkXjE0B",
      "execution_count": 13,
      "outputs": []
    },
    {
      "cell_type": "code",
      "source": [
        "# переводим тексты в последовательности индексов\n",
        "X = []\n",
        "\n",
        "for sent in dataset['train']['tokens']:\n",
        "    tokens = [w.lower() for w in sent]\n",
        "    ids = [word2id.get(token, 1) for token in tokens]\n",
        "    X.append(ids)"
      ],
      "metadata": {
        "id": "ZLXW6mf0jF6K"
      },
      "id": "ZLXW6mf0jF6K",
      "execution_count": 14,
      "outputs": []
    },
    {
      "cell_type": "code",
      "source": [
        "# переводим тексты в последовательности индексов\n",
        "X_test = []\n",
        "\n",
        "for sent in dataset['test']['tokens']:\n",
        "    tokens = [w.lower() for w in sent]\n",
        "    ids = [word2id.get(token, 1) for token in tokens]\n",
        "    X_test.append(ids)"
      ],
      "metadata": {
        "id": "mw00tQ3CjKe0"
      },
      "id": "mw00tQ3CjKe0",
      "execution_count": 15,
      "outputs": []
    },
    {
      "cell_type": "code",
      "source": [
        "MAX_LEN = max(len(x) for x in X)\n",
        "\n",
        "# паддинг\n",
        "X = keras.preprocessing.sequence.pad_sequences(X, maxlen=MAX_LEN, padding='post')\n",
        "X_test = keras.preprocessing.sequence.pad_sequences(X_test, maxlen=MAX_LEN, padding='post')"
      ],
      "metadata": {
        "id": "5lTw46uVjLf6"
      },
      "id": "5lTw46uVjLf6",
      "execution_count": 16,
      "outputs": []
    },
    {
      "cell_type": "code",
      "source": [
        "'''\n",
        "Теги уже переведены в индексы, но обратный маппинг мы тоже сделаем,\n",
        "чтобы дальше удобнее было проверять работу модели. Длина последовательностей\n",
        "тегов должна совпадать с длиной последовательностей токенов, поэтому тут тоже\n",
        "нужно сделать паддинг, но в этом случае мы не можем паддить нулями,\n",
        "т.к. ноль у нас уже забронирован тэгом O. Добавим дополнительный тэг пад\n",
        "и будем использовать его индекс при паддинге (value=7)\n",
        "'''\n",
        "\n",
        "label2id = {\n",
        "    \"B-LOC\": 0,\n",
        "    \"B-ORG\": 1,\n",
        "    \"B-PER\": 2,\n",
        "    \"I-LOC\": 3,\n",
        "    \"I-ORG\": 4,\n",
        "    \"I-PER\": 5,\n",
        "    \"O\": 6,\n",
        "    \"PAD\": 7\n",
        "}\n",
        "id2label = {v:k for k,v in label2id.items()}"
      ],
      "metadata": {
        "id": "2WAg4kbBjMpK"
      },
      "id": "2WAg4kbBjMpK",
      "execution_count": 72,
      "outputs": []
    },
    {
      "cell_type": "code",
      "source": [
        "y = keras.preprocessing.sequence.pad_sequences(dataset['train']['ner_tags'], value=7,\n",
        "                                                  maxlen=MAX_LEN,  padding='post')\n",
        "y_test = keras.preprocessing.sequence.pad_sequences(dataset['test']['ner_tags'], value=7,\n",
        "                                                       maxlen=MAX_LEN,  padding='post')"
      ],
      "metadata": {
        "id": "kwviFzzDjSvb"
      },
      "id": "kwviFzzDjSvb",
      "execution_count": 18,
      "outputs": []
    },
    {
      "cell_type": "code",
      "source": [
        "# Схема задачи, чтобы было понятнее, что мы предсказываем:\n",
        "X.shape, X_test.shape"
      ],
      "metadata": {
        "colab": {
          "base_uri": "https://localhost:8080/"
        },
        "id": "8YqLOBfRj1zj",
        "outputId": "d9261246-f09c-4bda-a963-ddb7f953a854"
      },
      "id": "8YqLOBfRj1zj",
      "execution_count": 19,
      "outputs": [
        {
          "output_type": "execute_result",
          "data": {
            "text/plain": [
              "((20000, 54), (10000, 54))"
            ]
          },
          "metadata": {},
          "execution_count": 19
        }
      ]
    },
    {
      "cell_type": "code",
      "source": [
        "y.shape, y_test.shape"
      ],
      "metadata": {
        "colab": {
          "base_uri": "https://localhost:8080/"
        },
        "id": "BbuzC8PbqaC6",
        "outputId": "53c79b19-f9ff-492b-959c-54d6f5266b74"
      },
      "id": "BbuzC8PbqaC6",
      "execution_count": 20,
      "outputs": [
        {
          "output_type": "execute_result",
          "data": {
            "text/plain": [
              "((20000, 54), (10000, 54))"
            ]
          },
          "metadata": {},
          "execution_count": 20
        }
      ]
    },
    {
      "cell_type": "markdown",
      "source": [
        "## Tools for inference"
      ],
      "metadata": {
        "id": "1RPi2m6zMOEQ"
      },
      "id": "1RPi2m6zMOEQ"
    },
    {
      "cell_type": "markdown",
      "source": [
        "*Справка из семинара*\n",
        "\n",
        "**PER, ORG, LOC** - это типы именованных сущностей, Person, Organization и Location. Это стандартные типы сущностей, которые чаще всего приходится выделять. Оценочные датасеты обычно размечены этими типами. Другие популярные сущности - номера телефонов, числа, имейлы, дата, время, но их обычно определяют правилами (регулярками например).\n",
        "\n",
        "**I, B** - эта часть тэга показывает в какой части именованной сущности находится токен. **B - beggining** (начало), **I - inside** (внутри, т.е. после начала).\n",
        "\n",
        "**O** - это отрицательный класс (outside или other), т.е. несущность.\n",
        "\n",
        "Такую разметку назвают IOB, она помогает точнее определять сущности и различать рядом стоящие сущности одного типа. Есть и другие типы (например, BILOU - L означает last, последний токен в сущности, а U - unit, сущность из 1 токена)."
      ],
      "metadata": {
        "id": "ioZkUyC0L0kl"
      },
      "id": "ioZkUyC0L0kl"
    },
    {
      "cell_type": "code",
      "source": [
        "def tokenize(text, word2id):\n",
        "    # токенизирует и переводит в индексы\n",
        "    tokens = re.findall('\\w+|[^\\w\\s]+', text)\n",
        "    ids = [word2id.get(token.lower(), 1) for token in tokens]\n",
        "    return tokens, ids\n",
        "\n",
        "def pred2tags(pred, id2label, length):\n",
        "    # декодирует индексы в части речи\n",
        "    # length нужно чтобы откидывать паддинги или некорректные предсказания\n",
        "    pred = pred.argmax(2)[0, :length]\n",
        "    labels = [id2label[l] for l in pred]\n",
        "    return labels\n",
        "\n",
        "def label_seq(text, word2id, id2label, max_len, model):\n",
        "    tokens, ids = tokenize(text, word2id)\n",
        "    pred = model.predict(keras.preprocessing.sequence.pad_sequences([ids],\n",
        "                                                                       maxlen=max_len,\n",
        "                                                                       padding='post'))\n",
        "    labels = pred2tags(pred, id2label, len(ids))\n",
        "\n",
        "    return list(zip(tokens, labels))"
      ],
      "metadata": {
        "id": "5J9kaI8qL0km"
      },
      "execution_count": null,
      "outputs": [],
      "id": "5J9kaI8qL0km"
    },
    {
      "cell_type": "code",
      "source": [
        "ex1 = 'Группа комапаний \"РЕНОВА\" заявила о готовности поддержать номинацию \"Лучший проект развития и продвижения территорий\".'\n",
        "ex2 = 'В прошлом году группа комапаний «ЛитРес» провела опрос среди читателей: насколько популярен в современном мире Ф. М. Достоевский.'\n",
        "ex3 = 'Группа комапаний Broco начала свою деятельность с апреля 2008 года и за этот период уже открыты представительства во многих городах России.'\n",
        "ex4 = 'Группа комапаний \"РИК\" выражает свою признательность и безграничную благодарность Ивану Ивановичу за стойкость и веру в победу...'\n",
        "# примеры из интернета"
      ],
      "metadata": {
        "id": "Gt3MQKsfL0kn"
      },
      "execution_count": null,
      "outputs": [],
      "id": "Gt3MQKsfL0kn"
    },
    {
      "cell_type": "markdown",
      "source": [
        "## Model #1"
      ],
      "metadata": {
        "id": "IjCzrne_kQJI"
      },
      "id": "IjCzrne_kQJI"
    },
    {
      "cell_type": "markdown",
      "source": [
        "- минимум два рекуррентных слоя, причем один из них GRU, а другой LSTM"
      ],
      "metadata": {
        "id": "oYNpdiu3kQJJ"
      },
      "id": "oYNpdiu3kQJJ"
    },
    {
      "cell_type": "markdown",
      "source": [
        "### Compiling"
      ],
      "metadata": {
        "id": "EK5I7ogmkQJJ"
      },
      "id": "EK5I7ogmkQJJ"
    },
    {
      "cell_type": "code",
      "source": [
        "inputs = keras.layers.Input(shape=(MAX_LEN,))\n",
        "embeddings = keras.layers.Embedding(input_dim=len(word2id), output_dim=64)(inputs, )\n",
        "\n",
        "rnn = keras.layers.LSTM(64, return_sequences=True)(embeddings)\n",
        "rnn2 = keras.layers.GRU(64, return_sequences=True)(rnn)\n",
        "\n",
        "outputs = keras.layers.Dense(len(label2id), activation='softmax')(rnn2)\n",
        "\n",
        "model = keras.Model(inputs=inputs, outputs=outputs)\n",
        "\n",
        "model.compile(optimizer='adam',\n",
        "              loss='sparse_categorical_crossentropy',\n",
        "              metrics=['accuracy'])"
      ],
      "metadata": {
        "id": "I2dyKmQCkQJJ"
      },
      "execution_count": 66,
      "outputs": [],
      "id": "I2dyKmQCkQJJ"
    },
    {
      "cell_type": "code",
      "source": [
        "model.summary()"
      ],
      "metadata": {
        "colab": {
          "base_uri": "https://localhost:8080/",
          "height": 301
        },
        "id": "Kp5Fr_H39IFI",
        "outputId": "a692bfe1-bf80-4fd7-a27e-003aa25a22b2"
      },
      "id": "Kp5Fr_H39IFI",
      "execution_count": 67,
      "outputs": [
        {
          "output_type": "display_data",
          "data": {
            "text/plain": [
              "\u001b[1mModel: \"functional_16\"\u001b[0m\n"
            ],
            "text/html": [
              "<pre style=\"white-space:pre;overflow-x:auto;line-height:normal;font-family:Menlo,'DejaVu Sans Mono',consolas,'Courier New',monospace\"><span style=\"font-weight: bold\">Model: \"functional_16\"</span>\n",
              "</pre>\n"
            ]
          },
          "metadata": {}
        },
        {
          "output_type": "display_data",
          "data": {
            "text/plain": [
              "┏━━━━━━━━━━━━━━━━━━━━━━━━━━━━━━━━━━━━━━┳━━━━━━━━━━━━━━━━━━━━━━━━━━━━━┳━━━━━━━━━━━━━━━━━┓\n",
              "┃\u001b[1m \u001b[0m\u001b[1mLayer (type)                        \u001b[0m\u001b[1m \u001b[0m┃\u001b[1m \u001b[0m\u001b[1mOutput Shape               \u001b[0m\u001b[1m \u001b[0m┃\u001b[1m \u001b[0m\u001b[1m        Param #\u001b[0m\u001b[1m \u001b[0m┃\n",
              "┡━━━━━━━━━━━━━━━━━━━━━━━━━━━━━━━━━━━━━━╇━━━━━━━━━━━━━━━━━━━━━━━━━━━━━╇━━━━━━━━━━━━━━━━━┩\n",
              "│ input_layer_16 (\u001b[38;5;33mInputLayer\u001b[0m)          │ (\u001b[38;5;45mNone\u001b[0m, \u001b[38;5;34m54\u001b[0m)                  │               \u001b[38;5;34m0\u001b[0m │\n",
              "├──────────────────────────────────────┼─────────────────────────────┼─────────────────┤\n",
              "│ embedding_16 (\u001b[38;5;33mEmbedding\u001b[0m)             │ (\u001b[38;5;45mNone\u001b[0m, \u001b[38;5;34m54\u001b[0m, \u001b[38;5;34m64\u001b[0m)              │       \u001b[38;5;34m2,305,088\u001b[0m │\n",
              "├──────────────────────────────────────┼─────────────────────────────┼─────────────────┤\n",
              "│ lstm_16 (\u001b[38;5;33mLSTM\u001b[0m)                       │ (\u001b[38;5;45mNone\u001b[0m, \u001b[38;5;34m54\u001b[0m, \u001b[38;5;34m64\u001b[0m)              │          \u001b[38;5;34m33,024\u001b[0m │\n",
              "├──────────────────────────────────────┼─────────────────────────────┼─────────────────┤\n",
              "│ gru_16 (\u001b[38;5;33mGRU\u001b[0m)                         │ (\u001b[38;5;45mNone\u001b[0m, \u001b[38;5;34m54\u001b[0m, \u001b[38;5;34m64\u001b[0m)              │          \u001b[38;5;34m24,960\u001b[0m │\n",
              "├──────────────────────────────────────┼─────────────────────────────┼─────────────────┤\n",
              "│ dense_16 (\u001b[38;5;33mDense\u001b[0m)                     │ (\u001b[38;5;45mNone\u001b[0m, \u001b[38;5;34m54\u001b[0m, \u001b[38;5;34m8\u001b[0m)               │             \u001b[38;5;34m520\u001b[0m │\n",
              "└──────────────────────────────────────┴─────────────────────────────┴─────────────────┘\n"
            ],
            "text/html": [
              "<pre style=\"white-space:pre;overflow-x:auto;line-height:normal;font-family:Menlo,'DejaVu Sans Mono',consolas,'Courier New',monospace\">┏━━━━━━━━━━━━━━━━━━━━━━━━━━━━━━━━━━━━━━┳━━━━━━━━━━━━━━━━━━━━━━━━━━━━━┳━━━━━━━━━━━━━━━━━┓\n",
              "┃<span style=\"font-weight: bold\"> Layer (type)                         </span>┃<span style=\"font-weight: bold\"> Output Shape                </span>┃<span style=\"font-weight: bold\">         Param # </span>┃\n",
              "┡━━━━━━━━━━━━━━━━━━━━━━━━━━━━━━━━━━━━━━╇━━━━━━━━━━━━━━━━━━━━━━━━━━━━━╇━━━━━━━━━━━━━━━━━┩\n",
              "│ input_layer_16 (<span style=\"color: #0087ff; text-decoration-color: #0087ff\">InputLayer</span>)          │ (<span style=\"color: #00d7ff; text-decoration-color: #00d7ff\">None</span>, <span style=\"color: #00af00; text-decoration-color: #00af00\">54</span>)                  │               <span style=\"color: #00af00; text-decoration-color: #00af00\">0</span> │\n",
              "├──────────────────────────────────────┼─────────────────────────────┼─────────────────┤\n",
              "│ embedding_16 (<span style=\"color: #0087ff; text-decoration-color: #0087ff\">Embedding</span>)             │ (<span style=\"color: #00d7ff; text-decoration-color: #00d7ff\">None</span>, <span style=\"color: #00af00; text-decoration-color: #00af00\">54</span>, <span style=\"color: #00af00; text-decoration-color: #00af00\">64</span>)              │       <span style=\"color: #00af00; text-decoration-color: #00af00\">2,305,088</span> │\n",
              "├──────────────────────────────────────┼─────────────────────────────┼─────────────────┤\n",
              "│ lstm_16 (<span style=\"color: #0087ff; text-decoration-color: #0087ff\">LSTM</span>)                       │ (<span style=\"color: #00d7ff; text-decoration-color: #00d7ff\">None</span>, <span style=\"color: #00af00; text-decoration-color: #00af00\">54</span>, <span style=\"color: #00af00; text-decoration-color: #00af00\">64</span>)              │          <span style=\"color: #00af00; text-decoration-color: #00af00\">33,024</span> │\n",
              "├──────────────────────────────────────┼─────────────────────────────┼─────────────────┤\n",
              "│ gru_16 (<span style=\"color: #0087ff; text-decoration-color: #0087ff\">GRU</span>)                         │ (<span style=\"color: #00d7ff; text-decoration-color: #00d7ff\">None</span>, <span style=\"color: #00af00; text-decoration-color: #00af00\">54</span>, <span style=\"color: #00af00; text-decoration-color: #00af00\">64</span>)              │          <span style=\"color: #00af00; text-decoration-color: #00af00\">24,960</span> │\n",
              "├──────────────────────────────────────┼─────────────────────────────┼─────────────────┤\n",
              "│ dense_16 (<span style=\"color: #0087ff; text-decoration-color: #0087ff\">Dense</span>)                     │ (<span style=\"color: #00d7ff; text-decoration-color: #00d7ff\">None</span>, <span style=\"color: #00af00; text-decoration-color: #00af00\">54</span>, <span style=\"color: #00af00; text-decoration-color: #00af00\">8</span>)               │             <span style=\"color: #00af00; text-decoration-color: #00af00\">520</span> │\n",
              "└──────────────────────────────────────┴─────────────────────────────┴─────────────────┘\n",
              "</pre>\n"
            ]
          },
          "metadata": {}
        },
        {
          "output_type": "display_data",
          "data": {
            "text/plain": [
              "\u001b[1m Total params: \u001b[0m\u001b[38;5;34m2,363,592\u001b[0m (9.02 MB)\n"
            ],
            "text/html": [
              "<pre style=\"white-space:pre;overflow-x:auto;line-height:normal;font-family:Menlo,'DejaVu Sans Mono',consolas,'Courier New',monospace\"><span style=\"font-weight: bold\"> Total params: </span><span style=\"color: #00af00; text-decoration-color: #00af00\">2,363,592</span> (9.02 MB)\n",
              "</pre>\n"
            ]
          },
          "metadata": {}
        },
        {
          "output_type": "display_data",
          "data": {
            "text/plain": [
              "\u001b[1m Trainable params: \u001b[0m\u001b[38;5;34m2,363,592\u001b[0m (9.02 MB)\n"
            ],
            "text/html": [
              "<pre style=\"white-space:pre;overflow-x:auto;line-height:normal;font-family:Menlo,'DejaVu Sans Mono',consolas,'Courier New',monospace\"><span style=\"font-weight: bold\"> Trainable params: </span><span style=\"color: #00af00; text-decoration-color: #00af00\">2,363,592</span> (9.02 MB)\n",
              "</pre>\n"
            ]
          },
          "metadata": {}
        },
        {
          "output_type": "display_data",
          "data": {
            "text/plain": [
              "\u001b[1m Non-trainable params: \u001b[0m\u001b[38;5;34m0\u001b[0m (0.00 B)\n"
            ],
            "text/html": [
              "<pre style=\"white-space:pre;overflow-x:auto;line-height:normal;font-family:Menlo,'DejaVu Sans Mono',consolas,'Courier New',monospace\"><span style=\"font-weight: bold\"> Non-trainable params: </span><span style=\"color: #00af00; text-decoration-color: #00af00\">0</span> (0.00 B)\n",
              "</pre>\n"
            ]
          },
          "metadata": {}
        }
      ]
    },
    {
      "cell_type": "markdown",
      "source": [
        "### Fitting"
      ],
      "metadata": {
        "id": "eyURLz4hkQJK"
      },
      "id": "eyURLz4hkQJK"
    },
    {
      "cell_type": "code",
      "source": [
        "model.fit(X, y,\n",
        "          validation_data=(X_test, y_test),\n",
        "          batch_size=128,\n",
        "          epochs=3)\n",
        "# я поставил три эпохи, потосу что видно, что уже на третьей accuracy огромное,\n",
        "# дальше вероятен только оверфит и лишнее вычисление"
      ],
      "metadata": {
        "colab": {
          "base_uri": "https://localhost:8080/"
        },
        "outputId": "b431b999-70f8-4861-ad70-1a8a5b2d9a69",
        "id": "4WNYl2fykQJK"
      },
      "execution_count": 96,
      "outputs": [
        {
          "output_type": "stream",
          "name": "stdout",
          "text": [
            "Epoch 1/3\n",
            "\u001b[1m157/157\u001b[0m \u001b[32m━━━━━━━━━━━━━━━━━━━━\u001b[0m\u001b[37m\u001b[0m \u001b[1m39s\u001b[0m 251ms/step - accuracy: 0.9805 - loss: 0.0555 - val_accuracy: 0.9714 - val_loss: 0.0837\n",
            "Epoch 2/3\n",
            "\u001b[1m157/157\u001b[0m \u001b[32m━━━━━━━━━━━━━━━━━━━━\u001b[0m\u001b[37m\u001b[0m \u001b[1m31s\u001b[0m 198ms/step - accuracy: 0.9900 - loss: 0.0338 - val_accuracy: 0.9718 - val_loss: 0.0863\n",
            "Epoch 3/3\n",
            "\u001b[1m157/157\u001b[0m \u001b[32m━━━━━━━━━━━━━━━━━━━━\u001b[0m\u001b[37m\u001b[0m \u001b[1m38s\u001b[0m 240ms/step - accuracy: 0.9935 - loss: 0.0207 - val_accuracy: 0.9733 - val_loss: 0.0905\n"
          ]
        },
        {
          "output_type": "execute_result",
          "data": {
            "text/plain": [
              "<keras.src.callbacks.history.History at 0x7b7ea3cb7050>"
            ]
          },
          "metadata": {},
          "execution_count": 96
        }
      ],
      "id": "4WNYl2fykQJK"
    },
    {
      "cell_type": "code",
      "source": [
        "print(model.history.history.keys())\n",
        "plt.plot(model.history.history['accuracy'])\n",
        "plt.plot(model.history.history['val_accuracy'])\n",
        "plt.title('model accuracy')\n",
        "plt.ylabel('accuracy')\n",
        "plt.xlabel('epoch')\n",
        "plt.legend(['train', 'val'], loc='upper left')\n",
        "plt.show()\n",
        "\n",
        "\n",
        "# не понимаю почему: ни с keras.metrics.RecallAtPrecision(0.8, name='rec@prec'),\n",
        "# ни с набором 'precision', 'recall', 'f1_score' иодель не обучается, выдаёт\n",
        "# разные ошибки размерностей (в зависимости от размерностей в слоях), напирмер:\n",
        "# RuntimeError: The size of tensor a (6912) must match the size of\n",
        "# tensor b (55296) at non-singleton dimension 1\n",
        "# поэтому здесь только accuracy, но репорт ниже показывает все три метрики"
      ],
      "metadata": {
        "id": "P5q19VZEkQJK"
      },
      "execution_count": null,
      "outputs": [],
      "id": "P5q19VZEkQJK"
    },
    {
      "cell_type": "markdown",
      "source": [
        "### Evaluation"
      ],
      "metadata": {
        "id": "w_wRDgHfkQJK"
      },
      "id": "w_wRDgHfkQJK"
    },
    {
      "cell_type": "code",
      "source": [
        "pred = model.predict(X_test)"
      ],
      "metadata": {
        "id": "TpJIljRJkQJK",
        "colab": {
          "base_uri": "https://localhost:8080/"
        },
        "outputId": "cae19713-c8cb-42ef-d23c-beb0f4281984"
      },
      "execution_count": 97,
      "outputs": [
        {
          "output_type": "stream",
          "name": "stdout",
          "text": [
            "\u001b[1m313/313\u001b[0m \u001b[32m━━━━━━━━━━━━━━━━━━━━\u001b[0m\u001b[37m\u001b[0m \u001b[1m33s\u001b[0m 106ms/step\n"
          ]
        }
      ],
      "id": "TpJIljRJkQJK"
    },
    {
      "cell_type": "code",
      "source": [
        "pred.shape"
      ],
      "metadata": {
        "colab": {
          "base_uri": "https://localhost:8080/"
        },
        "id": "SZClMDfvDVwp",
        "outputId": "1e011629-045a-4c62-abf8-812b23e67175"
      },
      "id": "SZClMDfvDVwp",
      "execution_count": 98,
      "outputs": [
        {
          "output_type": "execute_result",
          "data": {
            "text/plain": [
              "(10000, 54, 8)"
            ]
          },
          "metadata": {},
          "execution_count": 98
        }
      ]
    },
    {
      "cell_type": "code",
      "source": [
        "pred.argmax(2).shape"
      ],
      "metadata": {
        "colab": {
          "base_uri": "https://localhost:8080/"
        },
        "id": "uT3oFXc_DyLP",
        "outputId": "177cd9b7-90d5-4aea-aac6-47e546b821d7"
      },
      "id": "uT3oFXc_DyLP",
      "execution_count": 99,
      "outputs": [
        {
          "output_type": "execute_result",
          "data": {
            "text/plain": [
              "(10000, 54)"
            ]
          },
          "metadata": {},
          "execution_count": 99
        }
      ]
    },
    {
      "cell_type": "code",
      "source": [
        "y_test.shape"
      ],
      "metadata": {
        "colab": {
          "base_uri": "https://localhost:8080/"
        },
        "id": "2MiPdccZEBBc",
        "outputId": "829c59ec-01ed-4cfb-c077-b861677b7f78"
      },
      "id": "2MiPdccZEBBc",
      "execution_count": 100,
      "outputs": [
        {
          "output_type": "execute_result",
          "data": {
            "text/plain": [
              "(10000, 54)"
            ]
          },
          "metadata": {},
          "execution_count": 100
        }
      ]
    },
    {
      "cell_type": "code",
      "source": [
        "print(classification_report(y_test.reshape(-1),\n",
        "                            pred.argmax(2).reshape(-1),\n",
        "                            labels=list(id2label.keys()),\n",
        "                            target_names=list(id2label.values()),\n",
        "                            zero_division=0))\n",
        "# видно, что в некоторых классах f1 совсем не безупречный"
      ],
      "metadata": {
        "id": "oY94p0kqkQJK",
        "colab": {
          "base_uri": "https://localhost:8080/"
        },
        "outputId": "47441ee6-6e05-4bf1-98a5-256d16a2d6bb"
      },
      "execution_count": 101,
      "outputs": [
        {
          "output_type": "stream",
          "name": "stdout",
          "text": [
            "              precision    recall  f1-score   support\n",
            "\n",
            "       B-LOC       0.90      0.90      0.90     40480\n",
            "       B-ORG       0.52      0.70      0.60      3542\n",
            "       B-PER       0.89      0.60      0.72      7544\n",
            "       I-LOC       0.56      0.58      0.57      4074\n",
            "       I-ORG       0.73      0.77      0.75      8008\n",
            "       I-PER       0.50      0.63      0.56      4560\n",
            "           O       0.76      0.60      0.67      3060\n",
            "         PAD       1.00      1.00      1.00    468732\n",
            "\n",
            "    accuracy                           0.97    540000\n",
            "   macro avg       0.73      0.72      0.72    540000\n",
            "weighted avg       0.97      0.97      0.97    540000\n",
            "\n"
          ]
        }
      ],
      "id": "oY94p0kqkQJK"
    },
    {
      "cell_type": "markdown",
      "source": [
        "### Inference"
      ],
      "metadata": {
        "id": "kFsvfbnVwoaU"
      },
      "id": "kFsvfbnVwoaU"
    },
    {
      "cell_type": "code",
      "source": [
        "label_seq(ex1, word2id, id2label, MAX_LEN, model)\n",
        "# организацию выделил"
      ],
      "metadata": {
        "colab": {
          "base_uri": "https://localhost:8080/"
        },
        "id": "uoSjVA6rFFyo",
        "outputId": "4892788f-386c-4346-9339-fc5e80271680"
      },
      "id": "uoSjVA6rFFyo",
      "execution_count": 113,
      "outputs": [
        {
          "output_type": "stream",
          "name": "stdout",
          "text": [
            "\u001b[1m1/1\u001b[0m \u001b[32m━━━━━━━━━━━━━━━━━━━━\u001b[0m\u001b[37m\u001b[0m \u001b[1m0s\u001b[0m 124ms/step\n"
          ]
        },
        {
          "output_type": "execute_result",
          "data": {
            "text/plain": [
              "[('Группа', 'B-LOC'),\n",
              " ('комапаний', 'I-LOC'),\n",
              " ('\"', 'I-ORG'),\n",
              " ('РЕНОВА', 'I-ORG'),\n",
              " ('\"', 'B-LOC'),\n",
              " ('заявила', 'B-LOC'),\n",
              " ('о', 'B-LOC'),\n",
              " ('готовности', 'B-LOC'),\n",
              " ('поддержать', 'B-LOC'),\n",
              " ('номинацию', 'B-LOC'),\n",
              " ('\"', 'B-LOC'),\n",
              " ('Лучший', 'B-LOC'),\n",
              " ('проект', 'B-LOC'),\n",
              " ('развития', 'B-LOC'),\n",
              " ('и', 'B-LOC'),\n",
              " ('продвижения', 'B-LOC'),\n",
              " ('территорий', 'B-LOC'),\n",
              " ('\".', 'B-LOC')]"
            ]
          },
          "metadata": {},
          "execution_count": 113
        }
      ]
    },
    {
      "cell_type": "code",
      "source": [
        "label_seq(ex2, word2id, id2label, MAX_LEN, model)\n",
        "# организацию и персону пропустил"
      ],
      "metadata": {
        "colab": {
          "base_uri": "https://localhost:8080/"
        },
        "id": "t2-DQ-8FFIo6",
        "outputId": "4f57b5e0-5b34-4ca0-9724-441e846ec478"
      },
      "id": "t2-DQ-8FFIo6",
      "execution_count": 114,
      "outputs": [
        {
          "output_type": "stream",
          "name": "stdout",
          "text": [
            "\u001b[1m1/1\u001b[0m \u001b[32m━━━━━━━━━━━━━━━━━━━━\u001b[0m\u001b[37m\u001b[0m \u001b[1m0s\u001b[0m 101ms/step\n"
          ]
        },
        {
          "output_type": "execute_result",
          "data": {
            "text/plain": [
              "[('В', 'B-LOC'),\n",
              " ('прошлом', 'B-LOC'),\n",
              " ('году', 'I-LOC'),\n",
              " ('группа', 'B-LOC'),\n",
              " ('комапаний', 'B-LOC'),\n",
              " ('«', 'B-LOC'),\n",
              " ('ЛитРес', 'B-LOC'),\n",
              " ('»', 'I-ORG'),\n",
              " ('провела', 'B-LOC'),\n",
              " ('опрос', 'B-LOC'),\n",
              " ('среди', 'B-LOC'),\n",
              " ('читателей', 'B-LOC'),\n",
              " (':', 'I-LOC'),\n",
              " ('насколько', 'I-ORG'),\n",
              " ('популярен', 'I-ORG'),\n",
              " ('в', 'B-LOC'),\n",
              " ('современном', 'B-LOC'),\n",
              " ('мире', 'B-LOC'),\n",
              " ('Ф', 'B-LOC'),\n",
              " ('.', 'B-LOC'),\n",
              " ('М', 'B-LOC'),\n",
              " ('.', 'B-LOC'),\n",
              " ('Достоевский', 'PAD'),\n",
              " ('.', 'B-LOC')]"
            ]
          },
          "metadata": {},
          "execution_count": 114
        }
      ]
    },
    {
      "cell_type": "code",
      "source": [
        "label_seq(ex3, word2id, id2label, MAX_LEN, model)\n",
        "# организацию выделил, название страны -- явно не персона"
      ],
      "metadata": {
        "colab": {
          "base_uri": "https://localhost:8080/"
        },
        "id": "oHzNqSe0FJ6t",
        "outputId": "a988ac81-0bd2-4dce-af8a-44f868862333"
      },
      "id": "oHzNqSe0FJ6t",
      "execution_count": 115,
      "outputs": [
        {
          "output_type": "stream",
          "name": "stdout",
          "text": [
            "\u001b[1m1/1\u001b[0m \u001b[32m━━━━━━━━━━━━━━━━━━━━\u001b[0m\u001b[37m\u001b[0m \u001b[1m0s\u001b[0m 105ms/step\n"
          ]
        },
        {
          "output_type": "execute_result",
          "data": {
            "text/plain": [
              "[('Группа', 'B-LOC'),\n",
              " ('комапаний', 'I-LOC'),\n",
              " ('Broco', 'I-ORG'),\n",
              " ('начала', 'B-LOC'),\n",
              " ('свою', 'B-LOC'),\n",
              " ('деятельность', 'B-LOC'),\n",
              " ('с', 'B-LOC'),\n",
              " ('апреля', 'B-LOC'),\n",
              " ('2008', 'I-LOC'),\n",
              " ('года', 'I-ORG'),\n",
              " ('и', 'B-LOC'),\n",
              " ('за', 'B-LOC'),\n",
              " ('этот', 'B-LOC'),\n",
              " ('период', 'B-LOC'),\n",
              " ('уже', 'B-LOC'),\n",
              " ('открыты', 'B-LOC'),\n",
              " ('представительства', 'B-LOC'),\n",
              " ('во', 'B-LOC'),\n",
              " ('многих', 'B-LOC'),\n",
              " ('городах', 'B-LOC'),\n",
              " ('России', 'B-LOC'),\n",
              " ('.', 'B-LOC')]"
            ]
          },
          "metadata": {},
          "execution_count": 115
        }
      ]
    },
    {
      "cell_type": "code",
      "source": [
        "label_seq(ex4, word2id, id2label, MAX_LEN, model)\n",
        "# орагнизацию выделил, персону нет"
      ],
      "metadata": {
        "colab": {
          "base_uri": "https://localhost:8080/"
        },
        "id": "_aiEfSYcFLhj",
        "outputId": "cb5fdb74-4533-4c9b-83dd-84c2d56d9876"
      },
      "id": "_aiEfSYcFLhj",
      "execution_count": 116,
      "outputs": [
        {
          "output_type": "stream",
          "name": "stdout",
          "text": [
            "\u001b[1m1/1\u001b[0m \u001b[32m━━━━━━━━━━━━━━━━━━━━\u001b[0m\u001b[37m\u001b[0m \u001b[1m0s\u001b[0m 105ms/step\n"
          ]
        },
        {
          "output_type": "execute_result",
          "data": {
            "text/plain": [
              "[('Группа', 'B-LOC'),\n",
              " ('комапаний', 'I-LOC'),\n",
              " ('\"', 'I-ORG'),\n",
              " ('РИК', 'I-ORG'),\n",
              " ('\"', 'PAD'),\n",
              " ('выражает', 'B-LOC'),\n",
              " ('свою', 'B-LOC'),\n",
              " ('признательность', 'B-LOC'),\n",
              " ('и', 'B-LOC'),\n",
              " ('безграничную', 'B-LOC'),\n",
              " ('благодарность', 'B-LOC'),\n",
              " ('Ивану', 'B-LOC'),\n",
              " ('Ивановичу', 'B-LOC'),\n",
              " ('за', 'B-LOC'),\n",
              " ('стойкость', 'B-LOC'),\n",
              " ('и', 'B-LOC'),\n",
              " ('веру', 'B-LOC'),\n",
              " ('в', 'B-LOC'),\n",
              " ('победу', 'B-LOC'),\n",
              " ('...', 'B-LOC')]"
            ]
          },
          "metadata": {},
          "execution_count": 116
        }
      ]
    },
    {
      "cell_type": "markdown",
      "source": [
        "## Model #2"
      ],
      "metadata": {
        "id": "0JDYoUYQIbpi"
      },
      "id": "0JDYoUYQIbpi"
    },
    {
      "cell_type": "markdown",
      "source": [
        "- минимум 3 рекуррентных слоя идут друг за другом и при этом 2-ой и 3-й слои еще имеют residual connection к изначальным эмбедингам"
      ],
      "metadata": {
        "id": "Epms6MTbIbp5"
      },
      "id": "Epms6MTbIbp5"
    },
    {
      "cell_type": "markdown",
      "source": [
        "### Compiling"
      ],
      "metadata": {
        "id": "XQA7XTEJIbp6"
      },
      "id": "XQA7XTEJIbp6"
    },
    {
      "cell_type": "code",
      "source": [
        "fixed_len = 64 # чтобы везде одна\n",
        "\n",
        "inputs = keras.layers.Input(shape=(MAX_LEN,))\n",
        "embeddings = keras.layers.Embedding(input_dim=len(word2id),\n",
        "                                    output_dim=fixed_len)(inputs, )\n",
        "\n",
        "rnn1 = keras.layers.SimpleRNN(fixed_len, return_sequences=True)(embeddings)\n",
        "\n",
        "rnn2 = keras.layers.SimpleRNN(fixed_len, return_sequences=True)(rnn1)\n",
        "concat1 = keras.layers.concatenate((rnn2, embeddings))\n",
        "\n",
        "rnn3 = keras.layers.SimpleRNN(fixed_len, return_sequences=True)(concat1)\n",
        "concat2 = keras.layers.concatenate((rnn3, embeddings))\n",
        "\n",
        "rnn4 = keras.layers.SimpleRNN(fixed_len, return_sequences=True)(concat2)\n",
        "\n",
        "outputs = keras.layers.Dense(len(label2id), activation='softmax')(rnn4)\n",
        "\n",
        "model = keras.Model(inputs=inputs, outputs=outputs)\n",
        "\n",
        "model.compile(optimizer='adam',\n",
        "              loss='sparse_categorical_crossentropy',\n",
        "              metrics=['accuracy'])"
      ],
      "metadata": {
        "id": "iu0XgvOsIbp6"
      },
      "execution_count": 102,
      "outputs": [],
      "id": "iu0XgvOsIbp6"
    },
    {
      "cell_type": "code",
      "source": [
        "model.summary()"
      ],
      "metadata": {
        "colab": {
          "base_uri": "https://localhost:8080/",
          "height": 485
        },
        "outputId": "2923b26a-e87d-45db-d112-b3a68b38b5f1",
        "id": "bgQzwD5rIbp7"
      },
      "execution_count": 103,
      "outputs": [
        {
          "output_type": "display_data",
          "data": {
            "text/plain": [
              "\u001b[1mModel: \"functional_17\"\u001b[0m\n"
            ],
            "text/html": [
              "<pre style=\"white-space:pre;overflow-x:auto;line-height:normal;font-family:Menlo,'DejaVu Sans Mono',consolas,'Courier New',monospace\"><span style=\"font-weight: bold\">Model: \"functional_17\"</span>\n",
              "</pre>\n"
            ]
          },
          "metadata": {}
        },
        {
          "output_type": "display_data",
          "data": {
            "text/plain": [
              "┏━━━━━━━━━━━━━━━━━━━━━━━━━━━┳━━━━━━━━━━━━━━━━━━━━━━━━┳━━━━━━━━━━━━━━━━┳━━━━━━━━━━━━━━━━━━━━━━━━┓\n",
              "┃\u001b[1m \u001b[0m\u001b[1mLayer (type)             \u001b[0m\u001b[1m \u001b[0m┃\u001b[1m \u001b[0m\u001b[1mOutput Shape          \u001b[0m\u001b[1m \u001b[0m┃\u001b[1m \u001b[0m\u001b[1m       Param #\u001b[0m\u001b[1m \u001b[0m┃\u001b[1m \u001b[0m\u001b[1mConnected to          \u001b[0m\u001b[1m \u001b[0m┃\n",
              "┡━━━━━━━━━━━━━━━━━━━━━━━━━━━╇━━━━━━━━━━━━━━━━━━━━━━━━╇━━━━━━━━━━━━━━━━╇━━━━━━━━━━━━━━━━━━━━━━━━┩\n",
              "│ input_layer_17            │ (\u001b[38;5;45mNone\u001b[0m, \u001b[38;5;34m54\u001b[0m)             │              \u001b[38;5;34m0\u001b[0m │ -                      │\n",
              "│ (\u001b[38;5;33mInputLayer\u001b[0m)              │                        │                │                        │\n",
              "├───────────────────────────┼────────────────────────┼────────────────┼────────────────────────┤\n",
              "│ embedding_17 (\u001b[38;5;33mEmbedding\u001b[0m)  │ (\u001b[38;5;45mNone\u001b[0m, \u001b[38;5;34m54\u001b[0m, \u001b[38;5;34m64\u001b[0m)         │      \u001b[38;5;34m2,305,088\u001b[0m │ input_layer_17[\u001b[38;5;34m0\u001b[0m][\u001b[38;5;34m0\u001b[0m]   │\n",
              "├───────────────────────────┼────────────────────────┼────────────────┼────────────────────────┤\n",
              "│ simple_rnn (\u001b[38;5;33mSimpleRNN\u001b[0m)    │ (\u001b[38;5;45mNone\u001b[0m, \u001b[38;5;34m54\u001b[0m, \u001b[38;5;34m64\u001b[0m)         │          \u001b[38;5;34m8,256\u001b[0m │ embedding_17[\u001b[38;5;34m0\u001b[0m][\u001b[38;5;34m0\u001b[0m]     │\n",
              "├───────────────────────────┼────────────────────────┼────────────────┼────────────────────────┤\n",
              "│ simple_rnn_1 (\u001b[38;5;33mSimpleRNN\u001b[0m)  │ (\u001b[38;5;45mNone\u001b[0m, \u001b[38;5;34m54\u001b[0m, \u001b[38;5;34m64\u001b[0m)         │          \u001b[38;5;34m8,256\u001b[0m │ simple_rnn[\u001b[38;5;34m0\u001b[0m][\u001b[38;5;34m0\u001b[0m]       │\n",
              "├───────────────────────────┼────────────────────────┼────────────────┼────────────────────────┤\n",
              "│ concatenate (\u001b[38;5;33mConcatenate\u001b[0m) │ (\u001b[38;5;45mNone\u001b[0m, \u001b[38;5;34m54\u001b[0m, \u001b[38;5;34m128\u001b[0m)        │              \u001b[38;5;34m0\u001b[0m │ simple_rnn_1[\u001b[38;5;34m0\u001b[0m][\u001b[38;5;34m0\u001b[0m],    │\n",
              "│                           │                        │                │ embedding_17[\u001b[38;5;34m0\u001b[0m][\u001b[38;5;34m0\u001b[0m]     │\n",
              "├───────────────────────────┼────────────────────────┼────────────────┼────────────────────────┤\n",
              "│ simple_rnn_2 (\u001b[38;5;33mSimpleRNN\u001b[0m)  │ (\u001b[38;5;45mNone\u001b[0m, \u001b[38;5;34m54\u001b[0m, \u001b[38;5;34m64\u001b[0m)         │         \u001b[38;5;34m12,352\u001b[0m │ concatenate[\u001b[38;5;34m0\u001b[0m][\u001b[38;5;34m0\u001b[0m]      │\n",
              "├───────────────────────────┼────────────────────────┼────────────────┼────────────────────────┤\n",
              "│ concatenate_1             │ (\u001b[38;5;45mNone\u001b[0m, \u001b[38;5;34m54\u001b[0m, \u001b[38;5;34m128\u001b[0m)        │              \u001b[38;5;34m0\u001b[0m │ simple_rnn_2[\u001b[38;5;34m0\u001b[0m][\u001b[38;5;34m0\u001b[0m],    │\n",
              "│ (\u001b[38;5;33mConcatenate\u001b[0m)             │                        │                │ embedding_17[\u001b[38;5;34m0\u001b[0m][\u001b[38;5;34m0\u001b[0m]     │\n",
              "├───────────────────────────┼────────────────────────┼────────────────┼────────────────────────┤\n",
              "│ simple_rnn_3 (\u001b[38;5;33mSimpleRNN\u001b[0m)  │ (\u001b[38;5;45mNone\u001b[0m, \u001b[38;5;34m54\u001b[0m, \u001b[38;5;34m64\u001b[0m)         │         \u001b[38;5;34m12,352\u001b[0m │ concatenate_1[\u001b[38;5;34m0\u001b[0m][\u001b[38;5;34m0\u001b[0m]    │\n",
              "├───────────────────────────┼────────────────────────┼────────────────┼────────────────────────┤\n",
              "│ dense_17 (\u001b[38;5;33mDense\u001b[0m)          │ (\u001b[38;5;45mNone\u001b[0m, \u001b[38;5;34m54\u001b[0m, \u001b[38;5;34m8\u001b[0m)          │            \u001b[38;5;34m520\u001b[0m │ simple_rnn_3[\u001b[38;5;34m0\u001b[0m][\u001b[38;5;34m0\u001b[0m]     │\n",
              "└───────────────────────────┴────────────────────────┴────────────────┴────────────────────────┘\n"
            ],
            "text/html": [
              "<pre style=\"white-space:pre;overflow-x:auto;line-height:normal;font-family:Menlo,'DejaVu Sans Mono',consolas,'Courier New',monospace\">┏━━━━━━━━━━━━━━━━━━━━━━━━━━━┳━━━━━━━━━━━━━━━━━━━━━━━━┳━━━━━━━━━━━━━━━━┳━━━━━━━━━━━━━━━━━━━━━━━━┓\n",
              "┃<span style=\"font-weight: bold\"> Layer (type)              </span>┃<span style=\"font-weight: bold\"> Output Shape           </span>┃<span style=\"font-weight: bold\">        Param # </span>┃<span style=\"font-weight: bold\"> Connected to           </span>┃\n",
              "┡━━━━━━━━━━━━━━━━━━━━━━━━━━━╇━━━━━━━━━━━━━━━━━━━━━━━━╇━━━━━━━━━━━━━━━━╇━━━━━━━━━━━━━━━━━━━━━━━━┩\n",
              "│ input_layer_17            │ (<span style=\"color: #00d7ff; text-decoration-color: #00d7ff\">None</span>, <span style=\"color: #00af00; text-decoration-color: #00af00\">54</span>)             │              <span style=\"color: #00af00; text-decoration-color: #00af00\">0</span> │ -                      │\n",
              "│ (<span style=\"color: #0087ff; text-decoration-color: #0087ff\">InputLayer</span>)              │                        │                │                        │\n",
              "├───────────────────────────┼────────────────────────┼────────────────┼────────────────────────┤\n",
              "│ embedding_17 (<span style=\"color: #0087ff; text-decoration-color: #0087ff\">Embedding</span>)  │ (<span style=\"color: #00d7ff; text-decoration-color: #00d7ff\">None</span>, <span style=\"color: #00af00; text-decoration-color: #00af00\">54</span>, <span style=\"color: #00af00; text-decoration-color: #00af00\">64</span>)         │      <span style=\"color: #00af00; text-decoration-color: #00af00\">2,305,088</span> │ input_layer_17[<span style=\"color: #00af00; text-decoration-color: #00af00\">0</span>][<span style=\"color: #00af00; text-decoration-color: #00af00\">0</span>]   │\n",
              "├───────────────────────────┼────────────────────────┼────────────────┼────────────────────────┤\n",
              "│ simple_rnn (<span style=\"color: #0087ff; text-decoration-color: #0087ff\">SimpleRNN</span>)    │ (<span style=\"color: #00d7ff; text-decoration-color: #00d7ff\">None</span>, <span style=\"color: #00af00; text-decoration-color: #00af00\">54</span>, <span style=\"color: #00af00; text-decoration-color: #00af00\">64</span>)         │          <span style=\"color: #00af00; text-decoration-color: #00af00\">8,256</span> │ embedding_17[<span style=\"color: #00af00; text-decoration-color: #00af00\">0</span>][<span style=\"color: #00af00; text-decoration-color: #00af00\">0</span>]     │\n",
              "├───────────────────────────┼────────────────────────┼────────────────┼────────────────────────┤\n",
              "│ simple_rnn_1 (<span style=\"color: #0087ff; text-decoration-color: #0087ff\">SimpleRNN</span>)  │ (<span style=\"color: #00d7ff; text-decoration-color: #00d7ff\">None</span>, <span style=\"color: #00af00; text-decoration-color: #00af00\">54</span>, <span style=\"color: #00af00; text-decoration-color: #00af00\">64</span>)         │          <span style=\"color: #00af00; text-decoration-color: #00af00\">8,256</span> │ simple_rnn[<span style=\"color: #00af00; text-decoration-color: #00af00\">0</span>][<span style=\"color: #00af00; text-decoration-color: #00af00\">0</span>]       │\n",
              "├───────────────────────────┼────────────────────────┼────────────────┼────────────────────────┤\n",
              "│ concatenate (<span style=\"color: #0087ff; text-decoration-color: #0087ff\">Concatenate</span>) │ (<span style=\"color: #00d7ff; text-decoration-color: #00d7ff\">None</span>, <span style=\"color: #00af00; text-decoration-color: #00af00\">54</span>, <span style=\"color: #00af00; text-decoration-color: #00af00\">128</span>)        │              <span style=\"color: #00af00; text-decoration-color: #00af00\">0</span> │ simple_rnn_1[<span style=\"color: #00af00; text-decoration-color: #00af00\">0</span>][<span style=\"color: #00af00; text-decoration-color: #00af00\">0</span>],    │\n",
              "│                           │                        │                │ embedding_17[<span style=\"color: #00af00; text-decoration-color: #00af00\">0</span>][<span style=\"color: #00af00; text-decoration-color: #00af00\">0</span>]     │\n",
              "├───────────────────────────┼────────────────────────┼────────────────┼────────────────────────┤\n",
              "│ simple_rnn_2 (<span style=\"color: #0087ff; text-decoration-color: #0087ff\">SimpleRNN</span>)  │ (<span style=\"color: #00d7ff; text-decoration-color: #00d7ff\">None</span>, <span style=\"color: #00af00; text-decoration-color: #00af00\">54</span>, <span style=\"color: #00af00; text-decoration-color: #00af00\">64</span>)         │         <span style=\"color: #00af00; text-decoration-color: #00af00\">12,352</span> │ concatenate[<span style=\"color: #00af00; text-decoration-color: #00af00\">0</span>][<span style=\"color: #00af00; text-decoration-color: #00af00\">0</span>]      │\n",
              "├───────────────────────────┼────────────────────────┼────────────────┼────────────────────────┤\n",
              "│ concatenate_1             │ (<span style=\"color: #00d7ff; text-decoration-color: #00d7ff\">None</span>, <span style=\"color: #00af00; text-decoration-color: #00af00\">54</span>, <span style=\"color: #00af00; text-decoration-color: #00af00\">128</span>)        │              <span style=\"color: #00af00; text-decoration-color: #00af00\">0</span> │ simple_rnn_2[<span style=\"color: #00af00; text-decoration-color: #00af00\">0</span>][<span style=\"color: #00af00; text-decoration-color: #00af00\">0</span>],    │\n",
              "│ (<span style=\"color: #0087ff; text-decoration-color: #0087ff\">Concatenate</span>)             │                        │                │ embedding_17[<span style=\"color: #00af00; text-decoration-color: #00af00\">0</span>][<span style=\"color: #00af00; text-decoration-color: #00af00\">0</span>]     │\n",
              "├───────────────────────────┼────────────────────────┼────────────────┼────────────────────────┤\n",
              "│ simple_rnn_3 (<span style=\"color: #0087ff; text-decoration-color: #0087ff\">SimpleRNN</span>)  │ (<span style=\"color: #00d7ff; text-decoration-color: #00d7ff\">None</span>, <span style=\"color: #00af00; text-decoration-color: #00af00\">54</span>, <span style=\"color: #00af00; text-decoration-color: #00af00\">64</span>)         │         <span style=\"color: #00af00; text-decoration-color: #00af00\">12,352</span> │ concatenate_1[<span style=\"color: #00af00; text-decoration-color: #00af00\">0</span>][<span style=\"color: #00af00; text-decoration-color: #00af00\">0</span>]    │\n",
              "├───────────────────────────┼────────────────────────┼────────────────┼────────────────────────┤\n",
              "│ dense_17 (<span style=\"color: #0087ff; text-decoration-color: #0087ff\">Dense</span>)          │ (<span style=\"color: #00d7ff; text-decoration-color: #00d7ff\">None</span>, <span style=\"color: #00af00; text-decoration-color: #00af00\">54</span>, <span style=\"color: #00af00; text-decoration-color: #00af00\">8</span>)          │            <span style=\"color: #00af00; text-decoration-color: #00af00\">520</span> │ simple_rnn_3[<span style=\"color: #00af00; text-decoration-color: #00af00\">0</span>][<span style=\"color: #00af00; text-decoration-color: #00af00\">0</span>]     │\n",
              "└───────────────────────────┴────────────────────────┴────────────────┴────────────────────────┘\n",
              "</pre>\n"
            ]
          },
          "metadata": {}
        },
        {
          "output_type": "display_data",
          "data": {
            "text/plain": [
              "\u001b[1m Total params: \u001b[0m\u001b[38;5;34m2,346,824\u001b[0m (8.95 MB)\n"
            ],
            "text/html": [
              "<pre style=\"white-space:pre;overflow-x:auto;line-height:normal;font-family:Menlo,'DejaVu Sans Mono',consolas,'Courier New',monospace\"><span style=\"font-weight: bold\"> Total params: </span><span style=\"color: #00af00; text-decoration-color: #00af00\">2,346,824</span> (8.95 MB)\n",
              "</pre>\n"
            ]
          },
          "metadata": {}
        },
        {
          "output_type": "display_data",
          "data": {
            "text/plain": [
              "\u001b[1m Trainable params: \u001b[0m\u001b[38;5;34m2,346,824\u001b[0m (8.95 MB)\n"
            ],
            "text/html": [
              "<pre style=\"white-space:pre;overflow-x:auto;line-height:normal;font-family:Menlo,'DejaVu Sans Mono',consolas,'Courier New',monospace\"><span style=\"font-weight: bold\"> Trainable params: </span><span style=\"color: #00af00; text-decoration-color: #00af00\">2,346,824</span> (8.95 MB)\n",
              "</pre>\n"
            ]
          },
          "metadata": {}
        },
        {
          "output_type": "display_data",
          "data": {
            "text/plain": [
              "\u001b[1m Non-trainable params: \u001b[0m\u001b[38;5;34m0\u001b[0m (0.00 B)\n"
            ],
            "text/html": [
              "<pre style=\"white-space:pre;overflow-x:auto;line-height:normal;font-family:Menlo,'DejaVu Sans Mono',consolas,'Courier New',monospace\"><span style=\"font-weight: bold\"> Non-trainable params: </span><span style=\"color: #00af00; text-decoration-color: #00af00\">0</span> (0.00 B)\n",
              "</pre>\n"
            ]
          },
          "metadata": {}
        }
      ],
      "id": "bgQzwD5rIbp7"
    },
    {
      "cell_type": "markdown",
      "source": [
        "### Fitting"
      ],
      "metadata": {
        "id": "U9Q827i7Ibp8"
      },
      "id": "U9Q827i7Ibp8"
    },
    {
      "cell_type": "code",
      "source": [
        "model.fit(X, y,\n",
        "          validation_data=(X_test, y_test),\n",
        "          batch_size=128,\n",
        "          epochs=3)\n",
        "# я поставил три эпохи, потосу что видно, что уже на третьей accuracy огромное,\n",
        "# дальше вероятен только оверфит и лишнее вычисление\n",
        "\n",
        "# хотя на графике видно, что accuracy на валидационном не идеальное"
      ],
      "metadata": {
        "colab": {
          "base_uri": "https://localhost:8080/"
        },
        "outputId": "9cdad2e2-47dd-446c-bf03-bf4d358ad394",
        "id": "tGsubNRyIbp9"
      },
      "execution_count": 104,
      "outputs": [
        {
          "output_type": "stream",
          "name": "stdout",
          "text": [
            "Epoch 1/3\n",
            "\u001b[1m157/157\u001b[0m \u001b[32m━━━━━━━━━━━━━━━━━━━━\u001b[0m\u001b[37m\u001b[0m \u001b[1m37s\u001b[0m 233ms/step - accuracy: 0.8819 - loss: 0.4002 - val_accuracy: 0.9601 - val_loss: 0.1293\n",
            "Epoch 2/3\n",
            "\u001b[1m157/157\u001b[0m \u001b[32m━━━━━━━━━━━━━━━━━━━━\u001b[0m\u001b[37m\u001b[0m \u001b[1m35s\u001b[0m 222ms/step - accuracy: 0.9688 - loss: 0.1004 - val_accuracy: 0.9744 - val_loss: 0.0801\n",
            "Epoch 3/3\n",
            "\u001b[1m157/157\u001b[0m \u001b[32m━━━━━━━━━━━━━━━━━━━━\u001b[0m\u001b[37m\u001b[0m \u001b[1m35s\u001b[0m 223ms/step - accuracy: 0.9881 - loss: 0.0441 - val_accuracy: 0.9775 - val_loss: 0.0698\n"
          ]
        },
        {
          "output_type": "execute_result",
          "data": {
            "text/plain": [
              "<keras.src.callbacks.history.History at 0x7b7ea3c56610>"
            ]
          },
          "metadata": {},
          "execution_count": 104
        }
      ],
      "id": "tGsubNRyIbp9"
    },
    {
      "cell_type": "code",
      "source": [
        "print(model.history.history.keys())\n",
        "plt.plot(model.history.history['accuracy'])\n",
        "plt.plot(model.history.history['val_accuracy'])\n",
        "plt.title('model accuracy')\n",
        "plt.ylabel('accuracy')\n",
        "plt.xlabel('epoch')\n",
        "plt.legend(['train', 'val'], loc='upper left')\n",
        "plt.show()\n",
        "\n",
        "# оставляю от первой модели, не проверял здесь, но, наверняка, будет то же самое\n",
        "\n",
        "# не понимаю почему: ни с keras.metrics.RecallAtPrecision(0.8, name='rec@prec'),\n",
        "# ни с набором 'precision', 'recall', 'f1_score' иодель не обучается, выдаёт\n",
        "# разные ошибки размерностей (в зависимости от размерностей в слоях), напирмер:\n",
        "# RuntimeError: The size of tensor a (6912) must match the size of\n",
        "# tensor b (55296) at non-singleton dimension 1\n",
        "# поэтому здесь только accuracy, но репорт ниже показывает все три метрики"
      ],
      "metadata": {
        "colab": {
          "base_uri": "https://localhost:8080/",
          "height": 489
        },
        "id": "Xvasar2AIbp9",
        "outputId": "7023d614-bbe6-4ea2-f1ff-20ce2c369eab"
      },
      "execution_count": 105,
      "outputs": [
        {
          "output_type": "stream",
          "name": "stdout",
          "text": [
            "dict_keys(['accuracy', 'loss', 'val_accuracy', 'val_loss'])\n"
          ]
        },
        {
          "output_type": "display_data",
          "data": {
            "text/plain": [
              "<Figure size 640x480 with 1 Axes>"
            ],
            "image/png": "[encoded data removed]"
          },
          "metadata": {}
        }
      ],
      "id": "Xvasar2AIbp9"
    },
    {
      "cell_type": "markdown",
      "source": [
        "### Evaluation"
      ],
      "metadata": {
        "id": "BviMPGL6Ibp-"
      },
      "id": "BviMPGL6Ibp-"
    },
    {
      "cell_type": "code",
      "source": [
        "pred = model.predict(X_test)"
      ],
      "metadata": {
        "colab": {
          "base_uri": "https://localhost:8080/"
        },
        "outputId": "eb50f350-1822-41e6-de5a-d6e02033d620",
        "id": "-xZjjLdFIbp_"
      },
      "execution_count": 106,
      "outputs": [
        {
          "output_type": "stream",
          "name": "stdout",
          "text": [
            "\u001b[1m313/313\u001b[0m \u001b[32m━━━━━━━━━━━━━━━━━━━━\u001b[0m\u001b[37m\u001b[0m \u001b[1m34s\u001b[0m 107ms/step\n"
          ]
        }
      ],
      "id": "-xZjjLdFIbp_"
    },
    {
      "cell_type": "code",
      "source": [
        "pred.shape"
      ],
      "metadata": {
        "colab": {
          "base_uri": "https://localhost:8080/"
        },
        "outputId": "e3b54fd0-8b9f-4c7c-bc2d-353d0925aebd",
        "id": "rjv-FkzsIbp_"
      },
      "execution_count": 107,
      "outputs": [
        {
          "output_type": "execute_result",
          "data": {
            "text/plain": [
              "(10000, 54, 8)"
            ]
          },
          "metadata": {},
          "execution_count": 107
        }
      ],
      "id": "rjv-FkzsIbp_"
    },
    {
      "cell_type": "code",
      "source": [
        "pred.argmax(2).shape"
      ],
      "metadata": {
        "colab": {
          "base_uri": "https://localhost:8080/"
        },
        "outputId": "a74ef2ac-4c36-4073-e5cc-aed56b4fc001",
        "id": "l0tKVsHGIbqA"
      },
      "execution_count": 108,
      "outputs": [
        {
          "output_type": "execute_result",
          "data": {
            "text/plain": [
              "(10000, 54)"
            ]
          },
          "metadata": {},
          "execution_count": 108
        }
      ],
      "id": "l0tKVsHGIbqA"
    },
    {
      "cell_type": "code",
      "source": [
        "y_test.shape"
      ],
      "metadata": {
        "colab": {
          "base_uri": "https://localhost:8080/"
        },
        "outputId": "9b1983ca-4419-4103-97d3-0cb40ba17bfa",
        "id": "SleX7BtrIbqB"
      },
      "execution_count": 109,
      "outputs": [
        {
          "output_type": "execute_result",
          "data": {
            "text/plain": [
              "(10000, 54)"
            ]
          },
          "metadata": {},
          "execution_count": 109
        }
      ],
      "id": "SleX7BtrIbqB"
    },
    {
      "cell_type": "code",
      "source": [
        "print(classification_report(y_test.reshape(-1),\n",
        "                            pred.argmax(2).reshape(-1),\n",
        "                            labels=list(id2label.keys()),\n",
        "                            target_names=list(id2label.values()),\n",
        "                            zero_division=0))\n",
        "# видно, что в некоторых классах f1 совсем не безупречный\n",
        "# сопоставимо с первой моделью"
      ],
      "metadata": {
        "colab": {
          "base_uri": "https://localhost:8080/"
        },
        "outputId": "cad7f3d7-20b6-4413-c216-90169b11ffa1",
        "id": "zQ-iwqR1IbqB"
      },
      "execution_count": 110,
      "outputs": [
        {
          "output_type": "stream",
          "name": "stdout",
          "text": [
            "              precision    recall  f1-score   support\n",
            "\n",
            "       B-LOC       0.91      0.93      0.92     40480\n",
            "       B-ORG       0.68      0.42      0.52      3542\n",
            "       B-PER       0.89      0.90      0.89      7544\n",
            "       I-LOC       0.41      0.65      0.51      4074\n",
            "       I-ORG       0.75      0.78      0.77      8008\n",
            "       I-PER       0.79      0.52      0.62      4560\n",
            "           O       0.86      0.65      0.74      3060\n",
            "         PAD       1.00      1.00      1.00    468732\n",
            "\n",
            "    accuracy                           0.98    540000\n",
            "   macro avg       0.79      0.73      0.75    540000\n",
            "weighted avg       0.98      0.98      0.98    540000\n",
            "\n"
          ]
        }
      ],
      "id": "zQ-iwqR1IbqB"
    },
    {
      "cell_type": "markdown",
      "source": [
        "### Inference"
      ],
      "metadata": {
        "id": "MHjPUuOFL0kk"
      },
      "id": "MHjPUuOFL0kk"
    },
    {
      "cell_type": "code",
      "source": [
        "label_seq(ex1, word2id, id2label, MAX_LEN, model)\n",
        "# организацию выделил\n",
        "# основная проблема -- вместо \"ничего\" ставит метки \"локация\""
      ],
      "metadata": {
        "colab": {
          "base_uri": "https://localhost:8080/"
        },
        "outputId": "1d2a596a-1d2c-4490-d36b-061429b55bd7",
        "id": "xYs01SxUL0ko"
      },
      "execution_count": 117,
      "outputs": [
        {
          "output_type": "stream",
          "name": "stdout",
          "text": [
            "\u001b[1m1/1\u001b[0m \u001b[32m━━━━━━━━━━━━━━━━━━━━\u001b[0m\u001b[37m\u001b[0m \u001b[1m0s\u001b[0m 103ms/step\n"
          ]
        },
        {
          "output_type": "execute_result",
          "data": {
            "text/plain": [
              "[('Группа', 'B-LOC'),\n",
              " ('комапаний', 'I-LOC'),\n",
              " ('\"', 'I-ORG'),\n",
              " ('РЕНОВА', 'I-ORG'),\n",
              " ('\"', 'B-LOC'),\n",
              " ('заявила', 'B-LOC'),\n",
              " ('о', 'B-LOC'),\n",
              " ('готовности', 'B-LOC'),\n",
              " ('поддержать', 'B-LOC'),\n",
              " ('номинацию', 'B-LOC'),\n",
              " ('\"', 'B-LOC'),\n",
              " ('Лучший', 'B-LOC'),\n",
              " ('проект', 'B-LOC'),\n",
              " ('развития', 'B-LOC'),\n",
              " ('и', 'B-LOC'),\n",
              " ('продвижения', 'B-LOC'),\n",
              " ('территорий', 'B-LOC'),\n",
              " ('\".', 'B-LOC')]"
            ]
          },
          "metadata": {},
          "execution_count": 117
        }
      ],
      "id": "xYs01SxUL0ko"
    },
    {
      "cell_type": "code",
      "source": [
        "label_seq(ex2, word2id, id2label, MAX_LEN, model)\n",
        "# организацию и персону пропустил"
      ],
      "metadata": {
        "colab": {
          "base_uri": "https://localhost:8080/"
        },
        "outputId": "87b04e88-aeea-4049-8ef4-24ba2ca7696d",
        "id": "uDfyiDfHL0ko"
      },
      "execution_count": 118,
      "outputs": [
        {
          "output_type": "stream",
          "name": "stdout",
          "text": [
            "\u001b[1m1/1\u001b[0m \u001b[32m━━━━━━━━━━━━━━━━━━━━\u001b[0m\u001b[37m\u001b[0m \u001b[1m0s\u001b[0m 104ms/step\n"
          ]
        },
        {
          "output_type": "execute_result",
          "data": {
            "text/plain": [
              "[('В', 'B-LOC'),\n",
              " ('прошлом', 'B-LOC'),\n",
              " ('году', 'I-LOC'),\n",
              " ('группа', 'B-LOC'),\n",
              " ('комапаний', 'B-LOC'),\n",
              " ('«', 'B-LOC'),\n",
              " ('ЛитРес', 'B-LOC'),\n",
              " ('»', 'I-ORG'),\n",
              " ('провела', 'B-LOC'),\n",
              " ('опрос', 'B-LOC'),\n",
              " ('среди', 'B-LOC'),\n",
              " ('читателей', 'B-LOC'),\n",
              " (':', 'I-LOC'),\n",
              " ('насколько', 'I-ORG'),\n",
              " ('популярен', 'I-ORG'),\n",
              " ('в', 'B-LOC'),\n",
              " ('современном', 'B-LOC'),\n",
              " ('мире', 'B-LOC'),\n",
              " ('Ф', 'B-LOC'),\n",
              " ('.', 'B-LOC'),\n",
              " ('М', 'B-LOC'),\n",
              " ('.', 'B-LOC'),\n",
              " ('Достоевский', 'PAD'),\n",
              " ('.', 'B-LOC')]"
            ]
          },
          "metadata": {},
          "execution_count": 118
        }
      ],
      "id": "uDfyiDfHL0ko"
    },
    {
      "cell_type": "code",
      "source": [
        "label_seq(ex3, word2id, id2label, MAX_LEN, model)\n",
        "# организацию выделил, название страны -- явно не персона"
      ],
      "metadata": {
        "colab": {
          "base_uri": "https://localhost:8080/"
        },
        "outputId": "f5672f33-cf08-4b70-dbf4-1bc4afed6b78",
        "id": "M0onL7QeL0kp"
      },
      "execution_count": 119,
      "outputs": [
        {
          "output_type": "stream",
          "name": "stdout",
          "text": [
            "\u001b[1m1/1\u001b[0m \u001b[32m━━━━━━━━━━━━━━━━━━━━\u001b[0m\u001b[37m\u001b[0m \u001b[1m0s\u001b[0m 100ms/step\n"
          ]
        },
        {
          "output_type": "execute_result",
          "data": {
            "text/plain": [
              "[('Группа', 'B-LOC'),\n",
              " ('комапаний', 'I-LOC'),\n",
              " ('Broco', 'I-ORG'),\n",
              " ('начала', 'B-LOC'),\n",
              " ('свою', 'B-LOC'),\n",
              " ('деятельность', 'B-LOC'),\n",
              " ('с', 'B-LOC'),\n",
              " ('апреля', 'B-LOC'),\n",
              " ('2008', 'I-LOC'),\n",
              " ('года', 'I-ORG'),\n",
              " ('и', 'B-LOC'),\n",
              " ('за', 'B-LOC'),\n",
              " ('этот', 'B-LOC'),\n",
              " ('период', 'B-LOC'),\n",
              " ('уже', 'B-LOC'),\n",
              " ('открыты', 'B-LOC'),\n",
              " ('представительства', 'B-LOC'),\n",
              " ('во', 'B-LOC'),\n",
              " ('многих', 'B-LOC'),\n",
              " ('городах', 'B-LOC'),\n",
              " ('России', 'B-LOC'),\n",
              " ('.', 'B-LOC')]"
            ]
          },
          "metadata": {},
          "execution_count": 119
        }
      ],
      "id": "M0onL7QeL0kp"
    },
    {
      "cell_type": "code",
      "source": [
        "label_seq(ex4, word2id, id2label, MAX_LEN, model)\n",
        "# орагнизацию выделил, персону нет\n",
        "# в целом аналогично первой модели"
      ],
      "metadata": {
        "colab": {
          "base_uri": "https://localhost:8080/"
        },
        "outputId": "3f19bad2-6b01-4886-9155-0398972fc335",
        "id": "bPjwACo7L0kq"
      },
      "execution_count": 120,
      "outputs": [
        {
          "output_type": "stream",
          "name": "stdout",
          "text": [
            "\u001b[1m1/1\u001b[0m \u001b[32m━━━━━━━━━━━━━━━━━━━━\u001b[0m\u001b[37m\u001b[0m \u001b[1m0s\u001b[0m 103ms/step\n"
          ]
        },
        {
          "output_type": "execute_result",
          "data": {
            "text/plain": [
              "[('Группа', 'B-LOC'),\n",
              " ('комапаний', 'I-LOC'),\n",
              " ('\"', 'I-ORG'),\n",
              " ('РИК', 'I-ORG'),\n",
              " ('\"', 'PAD'),\n",
              " ('выражает', 'B-LOC'),\n",
              " ('свою', 'B-LOC'),\n",
              " ('признательность', 'B-LOC'),\n",
              " ('и', 'B-LOC'),\n",
              " ('безграничную', 'B-LOC'),\n",
              " ('благодарность', 'B-LOC'),\n",
              " ('Ивану', 'B-LOC'),\n",
              " ('Ивановичу', 'B-LOC'),\n",
              " ('за', 'B-LOC'),\n",
              " ('стойкость', 'B-LOC'),\n",
              " ('и', 'B-LOC'),\n",
              " ('веру', 'B-LOC'),\n",
              " ('в', 'B-LOC'),\n",
              " ('победу', 'B-LOC'),\n",
              " ('...', 'B-LOC')]"
            ]
          },
          "metadata": {},
          "execution_count": 120
        }
      ],
      "id": "bPjwACo7L0kq"
    },
    {
      "cell_type": "markdown",
      "source": [
        "## Model #3"
      ],
      "metadata": {
        "id": "yCAtSfiVNdsB"
      },
      "id": "yCAtSfiVNdsB"
    },
    {
      "cell_type": "markdown",
      "source": [
        "- как минимум 2 rnn и как минимум 2 cnn слоя"
      ],
      "metadata": {
        "id": "ASEU6kJrNdsC"
      },
      "id": "ASEU6kJrNdsC"
    },
    {
      "cell_type": "markdown",
      "source": [
        "### Compiling"
      ],
      "metadata": {
        "id": "BVIbv4tnNdsD"
      },
      "id": "BVIbv4tnNdsD"
    },
    {
      "cell_type": "code",
      "source": [
        "inputs = keras.layers.Input(shape=(MAX_LEN,))\n",
        "embeddings = keras.layers.Embedding(input_dim=len(word2id),\n",
        "                                    output_dim=fixed_len)(inputs, )\n",
        "\n",
        "rnn1 = keras.layers.SimpleRNN(32, return_sequences=True)(embeddings)\n",
        "rnn2 = keras.layers.SimpleRNN(64, return_sequences=True)(rnn1)\n",
        "\n",
        "conv1 = keras.layers.Conv1D(kernel_size=2, filters=64, strides=1,\n",
        "                            activation='relu', padding='same')(rnn2)\n",
        "conv2 = keras.layers.Conv1D(kernel_size=2, filters=32, strides=1,\n",
        "                            activation='relu', padding='same')(conv1)\n",
        "\n",
        "outputs = keras.layers.Dense(len(label2id), activation='softmax')(conv2)\n",
        "\n",
        "model = keras.Model(inputs=inputs, outputs=outputs)\n",
        "\n",
        "model.compile(optimizer='adam',\n",
        "              loss='sparse_categorical_crossentropy',\n",
        "              metrics=['accuracy'])"
      ],
      "metadata": {
        "id": "y3AXVSgSNdsD"
      },
      "execution_count": 131,
      "outputs": [],
      "id": "y3AXVSgSNdsD"
    },
    {
      "cell_type": "code",
      "source": [
        "model.summary()"
      ],
      "metadata": {
        "colab": {
          "base_uri": "https://localhost:8080/",
          "height": 368
        },
        "outputId": "5066d684-a8bf-48fb-cb21-db763b935367",
        "id": "KhrpWT68NdsE"
      },
      "execution_count": 132,
      "outputs": [
        {
          "output_type": "display_data",
          "data": {
            "text/plain": [
              "\u001b[1mModel: \"functional_21\"\u001b[0m\n"
            ],
            "text/html": [
              "<pre style=\"white-space:pre;overflow-x:auto;line-height:normal;font-family:Menlo,'DejaVu Sans Mono',consolas,'Courier New',monospace\"><span style=\"font-weight: bold\">Model: \"functional_21\"</span>\n",
              "</pre>\n"
            ]
          },
          "metadata": {}
        },
        {
          "output_type": "display_data",
          "data": {
            "text/plain": [
              "┏━━━━━━━━━━━━━━━━━━━━━━━━━━━━━━━━━━━━━━┳━━━━━━━━━━━━━━━━━━━━━━━━━━━━━┳━━━━━━━━━━━━━━━━━┓\n",
              "┃\u001b[1m \u001b[0m\u001b[1mLayer (type)                        \u001b[0m\u001b[1m \u001b[0m┃\u001b[1m \u001b[0m\u001b[1mOutput Shape               \u001b[0m\u001b[1m \u001b[0m┃\u001b[1m \u001b[0m\u001b[1m        Param #\u001b[0m\u001b[1m \u001b[0m┃\n",
              "┡━━━━━━━━━━━━━━━━━━━━━━━━━━━━━━━━━━━━━━╇━━━━━━━━━━━━━━━━━━━━━━━━━━━━━╇━━━━━━━━━━━━━━━━━┩\n",
              "│ input_layer_22 (\u001b[38;5;33mInputLayer\u001b[0m)          │ (\u001b[38;5;45mNone\u001b[0m, \u001b[38;5;34m54\u001b[0m)                  │               \u001b[38;5;34m0\u001b[0m │\n",
              "├──────────────────────────────────────┼─────────────────────────────┼─────────────────┤\n",
              "│ embedding_22 (\u001b[38;5;33mEmbedding\u001b[0m)             │ (\u001b[38;5;45mNone\u001b[0m, \u001b[38;5;34m54\u001b[0m, \u001b[38;5;34m64\u001b[0m)              │       \u001b[38;5;34m2,305,088\u001b[0m │\n",
              "├──────────────────────────────────────┼─────────────────────────────┼─────────────────┤\n",
              "│ simple_rnn_12 (\u001b[38;5;33mSimpleRNN\u001b[0m)            │ (\u001b[38;5;45mNone\u001b[0m, \u001b[38;5;34m54\u001b[0m, \u001b[38;5;34m32\u001b[0m)              │           \u001b[38;5;34m3,104\u001b[0m │\n",
              "├──────────────────────────────────────┼─────────────────────────────┼─────────────────┤\n",
              "│ simple_rnn_13 (\u001b[38;5;33mSimpleRNN\u001b[0m)            │ (\u001b[38;5;45mNone\u001b[0m, \u001b[38;5;34m54\u001b[0m, \u001b[38;5;34m64\u001b[0m)              │           \u001b[38;5;34m6,208\u001b[0m │\n",
              "├──────────────────────────────────────┼─────────────────────────────┼─────────────────┤\n",
              "│ conv1d_8 (\u001b[38;5;33mConv1D\u001b[0m)                    │ (\u001b[38;5;45mNone\u001b[0m, \u001b[38;5;34m54\u001b[0m, \u001b[38;5;34m64\u001b[0m)              │           \u001b[38;5;34m8,256\u001b[0m │\n",
              "├──────────────────────────────────────┼─────────────────────────────┼─────────────────┤\n",
              "│ conv1d_9 (\u001b[38;5;33mConv1D\u001b[0m)                    │ (\u001b[38;5;45mNone\u001b[0m, \u001b[38;5;34m54\u001b[0m, \u001b[38;5;34m32\u001b[0m)              │           \u001b[38;5;34m4,128\u001b[0m │\n",
              "├──────────────────────────────────────┼─────────────────────────────┼─────────────────┤\n",
              "│ dense_21 (\u001b[38;5;33mDense\u001b[0m)                     │ (\u001b[38;5;45mNone\u001b[0m, \u001b[38;5;34m54\u001b[0m, \u001b[38;5;34m8\u001b[0m)               │             \u001b[38;5;34m264\u001b[0m │\n",
              "└──────────────────────────────────────┴─────────────────────────────┴─────────────────┘\n"
            ],
            "text/html": [
              "<pre style=\"white-space:pre;overflow-x:auto;line-height:normal;font-family:Menlo,'DejaVu Sans Mono',consolas,'Courier New',monospace\">┏━━━━━━━━━━━━━━━━━━━━━━━━━━━━━━━━━━━━━━┳━━━━━━━━━━━━━━━━━━━━━━━━━━━━━┳━━━━━━━━━━━━━━━━━┓\n",
              "┃<span style=\"font-weight: bold\"> Layer (type)                         </span>┃<span style=\"font-weight: bold\"> Output Shape                </span>┃<span style=\"font-weight: bold\">         Param # </span>┃\n",
              "┡━━━━━━━━━━━━━━━━━━━━━━━━━━━━━━━━━━━━━━╇━━━━━━━━━━━━━━━━━━━━━━━━━━━━━╇━━━━━━━━━━━━━━━━━┩\n",
              "│ input_layer_22 (<span style=\"color: #0087ff; text-decoration-color: #0087ff\">InputLayer</span>)          │ (<span style=\"color: #00d7ff; text-decoration-color: #00d7ff\">None</span>, <span style=\"color: #00af00; text-decoration-color: #00af00\">54</span>)                  │               <span style=\"color: #00af00; text-decoration-color: #00af00\">0</span> │\n",
              "├──────────────────────────────────────┼─────────────────────────────┼─────────────────┤\n",
              "│ embedding_22 (<span style=\"color: #0087ff; text-decoration-color: #0087ff\">Embedding</span>)             │ (<span style=\"color: #00d7ff; text-decoration-color: #00d7ff\">None</span>, <span style=\"color: #00af00; text-decoration-color: #00af00\">54</span>, <span style=\"color: #00af00; text-decoration-color: #00af00\">64</span>)              │       <span style=\"color: #00af00; text-decoration-color: #00af00\">2,305,088</span> │\n",
              "├──────────────────────────────────────┼─────────────────────────────┼─────────────────┤\n",
              "│ simple_rnn_12 (<span style=\"color: #0087ff; text-decoration-color: #0087ff\">SimpleRNN</span>)            │ (<span style=\"color: #00d7ff; text-decoration-color: #00d7ff\">None</span>, <span style=\"color: #00af00; text-decoration-color: #00af00\">54</span>, <span style=\"color: #00af00; text-decoration-color: #00af00\">32</span>)              │           <span style=\"color: #00af00; text-decoration-color: #00af00\">3,104</span> │\n",
              "├──────────────────────────────────────┼─────────────────────────────┼─────────────────┤\n",
              "│ simple_rnn_13 (<span style=\"color: #0087ff; text-decoration-color: #0087ff\">SimpleRNN</span>)            │ (<span style=\"color: #00d7ff; text-decoration-color: #00d7ff\">None</span>, <span style=\"color: #00af00; text-decoration-color: #00af00\">54</span>, <span style=\"color: #00af00; text-decoration-color: #00af00\">64</span>)              │           <span style=\"color: #00af00; text-decoration-color: #00af00\">6,208</span> │\n",
              "├──────────────────────────────────────┼─────────────────────────────┼─────────────────┤\n",
              "│ conv1d_8 (<span style=\"color: #0087ff; text-decoration-color: #0087ff\">Conv1D</span>)                    │ (<span style=\"color: #00d7ff; text-decoration-color: #00d7ff\">None</span>, <span style=\"color: #00af00; text-decoration-color: #00af00\">54</span>, <span style=\"color: #00af00; text-decoration-color: #00af00\">64</span>)              │           <span style=\"color: #00af00; text-decoration-color: #00af00\">8,256</span> │\n",
              "├──────────────────────────────────────┼─────────────────────────────┼─────────────────┤\n",
              "│ conv1d_9 (<span style=\"color: #0087ff; text-decoration-color: #0087ff\">Conv1D</span>)                    │ (<span style=\"color: #00d7ff; text-decoration-color: #00d7ff\">None</span>, <span style=\"color: #00af00; text-decoration-color: #00af00\">54</span>, <span style=\"color: #00af00; text-decoration-color: #00af00\">32</span>)              │           <span style=\"color: #00af00; text-decoration-color: #00af00\">4,128</span> │\n",
              "├──────────────────────────────────────┼─────────────────────────────┼─────────────────┤\n",
              "│ dense_21 (<span style=\"color: #0087ff; text-decoration-color: #0087ff\">Dense</span>)                     │ (<span style=\"color: #00d7ff; text-decoration-color: #00d7ff\">None</span>, <span style=\"color: #00af00; text-decoration-color: #00af00\">54</span>, <span style=\"color: #00af00; text-decoration-color: #00af00\">8</span>)               │             <span style=\"color: #00af00; text-decoration-color: #00af00\">264</span> │\n",
              "└──────────────────────────────────────┴─────────────────────────────┴─────────────────┘\n",
              "</pre>\n"
            ]
          },
          "metadata": {}
        },
        {
          "output_type": "display_data",
          "data": {
            "text/plain": [
              "\u001b[1m Total params: \u001b[0m\u001b[38;5;34m2,327,048\u001b[0m (8.88 MB)\n"
            ],
            "text/html": [
              "<pre style=\"white-space:pre;overflow-x:auto;line-height:normal;font-family:Menlo,'DejaVu Sans Mono',consolas,'Courier New',monospace\"><span style=\"font-weight: bold\"> Total params: </span><span style=\"color: #00af00; text-decoration-color: #00af00\">2,327,048</span> (8.88 MB)\n",
              "</pre>\n"
            ]
          },
          "metadata": {}
        },
        {
          "output_type": "display_data",
          "data": {
            "text/plain": [
              "\u001b[1m Trainable params: \u001b[0m\u001b[38;5;34m2,327,048\u001b[0m (8.88 MB)\n"
            ],
            "text/html": [
              "<pre style=\"white-space:pre;overflow-x:auto;line-height:normal;font-family:Menlo,'DejaVu Sans Mono',consolas,'Courier New',monospace\"><span style=\"font-weight: bold\"> Trainable params: </span><span style=\"color: #00af00; text-decoration-color: #00af00\">2,327,048</span> (8.88 MB)\n",
              "</pre>\n"
            ]
          },
          "metadata": {}
        },
        {
          "output_type": "display_data",
          "data": {
            "text/plain": [
              "\u001b[1m Non-trainable params: \u001b[0m\u001b[38;5;34m0\u001b[0m (0.00 B)\n"
            ],
            "text/html": [
              "<pre style=\"white-space:pre;overflow-x:auto;line-height:normal;font-family:Menlo,'DejaVu Sans Mono',consolas,'Courier New',monospace\"><span style=\"font-weight: bold\"> Non-trainable params: </span><span style=\"color: #00af00; text-decoration-color: #00af00\">0</span> (0.00 B)\n",
              "</pre>\n"
            ]
          },
          "metadata": {}
        }
      ],
      "id": "KhrpWT68NdsE"
    },
    {
      "cell_type": "markdown",
      "source": [
        "### Fitting"
      ],
      "metadata": {
        "id": "MUDpfcM9NdsF"
      },
      "id": "MUDpfcM9NdsF"
    },
    {
      "cell_type": "code",
      "source": [
        "model.fit(X, y,\n",
        "          validation_data=(X_test, y_test),\n",
        "          batch_size=128,\n",
        "          epochs=3)\n",
        "# я поставил три эпохи, потосу что видно, что уже на третьей accuracy огромное,\n",
        "# дальше вероятен только оверфит и лишнее вычисление\n",
        "\n",
        "# хотя на графике видно, что accuracy на валидационном не идеальное"
      ],
      "metadata": {
        "colab": {
          "base_uri": "https://localhost:8080/"
        },
        "outputId": "1f4b5ee8-66a4-4900-d4c9-a4ddde59d834",
        "id": "brZ_JbrlNdsG"
      },
      "execution_count": 133,
      "outputs": [
        {
          "output_type": "stream",
          "name": "stdout",
          "text": [
            "Epoch 1/3\n",
            "\u001b[1m157/157\u001b[0m \u001b[32m━━━━━━━━━━━━━━━━━━━━\u001b[0m\u001b[37m\u001b[0m \u001b[1m20s\u001b[0m 121ms/step - accuracy: 0.8248 - loss: 0.5680 - val_accuracy: 0.9550 - val_loss: 0.1339\n",
            "Epoch 2/3\n",
            "\u001b[1m157/157\u001b[0m \u001b[32m━━━━━━━━━━━━━━━━━━━━\u001b[0m\u001b[37m\u001b[0m \u001b[1m18s\u001b[0m 117ms/step - accuracy: 0.9645 - loss: 0.1027 - val_accuracy: 0.9782 - val_loss: 0.0662\n",
            "Epoch 3/3\n",
            "\u001b[1m157/157\u001b[0m \u001b[32m━━━━━━━━━━━━━━━━━━━━\u001b[0m\u001b[37m\u001b[0m \u001b[1m19s\u001b[0m 121ms/step - accuracy: 0.9891 - loss: 0.0332 - val_accuracy: 0.9823 - val_loss: 0.0605\n"
          ]
        },
        {
          "output_type": "execute_result",
          "data": {
            "text/plain": [
              "<keras.src.callbacks.history.History at 0x7b7ea3dc01d0>"
            ]
          },
          "metadata": {},
          "execution_count": 133
        }
      ],
      "id": "brZ_JbrlNdsG"
    },
    {
      "cell_type": "code",
      "source": [
        "print(model.history.history.keys())\n",
        "plt.plot(model.history.history['accuracy'])\n",
        "plt.plot(model.history.history['val_accuracy'])\n",
        "plt.title('model accuracy')\n",
        "plt.ylabel('accuracy')\n",
        "plt.xlabel('epoch')\n",
        "plt.legend(['train', 'val'], loc='upper left')\n",
        "plt.show()\n",
        "\n",
        "# оставляю от первой модели, не проверял здесь, но, наверняка, будет то же самое\n",
        "\n",
        "# не понимаю почему: ни с keras.metrics.RecallAtPrecision(0.8, name='rec@prec'),\n",
        "# ни с набором 'precision', 'recall', 'f1_score' иодель не обучается, выдаёт\n",
        "# разные ошибки размерностей (в зависимости от размерностей в слоях), напирмер:\n",
        "# RuntimeError: The size of tensor a (6912) must match the size of\n",
        "# tensor b (55296) at non-singleton dimension 1\n",
        "# поэтому здесь только accuracy, но репорт ниже показывает все три метрики"
      ],
      "metadata": {
        "colab": {
          "base_uri": "https://localhost:8080/",
          "height": 489
        },
        "outputId": "a72dbf68-742d-410e-b7f9-c55a7b5adff6",
        "id": "ptYX-b0tNdsH"
      },
      "execution_count": 134,
      "outputs": [
        {
          "output_type": "stream",
          "name": "stdout",
          "text": [
            "dict_keys(['accuracy', 'loss', 'val_accuracy', 'val_loss'])\n"
          ]
        },
        {
          "output_type": "display_data",
          "data": {
            "text/plain": [
              "<Figure size 640x480 with 1 Axes>"
            ],
            "image/png": "[encoded data removed]"
          },
          "metadata": {}
        }
      ],
      "id": "ptYX-b0tNdsH"
    },
    {
      "cell_type": "markdown",
      "source": [
        "### Evaluation"
      ],
      "metadata": {
        "id": "z9SXKn0gNdsH"
      },
      "id": "z9SXKn0gNdsH"
    },
    {
      "cell_type": "code",
      "source": [
        "pred = model.predict(X_test)"
      ],
      "metadata": {
        "colab": {
          "base_uri": "https://localhost:8080/"
        },
        "outputId": "239f5aaa-4000-4fd4-9711-53c308ae33d4",
        "id": "ZGB3ix4dNdsI"
      },
      "execution_count": 135,
      "outputs": [
        {
          "output_type": "stream",
          "name": "stdout",
          "text": [
            "\u001b[1m313/313\u001b[0m \u001b[32m━━━━━━━━━━━━━━━━━━━━\u001b[0m\u001b[37m\u001b[0m \u001b[1m18s\u001b[0m 59ms/step\n"
          ]
        }
      ],
      "id": "ZGB3ix4dNdsI"
    },
    {
      "cell_type": "code",
      "source": [
        "pred.shape"
      ],
      "metadata": {
        "colab": {
          "base_uri": "https://localhost:8080/"
        },
        "outputId": "ad827ce5-45e4-40ee-bc97-1747a307ada9",
        "id": "qYe4MmdbNdsJ"
      },
      "execution_count": 136,
      "outputs": [
        {
          "output_type": "execute_result",
          "data": {
            "text/plain": [
              "(10000, 54, 8)"
            ]
          },
          "metadata": {},
          "execution_count": 136
        }
      ],
      "id": "qYe4MmdbNdsJ"
    },
    {
      "cell_type": "code",
      "source": [
        "pred.argmax(2).shape"
      ],
      "metadata": {
        "colab": {
          "base_uri": "https://localhost:8080/"
        },
        "outputId": "168fb0f4-6ddc-4d4c-fd73-54da99c20469",
        "id": "nYXVXb-BNdsJ"
      },
      "execution_count": 137,
      "outputs": [
        {
          "output_type": "execute_result",
          "data": {
            "text/plain": [
              "(10000, 54)"
            ]
          },
          "metadata": {},
          "execution_count": 137
        }
      ],
      "id": "nYXVXb-BNdsJ"
    },
    {
      "cell_type": "code",
      "source": [
        "y_test.shape"
      ],
      "metadata": {
        "colab": {
          "base_uri": "https://localhost:8080/"
        },
        "outputId": "c479db34-a0f9-44c0-f8f5-5a5584b1854f",
        "id": "21t9G8ZCNdsK"
      },
      "execution_count": 138,
      "outputs": [
        {
          "output_type": "execute_result",
          "data": {
            "text/plain": [
              "(10000, 54)"
            ]
          },
          "metadata": {},
          "execution_count": 138
        }
      ],
      "id": "21t9G8ZCNdsK"
    },
    {
      "cell_type": "code",
      "source": [
        "print(classification_report(y_test.reshape(-1),\n",
        "                            pred.argmax(2).reshape(-1),\n",
        "                            labels=list(id2label.keys()),\n",
        "                            target_names=list(id2label.values()),\n",
        "                            zero_division=0))\n",
        "# видно, что в некоторых классах f1 совсем не безупречный\n",
        "# сопоставимо с первыми двумя моделями, но avg повыше"
      ],
      "metadata": {
        "colab": {
          "base_uri": "https://localhost:8080/"
        },
        "outputId": "ba714859-2863-4cf8-8ab7-9457216535b5",
        "id": "HpsLXw7pNdsL"
      },
      "execution_count": 139,
      "outputs": [
        {
          "output_type": "stream",
          "name": "stdout",
          "text": [
            "              precision    recall  f1-score   support\n",
            "\n",
            "       B-LOC       0.92      0.95      0.93     40480\n",
            "       B-ORG       0.82      0.83      0.82      3542\n",
            "       B-PER       0.88      0.91      0.89      7544\n",
            "       I-LOC       0.72      0.55      0.62      4074\n",
            "       I-ORG       0.82      0.71      0.76      8008\n",
            "       I-PER       0.67      0.74      0.70      4560\n",
            "           O       0.75      0.72      0.73      3060\n",
            "         PAD       1.00      1.00      1.00    468732\n",
            "\n",
            "    accuracy                           0.98    540000\n",
            "   macro avg       0.82      0.80      0.81    540000\n",
            "weighted avg       0.98      0.98      0.98    540000\n",
            "\n"
          ]
        }
      ],
      "id": "HpsLXw7pNdsL"
    },
    {
      "cell_type": "markdown",
      "source": [
        "### Inference"
      ],
      "metadata": {
        "id": "G_PWMfRdNdsM"
      },
      "id": "G_PWMfRdNdsM"
    },
    {
      "cell_type": "code",
      "source": [
        "label_seq(ex1, word2id, id2label, MAX_LEN, model)\n",
        "# организацию выделил\n",
        "# основная проблема -- вместо \"ничего\" ставит метки \"локация\""
      ],
      "metadata": {
        "colab": {
          "base_uri": "https://localhost:8080/"
        },
        "outputId": "ddfd8179-c0fe-42b5-a43f-d519235c0fbe",
        "id": "I55UDZZsNdsM"
      },
      "execution_count": 140,
      "outputs": [
        {
          "output_type": "stream",
          "name": "stdout",
          "text": [
            "\u001b[1m1/1\u001b[0m \u001b[32m━━━━━━━━━━━━━━━━━━━━\u001b[0m\u001b[37m\u001b[0m \u001b[1m0s\u001b[0m 87ms/step\n"
          ]
        },
        {
          "output_type": "execute_result",
          "data": {
            "text/plain": [
              "[('Группа', 'B-LOC'),\n",
              " ('комапаний', 'I-ORG'),\n",
              " ('\"', 'I-ORG'),\n",
              " ('РЕНОВА', 'I-ORG'),\n",
              " ('\"', 'I-ORG'),\n",
              " ('заявила', 'B-LOC'),\n",
              " ('о', 'B-LOC'),\n",
              " ('готовности', 'B-LOC'),\n",
              " ('поддержать', 'B-LOC'),\n",
              " ('номинацию', 'B-LOC'),\n",
              " ('\"', 'B-LOC'),\n",
              " ('Лучший', 'B-LOC'),\n",
              " ('проект', 'B-LOC'),\n",
              " ('развития', 'B-LOC'),\n",
              " ('и', 'B-LOC'),\n",
              " ('продвижения', 'B-LOC'),\n",
              " ('территорий', 'B-LOC'),\n",
              " ('\".', 'B-LOC')]"
            ]
          },
          "metadata": {},
          "execution_count": 140
        }
      ],
      "id": "I55UDZZsNdsM"
    },
    {
      "cell_type": "code",
      "source": [
        "label_seq(ex2, word2id, id2label, MAX_LEN, model)\n",
        "# организацию и персону пропустил"
      ],
      "metadata": {
        "colab": {
          "base_uri": "https://localhost:8080/"
        },
        "outputId": "12b1e532-186a-40f7-cabd-75e7e9ffbd32",
        "id": "SjGpZbF0NdsN"
      },
      "execution_count": 141,
      "outputs": [
        {
          "output_type": "stream",
          "name": "stdout",
          "text": [
            "\u001b[1m1/1\u001b[0m \u001b[32m━━━━━━━━━━━━━━━━━━━━\u001b[0m\u001b[37m\u001b[0m \u001b[1m0s\u001b[0m 55ms/step\n"
          ]
        },
        {
          "output_type": "execute_result",
          "data": {
            "text/plain": [
              "[('В', 'B-LOC'),\n",
              " ('прошлом', 'I-LOC'),\n",
              " ('году', 'I-ORG'),\n",
              " ('группа', 'B-LOC'),\n",
              " ('комапаний', 'B-LOC'),\n",
              " ('«', 'B-LOC'),\n",
              " ('ЛитРес', 'I-LOC'),\n",
              " ('»', 'B-LOC'),\n",
              " ('провела', 'B-LOC'),\n",
              " ('опрос', 'B-LOC'),\n",
              " ('среди', 'B-LOC'),\n",
              " ('читателей', 'B-LOC'),\n",
              " (':', 'I-LOC'),\n",
              " ('насколько', 'I-ORG'),\n",
              " ('популярен', 'B-LOC'),\n",
              " ('в', 'B-LOC'),\n",
              " ('современном', 'B-LOC'),\n",
              " ('мире', 'B-LOC'),\n",
              " ('Ф', 'B-LOC'),\n",
              " ('.', 'B-LOC'),\n",
              " ('М', 'B-LOC'),\n",
              " ('.', 'B-LOC'),\n",
              " ('Достоевский', 'B-LOC'),\n",
              " ('.', 'B-LOC')]"
            ]
          },
          "metadata": {},
          "execution_count": 141
        }
      ],
      "id": "SjGpZbF0NdsN"
    },
    {
      "cell_type": "code",
      "source": [
        "label_seq(ex3, word2id, id2label, MAX_LEN, model)\n",
        "# организацию выделил, название страны -- явно не персона"
      ],
      "metadata": {
        "colab": {
          "base_uri": "https://localhost:8080/"
        },
        "outputId": "a3eb59a0-3611-482c-bbe2-f0822789deba",
        "id": "EEpCh3RoNdsO"
      },
      "execution_count": 142,
      "outputs": [
        {
          "output_type": "stream",
          "name": "stdout",
          "text": [
            "\u001b[1m1/1\u001b[0m \u001b[32m━━━━━━━━━━━━━━━━━━━━\u001b[0m\u001b[37m\u001b[0m \u001b[1m0s\u001b[0m 54ms/step\n"
          ]
        },
        {
          "output_type": "execute_result",
          "data": {
            "text/plain": [
              "[('Группа', 'B-LOC'),\n",
              " ('комапаний', 'I-LOC'),\n",
              " ('Broco', 'I-ORG'),\n",
              " ('начала', 'B-LOC'),\n",
              " ('свою', 'B-LOC'),\n",
              " ('деятельность', 'B-LOC'),\n",
              " ('с', 'B-LOC'),\n",
              " ('апреля', 'I-LOC'),\n",
              " ('2008', 'I-ORG'),\n",
              " ('года', 'I-ORG'),\n",
              " ('и', 'B-LOC'),\n",
              " ('за', 'B-LOC'),\n",
              " ('этот', 'B-LOC'),\n",
              " ('период', 'B-LOC'),\n",
              " ('уже', 'B-LOC'),\n",
              " ('открыты', 'B-LOC'),\n",
              " ('представительства', 'B-LOC'),\n",
              " ('во', 'B-LOC'),\n",
              " ('многих', 'B-LOC'),\n",
              " ('городах', 'B-LOC'),\n",
              " ('России', 'I-PER'),\n",
              " ('.', 'B-LOC')]"
            ]
          },
          "metadata": {},
          "execution_count": 142
        }
      ],
      "id": "EEpCh3RoNdsO"
    },
    {
      "cell_type": "code",
      "source": [
        "label_seq(ex4, word2id, id2label, MAX_LEN, model)\n",
        "# орагнизацию не выделил, персону тоже\n",
        "# в целом аналогично первыс двуя моделям"
      ],
      "metadata": {
        "colab": {
          "base_uri": "https://localhost:8080/"
        },
        "outputId": "1006fc94-e490-40c9-a268-2f3afa38d0c1",
        "id": "B24F9wCNNdsP"
      },
      "execution_count": 143,
      "outputs": [
        {
          "output_type": "stream",
          "name": "stdout",
          "text": [
            "\u001b[1m1/1\u001b[0m \u001b[32m━━━━━━━━━━━━━━━━━━━━\u001b[0m\u001b[37m\u001b[0m \u001b[1m0s\u001b[0m 59ms/step\n"
          ]
        },
        {
          "output_type": "execute_result",
          "data": {
            "text/plain": [
              "[('Группа', 'B-LOC'),\n",
              " ('комапаний', 'I-ORG'),\n",
              " ('\"', 'I-ORG'),\n",
              " ('РИК', 'O'),\n",
              " ('\"', 'B-PER'),\n",
              " ('выражает', 'B-LOC'),\n",
              " ('свою', 'B-LOC'),\n",
              " ('признательность', 'B-LOC'),\n",
              " ('и', 'B-LOC'),\n",
              " ('безграничную', 'B-LOC'),\n",
              " ('благодарность', 'B-LOC'),\n",
              " ('Ивану', 'B-LOC'),\n",
              " ('Ивановичу', 'B-LOC'),\n",
              " ('за', 'B-LOC'),\n",
              " ('стойкость', 'B-LOC'),\n",
              " ('и', 'B-LOC'),\n",
              " ('веру', 'B-LOC'),\n",
              " ('в', 'B-LOC'),\n",
              " ('победу', 'B-LOC'),\n",
              " ('...', 'B-LOC')]"
            ]
          },
          "metadata": {},
          "execution_count": 143
        }
      ],
      "id": "B24F9wCNNdsP"
    },
    {
      "cell_type": "markdown",
      "source": [
        "По среднему качеству третья модель лучше всего. Есть некоторые отличия по конкретным случаям. Существенно, что на инференсе большинство токенов помечается как локация, что ненормально"
      ],
      "metadata": {
        "id": "X6YUQaxYQVh2"
      },
      "id": "X6YUQaxYQVh2"
    }
  ],
  "metadata": {
    "kernelspec": {
      "display_name": "Python 3",
      "name": "python3"
    },
    "language_info": {
      "codemirror_mode": {
        "name": "ipython",
        "version": 3
      },
      "file_extension": ".py",
      "mimetype": "text/x-python",
      "name": "python",
      "nbconvert_exporter": "python",
      "pygments_lexer": "ipython3",
      "version": "3.9.14"
    },
    "colab": {
      "provenance": [],
      "gpuType": "T4"
    },
    "accelerator": "GPU",
    "widgets": {
      "application/vnd.jupyter.widget-state+json": {
        "8c02cd6213214b58897ec079149fd112": {
          "model_module": "@jupyter-widgets/controls",
          "model_name": "HBoxModel",
          "model_module_version": "1.5.0",
          "state": {
            "_dom_classes": [],
            "_model_module": "@jupyter-widgets/controls",
            "_model_module_version": "1.5.0",
            "_model_name": "HBoxModel",
            "_view_count": null,
            "_view_module": "@jupyter-widgets/controls",
            "_view_module_version": "1.5.0",
            "_view_name": "HBoxView",
            "box_style": "",
            "children": [
              "IPY_MODEL_1c3731a3d66848e9af6679dcbea728b1",
              "IPY_MODEL_ae9b4656f61e4cf3a55fea8efd216f59",
              "IPY_MODEL_857b2b003ffe4c12acbdd28500b6041b"
            ],
            "layout": "IPY_MODEL_5e1f27fcc7c74f80a999695790c80a48"
          }
        },
        "1c3731a3d66848e9af6679dcbea728b1": {
          "model_module": "@jupyter-widgets/controls",
          "model_name": "HTMLModel",
          "model_module_version": "1.5.0",
          "state": {
            "_dom_classes": [],
            "_model_module": "@jupyter-widgets/controls",
            "_model_module_version": "1.5.0",
            "_model_name": "HTMLModel",
            "_view_count": null,
            "_view_module": "@jupyter-widgets/controls",
            "_view_module_version": "1.5.0",
            "_view_name": "HTMLView",
            "description": "",
            "description_tooltip": null,
            "layout": "IPY_MODEL_380a3e962a8e496bb34dabd04a512f87",
            "placeholder": "​",
            "style": "IPY_MODEL_ca026ee69b8243cf90afbbe2a73009dc",
            "value": "README.md: 100%"
          }
        },
        "ae9b4656f61e4cf3a55fea8efd216f59": {
          "model_module": "@jupyter-widgets/controls",
          "model_name": "FloatProgressModel",
          "model_module_version": "1.5.0",
          "state": {
            "_dom_classes": [],
            "_model_module": "@jupyter-widgets/controls",
            "_model_module_version": "1.5.0",
            "_model_name": "FloatProgressModel",
            "_view_count": null,
            "_view_module": "@jupyter-widgets/controls",
            "_view_module_version": "1.5.0",
            "_view_name": "ProgressView",
            "bar_style": "success",
            "description": "",
            "description_tooltip": null,
            "layout": "IPY_MODEL_ff21fec5550d4652ac9ee7b510d907d0",
            "max": 157610,
            "min": 0,
            "orientation": "horizontal",
            "style": "IPY_MODEL_05b35df0bf174d5cb31d75f764b53725",
            "value": 157610
          }
        },
        "857b2b003ffe4c12acbdd28500b6041b": {
          "model_module": "@jupyter-widgets/controls",
          "model_name": "HTMLModel",
          "model_module_version": "1.5.0",
          "state": {
            "_dom_classes": [],
            "_model_module": "@jupyter-widgets/controls",
            "_model_module_version": "1.5.0",
            "_model_name": "HTMLModel",
            "_view_count": null,
            "_view_module": "@jupyter-widgets/controls",
            "_view_module_version": "1.5.0",
            "_view_name": "HTMLView",
            "description": "",
            "description_tooltip": null,
            "layout": "IPY_MODEL_743c97b64f5a4ed3be3da5a90a426764",
            "placeholder": "​",
            "style": "IPY_MODEL_99acfc83e4414eb8ad508a0d7ec5a3dc",
            "value": " 158k/158k [00:00&lt;00:00, 741kB/s]"
          }
        },
        "5e1f27fcc7c74f80a999695790c80a48": {
          "model_module": "@jupyter-widgets/base",
          "model_name": "LayoutModel",
          "model_module_version": "1.2.0",
          "state": {
            "_model_module": "@jupyter-widgets/base",
            "_model_module_version": "1.2.0",
            "_model_name": "LayoutModel",
            "_view_count": null,
            "_view_module": "@jupyter-widgets/base",
            "_view_module_version": "1.2.0",
            "_view_name": "LayoutView",
            "align_content": null,
            "align_items": null,
            "align_self": null,
            "border": null,
            "bottom": null,
            "display": null,
            "flex": null,
            "flex_flow": null,
            "grid_area": null,
            "grid_auto_columns": null,
            "grid_auto_flow": null,
            "grid_auto_rows": null,
            "grid_column": null,
            "grid_gap": null,
            "grid_row": null,
            "grid_template_areas": null,
            "grid_template_columns": null,
            "grid_template_rows": null,
            "height": null,
            "justify_content": null,
            "justify_items": null,
            "left": null,
            "margin": null,
            "max_height": null,
            "max_width": null,
            "min_height": null,
            "min_width": null,
            "object_fit": null,
            "object_position": null,
            "order": null,
            "overflow": null,
            "overflow_x": null,
            "overflow_y": null,
            "padding": null,
            "right": null,
            "top": null,
            "visibility": null,
            "width": null
          }
        },
        "380a3e962a8e496bb34dabd04a512f87": {
          "model_module": "@jupyter-widgets/base",
          "model_name": "LayoutModel",
          "model_module_version": "1.2.0",
          "state": {
            "_model_module": "@jupyter-widgets/base",
            "_model_module_version": "1.2.0",
            "_model_name": "LayoutModel",
            "_view_count": null,
            "_view_module": "@jupyter-widgets/base",
            "_view_module_version": "1.2.0",
            "_view_name": "LayoutView",
            "align_content": null,
            "align_items": null,
            "align_self": null,
            "border": null,
            "bottom": null,
            "display": null,
            "flex": null,
            "flex_flow": null,
            "grid_area": null,
            "grid_auto_columns": null,
            "grid_auto_flow": null,
            "grid_auto_rows": null,
            "grid_column": null,
            "grid_gap": null,
            "grid_row": null,
            "grid_template_areas": null,
            "grid_template_columns": null,
            "grid_template_rows": null,
            "height": null,
            "justify_content": null,
            "justify_items": null,
            "left": null,
            "margin": null,
            "max_height": null,
            "max_width": null,
            "min_height": null,
            "min_width": null,
            "object_fit": null,
            "object_position": null,
            "order": null,
            "overflow": null,
            "overflow_x": null,
            "overflow_y": null,
            "padding": null,
            "right": null,
            "top": null,
            "visibility": null,
            "width": null
          }
        },
        "ca026ee69b8243cf90afbbe2a73009dc": {
          "model_module": "@jupyter-widgets/controls",
          "model_name": "DescriptionStyleModel",
          "model_module_version": "1.5.0",
          "state": {
            "_model_module": "@jupyter-widgets/controls",
            "_model_module_version": "1.5.0",
            "_model_name": "DescriptionStyleModel",
            "_view_count": null,
            "_view_module": "@jupyter-widgets/base",
            "_view_module_version": "1.2.0",
            "_view_name": "StyleView",
            "description_width": ""
          }
        },
        "ff21fec5550d4652ac9ee7b510d907d0": {
          "model_module": "@jupyter-widgets/base",
          "model_name": "LayoutModel",
          "model_module_version": "1.2.0",
          "state": {
            "_model_module": "@jupyter-widgets/base",
            "_model_module_version": "1.2.0",
            "_model_name": "LayoutModel",
            "_view_count": null,
            "_view_module": "@jupyter-widgets/base",
            "_view_module_version": "1.2.0",
            "_view_name": "LayoutView",
            "align_content": null,
            "align_items": null,
            "align_self": null,
            "border": null,
            "bottom": null,
            "display": null,
            "flex": null,
            "flex_flow": null,
            "grid_area": null,
            "grid_auto_columns": null,
            "grid_auto_flow": null,
            "grid_auto_rows": null,
            "grid_column": null,
            "grid_gap": null,
            "grid_row": null,
            "grid_template_areas": null,
            "grid_template_columns": null,
            "grid_template_rows": null,
            "height": null,
            "justify_content": null,
            "justify_items": null,
            "left": null,
            "margin": null,
            "max_height": null,
            "max_width": null,
            "min_height": null,
            "min_width": null,
            "object_fit": null,
            "object_position": null,
            "order": null,
            "overflow": null,
            "overflow_x": null,
            "overflow_y": null,
            "padding": null,
            "right": null,
            "top": null,
            "visibility": null,
            "width": null
          }
        },
        "05b35df0bf174d5cb31d75f764b53725": {
          "model_module": "@jupyter-widgets/controls",
          "model_name": "ProgressStyleModel",
          "model_module_version": "1.5.0",
          "state": {
            "_model_module": "@jupyter-widgets/controls",
            "_model_module_version": "1.5.0",
            "_model_name": "ProgressStyleModel",
            "_view_count": null,
            "_view_module": "@jupyter-widgets/base",
            "_view_module_version": "1.2.0",
            "_view_name": "StyleView",
            "bar_color": null,
            "description_width": ""
          }
        },
        "743c97b64f5a4ed3be3da5a90a426764": {
          "model_module": "@jupyter-widgets/base",
          "model_name": "LayoutModel",
          "model_module_version": "1.2.0",
          "state": {
            "_model_module": "@jupyter-widgets/base",
            "_model_module_version": "1.2.0",
            "_model_name": "LayoutModel",
            "_view_count": null,
            "_view_module": "@jupyter-widgets/base",
            "_view_module_version": "1.2.0",
            "_view_name": "LayoutView",
            "align_content": null,
            "align_items": null,
            "align_self": null,
            "border": null,
            "bottom": null,
            "display": null,
            "flex": null,
            "flex_flow": null,
            "grid_area": null,
            "grid_auto_columns": null,
            "grid_auto_flow": null,
            "grid_auto_rows": null,
            "grid_column": null,
            "grid_gap": null,
            "grid_row": null,
            "grid_template_areas": null,
            "grid_template_columns": null,
            "grid_template_rows": null,
            "height": null,
            "justify_content": null,
            "justify_items": null,
            "left": null,
            "margin": null,
            "max_height": null,
            "max_width": null,
            "min_height": null,
            "min_width": null,
            "object_fit": null,
            "object_position": null,
            "order": null,
            "overflow": null,
            "overflow_x": null,
            "overflow_y": null,
            "padding": null,
            "right": null,
            "top": null,
            "visibility": null,
            "width": null
          }
        },
        "99acfc83e4414eb8ad508a0d7ec5a3dc": {
          "model_module": "@jupyter-widgets/controls",
          "model_name": "DescriptionStyleModel",
          "model_module_version": "1.5.0",
          "state": {
            "_model_module": "@jupyter-widgets/controls",
            "_model_module_version": "1.5.0",
            "_model_name": "DescriptionStyleModel",
            "_view_count": null,
            "_view_module": "@jupyter-widgets/base",
            "_view_module_version": "1.2.0",
            "_view_name": "StyleView",
            "description_width": ""
          }
        },
        "44011d6d5da14e8893e3e7d112d59bfe": {
          "model_module": "@jupyter-widgets/controls",
          "model_name": "HBoxModel",
          "model_module_version": "1.5.0",
          "state": {
            "_dom_classes": [],
            "_model_module": "@jupyter-widgets/controls",
            "_model_module_version": "1.5.0",
            "_model_name": "HBoxModel",
            "_view_count": null,
            "_view_module": "@jupyter-widgets/controls",
            "_view_module_version": "1.5.0",
            "_view_name": "HBoxView",
            "box_style": "",
            "children": [
              "IPY_MODEL_a94f8be1c3634dff8dcafe7be7e4e027",
              "IPY_MODEL_2a289518c2fb4c73b5501d83e533ccd4",
              "IPY_MODEL_eccf9373bd8141a3ad62c82c5463f500"
            ],
            "layout": "IPY_MODEL_1ebc75accae949e092b9cd391c16e5df"
          }
        },
        "a94f8be1c3634dff8dcafe7be7e4e027": {
          "model_module": "@jupyter-widgets/controls",
          "model_name": "HTMLModel",
          "model_module_version": "1.5.0",
          "state": {
            "_dom_classes": [],
            "_model_module": "@jupyter-widgets/controls",
            "_model_module_version": "1.5.0",
            "_model_name": "HTMLModel",
            "_view_count": null,
            "_view_module": "@jupyter-widgets/controls",
            "_view_module_version": "1.5.0",
            "_view_name": "HTMLView",
            "description": "",
            "description_tooltip": null,
            "layout": "IPY_MODEL_b1a113d6d0d5479ebca3cb1890e01083",
            "placeholder": "​",
            "style": "IPY_MODEL_b1724a420d244e83ac1d6729d8396b13",
            "value": "validation-00000-of-00001.parquet: 100%"
          }
        },
        "2a289518c2fb4c73b5501d83e533ccd4": {
          "model_module": "@jupyter-widgets/controls",
          "model_name": "FloatProgressModel",
          "model_module_version": "1.5.0",
          "state": {
            "_dom_classes": [],
            "_model_module": "@jupyter-widgets/controls",
            "_model_module_version": "1.5.0",
            "_model_name": "FloatProgressModel",
            "_view_count": null,
            "_view_module": "@jupyter-widgets/controls",
            "_view_module_version": "1.5.0",
            "_view_name": "ProgressView",
            "bar_style": "success",
            "description": "",
            "description_tooltip": null,
            "layout": "IPY_MODEL_343a5f0428204f4d99c60e2d15574dda",
            "max": 808903,
            "min": 0,
            "orientation": "horizontal",
            "style": "IPY_MODEL_4b6f41ef5bd84448b3bc2923ba605f7f",
            "value": 808903
          }
        },
        "eccf9373bd8141a3ad62c82c5463f500": {
          "model_module": "@jupyter-widgets/controls",
          "model_name": "HTMLModel",
          "model_module_version": "1.5.0",
          "state": {
            "_dom_classes": [],
            "_model_module": "@jupyter-widgets/controls",
            "_model_module_version": "1.5.0",
            "_model_name": "HTMLModel",
            "_view_count": null,
            "_view_module": "@jupyter-widgets/controls",
            "_view_module_version": "1.5.0",
            "_view_name": "HTMLView",
            "description": "",
            "description_tooltip": null,
            "layout": "IPY_MODEL_1b3b1123a53444418a605074bb255125",
            "placeholder": "​",
            "style": "IPY_MODEL_ee146cdd43254736a9626f540b94305a",
            "value": " 809k/809k [00:00&lt;00:00, 1.86MB/s]"
          }
        },
        "1ebc75accae949e092b9cd391c16e5df": {
          "model_module": "@jupyter-widgets/base",
          "model_name": "LayoutModel",
          "model_module_version": "1.2.0",
          "state": {
            "_model_module": "@jupyter-widgets/base",
            "_model_module_version": "1.2.0",
            "_model_name": "LayoutModel",
            "_view_count": null,
            "_view_module": "@jupyter-widgets/base",
            "_view_module_version": "1.2.0",
            "_view_name": "LayoutView",
            "align_content": null,
            "align_items": null,
            "align_self": null,
            "border": null,
            "bottom": null,
            "display": null,
            "flex": null,
            "flex_flow": null,
            "grid_area": null,
            "grid_auto_columns": null,
            "grid_auto_flow": null,
            "grid_auto_rows": null,
            "grid_column": null,
            "grid_gap": null,
            "grid_row": null,
            "grid_template_areas": null,
            "grid_template_columns": null,
            "grid_template_rows": null,
            "height": null,
            "justify_content": null,
            "justify_items": null,
            "left": null,
            "margin": null,
            "max_height": null,
            "max_width": null,
            "min_height": null,
            "min_width": null,
            "object_fit": null,
            "object_position": null,
            "order": null,
            "overflow": null,
            "overflow_x": null,
            "overflow_y": null,
            "padding": null,
            "right": null,
            "top": null,
            "visibility": null,
            "width": null
          }
        },
        "b1a113d6d0d5479ebca3cb1890e01083": {
          "model_module": "@jupyter-widgets/base",
          "model_name": "LayoutModel",
          "model_module_version": "1.2.0",
          "state": {
            "_model_module": "@jupyter-widgets/base",
            "_model_module_version": "1.2.0",
            "_model_name": "LayoutModel",
            "_view_count": null,
            "_view_module": "@jupyter-widgets/base",
            "_view_module_version": "1.2.0",
            "_view_name": "LayoutView",
            "align_content": null,
            "align_items": null,
            "align_self": null,
            "border": null,
            "bottom": null,
            "display": null,
            "flex": null,
            "flex_flow": null,
            "grid_area": null,
            "grid_auto_columns": null,
            "grid_auto_flow": null,
            "grid_auto_rows": null,
            "grid_column": null,
            "grid_gap": null,
            "grid_row": null,
            "grid_template_areas": null,
            "grid_template_columns": null,
            "grid_template_rows": null,
            "height": null,
            "justify_content": null,
            "justify_items": null,
            "left": null,
            "margin": null,
            "max_height": null,
            "max_width": null,
            "min_height": null,
            "min_width": null,
            "object_fit": null,
            "object_position": null,
            "order": null,
            "overflow": null,
            "overflow_x": null,
            "overflow_y": null,
            "padding": null,
            "right": null,
            "top": null,
            "visibility": null,
            "width": null
          }
        },
        "b1724a420d244e83ac1d6729d8396b13": {
          "model_module": "@jupyter-widgets/controls",
          "model_name": "DescriptionStyleModel",
          "model_module_version": "1.5.0",
          "state": {
            "_model_module": "@jupyter-widgets/controls",
            "_model_module_version": "1.5.0",
            "_model_name": "DescriptionStyleModel",
            "_view_count": null,
            "_view_module": "@jupyter-widgets/base",
            "_view_module_version": "1.2.0",
            "_view_name": "StyleView",
            "description_width": ""
          }
        },
        "343a5f0428204f4d99c60e2d15574dda": {
          "model_module": "@jupyter-widgets/base",
          "model_name": "LayoutModel",
          "model_module_version": "1.2.0",
          "state": {
            "_model_module": "@jupyter-widgets/base",
            "_model_module_version": "1.2.0",
            "_model_name": "LayoutModel",
            "_view_count": null,
            "_view_module": "@jupyter-widgets/base",
            "_view_module_version": "1.2.0",
            "_view_name": "LayoutView",
            "align_content": null,
            "align_items": null,
            "align_self": null,
            "border": null,
            "bottom": null,
            "display": null,
            "flex": null,
            "flex_flow": null,
            "grid_area": null,
            "grid_auto_columns": null,
            "grid_auto_flow": null,
            "grid_auto_rows": null,
            "grid_column": null,
            "grid_gap": null,
            "grid_row": null,
            "grid_template_areas": null,
            "grid_template_columns": null,
            "grid_template_rows": null,
            "height": null,
            "justify_content": null,
            "justify_items": null,
            "left": null,
            "margin": null,
            "max_height": null,
            "max_width": null,
            "min_height": null,
            "min_width": null,
            "object_fit": null,
            "object_position": null,
            "order": null,
            "overflow": null,
            "overflow_x": null,
            "overflow_y": null,
            "padding": null,
            "right": null,
            "top": null,
            "visibility": null,
            "width": null
          }
        },
        "4b6f41ef5bd84448b3bc2923ba605f7f": {
          "model_module": "@jupyter-widgets/controls",
          "model_name": "ProgressStyleModel",
          "model_module_version": "1.5.0",
          "state": {
            "_model_module": "@jupyter-widgets/controls",
            "_model_module_version": "1.5.0",
            "_model_name": "ProgressStyleModel",
            "_view_count": null,
            "_view_module": "@jupyter-widgets/base",
            "_view_module_version": "1.2.0",
            "_view_name": "StyleView",
            "bar_color": null,
            "description_width": ""
          }
        },
        "1b3b1123a53444418a605074bb255125": {
          "model_module": "@jupyter-widgets/base",
          "model_name": "LayoutModel",
          "model_module_version": "1.2.0",
          "state": {
            "_model_module": "@jupyter-widgets/base",
            "_model_module_version": "1.2.0",
            "_model_name": "LayoutModel",
            "_view_count": null,
            "_view_module": "@jupyter-widgets/base",
            "_view_module_version": "1.2.0",
            "_view_name": "LayoutView",
            "align_content": null,
            "align_items": null,
            "align_self": null,
            "border": null,
            "bottom": null,
            "display": null,
            "flex": null,
            "flex_flow": null,
            "grid_area": null,
            "grid_auto_columns": null,
            "grid_auto_flow": null,
            "grid_auto_rows": null,
            "grid_column": null,
            "grid_gap": null,
            "grid_row": null,
            "grid_template_areas": null,
            "grid_template_columns": null,
            "grid_template_rows": null,
            "height": null,
            "justify_content": null,
            "justify_items": null,
            "left": null,
            "margin": null,
            "max_height": null,
            "max_width": null,
            "min_height": null,
            "min_width": null,
            "object_fit": null,
            "object_position": null,
            "order": null,
            "overflow": null,
            "overflow_x": null,
            "overflow_y": null,
            "padding": null,
            "right": null,
            "top": null,
            "visibility": null,
            "width": null
          }
        },
        "ee146cdd43254736a9626f540b94305a": {
          "model_module": "@jupyter-widgets/controls",
          "model_name": "DescriptionStyleModel",
          "model_module_version": "1.5.0",
          "state": {
            "_model_module": "@jupyter-widgets/controls",
            "_model_module_version": "1.5.0",
            "_model_name": "DescriptionStyleModel",
            "_view_count": null,
            "_view_module": "@jupyter-widgets/base",
            "_view_module_version": "1.2.0",
            "_view_name": "StyleView",
            "description_width": ""
          }
        },
        "1f6696f48e204dc68d5a8747595a0405": {
          "model_module": "@jupyter-widgets/controls",
          "model_name": "HBoxModel",
          "model_module_version": "1.5.0",
          "state": {
            "_dom_classes": [],
            "_model_module": "@jupyter-widgets/controls",
            "_model_module_version": "1.5.0",
            "_model_name": "HBoxModel",
            "_view_count": null,
            "_view_module": "@jupyter-widgets/controls",
            "_view_module_version": "1.5.0",
            "_view_name": "HBoxView",
            "box_style": "",
            "children": [
              "IPY_MODEL_99f3df633d2d4c2484fe7e5a14277398",
              "IPY_MODEL_1327a074517d4159838c4b7e6b518b5b",
              "IPY_MODEL_5065ebae4cf04590a418eac0a769112d"
            ],
            "layout": "IPY_MODEL_4006635eb76e47dfb6c699f2af40b838"
          }
        },
        "99f3df633d2d4c2484fe7e5a14277398": {
          "model_module": "@jupyter-widgets/controls",
          "model_name": "HTMLModel",
          "model_module_version": "1.5.0",
          "state": {
            "_dom_classes": [],
            "_model_module": "@jupyter-widgets/controls",
            "_model_module_version": "1.5.0",
            "_model_name": "HTMLModel",
            "_view_count": null,
            "_view_module": "@jupyter-widgets/controls",
            "_view_module_version": "1.5.0",
            "_view_name": "HTMLView",
            "description": "",
            "description_tooltip": null,
            "layout": "IPY_MODEL_9bc61ba2cc1d4695a1068254854bcc9b",
            "placeholder": "​",
            "style": "IPY_MODEL_211657139e024e5db76b3b74e5c570b0",
            "value": "test-00000-of-00001.parquet: 100%"
          }
        },
        "1327a074517d4159838c4b7e6b518b5b": {
          "model_module": "@jupyter-widgets/controls",
          "model_name": "FloatProgressModel",
          "model_module_version": "1.5.0",
          "state": {
            "_dom_classes": [],
            "_model_module": "@jupyter-widgets/controls",
            "_model_module_version": "1.5.0",
            "_model_name": "FloatProgressModel",
            "_view_count": null,
            "_view_module": "@jupyter-widgets/controls",
            "_view_module_version": "1.5.0",
            "_view_name": "ProgressView",
            "bar_style": "success",
            "description": "",
            "description_tooltip": null,
            "layout": "IPY_MODEL_0fc8273f4d404a00b1879953ba4cf7f7",
            "max": 815819,
            "min": 0,
            "orientation": "horizontal",
            "style": "IPY_MODEL_e5975f9878f74d7096c3d8cb277afd6a",
            "value": 815819
          }
        },
        "5065ebae4cf04590a418eac0a769112d": {
          "model_module": "@jupyter-widgets/controls",
          "model_name": "HTMLModel",
          "model_module_version": "1.5.0",
          "state": {
            "_dom_classes": [],
            "_model_module": "@jupyter-widgets/controls",
            "_model_module_version": "1.5.0",
            "_model_name": "HTMLModel",
            "_view_count": null,
            "_view_module": "@jupyter-widgets/controls",
            "_view_module_version": "1.5.0",
            "_view_name": "HTMLView",
            "description": "",
            "description_tooltip": null,
            "layout": "IPY_MODEL_c3c178573f574a6aaa5ff897739c1613",
            "placeholder": "​",
            "style": "IPY_MODEL_e9e77e6db4334a3dbddff538731d7523",
            "value": " 816k/816k [00:00&lt;00:00, 46.6MB/s]"
          }
        },
        "4006635eb76e47dfb6c699f2af40b838": {
          "model_module": "@jupyter-widgets/base",
          "model_name": "LayoutModel",
          "model_module_version": "1.2.0",
          "state": {
            "_model_module": "@jupyter-widgets/base",
            "_model_module_version": "1.2.0",
            "_model_name": "LayoutModel",
            "_view_count": null,
            "_view_module": "@jupyter-widgets/base",
            "_view_module_version": "1.2.0",
            "_view_name": "LayoutView",
            "align_content": null,
            "align_items": null,
            "align_self": null,
            "border": null,
            "bottom": null,
            "display": null,
            "flex": null,
            "flex_flow": null,
            "grid_area": null,
            "grid_auto_columns": null,
            "grid_auto_flow": null,
            "grid_auto_rows": null,
            "grid_column": null,
            "grid_gap": null,
            "grid_row": null,
            "grid_template_areas": null,
            "grid_template_columns": null,
            "grid_template_rows": null,
            "height": null,
            "justify_content": null,
            "justify_items": null,
            "left": null,
            "margin": null,
            "max_height": null,
            "max_width": null,
            "min_height": null,
            "min_width": null,
            "object_fit": null,
            "object_position": null,
            "order": null,
            "overflow": null,
            "overflow_x": null,
            "overflow_y": null,
            "padding": null,
            "right": null,
            "top": null,
            "visibility": null,
            "width": null
          }
        },
        "9bc61ba2cc1d4695a1068254854bcc9b": {
          "model_module": "@jupyter-widgets/base",
          "model_name": "LayoutModel",
          "model_module_version": "1.2.0",
          "state": {
            "_model_module": "@jupyter-widgets/base",
            "_model_module_version": "1.2.0",
            "_model_name": "LayoutModel",
            "_view_count": null,
            "_view_module": "@jupyter-widgets/base",
            "_view_module_version": "1.2.0",
            "_view_name": "LayoutView",
            "align_content": null,
            "align_items": null,
            "align_self": null,
            "border": null,
            "bottom": null,
            "display": null,
            "flex": null,
            "flex_flow": null,
            "grid_area": null,
            "grid_auto_columns": null,
            "grid_auto_flow": null,
            "grid_auto_rows": null,
            "grid_column": null,
            "grid_gap": null,
            "grid_row": null,
            "grid_template_areas": null,
            "grid_template_columns": null,
            "grid_template_rows": null,
            "height": null,
            "justify_content": null,
            "justify_items": null,
            "left": null,
            "margin": null,
            "max_height": null,
            "max_width": null,
            "min_height": null,
            "min_width": null,
            "object_fit": null,
            "object_position": null,
            "order": null,
            "overflow": null,
            "overflow_x": null,
            "overflow_y": null,
            "padding": null,
            "right": null,
            "top": null,
            "visibility": null,
            "width": null
          }
        },
        "211657139e024e5db76b3b74e5c570b0": {
          "model_module": "@jupyter-widgets/controls",
          "model_name": "DescriptionStyleModel",
          "model_module_version": "1.5.0",
          "state": {
            "_model_module": "@jupyter-widgets/controls",
            "_model_module_version": "1.5.0",
            "_model_name": "DescriptionStyleModel",
            "_view_count": null,
            "_view_module": "@jupyter-widgets/base",
            "_view_module_version": "1.2.0",
            "_view_name": "StyleView",
            "description_width": ""
          }
        },
        "0fc8273f4d404a00b1879953ba4cf7f7": {
          "model_module": "@jupyter-widgets/base",
          "model_name": "LayoutModel",
          "model_module_version": "1.2.0",
          "state": {
            "_model_module": "@jupyter-widgets/base",
            "_model_module_version": "1.2.0",
            "_model_name": "LayoutModel",
            "_view_count": null,
            "_view_module": "@jupyter-widgets/base",
            "_view_module_version": "1.2.0",
            "_view_name": "LayoutView",
            "align_content": null,
            "align_items": null,
            "align_self": null,
            "border": null,
            "bottom": null,
            "display": null,
            "flex": null,
            "flex_flow": null,
            "grid_area": null,
            "grid_auto_columns": null,
            "grid_auto_flow": null,
            "grid_auto_rows": null,
            "grid_column": null,
            "grid_gap": null,
            "grid_row": null,
            "grid_template_areas": null,
            "grid_template_columns": null,
            "grid_template_rows": null,
            "height": null,
            "justify_content": null,
            "justify_items": null,
            "left": null,
            "margin": null,
            "max_height": null,
            "max_width": null,
            "min_height": null,
            "min_width": null,
            "object_fit": null,
            "object_position": null,
            "order": null,
            "overflow": null,
            "overflow_x": null,
            "overflow_y": null,
            "padding": null,
            "right": null,
            "top": null,
            "visibility": null,
            "width": null
          }
        },
        "e5975f9878f74d7096c3d8cb277afd6a": {
          "model_module": "@jupyter-widgets/controls",
          "model_name": "ProgressStyleModel",
          "model_module_version": "1.5.0",
          "state": {
            "_model_module": "@jupyter-widgets/controls",
            "_model_module_version": "1.5.0",
            "_model_name": "ProgressStyleModel",
            "_view_count": null,
            "_view_module": "@jupyter-widgets/base",
            "_view_module_version": "1.2.0",
            "_view_name": "StyleView",
            "bar_color": null,
            "description_width": ""
          }
        },
        "c3c178573f574a6aaa5ff897739c1613": {
          "model_module": "@jupyter-widgets/base",
          "model_name": "LayoutModel",
          "model_module_version": "1.2.0",
          "state": {
            "_model_module": "@jupyter-widgets/base",
            "_model_module_version": "1.2.0",
            "_model_name": "LayoutModel",
            "_view_count": null,
            "_view_module": "@jupyter-widgets/base",
            "_view_module_version": "1.2.0",
            "_view_name": "LayoutView",
            "align_content": null,
            "align_items": null,
            "align_self": null,
            "border": null,
            "bottom": null,
            "display": null,
            "flex": null,
            "flex_flow": null,
            "grid_area": null,
            "grid_auto_columns": null,
            "grid_auto_flow": null,
            "grid_auto_rows": null,
            "grid_column": null,
            "grid_gap": null,
            "grid_row": null,
            "grid_template_areas": null,
            "grid_template_columns": null,
            "grid_template_rows": null,
            "height": null,
            "justify_content": null,
            "justify_items": null,
            "left": null,
            "margin": null,
            "max_height": null,
            "max_width": null,
            "min_height": null,
            "min_width": null,
            "object_fit": null,
            "object_position": null,
            "order": null,
            "overflow": null,
            "overflow_x": null,
            "overflow_y": null,
            "padding": null,
            "right": null,
            "top": null,
            "visibility": null,
            "width": null
          }
        },
        "e9e77e6db4334a3dbddff538731d7523": {
          "model_module": "@jupyter-widgets/controls",
          "model_name": "DescriptionStyleModel",
          "model_module_version": "1.5.0",
          "state": {
            "_model_module": "@jupyter-widgets/controls",
            "_model_module_version": "1.5.0",
            "_model_name": "DescriptionStyleModel",
            "_view_count": null,
            "_view_module": "@jupyter-widgets/base",
            "_view_module_version": "1.2.0",
            "_view_name": "StyleView",
            "description_width": ""
          }
        },
        "d98f47f1b38e48848e83c0523539e7e6": {
          "model_module": "@jupyter-widgets/controls",
          "model_name": "HBoxModel",
          "model_module_version": "1.5.0",
          "state": {
            "_dom_classes": [],
            "_model_module": "@jupyter-widgets/controls",
            "_model_module_version": "1.5.0",
            "_model_name": "HBoxModel",
            "_view_count": null,
            "_view_module": "@jupyter-widgets/controls",
            "_view_module_version": "1.5.0",
            "_view_name": "HBoxView",
            "box_style": "",
            "children": [
              "IPY_MODEL_3897c0e33b0e47da9f6d96be7b0281f9",
              "IPY_MODEL_6e049ae132bf445fac2fcf1be0696e30",
              "IPY_MODEL_60bf813e1e974b39a3c27c187ea71050"
            ],
            "layout": "IPY_MODEL_6445056aae8c417c8040ae950c44c2b2"
          }
        },
        "3897c0e33b0e47da9f6d96be7b0281f9": {
          "model_module": "@jupyter-widgets/controls",
          "model_name": "HTMLModel",
          "model_module_version": "1.5.0",
          "state": {
            "_dom_classes": [],
            "_model_module": "@jupyter-widgets/controls",
            "_model_module_version": "1.5.0",
            "_model_name": "HTMLModel",
            "_view_count": null,
            "_view_module": "@jupyter-widgets/controls",
            "_view_module_version": "1.5.0",
            "_view_name": "HTMLView",
            "description": "",
            "description_tooltip": null,
            "layout": "IPY_MODEL_0ff2a3a0a76e441c9195633fbc681b13",
            "placeholder": "​",
            "style": "IPY_MODEL_b6dfcf4a8d9941fb858b8d6580d716cd",
            "value": "train-00000-of-00001.parquet: 100%"
          }
        },
        "6e049ae132bf445fac2fcf1be0696e30": {
          "model_module": "@jupyter-widgets/controls",
          "model_name": "FloatProgressModel",
          "model_module_version": "1.5.0",
          "state": {
            "_dom_classes": [],
            "_model_module": "@jupyter-widgets/controls",
            "_model_module_version": "1.5.0",
            "_model_name": "FloatProgressModel",
            "_view_count": null,
            "_view_module": "@jupyter-widgets/controls",
            "_view_module_version": "1.5.0",
            "_view_name": "ProgressView",
            "bar_style": "success",
            "description": "",
            "description_tooltip": null,
            "layout": "IPY_MODEL_f442033916f547f79e5bb068dda9c2ba",
            "max": 1625463,
            "min": 0,
            "orientation": "horizontal",
            "style": "IPY_MODEL_4f3020e183ad4310ab00677126278a8c",
            "value": 1625463
          }
        },
        "60bf813e1e974b39a3c27c187ea71050": {
          "model_module": "@jupyter-widgets/controls",
          "model_name": "HTMLModel",
          "model_module_version": "1.5.0",
          "state": {
            "_dom_classes": [],
            "_model_module": "@jupyter-widgets/controls",
            "_model_module_version": "1.5.0",
            "_model_name": "HTMLModel",
            "_view_count": null,
            "_view_module": "@jupyter-widgets/controls",
            "_view_module_version": "1.5.0",
            "_view_name": "HTMLView",
            "description": "",
            "description_tooltip": null,
            "layout": "IPY_MODEL_4d7c537b11684f7abb96cbf8a0b33d8c",
            "placeholder": "​",
            "style": "IPY_MODEL_70f8ea036ef243ada614c23db182a830",
            "value": " 1.63M/1.63M [00:00&lt;00:00, 81.5MB/s]"
          }
        },
        "6445056aae8c417c8040ae950c44c2b2": {
          "model_module": "@jupyter-widgets/base",
          "model_name": "LayoutModel",
          "model_module_version": "1.2.0",
          "state": {
            "_model_module": "@jupyter-widgets/base",
            "_model_module_version": "1.2.0",
            "_model_name": "LayoutModel",
            "_view_count": null,
            "_view_module": "@jupyter-widgets/base",
            "_view_module_version": "1.2.0",
            "_view_name": "LayoutView",
            "align_content": null,
            "align_items": null,
            "align_self": null,
            "border": null,
            "bottom": null,
            "display": null,
            "flex": null,
            "flex_flow": null,
            "grid_area": null,
            "grid_auto_columns": null,
            "grid_auto_flow": null,
            "grid_auto_rows": null,
            "grid_column": null,
            "grid_gap": null,
            "grid_row": null,
            "grid_template_areas": null,
            "grid_template_columns": null,
            "grid_template_rows": null,
            "height": null,
            "justify_content": null,
            "justify_items": null,
            "left": null,
            "margin": null,
            "max_height": null,
            "max_width": null,
            "min_height": null,
            "min_width": null,
            "object_fit": null,
            "object_position": null,
            "order": null,
            "overflow": null,
            "overflow_x": null,
            "overflow_y": null,
            "padding": null,
            "right": null,
            "top": null,
            "visibility": null,
            "width": null
          }
        },
        "0ff2a3a0a76e441c9195633fbc681b13": {
          "model_module": "@jupyter-widgets/base",
          "model_name": "LayoutModel",
          "model_module_version": "1.2.0",
          "state": {
            "_model_module": "@jupyter-widgets/base",
            "_model_module_version": "1.2.0",
            "_model_name": "LayoutModel",
            "_view_count": null,
            "_view_module": "@jupyter-widgets/base",
            "_view_module_version": "1.2.0",
            "_view_name": "LayoutView",
            "align_content": null,
            "align_items": null,
            "align_self": null,
            "border": null,
            "bottom": null,
            "display": null,
            "flex": null,
            "flex_flow": null,
            "grid_area": null,
            "grid_auto_columns": null,
            "grid_auto_flow": null,
            "grid_auto_rows": null,
            "grid_column": null,
            "grid_gap": null,
            "grid_row": null,
            "grid_template_areas": null,
            "grid_template_columns": null,
            "grid_template_rows": null,
            "height": null,
            "justify_content": null,
            "justify_items": null,
            "left": null,
            "margin": null,
            "max_height": null,
            "max_width": null,
            "min_height": null,
            "min_width": null,
            "object_fit": null,
            "object_position": null,
            "order": null,
            "overflow": null,
            "overflow_x": null,
            "overflow_y": null,
            "padding": null,
            "right": null,
            "top": null,
            "visibility": null,
            "width": null
          }
        },
        "b6dfcf4a8d9941fb858b8d6580d716cd": {
          "model_module": "@jupyter-widgets/controls",
          "model_name": "DescriptionStyleModel",
          "model_module_version": "1.5.0",
          "state": {
            "_model_module": "@jupyter-widgets/controls",
            "_model_module_version": "1.5.0",
            "_model_name": "DescriptionStyleModel",
            "_view_count": null,
            "_view_module": "@jupyter-widgets/base",
            "_view_module_version": "1.2.0",
            "_view_name": "StyleView",
            "description_width": ""
          }
        },
        "f442033916f547f79e5bb068dda9c2ba": {
          "model_module": "@jupyter-widgets/base",
          "model_name": "LayoutModel",
          "model_module_version": "1.2.0",
          "state": {
            "_model_module": "@jupyter-widgets/base",
            "_model_module_version": "1.2.0",
            "_model_name": "LayoutModel",
            "_view_count": null,
            "_view_module": "@jupyter-widgets/base",
            "_view_module_version": "1.2.0",
            "_view_name": "LayoutView",
            "align_content": null,
            "align_items": null,
            "align_self": null,
            "border": null,
            "bottom": null,
            "display": null,
            "flex": null,
            "flex_flow": null,
            "grid_area": null,
            "grid_auto_columns": null,
            "grid_auto_flow": null,
            "grid_auto_rows": null,
            "grid_column": null,
            "grid_gap": null,
            "grid_row": null,
            "grid_template_areas": null,
            "grid_template_columns": null,
            "grid_template_rows": null,
            "height": null,
            "justify_content": null,
            "justify_items": null,
            "left": null,
            "margin": null,
            "max_height": null,
            "max_width": null,
            "min_height": null,
            "min_width": null,
            "object_fit": null,
            "object_position": null,
            "order": null,
            "overflow": null,
            "overflow_x": null,
            "overflow_y": null,
            "padding": null,
            "right": null,
            "top": null,
            "visibility": null,
            "width": null
          }
        },
        "4f3020e183ad4310ab00677126278a8c": {
          "model_module": "@jupyter-widgets/controls",
          "model_name": "ProgressStyleModel",
          "model_module_version": "1.5.0",
          "state": {
            "_model_module": "@jupyter-widgets/controls",
            "_model_module_version": "1.5.0",
            "_model_name": "ProgressStyleModel",
            "_view_count": null,
            "_view_module": "@jupyter-widgets/base",
            "_view_module_version": "1.2.0",
            "_view_name": "StyleView",
            "bar_color": null,
            "description_width": ""
          }
        },
        "4d7c537b11684f7abb96cbf8a0b33d8c": {
          "model_module": "@jupyter-widgets/base",
          "model_name": "LayoutModel",
          "model_module_version": "1.2.0",
          "state": {
            "_model_module": "@jupyter-widgets/base",
            "_model_module_version": "1.2.0",
            "_model_name": "LayoutModel",
            "_view_count": null,
            "_view_module": "@jupyter-widgets/base",
            "_view_module_version": "1.2.0",
            "_view_name": "LayoutView",
            "align_content": null,
            "align_items": null,
            "align_self": null,
            "border": null,
            "bottom": null,
            "display": null,
            "flex": null,
            "flex_flow": null,
            "grid_area": null,
            "grid_auto_columns": null,
            "grid_auto_flow": null,
            "grid_auto_rows": null,
            "grid_column": null,
            "grid_gap": null,
            "grid_row": null,
            "grid_template_areas": null,
            "grid_template_columns": null,
            "grid_template_rows": null,
            "height": null,
            "justify_content": null,
            "justify_items": null,
            "left": null,
            "margin": null,
            "max_height": null,
            "max_width": null,
            "min_height": null,
            "min_width": null,
            "object_fit": null,
            "object_position": null,
            "order": null,
            "overflow": null,
            "overflow_x": null,
            "overflow_y": null,
            "padding": null,
            "right": null,
            "top": null,
            "visibility": null,
            "width": null
          }
        },
        "70f8ea036ef243ada614c23db182a830": {
          "model_module": "@jupyter-widgets/controls",
          "model_name": "DescriptionStyleModel",
          "model_module_version": "1.5.0",
          "state": {
            "_model_module": "@jupyter-widgets/controls",
            "_model_module_version": "1.5.0",
            "_model_name": "DescriptionStyleModel",
            "_view_count": null,
            "_view_module": "@jupyter-widgets/base",
            "_view_module_version": "1.2.0",
            "_view_name": "StyleView",
            "description_width": ""
          }
        },
        "1e8ffea4e473447d9e6130c7a3d2a898": {
          "model_module": "@jupyter-widgets/controls",
          "model_name": "HBoxModel",
          "model_module_version": "1.5.0",
          "state": {
            "_dom_classes": [],
            "_model_module": "@jupyter-widgets/controls",
            "_model_module_version": "1.5.0",
            "_model_name": "HBoxModel",
            "_view_count": null,
            "_view_module": "@jupyter-widgets/controls",
            "_view_module_version": "1.5.0",
            "_view_name": "HBoxView",
            "box_style": "",
            "children": [
              "IPY_MODEL_f09d164e6258459a84687550c068020d",
              "IPY_MODEL_2b50451b07fb44bab8b1ae4a2f8f85c1",
              "IPY_MODEL_2f363f42c9934bda8702e066072c93bb"
            ],
            "layout": "IPY_MODEL_2a823a0c69c34b3180f921340f9038d2"
          }
        },
        "f09d164e6258459a84687550c068020d": {
          "model_module": "@jupyter-widgets/controls",
          "model_name": "HTMLModel",
          "model_module_version": "1.5.0",
          "state": {
            "_dom_classes": [],
            "_model_module": "@jupyter-widgets/controls",
            "_model_module_version": "1.5.0",
            "_model_name": "HTMLModel",
            "_view_count": null,
            "_view_module": "@jupyter-widgets/controls",
            "_view_module_version": "1.5.0",
            "_view_name": "HTMLView",
            "description": "",
            "description_tooltip": null,
            "layout": "IPY_MODEL_0529f4e6cf0648ac87fcaa30f9d627c2",
            "placeholder": "​",
            "style": "IPY_MODEL_e2edd077044a40eba0dd10aa28a8a693",
            "value": "Generating validation split: 100%"
          }
        },
        "2b50451b07fb44bab8b1ae4a2f8f85c1": {
          "model_module": "@jupyter-widgets/controls",
          "model_name": "FloatProgressModel",
          "model_module_version": "1.5.0",
          "state": {
            "_dom_classes": [],
            "_model_module": "@jupyter-widgets/controls",
            "_model_module_version": "1.5.0",
            "_model_name": "FloatProgressModel",
            "_view_count": null,
            "_view_module": "@jupyter-widgets/controls",
            "_view_module_version": "1.5.0",
            "_view_name": "ProgressView",
            "bar_style": "success",
            "description": "",
            "description_tooltip": null,
            "layout": "IPY_MODEL_2f97b261699f402fb3fbea113b3baa54",
            "max": 10000,
            "min": 0,
            "orientation": "horizontal",
            "style": "IPY_MODEL_6e2cd5b51a5b44619aff96c9b31e4bc4",
            "value": 10000
          }
        },
        "2f363f42c9934bda8702e066072c93bb": {
          "model_module": "@jupyter-widgets/controls",
          "model_name": "HTMLModel",
          "model_module_version": "1.5.0",
          "state": {
            "_dom_classes": [],
            "_model_module": "@jupyter-widgets/controls",
            "_model_module_version": "1.5.0",
            "_model_name": "HTMLModel",
            "_view_count": null,
            "_view_module": "@jupyter-widgets/controls",
            "_view_module_version": "1.5.0",
            "_view_name": "HTMLView",
            "description": "",
            "description_tooltip": null,
            "layout": "IPY_MODEL_ab7b68a5bd3f48c398ca971d39a01b24",
            "placeholder": "​",
            "style": "IPY_MODEL_a07f3d2a97a342a68f65b3f221232959",
            "value": " 10000/10000 [00:00&lt;00:00, 154443.67 examples/s]"
          }
        },
        "2a823a0c69c34b3180f921340f9038d2": {
          "model_module": "@jupyter-widgets/base",
          "model_name": "LayoutModel",
          "model_module_version": "1.2.0",
          "state": {
            "_model_module": "@jupyter-widgets/base",
            "_model_module_version": "1.2.0",
            "_model_name": "LayoutModel",
            "_view_count": null,
            "_view_module": "@jupyter-widgets/base",
            "_view_module_version": "1.2.0",
            "_view_name": "LayoutView",
            "align_content": null,
            "align_items": null,
            "align_self": null,
            "border": null,
            "bottom": null,
            "display": null,
            "flex": null,
            "flex_flow": null,
            "grid_area": null,
            "grid_auto_columns": null,
            "grid_auto_flow": null,
            "grid_auto_rows": null,
            "grid_column": null,
            "grid_gap": null,
            "grid_row": null,
            "grid_template_areas": null,
            "grid_template_columns": null,
            "grid_template_rows": null,
            "height": null,
            "justify_content": null,
            "justify_items": null,
            "left": null,
            "margin": null,
            "max_height": null,
            "max_width": null,
            "min_height": null,
            "min_width": null,
            "object_fit": null,
            "object_position": null,
            "order": null,
            "overflow": null,
            "overflow_x": null,
            "overflow_y": null,
            "padding": null,
            "right": null,
            "top": null,
            "visibility": null,
            "width": null
          }
        },
        "0529f4e6cf0648ac87fcaa30f9d627c2": {
          "model_module": "@jupyter-widgets/base",
          "model_name": "LayoutModel",
          "model_module_version": "1.2.0",
          "state": {
            "_model_module": "@jupyter-widgets/base",
            "_model_module_version": "1.2.0",
            "_model_name": "LayoutModel",
            "_view_count": null,
            "_view_module": "@jupyter-widgets/base",
            "_view_module_version": "1.2.0",
            "_view_name": "LayoutView",
            "align_content": null,
            "align_items": null,
            "align_self": null,
            "border": null,
            "bottom": null,
            "display": null,
            "flex": null,
            "flex_flow": null,
            "grid_area": null,
            "grid_auto_columns": null,
            "grid_auto_flow": null,
            "grid_auto_rows": null,
            "grid_column": null,
            "grid_gap": null,
            "grid_row": null,
            "grid_template_areas": null,
            "grid_template_columns": null,
            "grid_template_rows": null,
            "height": null,
            "justify_content": null,
            "justify_items": null,
            "left": null,
            "margin": null,
            "max_height": null,
            "max_width": null,
            "min_height": null,
            "min_width": null,
            "object_fit": null,
            "object_position": null,
            "order": null,
            "overflow": null,
            "overflow_x": null,
            "overflow_y": null,
            "padding": null,
            "right": null,
            "top": null,
            "visibility": null,
            "width": null
          }
        },
        "e2edd077044a40eba0dd10aa28a8a693": {
          "model_module": "@jupyter-widgets/controls",
          "model_name": "DescriptionStyleModel",
          "model_module_version": "1.5.0",
          "state": {
            "_model_module": "@jupyter-widgets/controls",
            "_model_module_version": "1.5.0",
            "_model_name": "DescriptionStyleModel",
            "_view_count": null,
            "_view_module": "@jupyter-widgets/base",
            "_view_module_version": "1.2.0",
            "_view_name": "StyleView",
            "description_width": ""
          }
        },
        "2f97b261699f402fb3fbea113b3baa54": {
          "model_module": "@jupyter-widgets/base",
          "model_name": "LayoutModel",
          "model_module_version": "1.2.0",
          "state": {
            "_model_module": "@jupyter-widgets/base",
            "_model_module_version": "1.2.0",
            "_model_name": "LayoutModel",
            "_view_count": null,
            "_view_module": "@jupyter-widgets/base",
            "_view_module_version": "1.2.0",
            "_view_name": "LayoutView",
            "align_content": null,
            "align_items": null,
            "align_self": null,
            "border": null,
            "bottom": null,
            "display": null,
            "flex": null,
            "flex_flow": null,
            "grid_area": null,
            "grid_auto_columns": null,
            "grid_auto_flow": null,
            "grid_auto_rows": null,
            "grid_column": null,
            "grid_gap": null,
            "grid_row": null,
            "grid_template_areas": null,
            "grid_template_columns": null,
            "grid_template_rows": null,
            "height": null,
            "justify_content": null,
            "justify_items": null,
            "left": null,
            "margin": null,
            "max_height": null,
            "max_width": null,
            "min_height": null,
            "min_width": null,
            "object_fit": null,
            "object_position": null,
            "order": null,
            "overflow": null,
            "overflow_x": null,
            "overflow_y": null,
            "padding": null,
            "right": null,
            "top": null,
            "visibility": null,
            "width": null
          }
        },
        "6e2cd5b51a5b44619aff96c9b31e4bc4": {
          "model_module": "@jupyter-widgets/controls",
          "model_name": "ProgressStyleModel",
          "model_module_version": "1.5.0",
          "state": {
            "_model_module": "@jupyter-widgets/controls",
            "_model_module_version": "1.5.0",
            "_model_name": "ProgressStyleModel",
            "_view_count": null,
            "_view_module": "@jupyter-widgets/base",
            "_view_module_version": "1.2.0",
            "_view_name": "StyleView",
            "bar_color": null,
            "description_width": ""
          }
        },
        "ab7b68a5bd3f48c398ca971d39a01b24": {
          "model_module": "@jupyter-widgets/base",
          "model_name": "LayoutModel",
          "model_module_version": "1.2.0",
          "state": {
            "_model_module": "@jupyter-widgets/base",
            "_model_module_version": "1.2.0",
            "_model_name": "LayoutModel",
            "_view_count": null,
            "_view_module": "@jupyter-widgets/base",
            "_view_module_version": "1.2.0",
            "_view_name": "LayoutView",
            "align_content": null,
            "align_items": null,
            "align_self": null,
            "border": null,
            "bottom": null,
            "display": null,
            "flex": null,
            "flex_flow": null,
            "grid_area": null,
            "grid_auto_columns": null,
            "grid_auto_flow": null,
            "grid_auto_rows": null,
            "grid_column": null,
            "grid_gap": null,
            "grid_row": null,
            "grid_template_areas": null,
            "grid_template_columns": null,
            "grid_template_rows": null,
            "height": null,
            "justify_content": null,
            "justify_items": null,
            "left": null,
            "margin": null,
            "max_height": null,
            "max_width": null,
            "min_height": null,
            "min_width": null,
            "object_fit": null,
            "object_position": null,
            "order": null,
            "overflow": null,
            "overflow_x": null,
            "overflow_y": null,
            "padding": null,
            "right": null,
            "top": null,
            "visibility": null,
            "width": null
          }
        },
        "a07f3d2a97a342a68f65b3f221232959": {
          "model_module": "@jupyter-widgets/controls",
          "model_name": "DescriptionStyleModel",
          "model_module_version": "1.5.0",
          "state": {
            "_model_module": "@jupyter-widgets/controls",
            "_model_module_version": "1.5.0",
            "_model_name": "DescriptionStyleModel",
            "_view_count": null,
            "_view_module": "@jupyter-widgets/base",
            "_view_module_version": "1.2.0",
            "_view_name": "StyleView",
            "description_width": ""
          }
        },
        "90bb8b7bad324cf282077dca1b152aa4": {
          "model_module": "@jupyter-widgets/controls",
          "model_name": "HBoxModel",
          "model_module_version": "1.5.0",
          "state": {
            "_dom_classes": [],
            "_model_module": "@jupyter-widgets/controls",
            "_model_module_version": "1.5.0",
            "_model_name": "HBoxModel",
            "_view_count": null,
            "_view_module": "@jupyter-widgets/controls",
            "_view_module_version": "1.5.0",
            "_view_name": "HBoxView",
            "box_style": "",
            "children": [
              "IPY_MODEL_41a5a8a66df4405ea97517c3f7a29c56",
              "IPY_MODEL_aa7d67425d8b4a41b562d979930cdc1a",
              "IPY_MODEL_dc1008c2e43e4d1582723cce3f929927"
            ],
            "layout": "IPY_MODEL_f9c06e9c8dd74bbc99e0366aa10d5d9e"
          }
        },
        "41a5a8a66df4405ea97517c3f7a29c56": {
          "model_module": "@jupyter-widgets/controls",
          "model_name": "HTMLModel",
          "model_module_version": "1.5.0",
          "state": {
            "_dom_classes": [],
            "_model_module": "@jupyter-widgets/controls",
            "_model_module_version": "1.5.0",
            "_model_name": "HTMLModel",
            "_view_count": null,
            "_view_module": "@jupyter-widgets/controls",
            "_view_module_version": "1.5.0",
            "_view_name": "HTMLView",
            "description": "",
            "description_tooltip": null,
            "layout": "IPY_MODEL_68851b81685c44a08b70be03c586279b",
            "placeholder": "​",
            "style": "IPY_MODEL_5a8e5421085646199cc6a576a5033a4d",
            "value": "Generating test split: 100%"
          }
        },
        "aa7d67425d8b4a41b562d979930cdc1a": {
          "model_module": "@jupyter-widgets/controls",
          "model_name": "FloatProgressModel",
          "model_module_version": "1.5.0",
          "state": {
            "_dom_classes": [],
            "_model_module": "@jupyter-widgets/controls",
            "_model_module_version": "1.5.0",
            "_model_name": "FloatProgressModel",
            "_view_count": null,
            "_view_module": "@jupyter-widgets/controls",
            "_view_module_version": "1.5.0",
            "_view_name": "ProgressView",
            "bar_style": "success",
            "description": "",
            "description_tooltip": null,
            "layout": "IPY_MODEL_7fe72ec271f1466aa03a978ff028ddc5",
            "max": 10000,
            "min": 0,
            "orientation": "horizontal",
            "style": "IPY_MODEL_ce68bc06eeb4487fb232057e376c281f",
            "value": 10000
          }
        },
        "dc1008c2e43e4d1582723cce3f929927": {
          "model_module": "@jupyter-widgets/controls",
          "model_name": "HTMLModel",
          "model_module_version": "1.5.0",
          "state": {
            "_dom_classes": [],
            "_model_module": "@jupyter-widgets/controls",
            "_model_module_version": "1.5.0",
            "_model_name": "HTMLModel",
            "_view_count": null,
            "_view_module": "@jupyter-widgets/controls",
            "_view_module_version": "1.5.0",
            "_view_name": "HTMLView",
            "description": "",
            "description_tooltip": null,
            "layout": "IPY_MODEL_8aa530f516fc4f7a9e2f9145ed72ebad",
            "placeholder": "​",
            "style": "IPY_MODEL_3616adca627a4f96be7ead495088ac24",
            "value": " 10000/10000 [00:00&lt;00:00, 264571.44 examples/s]"
          }
        },
        "f9c06e9c8dd74bbc99e0366aa10d5d9e": {
          "model_module": "@jupyter-widgets/base",
          "model_name": "LayoutModel",
          "model_module_version": "1.2.0",
          "state": {
            "_model_module": "@jupyter-widgets/base",
            "_model_module_version": "1.2.0",
            "_model_name": "LayoutModel",
            "_view_count": null,
            "_view_module": "@jupyter-widgets/base",
            "_view_module_version": "1.2.0",
            "_view_name": "LayoutView",
            "align_content": null,
            "align_items": null,
            "align_self": null,
            "border": null,
            "bottom": null,
            "display": null,
            "flex": null,
            "flex_flow": null,
            "grid_area": null,
            "grid_auto_columns": null,
            "grid_auto_flow": null,
            "grid_auto_rows": null,
            "grid_column": null,
            "grid_gap": null,
            "grid_row": null,
            "grid_template_areas": null,
            "grid_template_columns": null,
            "grid_template_rows": null,
            "height": null,
            "justify_content": null,
            "justify_items": null,
            "left": null,
            "margin": null,
            "max_height": null,
            "max_width": null,
            "min_height": null,
            "min_width": null,
            "object_fit": null,
            "object_position": null,
            "order": null,
            "overflow": null,
            "overflow_x": null,
            "overflow_y": null,
            "padding": null,
            "right": null,
            "top": null,
            "visibility": null,
            "width": null
          }
        },
        "68851b81685c44a08b70be03c586279b": {
          "model_module": "@jupyter-widgets/base",
          "model_name": "LayoutModel",
          "model_module_version": "1.2.0",
          "state": {
            "_model_module": "@jupyter-widgets/base",
            "_model_module_version": "1.2.0",
            "_model_name": "LayoutModel",
            "_view_count": null,
            "_view_module": "@jupyter-widgets/base",
            "_view_module_version": "1.2.0",
            "_view_name": "LayoutView",
            "align_content": null,
            "align_items": null,
            "align_self": null,
            "border": null,
            "bottom": null,
            "display": null,
            "flex": null,
            "flex_flow": null,
            "grid_area": null,
            "grid_auto_columns": null,
            "grid_auto_flow": null,
            "grid_auto_rows": null,
            "grid_column": null,
            "grid_gap": null,
            "grid_row": null,
            "grid_template_areas": null,
            "grid_template_columns": null,
            "grid_template_rows": null,
            "height": null,
            "justify_content": null,
            "justify_items": null,
            "left": null,
            "margin": null,
            "max_height": null,
            "max_width": null,
            "min_height": null,
            "min_width": null,
            "object_fit": null,
            "object_position": null,
            "order": null,
            "overflow": null,
            "overflow_x": null,
            "overflow_y": null,
            "padding": null,
            "right": null,
            "top": null,
            "visibility": null,
            "width": null
          }
        },
        "5a8e5421085646199cc6a576a5033a4d": {
          "model_module": "@jupyter-widgets/controls",
          "model_name": "DescriptionStyleModel",
          "model_module_version": "1.5.0",
          "state": {
            "_model_module": "@jupyter-widgets/controls",
            "_model_module_version": "1.5.0",
            "_model_name": "DescriptionStyleModel",
            "_view_count": null,
            "_view_module": "@jupyter-widgets/base",
            "_view_module_version": "1.2.0",
            "_view_name": "StyleView",
            "description_width": ""
          }
        },
        "7fe72ec271f1466aa03a978ff028ddc5": {
          "model_module": "@jupyter-widgets/base",
          "model_name": "LayoutModel",
          "model_module_version": "1.2.0",
          "state": {
            "_model_module": "@jupyter-widgets/base",
            "_model_module_version": "1.2.0",
            "_model_name": "LayoutModel",
            "_view_count": null,
            "_view_module": "@jupyter-widgets/base",
            "_view_module_version": "1.2.0",
            "_view_name": "LayoutView",
            "align_content": null,
            "align_items": null,
            "align_self": null,
            "border": null,
            "bottom": null,
            "display": null,
            "flex": null,
            "flex_flow": null,
            "grid_area": null,
            "grid_auto_columns": null,
            "grid_auto_flow": null,
            "grid_auto_rows": null,
            "grid_column": null,
            "grid_gap": null,
            "grid_row": null,
            "grid_template_areas": null,
            "grid_template_columns": null,
            "grid_template_rows": null,
            "height": null,
            "justify_content": null,
            "justify_items": null,
            "left": null,
            "margin": null,
            "max_height": null,
            "max_width": null,
            "min_height": null,
            "min_width": null,
            "object_fit": null,
            "object_position": null,
            "order": null,
            "overflow": null,
            "overflow_x": null,
            "overflow_y": null,
            "padding": null,
            "right": null,
            "top": null,
            "visibility": null,
            "width": null
          }
        },
        "ce68bc06eeb4487fb232057e376c281f": {
          "model_module": "@jupyter-widgets/controls",
          "model_name": "ProgressStyleModel",
          "model_module_version": "1.5.0",
          "state": {
            "_model_module": "@jupyter-widgets/controls",
            "_model_module_version": "1.5.0",
            "_model_name": "ProgressStyleModel",
            "_view_count": null,
            "_view_module": "@jupyter-widgets/base",
            "_view_module_version": "1.2.0",
            "_view_name": "StyleView",
            "bar_color": null,
            "description_width": ""
          }
        },
        "8aa530f516fc4f7a9e2f9145ed72ebad": {
          "model_module": "@jupyter-widgets/base",
          "model_name": "LayoutModel",
          "model_module_version": "1.2.0",
          "state": {
            "_model_module": "@jupyter-widgets/base",
            "_model_module_version": "1.2.0",
            "_model_name": "LayoutModel",
            "_view_count": null,
            "_view_module": "@jupyter-widgets/base",
            "_view_module_version": "1.2.0",
            "_view_name": "LayoutView",
            "align_content": null,
            "align_items": null,
            "align_self": null,
            "border": null,
            "bottom": null,
            "display": null,
            "flex": null,
            "flex_flow": null,
            "grid_area": null,
            "grid_auto_columns": null,
            "grid_auto_flow": null,
            "grid_auto_rows": null,
            "grid_column": null,
            "grid_gap": null,
            "grid_row": null,
            "grid_template_areas": null,
            "grid_template_columns": null,
            "grid_template_rows": null,
            "height": null,
            "justify_content": null,
            "justify_items": null,
            "left": null,
            "margin": null,
            "max_height": null,
            "max_width": null,
            "min_height": null,
            "min_width": null,
            "object_fit": null,
            "object_position": null,
            "order": null,
            "overflow": null,
            "overflow_x": null,
            "overflow_y": null,
            "padding": null,
            "right": null,
            "top": null,
            "visibility": null,
            "width": null
          }
        },
        "3616adca627a4f96be7ead495088ac24": {
          "model_module": "@jupyter-widgets/controls",
          "model_name": "DescriptionStyleModel",
          "model_module_version": "1.5.0",
          "state": {
            "_model_module": "@jupyter-widgets/controls",
            "_model_module_version": "1.5.0",
            "_model_name": "DescriptionStyleModel",
            "_view_count": null,
            "_view_module": "@jupyter-widgets/base",
            "_view_module_version": "1.2.0",
            "_view_name": "StyleView",
            "description_width": ""
          }
        },
        "94e92159b9e843eba8a5cd7c4c4e7a62": {
          "model_module": "@jupyter-widgets/controls",
          "model_name": "HBoxModel",
          "model_module_version": "1.5.0",
          "state": {
            "_dom_classes": [],
            "_model_module": "@jupyter-widgets/controls",
            "_model_module_version": "1.5.0",
            "_model_name": "HBoxModel",
            "_view_count": null,
            "_view_module": "@jupyter-widgets/controls",
            "_view_module_version": "1.5.0",
            "_view_name": "HBoxView",
            "box_style": "",
            "children": [
              "IPY_MODEL_a1ae0130a68e4331a8c7ffe12f6f7c53",
              "IPY_MODEL_4770dcb4e01d4d7eb4dbcb82c5678df0",
              "IPY_MODEL_811c7270022a48029a3e469fbb57eacf"
            ],
            "layout": "IPY_MODEL_8ec2dd8a04454d0bb4587d29bf5b542a"
          }
        },
        "a1ae0130a68e4331a8c7ffe12f6f7c53": {
          "model_module": "@jupyter-widgets/controls",
          "model_name": "HTMLModel",
          "model_module_version": "1.5.0",
          "state": {
            "_dom_classes": [],
            "_model_module": "@jupyter-widgets/controls",
            "_model_module_version": "1.5.0",
            "_model_name": "HTMLModel",
            "_view_count": null,
            "_view_module": "@jupyter-widgets/controls",
            "_view_module_version": "1.5.0",
            "_view_name": "HTMLView",
            "description": "",
            "description_tooltip": null,
            "layout": "IPY_MODEL_f4983f7ae74944288d283113cbe5a67a",
            "placeholder": "​",
            "style": "IPY_MODEL_4c0e2a1bdee04e228eac7a3e177091ee",
            "value": "Generating train split: 100%"
          }
        },
        "4770dcb4e01d4d7eb4dbcb82c5678df0": {
          "model_module": "@jupyter-widgets/controls",
          "model_name": "FloatProgressModel",
          "model_module_version": "1.5.0",
          "state": {
            "_dom_classes": [],
            "_model_module": "@jupyter-widgets/controls",
            "_model_module_version": "1.5.0",
            "_model_name": "FloatProgressModel",
            "_view_count": null,
            "_view_module": "@jupyter-widgets/controls",
            "_view_module_version": "1.5.0",
            "_view_name": "ProgressView",
            "bar_style": "success",
            "description": "",
            "description_tooltip": null,
            "layout": "IPY_MODEL_92b18c3f296c4d5790ce785006b5d2fb",
            "max": 20000,
            "min": 0,
            "orientation": "horizontal",
            "style": "IPY_MODEL_38264c2283854ff0beac77eb7568448d",
            "value": 20000
          }
        },
        "811c7270022a48029a3e469fbb57eacf": {
          "model_module": "@jupyter-widgets/controls",
          "model_name": "HTMLModel",
          "model_module_version": "1.5.0",
          "state": {
            "_dom_classes": [],
            "_model_module": "@jupyter-widgets/controls",
            "_model_module_version": "1.5.0",
            "_model_name": "HTMLModel",
            "_view_count": null,
            "_view_module": "@jupyter-widgets/controls",
            "_view_module_version": "1.5.0",
            "_view_name": "HTMLView",
            "description": "",
            "description_tooltip": null,
            "layout": "IPY_MODEL_296dceec5c2f40f7b5c9e861a34494df",
            "placeholder": "​",
            "style": "IPY_MODEL_6f037528154c4af29d199999e752635b",
            "value": " 20000/20000 [00:00&lt;00:00, 382074.93 examples/s]"
          }
        },
        "8ec2dd8a04454d0bb4587d29bf5b542a": {
          "model_module": "@jupyter-widgets/base",
          "model_name": "LayoutModel",
          "model_module_version": "1.2.0",
          "state": {
            "_model_module": "@jupyter-widgets/base",
            "_model_module_version": "1.2.0",
            "_model_name": "LayoutModel",
            "_view_count": null,
            "_view_module": "@jupyter-widgets/base",
            "_view_module_version": "1.2.0",
            "_view_name": "LayoutView",
            "align_content": null,
            "align_items": null,
            "align_self": null,
            "border": null,
            "bottom": null,
            "display": null,
            "flex": null,
            "flex_flow": null,
            "grid_area": null,
            "grid_auto_columns": null,
            "grid_auto_flow": null,
            "grid_auto_rows": null,
            "grid_column": null,
            "grid_gap": null,
            "grid_row": null,
            "grid_template_areas": null,
            "grid_template_columns": null,
            "grid_template_rows": null,
            "height": null,
            "justify_content": null,
            "justify_items": null,
            "left": null,
            "margin": null,
            "max_height": null,
            "max_width": null,
            "min_height": null,
            "min_width": null,
            "object_fit": null,
            "object_position": null,
            "order": null,
            "overflow": null,
            "overflow_x": null,
            "overflow_y": null,
            "padding": null,
            "right": null,
            "top": null,
            "visibility": null,
            "width": null
          }
        },
        "f4983f7ae74944288d283113cbe5a67a": {
          "model_module": "@jupyter-widgets/base",
          "model_name": "LayoutModel",
          "model_module_version": "1.2.0",
          "state": {
            "_model_module": "@jupyter-widgets/base",
            "_model_module_version": "1.2.0",
            "_model_name": "LayoutModel",
            "_view_count": null,
            "_view_module": "@jupyter-widgets/base",
            "_view_module_version": "1.2.0",
            "_view_name": "LayoutView",
            "align_content": null,
            "align_items": null,
            "align_self": null,
            "border": null,
            "bottom": null,
            "display": null,
            "flex": null,
            "flex_flow": null,
            "grid_area": null,
            "grid_auto_columns": null,
            "grid_auto_flow": null,
            "grid_auto_rows": null,
            "grid_column": null,
            "grid_gap": null,
            "grid_row": null,
            "grid_template_areas": null,
            "grid_template_columns": null,
            "grid_template_rows": null,
            "height": null,
            "justify_content": null,
            "justify_items": null,
            "left": null,
            "margin": null,
            "max_height": null,
            "max_width": null,
            "min_height": null,
            "min_width": null,
            "object_fit": null,
            "object_position": null,
            "order": null,
            "overflow": null,
            "overflow_x": null,
            "overflow_y": null,
            "padding": null,
            "right": null,
            "top": null,
            "visibility": null,
            "width": null
          }
        },
        "4c0e2a1bdee04e228eac7a3e177091ee": {
          "model_module": "@jupyter-widgets/controls",
          "model_name": "DescriptionStyleModel",
          "model_module_version": "1.5.0",
          "state": {
            "_model_module": "@jupyter-widgets/controls",
            "_model_module_version": "1.5.0",
            "_model_name": "DescriptionStyleModel",
            "_view_count": null,
            "_view_module": "@jupyter-widgets/base",
            "_view_module_version": "1.2.0",
            "_view_name": "StyleView",
            "description_width": ""
          }
        },
        "92b18c3f296c4d5790ce785006b5d2fb": {
          "model_module": "@jupyter-widgets/base",
          "model_name": "LayoutModel",
          "model_module_version": "1.2.0",
          "state": {
            "_model_module": "@jupyter-widgets/base",
            "_model_module_version": "1.2.0",
            "_model_name": "LayoutModel",
            "_view_count": null,
            "_view_module": "@jupyter-widgets/base",
            "_view_module_version": "1.2.0",
            "_view_name": "LayoutView",
            "align_content": null,
            "align_items": null,
            "align_self": null,
            "border": null,
            "bottom": null,
            "display": null,
            "flex": null,
            "flex_flow": null,
            "grid_area": null,
            "grid_auto_columns": null,
            "grid_auto_flow": null,
            "grid_auto_rows": null,
            "grid_column": null,
            "grid_gap": null,
            "grid_row": null,
            "grid_template_areas": null,
            "grid_template_columns": null,
            "grid_template_rows": null,
            "height": null,
            "justify_content": null,
            "justify_items": null,
            "left": null,
            "margin": null,
            "max_height": null,
            "max_width": null,
            "min_height": null,
            "min_width": null,
            "object_fit": null,
            "object_position": null,
            "order": null,
            "overflow": null,
            "overflow_x": null,
            "overflow_y": null,
            "padding": null,
            "right": null,
            "top": null,
            "visibility": null,
            "width": null
          }
        },
        "38264c2283854ff0beac77eb7568448d": {
          "model_module": "@jupyter-widgets/controls",
          "model_name": "ProgressStyleModel",
          "model_module_version": "1.5.0",
          "state": {
            "_model_module": "@jupyter-widgets/controls",
            "_model_module_version": "1.5.0",
            "_model_name": "ProgressStyleModel",
            "_view_count": null,
            "_view_module": "@jupyter-widgets/base",
            "_view_module_version": "1.2.0",
            "_view_name": "StyleView",
            "bar_color": null,
            "description_width": ""
          }
        },
        "296dceec5c2f40f7b5c9e861a34494df": {
          "model_module": "@jupyter-widgets/base",
          "model_name": "LayoutModel",
          "model_module_version": "1.2.0",
          "state": {
            "_model_module": "@jupyter-widgets/base",
            "_model_module_version": "1.2.0",
            "_model_name": "LayoutModel",
            "_view_count": null,
            "_view_module": "@jupyter-widgets/base",
            "_view_module_version": "1.2.0",
            "_view_name": "LayoutView",
            "align_content": null,
            "align_items": null,
            "align_self": null,
            "border": null,
            "bottom": null,
            "display": null,
            "flex": null,
            "flex_flow": null,
            "grid_area": null,
            "grid_auto_columns": null,
            "grid_auto_flow": null,
            "grid_auto_rows": null,
            "grid_column": null,
            "grid_gap": null,
            "grid_row": null,
            "grid_template_areas": null,
            "grid_template_columns": null,
            "grid_template_rows": null,
            "height": null,
            "justify_content": null,
            "justify_items": null,
            "left": null,
            "margin": null,
            "max_height": null,
            "max_width": null,
            "min_height": null,
            "min_width": null,
            "object_fit": null,
            "object_position": null,
            "order": null,
            "overflow": null,
            "overflow_x": null,
            "overflow_y": null,
            "padding": null,
            "right": null,
            "top": null,
            "visibility": null,
            "width": null
          }
        },
        "6f037528154c4af29d199999e752635b": {
          "model_module": "@jupyter-widgets/controls",
          "model_name": "DescriptionStyleModel",
          "model_module_version": "1.5.0",
          "state": {
            "_model_module": "@jupyter-widgets/controls",
            "_model_module_version": "1.5.0",
            "_model_name": "DescriptionStyleModel",
            "_view_count": null,
            "_view_module": "@jupyter-widgets/base",
            "_view_module_version": "1.2.0",
            "_view_name": "StyleView",
            "description_width": ""
          }
        }
      }
    }
  },
  "nbformat": 4,
  "nbformat_minor": 5
}