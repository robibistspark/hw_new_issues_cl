{
  "cells": [
    {
      "cell_type": "markdown",
      "id": "4ca384d0-da9b-41bc-a902-ee069922c0c2",
      "metadata": {
        "id": "4ca384d0-da9b-41bc-a902-ee069922c0c2"
      },
      "source": [
        "*Обучать надо в колабе на GPU*\n",
        "### Домашнее задание №6"
      ]
    },
    {
      "cell_type": "markdown",
      "source": [
        "### Импорты"
      ],
      "metadata": {
        "id": "iOxW-51Awb_D"
      },
      "id": "iOxW-51Awb_D"
    },
    {
      "cell_type": "code",
      "execution_count": 1,
      "id": "2dcb010f-90e2-4a23-bbdd-4b6df8a94c31",
      "metadata": {
        "id": "2dcb010f-90e2-4a23-bbdd-4b6df8a94c31",
        "colab": {
          "base_uri": "https://localhost:8080/"
        },
        "outputId": "6072b944-16c7-4bcf-8c77-58f14177d368"
      },
      "outputs": [
        {
          "output_type": "stream",
          "name": "stdout",
          "text": [
            "3.8.0\n"
          ]
        }
      ],
      "source": [
        "import os\n",
        "os.environ[\"KERAS_BACKEND\"] = \"torch\"\n",
        "\n",
        "import keras\n",
        "print(keras.__version__)"
      ]
    },
    {
      "cell_type": "code",
      "source": [
        "import pandas as pd\n",
        "import numpy as np\n",
        "from string import punctuation\n",
        "from sklearn.model_selection import train_test_split\n",
        "from collections import Counter\n",
        "import matplotlib.pyplot as plt\n",
        "%matplotlib inline"
      ],
      "metadata": {
        "id": "9qH6MjG5vH9m"
      },
      "id": "9qH6MjG5vH9m",
      "execution_count": 2,
      "outputs": []
    },
    {
      "cell_type": "markdown",
      "source": [
        "### Данные"
      ],
      "metadata": {
        "id": "P0ipN-LAwgVj"
      },
      "id": "P0ipN-LAwgVj"
    },
    {
      "cell_type": "code",
      "source": [
        "!wget https://github.com/mannefedov/compling_nlp_hse_course/raw/refs/heads/master/data/lenta_40k.csv.zip\n",
        "!unzip lenta_40k.csv.zip"
      ],
      "metadata": {
        "id": "7A2xJC5zvdbU",
        "colab": {
          "base_uri": "https://localhost:8080/"
        },
        "outputId": "262ee0b8-d0ae-4def-9bc2-76df42c85811"
      },
      "id": "7A2xJC5zvdbU",
      "execution_count": 3,
      "outputs": [
        {
          "output_type": "stream",
          "name": "stdout",
          "text": [
            "--2025-02-07 17:36:21--  https://github.com/mannefedov/compling_nlp_hse_course/raw/refs/heads/master/data/lenta_40k.csv.zip\n",
            "Resolving github.com (github.com)... 140.82.121.3\n",
            "Connecting to github.com (github.com)|140.82.121.3|:443... connected.\n",
            "HTTP request sent, awaiting response... 302 Found\n",
            "Location: https://raw.githubusercontent.com/mannefedov/compling_nlp_hse_course/refs/heads/master/data/lenta_40k.csv.zip [following]\n",
            "--2025-02-07 17:36:22--  https://raw.githubusercontent.com/mannefedov/compling_nlp_hse_course/refs/heads/master/data/lenta_40k.csv.zip\n",
            "Resolving raw.githubusercontent.com (raw.githubusercontent.com)... 185.199.108.133, 185.199.111.133, 185.199.110.133, ...\n",
            "Connecting to raw.githubusercontent.com (raw.githubusercontent.com)|185.199.108.133|:443... connected.\n",
            "HTTP request sent, awaiting response... 200 OK\n",
            "Length: 30658975 (29M) [application/zip]\n",
            "Saving to: ‘lenta_40k.csv.zip’\n",
            "\n",
            "lenta_40k.csv.zip   100%[===================>]  29.24M  --.-KB/s    in 0.1s    \n",
            "\n",
            "2025-02-07 17:36:23 (297 MB/s) - ‘lenta_40k.csv.zip’ saved [30658975/30658975]\n",
            "\n",
            "Archive:  lenta_40k.csv.zip\n",
            "  inflating: lenta_40k.csv           \n"
          ]
        }
      ]
    },
    {
      "cell_type": "code",
      "source": [
        "data = pd.read_csv('lenta_40k.csv.zip')\n",
        "data.head()"
      ],
      "metadata": {
        "id": "NMP8TJG7wn0U",
        "colab": {
          "base_uri": "https://localhost:8080/",
          "height": 206
        },
        "outputId": "ea927748-fad2-43b1-b403-d2b6e6046ff1"
      },
      "id": "NMP8TJG7wn0U",
      "execution_count": 4,
      "outputs": [
        {
          "output_type": "execute_result",
          "data": {
            "text/plain": [
              "                                                text           topic\n",
              "0  Россия должна сотрудничать с Всемирным антидоп...           Спорт\n",
              "1  Уголовный суд Кувейта 28 июня освободил под за...             Мир\n",
              "2  Французский журнал Charlie Hebdo опубликовал н...  Интернет и СМИ\n",
              "3  В Петербурге в доме № 53 по улице Лени Голиков...          Россия\n",
              "4  В московском аэропорту \"Домодедово\" задержан г...          Россия"
            ],
            "text/html": [
              "\n",
              "  <div id=\"df-cad97fd7-d8ba-4eba-9eb2-5ba9ba60bb23\" class=\"colab-df-container\">\n",
              "    <div>\n",
              "<style scoped>\n",
              "    .dataframe tbody tr th:only-of-type {\n",
              "        vertical-align: middle;\n",
              "    }\n",
              "\n",
              "    .dataframe tbody tr th {\n",
              "        vertical-align: top;\n",
              "    }\n",
              "\n",
              "    .dataframe thead th {\n",
              "        text-align: right;\n",
              "    }\n",
              "</style>\n",
              "<table border=\"1\" class=\"dataframe\">\n",
              "  <thead>\n",
              "    <tr style=\"text-align: right;\">\n",
              "      <th></th>\n",
              "      <th>text</th>\n",
              "      <th>topic</th>\n",
              "    </tr>\n",
              "  </thead>\n",
              "  <tbody>\n",
              "    <tr>\n",
              "      <th>0</th>\n",
              "      <td>Россия должна сотрудничать с Всемирным антидоп...</td>\n",
              "      <td>Спорт</td>\n",
              "    </tr>\n",
              "    <tr>\n",
              "      <th>1</th>\n",
              "      <td>Уголовный суд Кувейта 28 июня освободил под за...</td>\n",
              "      <td>Мир</td>\n",
              "    </tr>\n",
              "    <tr>\n",
              "      <th>2</th>\n",
              "      <td>Французский журнал Charlie Hebdo опубликовал н...</td>\n",
              "      <td>Интернет и СМИ</td>\n",
              "    </tr>\n",
              "    <tr>\n",
              "      <th>3</th>\n",
              "      <td>В Петербурге в доме № 53 по улице Лени Голиков...</td>\n",
              "      <td>Россия</td>\n",
              "    </tr>\n",
              "    <tr>\n",
              "      <th>4</th>\n",
              "      <td>В московском аэропорту \"Домодедово\" задержан г...</td>\n",
              "      <td>Россия</td>\n",
              "    </tr>\n",
              "  </tbody>\n",
              "</table>\n",
              "</div>\n",
              "    <div class=\"colab-df-buttons\">\n",
              "\n",
              "  <div class=\"colab-df-container\">\n",
              "    <button class=\"colab-df-convert\" onclick=\"convertToInteractive('df-cad97fd7-d8ba-4eba-9eb2-5ba9ba60bb23')\"\n",
              "            title=\"Convert this dataframe to an interactive table.\"\n",
              "            style=\"display:none;\">\n",
              "\n",
              "  <svg xmlns=\"http://www.w3.org/2000/svg\" height=\"24px\" viewBox=\"0 -960 960 960\">\n",
              "    <path d=\"M120-120v-720h720v720H120Zm60-500h600v-160H180v160Zm220 220h160v-160H400v160Zm0 220h160v-160H400v160ZM180-400h160v-160H180v160Zm440 0h160v-160H620v160ZM180-180h160v-160H180v160Zm440 0h160v-160H620v160Z\"/>\n",
              "  </svg>\n",
              "    </button>\n",
              "\n",
              "  <style>\n",
              "    .colab-df-container {\n",
              "      display:flex;\n",
              "      gap: 12px;\n",
              "    }\n",
              "\n",
              "    .colab-df-convert {\n",
              "      background-color: #E8F0FE;\n",
              "      border: none;\n",
              "      border-radius: 50%;\n",
              "      cursor: pointer;\n",
              "      display: none;\n",
              "      fill: #1967D2;\n",
              "      height: 32px;\n",
              "      padding: 0 0 0 0;\n",
              "      width: 32px;\n",
              "    }\n",
              "\n",
              "    .colab-df-convert:hover {\n",
              "      background-color: #E2EBFA;\n",
              "      box-shadow: 0px 1px 2px rgba(60, 64, 67, 0.3), 0px 1px 3px 1px rgba(60, 64, 67, 0.15);\n",
              "      fill: #174EA6;\n",
              "    }\n",
              "\n",
              "    .colab-df-buttons div {\n",
              "      margin-bottom: 4px;\n",
              "    }\n",
              "\n",
              "    [theme=dark] .colab-df-convert {\n",
              "      background-color: #3B4455;\n",
              "      fill: #D2E3FC;\n",
              "    }\n",
              "\n",
              "    [theme=dark] .colab-df-convert:hover {\n",
              "      background-color: #434B5C;\n",
              "      box-shadow: 0px 1px 3px 1px rgba(0, 0, 0, 0.15);\n",
              "      filter: drop-shadow(0px 1px 2px rgba(0, 0, 0, 0.3));\n",
              "      fill: #FFFFFF;\n",
              "    }\n",
              "  </style>\n",
              "\n",
              "    <script>\n",
              "      const buttonEl =\n",
              "        document.querySelector('#df-cad97fd7-d8ba-4eba-9eb2-5ba9ba60bb23 button.colab-df-convert');\n",
              "      buttonEl.style.display =\n",
              "        google.colab.kernel.accessAllowed ? 'block' : 'none';\n",
              "\n",
              "      async function convertToInteractive(key) {\n",
              "        const element = document.querySelector('#df-cad97fd7-d8ba-4eba-9eb2-5ba9ba60bb23');\n",
              "        const dataTable =\n",
              "          await google.colab.kernel.invokeFunction('convertToInteractive',\n",
              "                                                    [key], {});\n",
              "        if (!dataTable) return;\n",
              "\n",
              "        const docLinkHtml = 'Like what you see? Visit the ' +\n",
              "          '<a target=\"_blank\" href=https://colab.research.google.com/notebooks/data_table.ipynb>data table notebook</a>'\n",
              "          + ' to learn more about interactive tables.';\n",
              "        element.innerHTML = '';\n",
              "        dataTable['output_type'] = 'display_data';\n",
              "        await google.colab.output.renderOutput(dataTable, element);\n",
              "        const docLink = document.createElement('div');\n",
              "        docLink.innerHTML = docLinkHtml;\n",
              "        element.appendChild(docLink);\n",
              "      }\n",
              "    </script>\n",
              "  </div>\n",
              "\n",
              "\n",
              "<div id=\"df-59816649-af71-4e69-ab7e-3d91714b9862\">\n",
              "  <button class=\"colab-df-quickchart\" onclick=\"quickchart('df-59816649-af71-4e69-ab7e-3d91714b9862')\"\n",
              "            title=\"Suggest charts\"\n",
              "            style=\"display:none;\">\n",
              "\n",
              "<svg xmlns=\"http://www.w3.org/2000/svg\" height=\"24px\"viewBox=\"0 0 24 24\"\n",
              "     width=\"24px\">\n",
              "    <g>\n",
              "        <path d=\"M19 3H5c-1.1 0-2 .9-2 2v14c0 1.1.9 2 2 2h14c1.1 0 2-.9 2-2V5c0-1.1-.9-2-2-2zM9 17H7v-7h2v7zm4 0h-2V7h2v10zm4 0h-2v-4h2v4z\"/>\n",
              "    </g>\n",
              "</svg>\n",
              "  </button>\n",
              "\n",
              "<style>\n",
              "  .colab-df-quickchart {\n",
              "      --bg-color: #E8F0FE;\n",
              "      --fill-color: #1967D2;\n",
              "      --hover-bg-color: #E2EBFA;\n",
              "      --hover-fill-color: #174EA6;\n",
              "      --disabled-fill-color: #AAA;\n",
              "      --disabled-bg-color: #DDD;\n",
              "  }\n",
              "\n",
              "  [theme=dark] .colab-df-quickchart {\n",
              "      --bg-color: #3B4455;\n",
              "      --fill-color: #D2E3FC;\n",
              "      --hover-bg-color: #434B5C;\n",
              "      --hover-fill-color: #FFFFFF;\n",
              "      --disabled-bg-color: #3B4455;\n",
              "      --disabled-fill-color: #666;\n",
              "  }\n",
              "\n",
              "  .colab-df-quickchart {\n",
              "    background-color: var(--bg-color);\n",
              "    border: none;\n",
              "    border-radius: 50%;\n",
              "    cursor: pointer;\n",
              "    display: none;\n",
              "    fill: var(--fill-color);\n",
              "    height: 32px;\n",
              "    padding: 0;\n",
              "    width: 32px;\n",
              "  }\n",
              "\n",
              "  .colab-df-quickchart:hover {\n",
              "    background-color: var(--hover-bg-color);\n",
              "    box-shadow: 0 1px 2px rgba(60, 64, 67, 0.3), 0 1px 3px 1px rgba(60, 64, 67, 0.15);\n",
              "    fill: var(--button-hover-fill-color);\n",
              "  }\n",
              "\n",
              "  .colab-df-quickchart-complete:disabled,\n",
              "  .colab-df-quickchart-complete:disabled:hover {\n",
              "    background-color: var(--disabled-bg-color);\n",
              "    fill: var(--disabled-fill-color);\n",
              "    box-shadow: none;\n",
              "  }\n",
              "\n",
              "  .colab-df-spinner {\n",
              "    border: 2px solid var(--fill-color);\n",
              "    border-color: transparent;\n",
              "    border-bottom-color: var(--fill-color);\n",
              "    animation:\n",
              "      spin 1s steps(1) infinite;\n",
              "  }\n",
              "\n",
              "  @keyframes spin {\n",
              "    0% {\n",
              "      border-color: transparent;\n",
              "      border-bottom-color: var(--fill-color);\n",
              "      border-left-color: var(--fill-color);\n",
              "    }\n",
              "    20% {\n",
              "      border-color: transparent;\n",
              "      border-left-color: var(--fill-color);\n",
              "      border-top-color: var(--fill-color);\n",
              "    }\n",
              "    30% {\n",
              "      border-color: transparent;\n",
              "      border-left-color: var(--fill-color);\n",
              "      border-top-color: var(--fill-color);\n",
              "      border-right-color: var(--fill-color);\n",
              "    }\n",
              "    40% {\n",
              "      border-color: transparent;\n",
              "      border-right-color: var(--fill-color);\n",
              "      border-top-color: var(--fill-color);\n",
              "    }\n",
              "    60% {\n",
              "      border-color: transparent;\n",
              "      border-right-color: var(--fill-color);\n",
              "    }\n",
              "    80% {\n",
              "      border-color: transparent;\n",
              "      border-right-color: var(--fill-color);\n",
              "      border-bottom-color: var(--fill-color);\n",
              "    }\n",
              "    90% {\n",
              "      border-color: transparent;\n",
              "      border-bottom-color: var(--fill-color);\n",
              "    }\n",
              "  }\n",
              "</style>\n",
              "\n",
              "  <script>\n",
              "    async function quickchart(key) {\n",
              "      const quickchartButtonEl =\n",
              "        document.querySelector('#' + key + ' button');\n",
              "      quickchartButtonEl.disabled = true;  // To prevent multiple clicks.\n",
              "      quickchartButtonEl.classList.add('colab-df-spinner');\n",
              "      try {\n",
              "        const charts = await google.colab.kernel.invokeFunction(\n",
              "            'suggestCharts', [key], {});\n",
              "      } catch (error) {\n",
              "        console.error('Error during call to suggestCharts:', error);\n",
              "      }\n",
              "      quickchartButtonEl.classList.remove('colab-df-spinner');\n",
              "      quickchartButtonEl.classList.add('colab-df-quickchart-complete');\n",
              "    }\n",
              "    (() => {\n",
              "      let quickchartButtonEl =\n",
              "        document.querySelector('#df-59816649-af71-4e69-ab7e-3d91714b9862 button');\n",
              "      quickchartButtonEl.style.display =\n",
              "        google.colab.kernel.accessAllowed ? 'block' : 'none';\n",
              "    })();\n",
              "  </script>\n",
              "</div>\n",
              "    </div>\n",
              "  </div>\n"
            ],
            "application/vnd.google.colaboratory.intrinsic+json": {
              "type": "dataframe",
              "variable_name": "data",
              "summary": "{\n  \"name\": \"data\",\n  \"rows\": 44356,\n  \"fields\": [\n    {\n      \"column\": \"text\",\n      \"properties\": {\n        \"dtype\": \"string\",\n        \"num_unique_values\": 44319,\n        \"samples\": [\n          \"\\u0412 \\u041c\\u043e\\u0441\\u043a\\u0432\\u0435 \\u0432 \\u043f\\u044f\\u0442\\u043d\\u0438\\u0446\\u0443, 29 \\u0444\\u0435\\u0432\\u0440\\u0430\\u043b\\u044f, \\u0437\\u0430\\u0434\\u0435\\u0440\\u0436\\u0430\\u043d \\u043e\\u0434\\u0438\\u043d \\u0438\\u0437 \\u043b\\u0438\\u0434\\u0435\\u0440\\u043e\\u0432 \\u043d\\u0430\\u0446\\u0431\\u043e\\u043b\\u043e\\u0432 \\u0412\\u043b\\u0430\\u0434\\u0438\\u043c\\u0438\\u0440 \\u041b\\u0438\\u043d\\u0434\\u0435\\u0440\\u043c\\u0430\\u043d, \\u0438\\u0437\\u0432\\u0435\\u0441\\u0442\\u043d\\u044b\\u0439 \\u0442\\u0430\\u043a\\u0436\\u0435 \\u043a\\u0430\\u043a \\u0410\\u0431\\u0435\\u043b\\u044c. \\u041e\\u0431 \\u044d\\u0442\\u043e\\u043c \\u0441\\u043e\\u043e\\u0431\\u0449\\u0430\\u0435\\u0442 \\u0421\\u043e\\u0431\\u043a\\u043e\\u0440.Ru \\u0441\\u043e \\u0441\\u0441\\u044b\\u043b\\u043a\\u043e\\u0439 \\u043d\\u0430 \\u0441\\u0430\\u043c\\u043e\\u0433\\u043e \\u0410\\u0431\\u0435\\u043b\\u044f. \\u0410\\u0431\\u0435\\u043b\\u044c, \\u0440\\u0430\\u0437\\u044b\\u0441\\u043a\\u0438\\u0432\\u0430\\u0435\\u043c\\u044b\\u0439 \\u043f\\u0440\\u0430\\u0432\\u043e\\u043e\\u0445\\u0440\\u0430\\u043d\\u0438\\u0442\\u0435\\u043b\\u044c\\u043d\\u044b\\u043c\\u0438 \\u043e\\u0440\\u0433\\u0430\\u043d\\u0430\\u043c\\u0438 \\u041b\\u0430\\u0442\\u0432\\u0438\\u0438 \\u043f\\u043e \\u043e\\u0431\\u0432\\u0438\\u043d\\u0435\\u043d\\u0438\\u044e \\u0432 \\u043f\\u043e\\u0434\\u0433\\u043e\\u0442\\u043e\\u0432\\u043a\\u0435 \\u043f\\u043e\\u043a\\u0443\\u0448\\u0435\\u043d\\u0438\\u044f \\u043d\\u0430 \\u043f\\u0440\\u0435\\u0437\\u0438\\u0434\\u0435\\u043d\\u0442\\u0430 \\u0441\\u0442\\u0440\\u0430\\u043d\\u044b, \\u0441 2003 \\u0433\\u043e\\u0434\\u0430 \\u0436\\u0438\\u043b \\u0432 \\u0420\\u043e\\u0441\\u0441\\u0438\\u0438 \\u0438 \\u0434\\u0432\\u0430\\u0436\\u0434\\u044b \\u043f\\u0440\\u043e\\u0441\\u0438\\u043b \\u043f\\u0440\\u0435\\u0434\\u043e\\u0441\\u0442\\u0430\\u0432\\u0438\\u0442\\u044c \\u0435\\u043c\\u0443 \\u043f\\u043e\\u043b\\u0438\\u0442\\u0438\\u0447\\u0435\\u0441\\u043a\\u043e\\u0435 \\u0443\\u0431\\u0435\\u0436\\u0438\\u0449\\u0435, \\u0443\\u0442\\u0432\\u0435\\u0440\\u0436\\u0434\\u0430\\u044f, \\u0447\\u0442\\u043e \\u0435\\u0433\\u043e \\u043f\\u0440\\u0435\\u0441\\u043b\\u0435\\u0434\\u0443\\u044e\\u0442 \\u043f\\u043e \\u043f\\u043e\\u043b\\u0438\\u0442\\u0438\\u0447\\u0435\\u0441\\u043a\\u0438\\u043c \\u043c\\u043e\\u0442\\u0438\\u0432\\u0430\\u043c. \\u0412 \\u0442\\u043e \\u0436\\u0435 \\u0432\\u0440\\u0435\\u043c\\u044f \\u043e\\u043d \\u0430\\u043a\\u0442\\u0438\\u0432\\u043d\\u043e \\u0443\\u0447\\u0430\\u0441\\u0442\\u0432\\u043e\\u0432\\u0430\\u043b \\u0432 \\u0434\\u0435\\u044f\\u0442\\u0435\\u043b\\u044c\\u043d\\u043e\\u0441\\u0442\\u0438 \\u0437\\u0430\\u043f\\u0440\\u0435\\u0449\\u0435\\u043d\\u043d\\u043e\\u0439 \\u041d\\u0430\\u0446\\u0438\\u043e\\u043d\\u0430\\u043b-\\u0431\\u043e\\u043b\\u044c\\u0448\\u0435\\u0432\\u0438\\u0441\\u0442\\u0441\\u043a\\u043e\\u0439 \\u043f\\u0430\\u0440\\u0442\\u0438\\u0438 \\u0438 \\u043e\\u043f\\u043f\\u043e\\u0437\\u0438\\u0446\\u0438\\u043e\\u043d\\u043d\\u043e\\u0439 \\u043a\\u043e\\u0430\\u043b\\u0438\\u0446\\u0438\\u0438 \\\"\\u0414\\u0440\\u0443\\u0433\\u0430\\u044f \\u0420\\u043e\\u0441\\u0441\\u0438\\u044f\\\". \\u041b\\u0435\\u0442\\u043e\\u043c 2006 \\u0433\\u043e\\u0434\\u0430 \\u041a\\u0443\\u0437\\u044c\\u043c\\u0438\\u043d\\u0441\\u043a\\u0438\\u0439 \\u0440\\u0430\\u0439\\u043e\\u043d\\u043d\\u044b\\u0439 \\u0441\\u0443\\u0434 \\u043f\\u043e\\u0441\\u0442\\u0430\\u043d\\u043e\\u0432\\u0438\\u043b \\u0434\\u0435\\u043f\\u043e\\u0440\\u0442\\u0438\\u0440\\u043e\\u0432\\u0430\\u0442\\u044c \\u0410\\u0431\\u0435\\u043b\\u044f \\u0438\\u0437 \\u0420\\u043e\\u0441\\u0441\\u0438\\u0438 \\u0437\\u0430 \\u043d\\u0430\\u0440\\u0443\\u0448\\u0435\\u043d\\u0438\\u0435 \\u043f\\u0430\\u0441\\u043f\\u043e\\u0440\\u0442\\u043d\\u043e\\u0433\\u043e \\u0440\\u0435\\u0436\\u0438\\u043c\\u0430, \\u043d\\u043e \\u043f\\u043e \\u0434\\u043e\\u0440\\u043e\\u0433\\u0435 \\u0432 \\u041b\\u0430\\u0442\\u0432\\u0438\\u044e \\u043e\\u043d \\u043f\\u0440\\u043e\\u043f\\u0430\\u043b. \\u0410\\u0431\\u0435\\u043b\\u044c, \\u043f\\u043e \\u0434\\u0430\\u043d\\u043d\\u044b\\u043c \\u0421\\u043e\\u0431\\u043a\\u043e\\u0440.Ru, \\u0443\\u0436\\u0435 \\u0434\\u043e\\u0441\\u0442\\u0430\\u0432\\u043b\\u0435\\u043d \\u0432 \\u0418\\u0437\\u043c\\u0430\\u0439\\u043b\\u043e\\u0432\\u0441\\u043a\\u0438\\u0439 \\u0441\\u0443\\u0434, \\u043a\\u043e\\u0442\\u043e\\u0440\\u044b\\u0439 \\u0440\\u0435\\u0448\\u0438\\u0442, \\u0441\\u043b\\u0435\\u0434\\u0443\\u0435\\u0442 \\u043b\\u0438 \\u043f\\u043e\\u0432\\u0442\\u043e\\u0440\\u043d\\u043e \\u0434\\u0435\\u043f\\u043e\\u0440\\u0442\\u0438\\u0440\\u043e\\u0432\\u0430\\u0442\\u044c \\u0435\\u0433\\u043e \\u0432 \\u041b\\u0430\\u0442\\u0432\\u0438\\u044e.\",\n          \"\\u0420\\u043e\\u0441\\u0441\\u0438\\u044f \\u0441\\u043f\\u0435\\u0446\\u0438\\u0430\\u043b\\u044c\\u043d\\u043e \\u0437\\u0430\\u043c\\u0435\\u0434\\u043b\\u0438\\u043b\\u0430 \\u043f\\u0435\\u0440\\u0435\\u0433\\u043e\\u0432\\u043e\\u0440\\u044b \\u0441 \\u0421\\u0428\\u0410 \\u043f\\u043e \\u043f\\u0430\\u0440\\u0430\\u043c\\u0435\\u0442\\u0440\\u0430\\u043c \\u0432\\u0441\\u0442\\u0443\\u043f\\u043b\\u0435\\u043d\\u0438\\u044f \\u0432 \\u0412\\u0422\\u041e (World Trade Organisation, WTO). \\u041e\\u0431 \\u044d\\u0442\\u043e\\u043c \\u0437\\u0430\\u044f\\u0432\\u0438\\u043b \\u0433\\u043b\\u0430\\u0432\\u0430 \\u0440\\u043e\\u0441\\u0441\\u0438\\u0439\\u0441\\u043a\\u043e\\u0439 \\u0434\\u0435\\u043b\\u0435\\u0433\\u0430\\u0446\\u0438\\u0438 \\u043d\\u0430 \\u043f\\u0435\\u0440\\u0435\\u0433\\u043e\\u0432\\u043e\\u0440\\u0430\\u0445 \\u043f\\u043e \\u043f\\u0440\\u0438\\u0441\\u043e\\u0435\\u0434\\u0438\\u043d\\u0435\\u043d\\u0438\\u044e \\u043a \\u0412\\u0422\\u041e \\u041c\\u0430\\u043a\\u0441\\u0438\\u043c \\u041c\\u0435\\u0434\\u0432\\u0435\\u0434\\u043a\\u043e\\u0432, \\u043f\\u0438\\u0448\\u0435\\u0442 \\\"\\u0420\\u043e\\u0441\\u0441\\u0438\\u0439\\u0441\\u043a\\u0430\\u044f \\u0433\\u0430\\u0437\\u0435\\u0442\\u0430\\\". \\u0413\\u043b\\u0430\\u0432\\u043d\\u044b\\u0439 \\u043f\\u0435\\u0440\\u0435\\u0433\\u043e\\u0432\\u043e\\u0440\\u0449\\u0438\\u043a \\u043e\\u0442\\u043a\\u0430\\u0437\\u0430\\u043b\\u0441\\u044f \\u0443\\u0442\\u043e\\u0447\\u043d\\u0438\\u0442\\u044c \\u0434\\u0435\\u0442\\u0430\\u043b\\u0438 \\u0437\\u0430\\u043c\\u0435\\u0434\\u043b\\u0435\\u043d\\u0438\\u044f, \\u043d\\u043e \\u0441\\u043a\\u0430\\u0437\\u0430\\u043b, \\u0447\\u0442\\u043e \\u0420\\u043e\\u0441\\u0441\\u0438\\u044f \\u0432\\u0437\\u044f\\u043b\\u0430 \\u043f\\u0430\\u0443\\u0437\\u0443 \\u0438\\u0437-\\u0437\\u0430 \\u0442\\u043e\\u0433\\u043e, \\u0447\\u0442\\u043e \\u043d\\u0435 \\u043c\\u043e\\u0436\\u0435\\u0442 \\u043d\\u0430\\u0439\\u0442\\u0438 \\u0440\\u0435\\u0448\\u0435\\u043d\\u0438\\u044f \\u043d\\u0435\\u0441\\u043a\\u043e\\u043b\\u044c\\u043a\\u0438\\u0445 \\u043f\\u0440\\u043e\\u0431\\u043b\\u0435\\u043c \\u043f\\u043e \\u043f\\u0435\\u0440\\u0435\\u0433\\u043e\\u0432\\u043e\\u0440\\u0430\\u043c \\u043a\\u0430\\u043a \\u0441 \\u0421\\u0428\\u0410, \\u0442\\u0430\\u043a \\u0438 \\u0441 \\u0434\\u0440\\u0443\\u0433\\u0438\\u043c\\u0438 \\u0441\\u0442\\u0440\\u0430\\u043d\\u0430\\u043c\\u0438. \\u041c\\u0435\\u0434\\u0432\\u0435\\u0434\\u043a\\u043e\\u0432 \\u0437\\u0430\\u044f\\u0432\\u0438\\u043b, \\u0447\\u0442\\u043e, \\u0442\\u0435\\u043c \\u043d\\u0435 \\u043c\\u0435\\u043d\\u0435\\u0435, \\u043f\\u0435\\u0440\\u0435\\u0433\\u043e\\u0432\\u043e\\u0440\\u043d\\u044b\\u0439 \\u043f\\u0440\\u043e\\u0446\\u0435\\u0441\\u0441 \\u043d\\u0435 \\u043f\\u0440\\u0435\\u0440\\u0432\\u0430\\u043d \\u0438 \\u0443 \\u0420\\u043e\\u0441\\u0441\\u0438\\u0438 \\u043e\\u0441\\u0442\\u0430\\u0435\\u0442\\u0441\\u044f \\u0442\\u0435\\u0445\\u043d\\u0438\\u0447\\u0435\\u0441\\u043a\\u0430\\u044f \\u0432\\u043e\\u0437\\u043c\\u043e\\u0436\\u043d\\u043e\\u0441\\u0442\\u044c \\u0432\\u0441\\u0442\\u0443\\u043f\\u0438\\u0442\\u044c \\u0432 \\u0442\\u043e\\u0440\\u0433\\u043e\\u0432\\u044b\\u0439 \\u043a\\u043b\\u0443\\u0431 \\u043a \\u043a\\u043e\\u043d\\u0446\\u0443 2006 \\u0433\\u043e\\u0434\\u0430. \\u041c\\u0430\\u043a\\u0441\\u0438\\u043c \\u041c\\u0435\\u0434\\u0432\\u0435\\u0434\\u043a\\u043e\\u0432 \\u0432 \\u043e\\u0447\\u0435\\u0440\\u0435\\u0434\\u043d\\u043e\\u0439 \\u0440\\u0430\\u0437 \\u043f\\u043e\\u0432\\u0442\\u043e\\u0440\\u0438\\u043b, \\u0447\\u0442\\u043e \\u0420\\u043e\\u0441\\u0441\\u0438\\u044f \\u043d\\u0435 \\u0441\\u043e\\u0431\\u0438\\u0440\\u0430\\u0435\\u0442\\u0441\\u044f \\u0438\\u0434\\u0442\\u0438 \\u043d\\u0430 \\u0437\\u043d\\u0430\\u0447\\u0438\\u0442\\u0435\\u043b\\u044c\\u043d\\u044b\\u0435 \\u0443\\u0441\\u0442\\u0443\\u043f\\u043a\\u0438 \\u0421\\u0428\\u0410 \\u0438 \\u043d\\u0435 \\u0431\\u0443\\u0434\\u0435\\u0442 \\u0436\\u0435\\u0440\\u0442\\u0432\\u043e\\u0432\\u0430\\u0442\\u044c \\u0441\\u0432\\u043e\\u0438\\u043c\\u0438 \\u044d\\u043a\\u043e\\u043d\\u043e\\u043c\\u0438\\u0447\\u0435\\u0441\\u043a\\u0438\\u043c\\u0438 \\u0442\\u0440\\u0435\\u0431\\u043e\\u0432\\u0430\\u043d\\u0438\\u044f\\u043c\\u0438 \\u0440\\u0430\\u0434\\u0438 \\u0441\\u043a\\u043e\\u0440\\u0435\\u0439\\u0448\\u0435\\u0433\\u043e \\u0432\\u0441\\u0442\\u0443\\u043f\\u043b\\u0435\\u043d\\u0438\\u044f \\u0432 \\u0412\\u0422\\u041e. \\u0421\\u043b\\u043e\\u0432\\u0430 \\u0433\\u043b\\u0430\\u0432\\u043d\\u043e\\u0433\\u043e \\u043f\\u0435\\u0440\\u0435\\u0433\\u043e\\u0432\\u043e\\u0440\\u0449\\u0438\\u043a\\u0430 \\u0441\\u0442\\u0440\\u0430\\u043d\\u044b \\u043f\\u043e \\u0432\\u0441\\u0442\\u0443\\u043f\\u043b\\u0435\\u043d\\u0438\\u044e \\u0432 \\u0412\\u0422\\u041e \\u043f\\u0440\\u0430\\u043a\\u0442\\u0438\\u0447\\u0435\\u0441\\u043a\\u0438 \\u043f\\u043e\\u043b\\u043d\\u043e\\u0441\\u0442\\u044c\\u044e \\u0441\\u043e\\u0432\\u043f\\u0430\\u0434\\u0430\\u044e\\u0442 \\u0441 \\u043c\\u043d\\u0435\\u043d\\u0438\\u0435\\u043c \\u0441\\u043f\\u0438\\u043a\\u0435\\u0440\\u0430 \\u0413\\u043e\\u0441\\u0434\\u0443\\u043c\\u044b \\u0411\\u043e\\u0440\\u0438\\u0441\\u0430 \\u0413\\u0440\\u044b\\u0437\\u043b\\u043e\\u0432\\u0430. \\u041d\\u0430\\u043a\\u0430\\u043d\\u0443\\u043d\\u0435 \\u043e\\u043d \\u0437\\u0430\\u044f\\u0432\\u0438\\u043b, \\u0447\\u0442\\u043e \\u043f\\u0440\\u0438\\u0441\\u043e\\u0435\\u0434\\u0438\\u043d\\u0435\\u043d\\u0438\\u0435 \\u043a \\u0442\\u043e\\u0440\\u0433\\u043e\\u0432\\u043e\\u043c\\u0443 \\u043a\\u043b\\u0443\\u0431\\u0443 \\u043d\\u0435 \\u043c\\u043e\\u0436\\u0435\\u0442 \\u044f\\u0432\\u043b\\u044f\\u0442\\u044c\\u0441\\u044f \\u0434\\u043b\\u044f \\u0420\\u043e\\u0441\\u0441\\u0438\\u0438 \\u0441\\u0430\\u043c\\u043e\\u0446\\u0435\\u043b\\u044c\\u044e \\u0438 \\u043e\\u0442\\u0432\\u0435\\u0440\\u0433 \\u0432\\u043e\\u0437\\u043c\\u043e\\u0436\\u043d\\u044b\\u0435 \\u043a\\u043e\\u043c\\u043f\\u0440\\u043e\\u043c\\u0438\\u0441\\u0441\\u044b \\u0441 \\u0421\\u0428\\u0410. \\u041d\\u0435\\u0441\\u043a\\u043e\\u043b\\u044c\\u043a\\u043e \\u0434\\u043d\\u0435\\u0439 \\u043d\\u0430\\u0437\\u0430\\u0434 \\u0433\\u043b\\u0430\\u0432\\u0430 \\u0441\\u0435\\u043d\\u0430\\u0442\\u0441\\u043a\\u043e\\u0433\\u043e \\u0431\\u043e\\u043b\\u044c\\u0448\\u0438\\u043d\\u0441\\u0442\\u0432\\u0430 \\u0421\\u0428\\u0410 \\u0440\\u0435\\u0441\\u043f\\u0443\\u0431\\u043b\\u0438\\u043a\\u0430\\u043d\\u0435\\u0446 \\u0411\\u0438\\u043b\\u043b \\u0424\\u0440\\u0438\\u0441\\u0442 (Bill Frist) \\u0441\\u0432\\u044f\\u0437\\u0430\\u043b \\u0432\\u043e\\u0437\\u043c\\u043e\\u0436\\u043d\\u043e\\u0441\\u0442\\u044c \\u0432\\u0441\\u0442\\u0443\\u043f\\u043b\\u0435\\u043d\\u0438\\u044f \\u0420\\u043e\\u0441\\u0441\\u0438\\u0438 \\u0432 \\u0412\\u0422\\u041e \\u043d\\u0435 \\u0442\\u043e\\u043b\\u044c\\u043a\\u043e \\u0441 \\u044d\\u043a\\u043e\\u043d\\u043e\\u043c\\u0438\\u0447\\u0435\\u0441\\u043a\\u0438\\u043c\\u0438, \\u043d\\u043e \\u0438 \\u0441 \\u043f\\u043e\\u043b\\u0438\\u0442\\u0438\\u0447\\u0435\\u0441\\u043a\\u0438\\u043c\\u0438 \\u043f\\u0440\\u043e\\u0431\\u043b\\u0435\\u043c\\u0430\\u043c\\u0438, \\u0432 \\u0447\\u0430\\u0441\\u0442\\u043d\\u043e\\u0441\\u0442\\u0438, \\u043f\\u043e\\u0437\\u0438\\u0446\\u0438\\u0438 \\u0441\\u0442\\u0440\\u0430\\u043d\\u044b \\u043f\\u043e \\u044f\\u0434\\u0435\\u0440\\u043d\\u043e\\u0439 \\u043f\\u0440\\u043e\\u0433\\u0440\\u0430\\u043c\\u043c\\u0435 \\u0418\\u0440\\u0430\\u043d\\u0430 \\u0438 \\u0441\\u0432\\u043e\\u0431\\u043e\\u0434\\u0435 \\u0441\\u043b\\u043e\\u0432\\u0430. \\u0420\\u043e\\u0441\\u0441\\u0438\\u044f \\u043f\\u044b\\u0442\\u0430\\u0435\\u0442\\u0441\\u044f \\u0432\\u0441\\u0442\\u0443\\u043f\\u0438\\u0442\\u044c \\u0432 \\u0412\\u0422\\u041e \\u0441 1994 \\u0433\\u043e\\u0434\\u0430.\\u041d\\u0430 \\u0434\\u0430\\u043d\\u043d\\u044b\\u0439 \\u043c\\u043e\\u043c\\u0435\\u043d\\u0442 \\u043e\\u0441\\u043d\\u043e\\u0432\\u043d\\u044b\\u043c \\u043f\\u0440\\u0435\\u043f\\u044f\\u0442\\u0441\\u0442\\u0432\\u0438\\u0435\\u043c \\u043a \\u0447\\u043b\\u0435\\u043d\\u0441\\u0442\\u0432\\u0443 \\u0432 \\u0412\\u0422\\u041e \\u044f\\u0432\\u043b\\u044f\\u0435\\u0442\\u0441\\u044f \\u043f\\u043e\\u0437\\u0438\\u0446\\u0438\\u044f \\u0421\\u0428\\u0410.\",\n          \"\\u0412 \\u0430\\u043c\\u0435\\u0440\\u0438\\u043a\\u0430\\u043d\\u0441\\u043a\\u043e\\u043c \\u0448\\u0442\\u0430\\u0442\\u0435 \\u0424\\u043b\\u043e\\u0440\\u0438\\u0434\\u0430 \\u0434\\u0432\\u043e\\u0435 \\u0437\\u043b\\u043e\\u0443\\u043c\\u044b\\u0448\\u043b\\u0435\\u043d\\u043d\\u0438\\u043a\\u043e\\u0432 \\u043f\\u043e\\u0445\\u0438\\u0442\\u0438\\u043b\\u0438 \\u043c\\u0430\\u0448\\u0438\\u043d\\u0443 \\u0434\\u043b\\u044f \\u043f\\u0435\\u0440\\u0435\\u0441\\u0447\\u0435\\u0442\\u0430 \\u0431\\u044e\\u043b\\u043b\\u0435\\u0442\\u0435\\u043d\\u0438\\u0439 \\u0441 \\u043e\\u0434\\u043d\\u043e\\u0433\\u043e \\u0438\\u0437 \\u0438\\u0437\\u0431\\u0438\\u0440\\u0430\\u0442\\u0435\\u043b\\u044c\\u043d\\u044b\\u0445 \\u0443\\u0447\\u0430\\u0441\\u0442\\u043a\\u043e\\u0432 \\u0432 \\u0433\\u0440\\u0430\\u0444\\u0441\\u0442\\u0432\\u0435 \\u041f\\u0430\\u043b\\u043c \\u0411\\u0438\\u0447, \\u0441\\u043e\\u043e\\u0431\\u0449\\u0430\\u0435\\u0442 \\u0420\\u0418\\u0410 \\\"\\u041d\\u043e\\u0432\\u043e\\u0441\\u0442\\u0438\\\". \\u041f\\u0440\\u0435\\u0441\\u0442\\u0443\\u043f\\u043d\\u0438\\u043a\\u0438 \\u043f\\u043e\\u043f\\u044b\\u0442\\u0430\\u043b\\u0438\\u0441\\u044c \\u043f\\u0440\\u043e\\u0434\\u0430\\u0442\\u044c \\u043c\\u0430\\u0448\\u0438\\u043d\\u0443 \\u0437\\u0430 20 \\u0442\\u044b\\u0441\\u044f\\u0447 \\u0434\\u043e\\u043b\\u043b\\u0430\\u0440\\u043e\\u0432 \\u0447\\u0435\\u0440\\u0435\\u0437 \\u0430\\u043d\\u043e\\u043d\\u0438\\u043c\\u043d\\u044b\\u0439 \\u0430\\u0443\\u043a\\u0446\\u0438\\u043e\\u043d \\u043d\\u0430 \\u043e\\u0434\\u043d\\u043e\\u043c \\u0438\\u0437 \\u0441\\u0430\\u0439\\u0442\\u043e\\u0432 \\u0432 \\u0418\\u043d\\u0442\\u0435\\u0440\\u043d\\u0435\\u0442\\u0435. \\u041e\\u043d\\u0438 \\u0431\\u044b\\u043b\\u0438 \\u043f\\u043e\\u0439\\u043c\\u0430\\u043d\\u044b \\u0441 \\u043f\\u043e\\u043b\\u0438\\u0447\\u043d\\u044b\\u043c \\u0432 \\u043c\\u043e\\u043c\\u0435\\u043d\\u0442 \\u043f\\u0435\\u0440\\u0435\\u0434\\u0430\\u0447\\u0438 \\u0430\\u043f\\u043f\\u043f\\u0430\\u0440\\u0430\\u0442\\u0430 \\\"\\u043f\\u043e\\u043a\\u0443\\u043f\\u0430\\u0442\\u0435\\u043b\\u044f\\u043c\\\", \\u043a\\u043e\\u0442\\u043e\\u0440\\u044b\\u043c\\u0438 \\u0431\\u044b\\u043b\\u0438 \\u043f\\u0435\\u0440\\u0435\\u043e\\u0434\\u0435\\u0442\\u044b\\u0435 \\u043f\\u0440\\u0435\\u0434\\u0441\\u0442\\u0430\\u0432\\u0438\\u0442\\u0435\\u043b\\u0438 \\u043f\\u0440\\u0430\\u0432\\u043e\\u043e\\u0445\\u0440\\u0430\\u043d\\u0438\\u0442\\u0435\\u043b\\u044c\\u043d\\u044b\\u0445 \\u043e\\u0440\\u0433\\u0430\\u043d\\u043e\\u0432. \\u041f\\u043e \\u0437\\u0430\\u043a\\u043e\\u043d\\u0430\\u043c \\u0421\\u0428\\u0410 \\u043e\\u0431\\u043b\\u0430\\u0434\\u0430\\u043d\\u0438\\u0435 \\u0447\\u0430\\u0441\\u0442\\u043d\\u044b\\u043c \\u043b\\u0438\\u0446\\u043e\\u043c \\u0441\\u0447\\u0435\\u0442\\u043d\\u043e\\u0439 \\u043c\\u0430\\u0448\\u0438\\u043d\\u043e\\u0439 \\u0434\\u043b\\u044f \\u043e\\u0431\\u0440\\u0430\\u0431\\u043e\\u0442\\u043a\\u0438 \\u0438\\u0437\\u0431\\u0438\\u0440\\u0430\\u0442\\u0435\\u043b\\u044c\\u043d\\u044b\\u0445 \\u0431\\u044e\\u043b\\u043b\\u0435\\u0442\\u0435\\u043d\\u0438\\u0439 \\u044f\\u0432\\u043b\\u044f\\u0435\\u0442\\u0441\\u044f \\u043f\\u0440\\u0435\\u0441\\u0442\\u0443\\u043f\\u043b\\u0435\\u043d\\u0438\\u0435\\u043c, \\u043f\\u0435\\u0440\\u0435\\u0434\\u0430\\u0435\\u0442 \\u0430\\u0433\\u0435\\u043d\\u0442\\u0441\\u0442\\u0432\\u043e.\"\n        ],\n        \"semantic_type\": \"\",\n        \"description\": \"\"\n      }\n    },\n    {\n      \"column\": \"topic\",\n      \"properties\": {\n        \"dtype\": \"category\",\n        \"num_unique_values\": 19,\n        \"samples\": [\n          \"\\u0421\\u043f\\u043e\\u0440\\u0442\",\n          \"\\u0421\\u0438\\u043b\\u043e\\u0432\\u044b\\u0435 \\u0441\\u0442\\u0440\\u0443\\u043a\\u0442\\u0443\\u0440\\u044b\",\n          \"\\u0414\\u043e\\u043c\"\n        ],\n        \"semantic_type\": \"\",\n        \"description\": \"\"\n      }\n    }\n  ]\n}"
            }
          },
          "metadata": {},
          "execution_count": 4
        }
      ]
    },
    {
      "cell_type": "markdown",
      "source": [
        "### Препроцессинг (для обучения)"
      ],
      "metadata": {
        "id": "Yvkx8XlowxfD"
      },
      "id": "Yvkx8XlowxfD"
    },
    {
      "cell_type": "code",
      "source": [
        "# \"лингвистический\" препроцессинг минимальный\n",
        "def preprocess(text):\n",
        "    tokens = text.lower().split()\n",
        "    tokens = [token.strip(punctuation) for token in tokens]\n",
        "    return tokens"
      ],
      "metadata": {
        "id": "Yjxfw54sw1bt"
      },
      "id": "Yjxfw54sw1bt",
      "execution_count": 5,
      "outputs": []
    },
    {
      "cell_type": "code",
      "source": [
        "# словарь\n",
        "vocab = Counter()\n",
        "\n",
        "for text in data.text:\n",
        "    vocab.update(preprocess(text))\n",
        "print(len(vocab))"
      ],
      "metadata": {
        "id": "0m3phw3jw2RU",
        "colab": {
          "base_uri": "https://localhost:8080/"
        },
        "outputId": "b3610945-d31e-42d4-a5b1-0c16eac0ce6f"
      },
      "id": "0m3phw3jw2RU",
      "execution_count": 6,
      "outputs": [
        {
          "output_type": "stream",
          "name": "stdout",
          "text": [
            "354611\n"
          ]
        }
      ]
    },
    {
      "cell_type": "code",
      "source": [
        "# отфильтрованный словарь\n",
        "filtered_vocab = set()\n",
        "\n",
        "for word in vocab:\n",
        "    if vocab[word] > 30:\n",
        "        filtered_vocab.add(word)\n",
        "print(len(filtered_vocab))"
      ],
      "metadata": {
        "id": "qiBn71JZw9rc",
        "colab": {
          "base_uri": "https://localhost:8080/"
        },
        "outputId": "f3ed894c-de79-41e8-f6e0-4fcc44d44dc4"
      },
      "id": "qiBn71JZw9rc",
      "execution_count": 7,
      "outputs": [
        {
          "output_type": "stream",
          "name": "stdout",
          "text": [
            "24091\n"
          ]
        }
      ]
    },
    {
      "cell_type": "code",
      "source": [
        "# индексируем слова\n",
        "word2id = {'PAD': 0}\n",
        "\n",
        "for word in filtered_vocab:\n",
        "    word2id[word] = len(word2id)\n",
        "\n",
        "id2word = {i: word for word, i in word2id.items()}\n",
        "print([id2word[i] for i in range(5)])"
      ],
      "metadata": {
        "id": "H-If4eVExEvz",
        "colab": {
          "base_uri": "https://localhost:8080/"
        },
        "outputId": "6851cd42-77db-4e6c-a007-5186e2935b9b"
      },
      "id": "H-If4eVExEvz",
      "execution_count": 8,
      "outputs": [
        {
          "output_type": "stream",
          "name": "stdout",
          "text": [
            "['PAD', '', 'рафаэль', 'сорвался', 'пускать']\n"
          ]
        }
      ]
    },
    {
      "cell_type": "code",
      "source": [
        "# переводим тексты в последовательности индексов\n",
        "X = []\n",
        "\n",
        "for text in data.text:\n",
        "    tokens = preprocess(text)\n",
        "    ids = [word2id.get(token, 1) for token in tokens]\n",
        "    X.append(ids)\n",
        "\n",
        "MAX_LEN = max(len(x) for x in X)\n",
        "print(MAX_LEN)"
      ],
      "metadata": {
        "id": "TZMghNBJxMMr",
        "colab": {
          "base_uri": "https://localhost:8080/"
        },
        "outputId": "13b5ecc8-e9fe-4435-d5fc-06e1380981ca"
      },
      "id": "TZMghNBJxMMr",
      "execution_count": 9,
      "outputs": [
        {
          "output_type": "stream",
          "name": "stdout",
          "text": [
            "1748\n"
          ]
        }
      ]
    },
    {
      "cell_type": "code",
      "source": [
        "# Можно посчитать среднюю или медианную длину,\n",
        "# если максимальная кажется слишком большой\n",
        "\n",
        "MEAN_LEN = np.median([len(x) for x in X])\n",
        "print(MEAN_LEN)\n",
        "\n",
        "QUARTILE_LEN = np.percentile(a=[len(x) for x in X], q=95)\n",
        "print(QUARTILE_LEN)\n",
        "\n",
        "MAX_LEN = int((MEAN_LEN + QUARTILE_LEN) / 2)\n",
        "print(MAX_LEN)"
      ],
      "metadata": {
        "id": "2L3kZbddxNr8",
        "colab": {
          "base_uri": "https://localhost:8080/"
        },
        "outputId": "c32d8611-b8e1-49c9-8a1f-22869c38d947"
      },
      "id": "2L3kZbddxNr8",
      "execution_count": 10,
      "outputs": [
        {
          "output_type": "stream",
          "name": "stdout",
          "text": [
            "170.0\n",
            "304.0\n",
            "237\n"
          ]
        }
      ]
    },
    {
      "cell_type": "code",
      "source": [
        "# паддинг\n",
        "X = keras.preprocessing.sequence.pad_sequences(X, maxlen=MAX_LEN)\n",
        "print(X.shape)"
      ],
      "metadata": {
        "id": "Y3QhmA-dywYr",
        "colab": {
          "base_uri": "https://localhost:8080/"
        },
        "outputId": "f8d91fb9-3af9-4b48-9ab8-3fad6c8a472c"
      },
      "id": "Y3QhmA-dywYr",
      "execution_count": 11,
      "outputs": [
        {
          "output_type": "stream",
          "name": "stdout",
          "text": [
            "(44356, 237)\n"
          ]
        }
      ]
    },
    {
      "cell_type": "code",
      "source": [
        "# индексируем классы, которые надо угадывать\n",
        "id2label = {i:label for i, label in enumerate(set(data.topic.values))}\n",
        "label2id = {l:i for i, l in id2label.items()}\n",
        "print([id2label[i] for i in range(5)])"
      ],
      "metadata": {
        "id": "EEWfGghtzGht",
        "colab": {
          "base_uri": "https://localhost:8080/"
        },
        "outputId": "ad035244-3485-4f6f-f663-620f3a000e54"
      },
      "id": "EEWfGghtzGht",
      "execution_count": 12,
      "outputs": [
        {
          "output_type": "stream",
          "name": "stdout",
          "text": [
            "['Из жизни', 'Наука и техника', 'Библиотека', 'Бизнес', 'Культпросвет ']\n"
          ]
        }
      ]
    },
    {
      "cell_type": "code",
      "source": [
        "# записываем классы в формат кераса\n",
        "y = keras.utils.to_categorical([label2id[label] for label in data.topic.values])\n",
        "print(len(label2id))"
      ],
      "metadata": {
        "id": "yphzCQGMztZ0",
        "colab": {
          "base_uri": "https://localhost:8080/"
        },
        "outputId": "0dcf2e86-6aff-470e-dc45-464374820245"
      },
      "id": "yphzCQGMztZ0",
      "execution_count": 13,
      "outputs": [
        {
          "output_type": "stream",
          "name": "stdout",
          "text": [
            "19\n"
          ]
        }
      ]
    },
    {
      "cell_type": "code",
      "source": [
        "# Добавим стратификацию, т.к. в данных у нас дисбаланс классов\n",
        "# Из документации: stratify: array-like object, by default it is None\n",
        "# If None is selected, the data is stratified using these as class labels\n",
        "\n",
        "X_train, X_valid, y_train, y_valid = train_test_split(X, y, test_size=0.05)"
      ],
      "metadata": {
        "id": "7chwToTf0Khj"
      },
      "id": "7chwToTf0Khj",
      "execution_count": 14,
      "outputs": []
    },
    {
      "cell_type": "markdown",
      "source": [
        "### Обучение нейросети\n",
        "### Задание 1 (8 баллов)\n",
        "Обучите модель с минимум 15 слоями, где у каждого слоя разные параметры (Dropout, Conv1d и Pooling, Dense считаются слоями, остальное нет, но их тоже можно использовать). Как минимум 4 слоя должны быть наложены друг на друга и как минимум 2 параллельных слоя (последовательности слоев). Должен быть хотя бы один слой каждого типа.\n",
        "\n",
        "При обучении используйте колбек для отслеживания лучшей модели. Ориентируйтесь на Recall@Precision меру. Качество модели не должно быть околонулевым. Если метрики не растут, то попробуйте пообучать подольше или перестроить саму сеть.\n",
        "\n",
        "Советы: Начните с небольших сетей и постепенно добавляйте, не пытайтесь сразу собрать все слои. Иногда кернел может крашиться просто так или из-за слишком больших матриц."
      ],
      "metadata": {
        "id": "yDwS3z971TY1"
      },
      "id": "yDwS3z971TY1"
    },
    {
      "cell_type": "markdown",
      "source": [
        "**Справка из семинара**\n",
        "\n",
        "...сверточным слоем. В керасе они называются Conv1D (2D тоже есть, они используются для картинок). Их нужно ставить сразу после Embedding слоя.\n",
        "\n",
        "Сверточные слои можно накладывать друг на друга.\n",
        "\n",
        "Давайте еще разберем параметры:\n",
        "- **kernel_size** - это размер кусочков, к которым мы применяем сверточные матрицы (похоже на размер нграмма)\n",
        "- **filters** - количество матриц свертки (это как бы размерность до которой будет сжат или развернут вектор)\n",
        "- **stride** - шаг по которому выбираются кусочки из последовательности (это как параметр шаг в функции range в питоне)\n",
        "\n",
        "Со сверточными слоями часто используется Pooling. Это тоже своего рода свертка, но без обучаемых параметров. В пулингах используется какое-то правило, по которому из чисел в каком-то окне выбирается 1 число (т.е. происходит свертка). В качестве правила используется максимум или среднее. Pooling слой ставят после сверточного.\n",
        "\n",
        "Еще один параметр в сверточном слое - padding. Так как мы проходим каким-то окном по последовательности, на выходе последовательность сокращается. Но мы можем добавить нулей в начало и конец, чтобы на выходе было такое же число (padding='same').\n",
        "\n",
        "Так мы можем наслаивать огромное количество слоев (она не уменьшается на каждом шаге).\n",
        "\n",
        "Можно отдельно посмотреть, что делает паддинг в случае тензоров. Есть отдельный слой, который позволяет контролировать, куда и сколько паддить.\n",
        "\n",
        "Теперь используем ZeroPadding1D чтобы добавить по два эмбеддинга с каждой стороны в каждый текст."
      ],
      "metadata": {
        "id": "Y832ytffaOkZ"
      },
      "id": "Y832ytffaOkZ"
    },
    {
      "cell_type": "code",
      "source": [
        "# определяем будущую архитектуру\n",
        "\n",
        "inputs = keras.layers.Input(shape=(MAX_LEN,))\n",
        "embeddings = keras.layers.Embedding(\n",
        "    input_dim=len(word2id), output_dim=100)(inputs, )\n",
        "\n",
        "# мы делаем несколько параллельных сверточных слоев (даже пар слоев с пулингом) с разным окном\n",
        "# но из-за того, что мы сделали паддинг, длинна получается одинаковая и мы можем сконкатенировать\n",
        "# векторы по второй размерности (так же как вы склеивали эбмединги от фастекста и ворд2века в предыдущей домашке)\n",
        "\n",
        "convs = []\n",
        "for ks in [2,3,4,5,6]:\n",
        "    conv1 = keras.layers.Conv1D(\n",
        "        kernel_size=ks, filters=32, padding='same',strides=1)(embeddings)\n",
        "    pool1 = keras.layers.AveragePooling1D(pool_size=3)(conv1)\n",
        "    convs.append(pool1)\n",
        "concat = keras.layers.concatenate(convs, axis=2)\n",
        "\n",
        "drop = keras.layers.Dropout(0.25)(concat) # это значит что случайно заменяется половина всех значений\n",
        "\n",
        "# а тут мы можем поставить еще свертку\n",
        "conv_global = keras.layers.Conv1D(kernel_size=5, filters=24, strides=1)(drop)\n",
        "pool2 = keras.layers.AveragePooling1D(pool_size=5)(conv_global)\n",
        "\n",
        "# выход со сверточного слоя также можно просто конкатенировать\n",
        "flatten = keras.layers.Flatten()(pool2)\n",
        "\n",
        "dense = keras.layers.Dense(48, activation='relu')(flatten)\n",
        "outputs = keras.layers.Dense(len(label2id), activation='softmax')(dense)"
      ],
      "metadata": {
        "id": "i7puZoZw1aa9"
      },
      "id": "i7puZoZw1aa9",
      "execution_count": 54,
      "outputs": []
    },
    {
      "cell_type": "code",
      "source": [
        "# создадим по архитектуре модель, создадим оптимизатор, скомпилируем\n",
        "model = keras.Model(inputs=inputs, outputs=outputs)\n",
        "optimizer = keras.optimizers.Adam(learning_rate=0.001)\n",
        "\n",
        "model.compile(optimizer=optimizer,\n",
        "              loss='binary_crossentropy',\n",
        "              metrics=[keras.metrics.RecallAtPrecision(0.8, name='rec@prec')])"
      ],
      "metadata": {
        "id": "smFtkiy8ZLAK"
      },
      "id": "smFtkiy8ZLAK",
      "execution_count": 55,
      "outputs": []
    },
    {
      "cell_type": "code",
      "source": [
        "model.summary()"
      ],
      "metadata": {
        "colab": {
          "base_uri": "https://localhost:8080/",
          "height": 927
        },
        "id": "LE15WqfMlhAm",
        "outputId": "2826bb18-772f-4bb3-a32b-2f2fb112d730"
      },
      "id": "LE15WqfMlhAm",
      "execution_count": 56,
      "outputs": [
        {
          "output_type": "display_data",
          "data": {
            "text/plain": [
              "\u001b[1mModel: \"functional_9\"\u001b[0m\n"
            ],
            "text/html": [
              "<pre style=\"white-space:pre;overflow-x:auto;line-height:normal;font-family:Menlo,'DejaVu Sans Mono',consolas,'Courier New',monospace\"><span style=\"font-weight: bold\">Model: \"functional_9\"</span>\n",
              "</pre>\n"
            ]
          },
          "metadata": {}
        },
        {
          "output_type": "display_data",
          "data": {
            "text/plain": [
              "┏━━━━━━━━━━━━━━━━━━━━━━━━━━━┳━━━━━━━━━━━━━━━━━━━━━━━━┳━━━━━━━━━━━━━━━━┳━━━━━━━━━━━━━━━━━━━━━━━━┓\n",
              "┃\u001b[1m \u001b[0m\u001b[1mLayer (type)             \u001b[0m\u001b[1m \u001b[0m┃\u001b[1m \u001b[0m\u001b[1mOutput Shape          \u001b[0m\u001b[1m \u001b[0m┃\u001b[1m \u001b[0m\u001b[1m       Param #\u001b[0m\u001b[1m \u001b[0m┃\u001b[1m \u001b[0m\u001b[1mConnected to          \u001b[0m\u001b[1m \u001b[0m┃\n",
              "┡━━━━━━━━━━━━━━━━━━━━━━━━━━━╇━━━━━━━━━━━━━━━━━━━━━━━━╇━━━━━━━━━━━━━━━━╇━━━━━━━━━━━━━━━━━━━━━━━━┩\n",
              "│ input_layer_10            │ (\u001b[38;5;45mNone\u001b[0m, \u001b[38;5;34m237\u001b[0m)            │              \u001b[38;5;34m0\u001b[0m │ -                      │\n",
              "│ (\u001b[38;5;33mInputLayer\u001b[0m)              │                        │                │                        │\n",
              "├───────────────────────────┼────────────────────────┼────────────────┼────────────────────────┤\n",
              "│ embedding_10 (\u001b[38;5;33mEmbedding\u001b[0m)  │ (\u001b[38;5;45mNone\u001b[0m, \u001b[38;5;34m237\u001b[0m, \u001b[38;5;34m100\u001b[0m)       │      \u001b[38;5;34m2,409,200\u001b[0m │ input_layer_10[\u001b[38;5;34m0\u001b[0m][\u001b[38;5;34m0\u001b[0m]   │\n",
              "├───────────────────────────┼────────────────────────┼────────────────┼────────────────────────┤\n",
              "│ conv1d_76 (\u001b[38;5;33mConv1D\u001b[0m)        │ (\u001b[38;5;45mNone\u001b[0m, \u001b[38;5;34m237\u001b[0m, \u001b[38;5;34m32\u001b[0m)        │          \u001b[38;5;34m6,432\u001b[0m │ embedding_10[\u001b[38;5;34m0\u001b[0m][\u001b[38;5;34m0\u001b[0m]     │\n",
              "├───────────────────────────┼────────────────────────┼────────────────┼────────────────────────┤\n",
              "│ conv1d_77 (\u001b[38;5;33mConv1D\u001b[0m)        │ (\u001b[38;5;45mNone\u001b[0m, \u001b[38;5;34m237\u001b[0m, \u001b[38;5;34m32\u001b[0m)        │          \u001b[38;5;34m9,632\u001b[0m │ embedding_10[\u001b[38;5;34m0\u001b[0m][\u001b[38;5;34m0\u001b[0m]     │\n",
              "├───────────────────────────┼────────────────────────┼────────────────┼────────────────────────┤\n",
              "│ conv1d_78 (\u001b[38;5;33mConv1D\u001b[0m)        │ (\u001b[38;5;45mNone\u001b[0m, \u001b[38;5;34m237\u001b[0m, \u001b[38;5;34m32\u001b[0m)        │         \u001b[38;5;34m12,832\u001b[0m │ embedding_10[\u001b[38;5;34m0\u001b[0m][\u001b[38;5;34m0\u001b[0m]     │\n",
              "├───────────────────────────┼────────────────────────┼────────────────┼────────────────────────┤\n",
              "│ conv1d_79 (\u001b[38;5;33mConv1D\u001b[0m)        │ (\u001b[38;5;45mNone\u001b[0m, \u001b[38;5;34m237\u001b[0m, \u001b[38;5;34m32\u001b[0m)        │         \u001b[38;5;34m16,032\u001b[0m │ embedding_10[\u001b[38;5;34m0\u001b[0m][\u001b[38;5;34m0\u001b[0m]     │\n",
              "├───────────────────────────┼────────────────────────┼────────────────┼────────────────────────┤\n",
              "│ conv1d_80 (\u001b[38;5;33mConv1D\u001b[0m)        │ (\u001b[38;5;45mNone\u001b[0m, \u001b[38;5;34m237\u001b[0m, \u001b[38;5;34m32\u001b[0m)        │         \u001b[38;5;34m19,232\u001b[0m │ embedding_10[\u001b[38;5;34m0\u001b[0m][\u001b[38;5;34m0\u001b[0m]     │\n",
              "├───────────────────────────┼────────────────────────┼────────────────┼────────────────────────┤\n",
              "│ average_pooling1d_42      │ (\u001b[38;5;45mNone\u001b[0m, \u001b[38;5;34m79\u001b[0m, \u001b[38;5;34m32\u001b[0m)         │              \u001b[38;5;34m0\u001b[0m │ conv1d_76[\u001b[38;5;34m0\u001b[0m][\u001b[38;5;34m0\u001b[0m]        │\n",
              "│ (\u001b[38;5;33mAveragePooling1D\u001b[0m)        │                        │                │                        │\n",
              "├───────────────────────────┼────────────────────────┼────────────────┼────────────────────────┤\n",
              "│ average_pooling1d_43      │ (\u001b[38;5;45mNone\u001b[0m, \u001b[38;5;34m79\u001b[0m, \u001b[38;5;34m32\u001b[0m)         │              \u001b[38;5;34m0\u001b[0m │ conv1d_77[\u001b[38;5;34m0\u001b[0m][\u001b[38;5;34m0\u001b[0m]        │\n",
              "│ (\u001b[38;5;33mAveragePooling1D\u001b[0m)        │                        │                │                        │\n",
              "├───────────────────────────┼────────────────────────┼────────────────┼────────────────────────┤\n",
              "│ average_pooling1d_44      │ (\u001b[38;5;45mNone\u001b[0m, \u001b[38;5;34m79\u001b[0m, \u001b[38;5;34m32\u001b[0m)         │              \u001b[38;5;34m0\u001b[0m │ conv1d_78[\u001b[38;5;34m0\u001b[0m][\u001b[38;5;34m0\u001b[0m]        │\n",
              "│ (\u001b[38;5;33mAveragePooling1D\u001b[0m)        │                        │                │                        │\n",
              "├───────────────────────────┼────────────────────────┼────────────────┼────────────────────────┤\n",
              "│ average_pooling1d_45      │ (\u001b[38;5;45mNone\u001b[0m, \u001b[38;5;34m79\u001b[0m, \u001b[38;5;34m32\u001b[0m)         │              \u001b[38;5;34m0\u001b[0m │ conv1d_79[\u001b[38;5;34m0\u001b[0m][\u001b[38;5;34m0\u001b[0m]        │\n",
              "│ (\u001b[38;5;33mAveragePooling1D\u001b[0m)        │                        │                │                        │\n",
              "├───────────────────────────┼────────────────────────┼────────────────┼────────────────────────┤\n",
              "│ average_pooling1d_46      │ (\u001b[38;5;45mNone\u001b[0m, \u001b[38;5;34m79\u001b[0m, \u001b[38;5;34m32\u001b[0m)         │              \u001b[38;5;34m0\u001b[0m │ conv1d_80[\u001b[38;5;34m0\u001b[0m][\u001b[38;5;34m0\u001b[0m]        │\n",
              "│ (\u001b[38;5;33mAveragePooling1D\u001b[0m)        │                        │                │                        │\n",
              "├───────────────────────────┼────────────────────────┼────────────────┼────────────────────────┤\n",
              "│ concatenate_10            │ (\u001b[38;5;45mNone\u001b[0m, \u001b[38;5;34m79\u001b[0m, \u001b[38;5;34m160\u001b[0m)        │              \u001b[38;5;34m0\u001b[0m │ average_pooling1d_42[\u001b[38;5;34m…\u001b[0m │\n",
              "│ (\u001b[38;5;33mConcatenate\u001b[0m)             │                        │                │ average_pooling1d_43[\u001b[38;5;34m…\u001b[0m │\n",
              "│                           │                        │                │ average_pooling1d_44[\u001b[38;5;34m…\u001b[0m │\n",
              "│                           │                        │                │ average_pooling1d_45[\u001b[38;5;34m…\u001b[0m │\n",
              "│                           │                        │                │ average_pooling1d_46[\u001b[38;5;34m…\u001b[0m │\n",
              "├───────────────────────────┼────────────────────────┼────────────────┼────────────────────────┤\n",
              "│ dropout_22 (\u001b[38;5;33mDropout\u001b[0m)      │ (\u001b[38;5;45mNone\u001b[0m, \u001b[38;5;34m79\u001b[0m, \u001b[38;5;34m160\u001b[0m)        │              \u001b[38;5;34m0\u001b[0m │ concatenate_10[\u001b[38;5;34m0\u001b[0m][\u001b[38;5;34m0\u001b[0m]   │\n",
              "├───────────────────────────┼────────────────────────┼────────────────┼────────────────────────┤\n",
              "│ conv1d_81 (\u001b[38;5;33mConv1D\u001b[0m)        │ (\u001b[38;5;45mNone\u001b[0m, \u001b[38;5;34m75\u001b[0m, \u001b[38;5;34m24\u001b[0m)         │         \u001b[38;5;34m19,224\u001b[0m │ dropout_22[\u001b[38;5;34m0\u001b[0m][\u001b[38;5;34m0\u001b[0m]       │\n",
              "├───────────────────────────┼────────────────────────┼────────────────┼────────────────────────┤\n",
              "│ average_pooling1d_47      │ (\u001b[38;5;45mNone\u001b[0m, \u001b[38;5;34m15\u001b[0m, \u001b[38;5;34m24\u001b[0m)         │              \u001b[38;5;34m0\u001b[0m │ conv1d_81[\u001b[38;5;34m0\u001b[0m][\u001b[38;5;34m0\u001b[0m]        │\n",
              "│ (\u001b[38;5;33mAveragePooling1D\u001b[0m)        │                        │                │                        │\n",
              "├───────────────────────────┼────────────────────────┼────────────────┼────────────────────────┤\n",
              "│ flatten_10 (\u001b[38;5;33mFlatten\u001b[0m)      │ (\u001b[38;5;45mNone\u001b[0m, \u001b[38;5;34m360\u001b[0m)            │              \u001b[38;5;34m0\u001b[0m │ average_pooling1d_47[\u001b[38;5;34m…\u001b[0m │\n",
              "├───────────────────────────┼────────────────────────┼────────────────┼────────────────────────┤\n",
              "│ dense_23 (\u001b[38;5;33mDense\u001b[0m)          │ (\u001b[38;5;45mNone\u001b[0m, \u001b[38;5;34m48\u001b[0m)             │         \u001b[38;5;34m17,328\u001b[0m │ flatten_10[\u001b[38;5;34m0\u001b[0m][\u001b[38;5;34m0\u001b[0m]       │\n",
              "├───────────────────────────┼────────────────────────┼────────────────┼────────────────────────┤\n",
              "│ dense_24 (\u001b[38;5;33mDense\u001b[0m)          │ (\u001b[38;5;45mNone\u001b[0m, \u001b[38;5;34m19\u001b[0m)             │            \u001b[38;5;34m931\u001b[0m │ dense_23[\u001b[38;5;34m0\u001b[0m][\u001b[38;5;34m0\u001b[0m]         │\n",
              "└───────────────────────────┴────────────────────────┴────────────────┴────────────────────────┘\n"
            ],
            "text/html": [
              "<pre style=\"white-space:pre;overflow-x:auto;line-height:normal;font-family:Menlo,'DejaVu Sans Mono',consolas,'Courier New',monospace\">┏━━━━━━━━━━━━━━━━━━━━━━━━━━━┳━━━━━━━━━━━━━━━━━━━━━━━━┳━━━━━━━━━━━━━━━━┳━━━━━━━━━━━━━━━━━━━━━━━━┓\n",
              "┃<span style=\"font-weight: bold\"> Layer (type)              </span>┃<span style=\"font-weight: bold\"> Output Shape           </span>┃<span style=\"font-weight: bold\">        Param # </span>┃<span style=\"font-weight: bold\"> Connected to           </span>┃\n",
              "┡━━━━━━━━━━━━━━━━━━━━━━━━━━━╇━━━━━━━━━━━━━━━━━━━━━━━━╇━━━━━━━━━━━━━━━━╇━━━━━━━━━━━━━━━━━━━━━━━━┩\n",
              "│ input_layer_10            │ (<span style=\"color: #00d7ff; text-decoration-color: #00d7ff\">None</span>, <span style=\"color: #00af00; text-decoration-color: #00af00\">237</span>)            │              <span style=\"color: #00af00; text-decoration-color: #00af00\">0</span> │ -                      │\n",
              "│ (<span style=\"color: #0087ff; text-decoration-color: #0087ff\">InputLayer</span>)              │                        │                │                        │\n",
              "├───────────────────────────┼────────────────────────┼────────────────┼────────────────────────┤\n",
              "│ embedding_10 (<span style=\"color: #0087ff; text-decoration-color: #0087ff\">Embedding</span>)  │ (<span style=\"color: #00d7ff; text-decoration-color: #00d7ff\">None</span>, <span style=\"color: #00af00; text-decoration-color: #00af00\">237</span>, <span style=\"color: #00af00; text-decoration-color: #00af00\">100</span>)       │      <span style=\"color: #00af00; text-decoration-color: #00af00\">2,409,200</span> │ input_layer_10[<span style=\"color: #00af00; text-decoration-color: #00af00\">0</span>][<span style=\"color: #00af00; text-decoration-color: #00af00\">0</span>]   │\n",
              "├───────────────────────────┼────────────────────────┼────────────────┼────────────────────────┤\n",
              "│ conv1d_76 (<span style=\"color: #0087ff; text-decoration-color: #0087ff\">Conv1D</span>)        │ (<span style=\"color: #00d7ff; text-decoration-color: #00d7ff\">None</span>, <span style=\"color: #00af00; text-decoration-color: #00af00\">237</span>, <span style=\"color: #00af00; text-decoration-color: #00af00\">32</span>)        │          <span style=\"color: #00af00; text-decoration-color: #00af00\">6,432</span> │ embedding_10[<span style=\"color: #00af00; text-decoration-color: #00af00\">0</span>][<span style=\"color: #00af00; text-decoration-color: #00af00\">0</span>]     │\n",
              "├───────────────────────────┼────────────────────────┼────────────────┼────────────────────────┤\n",
              "│ conv1d_77 (<span style=\"color: #0087ff; text-decoration-color: #0087ff\">Conv1D</span>)        │ (<span style=\"color: #00d7ff; text-decoration-color: #00d7ff\">None</span>, <span style=\"color: #00af00; text-decoration-color: #00af00\">237</span>, <span style=\"color: #00af00; text-decoration-color: #00af00\">32</span>)        │          <span style=\"color: #00af00; text-decoration-color: #00af00\">9,632</span> │ embedding_10[<span style=\"color: #00af00; text-decoration-color: #00af00\">0</span>][<span style=\"color: #00af00; text-decoration-color: #00af00\">0</span>]     │\n",
              "├───────────────────────────┼────────────────────────┼────────────────┼────────────────────────┤\n",
              "│ conv1d_78 (<span style=\"color: #0087ff; text-decoration-color: #0087ff\">Conv1D</span>)        │ (<span style=\"color: #00d7ff; text-decoration-color: #00d7ff\">None</span>, <span style=\"color: #00af00; text-decoration-color: #00af00\">237</span>, <span style=\"color: #00af00; text-decoration-color: #00af00\">32</span>)        │         <span style=\"color: #00af00; text-decoration-color: #00af00\">12,832</span> │ embedding_10[<span style=\"color: #00af00; text-decoration-color: #00af00\">0</span>][<span style=\"color: #00af00; text-decoration-color: #00af00\">0</span>]     │\n",
              "├───────────────────────────┼────────────────────────┼────────────────┼────────────────────────┤\n",
              "│ conv1d_79 (<span style=\"color: #0087ff; text-decoration-color: #0087ff\">Conv1D</span>)        │ (<span style=\"color: #00d7ff; text-decoration-color: #00d7ff\">None</span>, <span style=\"color: #00af00; text-decoration-color: #00af00\">237</span>, <span style=\"color: #00af00; text-decoration-color: #00af00\">32</span>)        │         <span style=\"color: #00af00; text-decoration-color: #00af00\">16,032</span> │ embedding_10[<span style=\"color: #00af00; text-decoration-color: #00af00\">0</span>][<span style=\"color: #00af00; text-decoration-color: #00af00\">0</span>]     │\n",
              "├───────────────────────────┼────────────────────────┼────────────────┼────────────────────────┤\n",
              "│ conv1d_80 (<span style=\"color: #0087ff; text-decoration-color: #0087ff\">Conv1D</span>)        │ (<span style=\"color: #00d7ff; text-decoration-color: #00d7ff\">None</span>, <span style=\"color: #00af00; text-decoration-color: #00af00\">237</span>, <span style=\"color: #00af00; text-decoration-color: #00af00\">32</span>)        │         <span style=\"color: #00af00; text-decoration-color: #00af00\">19,232</span> │ embedding_10[<span style=\"color: #00af00; text-decoration-color: #00af00\">0</span>][<span style=\"color: #00af00; text-decoration-color: #00af00\">0</span>]     │\n",
              "├───────────────────────────┼────────────────────────┼────────────────┼────────────────────────┤\n",
              "│ average_pooling1d_42      │ (<span style=\"color: #00d7ff; text-decoration-color: #00d7ff\">None</span>, <span style=\"color: #00af00; text-decoration-color: #00af00\">79</span>, <span style=\"color: #00af00; text-decoration-color: #00af00\">32</span>)         │              <span style=\"color: #00af00; text-decoration-color: #00af00\">0</span> │ conv1d_76[<span style=\"color: #00af00; text-decoration-color: #00af00\">0</span>][<span style=\"color: #00af00; text-decoration-color: #00af00\">0</span>]        │\n",
              "│ (<span style=\"color: #0087ff; text-decoration-color: #0087ff\">AveragePooling1D</span>)        │                        │                │                        │\n",
              "├───────────────────────────┼────────────────────────┼────────────────┼────────────────────────┤\n",
              "│ average_pooling1d_43      │ (<span style=\"color: #00d7ff; text-decoration-color: #00d7ff\">None</span>, <span style=\"color: #00af00; text-decoration-color: #00af00\">79</span>, <span style=\"color: #00af00; text-decoration-color: #00af00\">32</span>)         │              <span style=\"color: #00af00; text-decoration-color: #00af00\">0</span> │ conv1d_77[<span style=\"color: #00af00; text-decoration-color: #00af00\">0</span>][<span style=\"color: #00af00; text-decoration-color: #00af00\">0</span>]        │\n",
              "│ (<span style=\"color: #0087ff; text-decoration-color: #0087ff\">AveragePooling1D</span>)        │                        │                │                        │\n",
              "├───────────────────────────┼────────────────────────┼────────────────┼────────────────────────┤\n",
              "│ average_pooling1d_44      │ (<span style=\"color: #00d7ff; text-decoration-color: #00d7ff\">None</span>, <span style=\"color: #00af00; text-decoration-color: #00af00\">79</span>, <span style=\"color: #00af00; text-decoration-color: #00af00\">32</span>)         │              <span style=\"color: #00af00; text-decoration-color: #00af00\">0</span> │ conv1d_78[<span style=\"color: #00af00; text-decoration-color: #00af00\">0</span>][<span style=\"color: #00af00; text-decoration-color: #00af00\">0</span>]        │\n",
              "│ (<span style=\"color: #0087ff; text-decoration-color: #0087ff\">AveragePooling1D</span>)        │                        │                │                        │\n",
              "├───────────────────────────┼────────────────────────┼────────────────┼────────────────────────┤\n",
              "│ average_pooling1d_45      │ (<span style=\"color: #00d7ff; text-decoration-color: #00d7ff\">None</span>, <span style=\"color: #00af00; text-decoration-color: #00af00\">79</span>, <span style=\"color: #00af00; text-decoration-color: #00af00\">32</span>)         │              <span style=\"color: #00af00; text-decoration-color: #00af00\">0</span> │ conv1d_79[<span style=\"color: #00af00; text-decoration-color: #00af00\">0</span>][<span style=\"color: #00af00; text-decoration-color: #00af00\">0</span>]        │\n",
              "│ (<span style=\"color: #0087ff; text-decoration-color: #0087ff\">AveragePooling1D</span>)        │                        │                │                        │\n",
              "├───────────────────────────┼────────────────────────┼────────────────┼────────────────────────┤\n",
              "│ average_pooling1d_46      │ (<span style=\"color: #00d7ff; text-decoration-color: #00d7ff\">None</span>, <span style=\"color: #00af00; text-decoration-color: #00af00\">79</span>, <span style=\"color: #00af00; text-decoration-color: #00af00\">32</span>)         │              <span style=\"color: #00af00; text-decoration-color: #00af00\">0</span> │ conv1d_80[<span style=\"color: #00af00; text-decoration-color: #00af00\">0</span>][<span style=\"color: #00af00; text-decoration-color: #00af00\">0</span>]        │\n",
              "│ (<span style=\"color: #0087ff; text-decoration-color: #0087ff\">AveragePooling1D</span>)        │                        │                │                        │\n",
              "├───────────────────────────┼────────────────────────┼────────────────┼────────────────────────┤\n",
              "│ concatenate_10            │ (<span style=\"color: #00d7ff; text-decoration-color: #00d7ff\">None</span>, <span style=\"color: #00af00; text-decoration-color: #00af00\">79</span>, <span style=\"color: #00af00; text-decoration-color: #00af00\">160</span>)        │              <span style=\"color: #00af00; text-decoration-color: #00af00\">0</span> │ average_pooling1d_42[<span style=\"color: #00af00; text-decoration-color: #00af00\">…</span> │\n",
              "│ (<span style=\"color: #0087ff; text-decoration-color: #0087ff\">Concatenate</span>)             │                        │                │ average_pooling1d_43[<span style=\"color: #00af00; text-decoration-color: #00af00\">…</span> │\n",
              "│                           │                        │                │ average_pooling1d_44[<span style=\"color: #00af00; text-decoration-color: #00af00\">…</span> │\n",
              "│                           │                        │                │ average_pooling1d_45[<span style=\"color: #00af00; text-decoration-color: #00af00\">…</span> │\n",
              "│                           │                        │                │ average_pooling1d_46[<span style=\"color: #00af00; text-decoration-color: #00af00\">…</span> │\n",
              "├───────────────────────────┼────────────────────────┼────────────────┼────────────────────────┤\n",
              "│ dropout_22 (<span style=\"color: #0087ff; text-decoration-color: #0087ff\">Dropout</span>)      │ (<span style=\"color: #00d7ff; text-decoration-color: #00d7ff\">None</span>, <span style=\"color: #00af00; text-decoration-color: #00af00\">79</span>, <span style=\"color: #00af00; text-decoration-color: #00af00\">160</span>)        │              <span style=\"color: #00af00; text-decoration-color: #00af00\">0</span> │ concatenate_10[<span style=\"color: #00af00; text-decoration-color: #00af00\">0</span>][<span style=\"color: #00af00; text-decoration-color: #00af00\">0</span>]   │\n",
              "├───────────────────────────┼────────────────────────┼────────────────┼────────────────────────┤\n",
              "│ conv1d_81 (<span style=\"color: #0087ff; text-decoration-color: #0087ff\">Conv1D</span>)        │ (<span style=\"color: #00d7ff; text-decoration-color: #00d7ff\">None</span>, <span style=\"color: #00af00; text-decoration-color: #00af00\">75</span>, <span style=\"color: #00af00; text-decoration-color: #00af00\">24</span>)         │         <span style=\"color: #00af00; text-decoration-color: #00af00\">19,224</span> │ dropout_22[<span style=\"color: #00af00; text-decoration-color: #00af00\">0</span>][<span style=\"color: #00af00; text-decoration-color: #00af00\">0</span>]       │\n",
              "├───────────────────────────┼────────────────────────┼────────────────┼────────────────────────┤\n",
              "│ average_pooling1d_47      │ (<span style=\"color: #00d7ff; text-decoration-color: #00d7ff\">None</span>, <span style=\"color: #00af00; text-decoration-color: #00af00\">15</span>, <span style=\"color: #00af00; text-decoration-color: #00af00\">24</span>)         │              <span style=\"color: #00af00; text-decoration-color: #00af00\">0</span> │ conv1d_81[<span style=\"color: #00af00; text-decoration-color: #00af00\">0</span>][<span style=\"color: #00af00; text-decoration-color: #00af00\">0</span>]        │\n",
              "│ (<span style=\"color: #0087ff; text-decoration-color: #0087ff\">AveragePooling1D</span>)        │                        │                │                        │\n",
              "├───────────────────────────┼────────────────────────┼────────────────┼────────────────────────┤\n",
              "│ flatten_10 (<span style=\"color: #0087ff; text-decoration-color: #0087ff\">Flatten</span>)      │ (<span style=\"color: #00d7ff; text-decoration-color: #00d7ff\">None</span>, <span style=\"color: #00af00; text-decoration-color: #00af00\">360</span>)            │              <span style=\"color: #00af00; text-decoration-color: #00af00\">0</span> │ average_pooling1d_47[<span style=\"color: #00af00; text-decoration-color: #00af00\">…</span> │\n",
              "├───────────────────────────┼────────────────────────┼────────────────┼────────────────────────┤\n",
              "│ dense_23 (<span style=\"color: #0087ff; text-decoration-color: #0087ff\">Dense</span>)          │ (<span style=\"color: #00d7ff; text-decoration-color: #00d7ff\">None</span>, <span style=\"color: #00af00; text-decoration-color: #00af00\">48</span>)             │         <span style=\"color: #00af00; text-decoration-color: #00af00\">17,328</span> │ flatten_10[<span style=\"color: #00af00; text-decoration-color: #00af00\">0</span>][<span style=\"color: #00af00; text-decoration-color: #00af00\">0</span>]       │\n",
              "├───────────────────────────┼────────────────────────┼────────────────┼────────────────────────┤\n",
              "│ dense_24 (<span style=\"color: #0087ff; text-decoration-color: #0087ff\">Dense</span>)          │ (<span style=\"color: #00d7ff; text-decoration-color: #00d7ff\">None</span>, <span style=\"color: #00af00; text-decoration-color: #00af00\">19</span>)             │            <span style=\"color: #00af00; text-decoration-color: #00af00\">931</span> │ dense_23[<span style=\"color: #00af00; text-decoration-color: #00af00\">0</span>][<span style=\"color: #00af00; text-decoration-color: #00af00\">0</span>]         │\n",
              "└───────────────────────────┴────────────────────────┴────────────────┴────────────────────────┘\n",
              "</pre>\n"
            ]
          },
          "metadata": {}
        },
        {
          "output_type": "display_data",
          "data": {
            "text/plain": [
              "\u001b[1m Total params: \u001b[0m\u001b[38;5;34m2,510,843\u001b[0m (9.58 MB)\n"
            ],
            "text/html": [
              "<pre style=\"white-space:pre;overflow-x:auto;line-height:normal;font-family:Menlo,'DejaVu Sans Mono',consolas,'Courier New',monospace\"><span style=\"font-weight: bold\"> Total params: </span><span style=\"color: #00af00; text-decoration-color: #00af00\">2,510,843</span> (9.58 MB)\n",
              "</pre>\n"
            ]
          },
          "metadata": {}
        },
        {
          "output_type": "display_data",
          "data": {
            "text/plain": [
              "\u001b[1m Trainable params: \u001b[0m\u001b[38;5;34m2,510,843\u001b[0m (9.58 MB)\n"
            ],
            "text/html": [
              "<pre style=\"white-space:pre;overflow-x:auto;line-height:normal;font-family:Menlo,'DejaVu Sans Mono',consolas,'Courier New',monospace\"><span style=\"font-weight: bold\"> Trainable params: </span><span style=\"color: #00af00; text-decoration-color: #00af00\">2,510,843</span> (9.58 MB)\n",
              "</pre>\n"
            ]
          },
          "metadata": {}
        },
        {
          "output_type": "display_data",
          "data": {
            "text/plain": [
              "\u001b[1m Non-trainable params: \u001b[0m\u001b[38;5;34m0\u001b[0m (0.00 B)\n"
            ],
            "text/html": [
              "<pre style=\"white-space:pre;overflow-x:auto;line-height:normal;font-family:Menlo,'DejaVu Sans Mono',consolas,'Courier New',monospace\"><span style=\"font-weight: bold\"> Non-trainable params: </span><span style=\"color: #00af00; text-decoration-color: #00af00\">0</span> (0.00 B)\n",
              "</pre>\n"
            ]
          },
          "metadata": {}
        }
      ]
    },
    {
      "cell_type": "code",
      "source": [
        "# ModelCheckpoint сохраняет лучшие версии моделей\n",
        "checkpoint = keras.callbacks.ModelCheckpoint('model.weights.h5', # названия файла\n",
        "                                                monitor='val_rec@prec', # за какой метрикой следить\n",
        "                                                verbose=1, # будет печатать что происходит\n",
        "                                                save_weights_only=True, # если нужно только веса сохранить\n",
        "                                                save_best_only=True, # сохранять только лучшие\n",
        "                                                mode='max', # если метрика должна расти, то тут max и min если наоборот\n",
        "                                                save_freq='epoch' # как часто вызывать\n",
        "                                               )\n",
        "\n",
        "# EarlyStopping позволяет автоматически остановить обучение, если качество не улучшается\n",
        "early_stop = keras.callbacks.EarlyStopping(monitor='val_rec@prec',\n",
        "                                              min_delta=0.01, # какая разница считается как улучшение\n",
        "                                              patience=5, # сколько эпох терпеть отсутствие улучшений\n",
        "                                              verbose=1,\n",
        "                                              mode='max',\n",
        "                                              )"
      ],
      "metadata": {
        "id": "QczUksKlXwc1"
      },
      "id": "QczUksKlXwc1",
      "execution_count": 57,
      "outputs": []
    },
    {
      "cell_type": "code",
      "source": [
        "# собственно обучение\n",
        "model.fit(X_train, y_train,\n",
        "          validation_data=(X_valid, y_valid),\n",
        "          batch_size=3000,\n",
        "          epochs=20,\n",
        "          callbacks=[checkpoint, early_stop])"
      ],
      "metadata": {
        "colab": {
          "base_uri": "https://localhost:8080/"
        },
        "id": "IUYug0pUYGra",
        "outputId": "d9e1cc4f-bfc9-4999-e349-d9f3f6c38365"
      },
      "id": "IUYug0pUYGra",
      "execution_count": 58,
      "outputs": [
        {
          "output_type": "stream",
          "name": "stdout",
          "text": [
            "Epoch 1/20\n",
            "\u001b[1m15/15\u001b[0m \u001b[32m━━━━━━━━━━━━━━━━━━━━\u001b[0m\u001b[37m\u001b[0m \u001b[1m0s\u001b[0m 325ms/step - loss: 0.1977 - rec@prec: 0.0000e+00\n",
            "Epoch 1: val_rec@prec improved from -inf to 0.00000, saving model to model.weights.h5\n",
            "\u001b[1m15/15\u001b[0m \u001b[32m━━━━━━━━━━━━━━━━━━━━\u001b[0m\u001b[37m\u001b[0m \u001b[1m5s\u001b[0m 339ms/step - loss: 0.1972 - rec@prec: 0.0000e+00 - val_loss: 0.1751 - val_rec@prec: 0.0000e+00\n",
            "Epoch 2/20\n",
            "\u001b[1m15/15\u001b[0m \u001b[32m━━━━━━━━━━━━━━━━━━━━\u001b[0m\u001b[37m\u001b[0m \u001b[1m0s\u001b[0m 332ms/step - loss: 0.1716 - rec@prec: 2.3098e-05\n",
            "Epoch 2: val_rec@prec improved from 0.00000 to 0.00180, saving model to model.weights.h5\n",
            "\u001b[1m15/15\u001b[0m \u001b[32m━━━━━━━━━━━━━━━━━━━━\u001b[0m\u001b[37m\u001b[0m \u001b[1m5s\u001b[0m 347ms/step - loss: 0.1716 - rec@prec: 2.3138e-05 - val_loss: 0.1671 - val_rec@prec: 0.0018\n",
            "Epoch 3/20\n",
            "\u001b[1m15/15\u001b[0m \u001b[32m━━━━━━━━━━━━━━━━━━━━\u001b[0m\u001b[37m\u001b[0m \u001b[1m0s\u001b[0m 335ms/step - loss: 0.1616 - rec@prec: 0.0013\n",
            "Epoch 3: val_rec@prec improved from 0.00180 to 0.03652, saving model to model.weights.h5\n",
            "\u001b[1m15/15\u001b[0m \u001b[32m━━━━━━━━━━━━━━━━━━━━\u001b[0m\u001b[37m\u001b[0m \u001b[1m5s\u001b[0m 350ms/step - loss: 0.1614 - rec@prec: 0.0014 - val_loss: 0.1474 - val_rec@prec: 0.0365\n",
            "Epoch 4/20\n",
            "\u001b[1m15/15\u001b[0m \u001b[32m━━━━━━━━━━━━━━━━━━━━\u001b[0m\u001b[37m\u001b[0m \u001b[1m0s\u001b[0m 338ms/step - loss: 0.1367 - rec@prec: 0.1040\n",
            "Epoch 4: val_rec@prec improved from 0.03652 to 0.29531, saving model to model.weights.h5\n",
            "\u001b[1m15/15\u001b[0m \u001b[32m━━━━━━━━━━━━━━━━━━━━\u001b[0m\u001b[37m\u001b[0m \u001b[1m5s\u001b[0m 357ms/step - loss: 0.1363 - rec@prec: 0.1087 - val_loss: 0.1197 - val_rec@prec: 0.2953\n",
            "Epoch 5/20\n",
            "\u001b[1m15/15\u001b[0m \u001b[32m━━━━━━━━━━━━━━━━━━━━\u001b[0m\u001b[37m\u001b[0m \u001b[1m0s\u001b[0m 336ms/step - loss: 0.1087 - rec@prec: 0.3878\n",
            "Epoch 5: val_rec@prec improved from 0.29531 to 0.39360, saving model to model.weights.h5\n",
            "\u001b[1m15/15\u001b[0m \u001b[32m━━━━━━━━━━━━━━━━━━━━\u001b[0m\u001b[37m\u001b[0m \u001b[1m6s\u001b[0m 373ms/step - loss: 0.1084 - rec@prec: 0.3902 - val_loss: 0.1071 - val_rec@prec: 0.3936\n",
            "Epoch 6/20\n",
            "\u001b[1m15/15\u001b[0m \u001b[32m━━━━━━━━━━━━━━━━━━━━\u001b[0m\u001b[37m\u001b[0m \u001b[1m0s\u001b[0m 329ms/step - loss: 0.0910 - rec@prec: 0.5322\n",
            "Epoch 6: val_rec@prec improved from 0.39360 to 0.43913, saving model to model.weights.h5\n",
            "\u001b[1m15/15\u001b[0m \u001b[32m━━━━━━━━━━━━━━━━━━━━\u001b[0m\u001b[37m\u001b[0m \u001b[1m5s\u001b[0m 344ms/step - loss: 0.0908 - rec@prec: 0.5332 - val_loss: 0.0992 - val_rec@prec: 0.4391\n",
            "Epoch 7/20\n",
            "\u001b[1m15/15\u001b[0m \u001b[32m━━━━━━━━━━━━━━━━━━━━\u001b[0m\u001b[37m\u001b[0m \u001b[1m0s\u001b[0m 327ms/step - loss: 0.0759 - rec@prec: 0.6526\n",
            "Epoch 7: val_rec@prec improved from 0.43913 to 0.50000, saving model to model.weights.h5\n",
            "\u001b[1m15/15\u001b[0m \u001b[32m━━━━━━━━━━━━━━━━━━━━\u001b[0m\u001b[37m\u001b[0m \u001b[1m5s\u001b[0m 342ms/step - loss: 0.0757 - rec@prec: 0.6538 - val_loss: 0.0951 - val_rec@prec: 0.5000\n",
            "Epoch 8/20\n",
            "\u001b[1m15/15\u001b[0m \u001b[32m━━━━━━━━━━━━━━━━━━━━\u001b[0m\u001b[37m\u001b[0m \u001b[1m0s\u001b[0m 325ms/step - loss: 0.0620 - rec@prec: 0.7693\n",
            "Epoch 8: val_rec@prec improved from 0.50000 to 0.53201, saving model to model.weights.h5\n",
            "\u001b[1m15/15\u001b[0m \u001b[32m━━━━━━━━━━━━━━━━━━━━\u001b[0m\u001b[37m\u001b[0m \u001b[1m5s\u001b[0m 341ms/step - loss: 0.0619 - rec@prec: 0.7698 - val_loss: 0.0948 - val_rec@prec: 0.5320\n",
            "Epoch 9/20\n",
            "\u001b[1m15/15\u001b[0m \u001b[32m━━━━━━━━━━━━━━━━━━━━\u001b[0m\u001b[37m\u001b[0m \u001b[1m0s\u001b[0m 322ms/step - loss: 0.0510 - rec@prec: 0.8388\n",
            "Epoch 9: val_rec@prec improved from 0.53201 to 0.56718, saving model to model.weights.h5\n",
            "\u001b[1m15/15\u001b[0m \u001b[32m━━━━━━━━━━━━━━━━━━━━\u001b[0m\u001b[37m\u001b[0m \u001b[1m5s\u001b[0m 340ms/step - loss: 0.0510 - rec@prec: 0.8391 - val_loss: 0.0965 - val_rec@prec: 0.5672\n",
            "Epoch 10/20\n",
            "\u001b[1m15/15\u001b[0m \u001b[32m━━━━━━━━━━━━━━━━━━━━\u001b[0m\u001b[37m\u001b[0m \u001b[1m0s\u001b[0m 323ms/step - loss: 0.0427 - rec@prec: 0.8846\n",
            "Epoch 10: val_rec@prec did not improve from 0.56718\n",
            "\u001b[1m15/15\u001b[0m \u001b[32m━━━━━━━━━━━━━━━━━━━━\u001b[0m\u001b[37m\u001b[0m \u001b[1m5s\u001b[0m 332ms/step - loss: 0.0426 - rec@prec: 0.8851 - val_loss: 0.1015 - val_rec@prec: 0.5627\n",
            "Epoch 11/20\n",
            "\u001b[1m15/15\u001b[0m \u001b[32m━━━━━━━━━━━━━━━━━━━━\u001b[0m\u001b[37m\u001b[0m \u001b[1m0s\u001b[0m 323ms/step - loss: 0.0337 - rec@prec: 0.9241\n",
            "Epoch 11: val_rec@prec improved from 0.56718 to 0.57214, saving model to model.weights.h5\n",
            "\u001b[1m15/15\u001b[0m \u001b[32m━━━━━━━━━━━━━━━━━━━━\u001b[0m\u001b[37m\u001b[0m \u001b[1m5s\u001b[0m 338ms/step - loss: 0.0337 - rec@prec: 0.9242 - val_loss: 0.1078 - val_rec@prec: 0.5721\n",
            "Epoch 12/20\n",
            "\u001b[1m15/15\u001b[0m \u001b[32m━━━━━━━━━━━━━━━━━━━━\u001b[0m\u001b[37m\u001b[0m \u001b[1m0s\u001b[0m 321ms/step - loss: 0.0276 - rec@prec: 0.9460\n",
            "Epoch 12: val_rec@prec did not improve from 0.57214\n",
            "\u001b[1m15/15\u001b[0m \u001b[32m━━━━━━━━━━━━━━━━━━━━\u001b[0m\u001b[37m\u001b[0m \u001b[1m5s\u001b[0m 329ms/step - loss: 0.0276 - rec@prec: 0.9462 - val_loss: 0.1131 - val_rec@prec: 0.5699\n",
            "Epoch 13/20\n",
            "\u001b[1m15/15\u001b[0m \u001b[32m━━━━━━━━━━━━━━━━━━━━\u001b[0m\u001b[37m\u001b[0m \u001b[1m0s\u001b[0m 318ms/step - loss: 0.0217 - rec@prec: 0.9652\n",
            "Epoch 13: val_rec@prec did not improve from 0.57214\n",
            "\u001b[1m15/15\u001b[0m \u001b[32m━━━━━━━━━━━━━━━━━━━━\u001b[0m\u001b[37m\u001b[0m \u001b[1m5s\u001b[0m 325ms/step - loss: 0.0217 - rec@prec: 0.9652 - val_loss: 0.1272 - val_rec@prec: 0.5374\n",
            "Epoch 14/20\n",
            "\u001b[1m15/15\u001b[0m \u001b[32m━━━━━━━━━━━━━━━━━━━━\u001b[0m\u001b[37m\u001b[0m \u001b[1m0s\u001b[0m 318ms/step - loss: 0.0172 - rec@prec: 0.9768\n",
            "Epoch 14: val_rec@prec did not improve from 0.57214\n",
            "\u001b[1m15/15\u001b[0m \u001b[32m━━━━━━━━━━━━━━━━━━━━\u001b[0m\u001b[37m\u001b[0m \u001b[1m5s\u001b[0m 324ms/step - loss: 0.0172 - rec@prec: 0.9768 - val_loss: 0.1419 - val_rec@prec: 0.5370\n",
            "Epoch 14: early stopping\n"
          ]
        },
        {
          "output_type": "execute_result",
          "data": {
            "text/plain": [
              "<keras.src.callbacks.history.History at 0x79a5a262a250>"
            ]
          },
          "metadata": {},
          "execution_count": 58
        }
      ]
    },
    {
      "cell_type": "code",
      "source": [
        "# визуализация обучения\n",
        "print(model.history.history.keys())\n",
        "plt.plot(model.history.history['rec@prec'])\n",
        "plt.plot(model.history.history['val_rec@prec'])\n",
        "plt.title('model metrics')\n",
        "plt.ylabel('recall at precision')\n",
        "plt.xlabel('epoch')\n",
        "plt.legend(['train', 'val'], loc='upper left')\n",
        "plt.show()"
      ],
      "metadata": {
        "colab": {
          "base_uri": "https://localhost:8080/",
          "height": 489
        },
        "id": "u_mSL2K_YLSL",
        "outputId": "46c30813-0e76-4f16-ee51-bd261232955a"
      },
      "id": "u_mSL2K_YLSL",
      "execution_count": 59,
      "outputs": [
        {
          "output_type": "stream",
          "name": "stdout",
          "text": [
            "dict_keys(['loss', 'rec@prec', 'val_loss', 'val_rec@prec'])\n"
          ]
        },
        {
          "output_type": "display_data",
          "data": {
            "text/plain": [
              "<Figure size 640x480 with 1 Axes>"
            ],
            "image/png": "[encoded data removed]"
          },
          "metadata": {}
        }
      ]
    },
    {
      "cell_type": "markdown",
      "source": [
        "### Задание 2 (2 балла)\n",
        "Обучите нейросеть со сверточными слоями с архитектурой похожей на Unet - https://en.wikipedia.org/wiki/U-Net\n",
        "\n",
        "Не нужно воспроизводить все в точности, главное, чтобы было сокращение длины последовательности с помощью CNN, а затем обратное увеличение длины последовательности до изначальной с residual связями между промежуточными шагами с одинаковыми размерностями.\n",
        "Изменений размерности должно быть хотя бы 3 и соответственно residual связей тоже.\n",
        "\n",
        "Для повышения размерности используйте keras.layers.UpSampling1D\n",
        "Полученная модель должна давать ненулевое качество на той же самой задаче классификации текстов."
      ],
      "metadata": {
        "id": "rx2nGjpyVdUj"
      },
      "id": "rx2nGjpyVdUj"
    },
    {
      "cell_type": "code",
      "source": [
        "pass"
      ],
      "metadata": {
        "id": "7JfBimzIVs9S"
      },
      "id": "7JfBimzIVs9S",
      "execution_count": null,
      "outputs": []
    }
  ],
  "metadata": {
    "kernelspec": {
      "display_name": "Python 3",
      "name": "python3"
    },
    "language_info": {
      "codemirror_mode": {
        "name": "ipython",
        "version": 3
      },
      "file_extension": ".py",
      "mimetype": "text/x-python",
      "name": "python",
      "nbconvert_exporter": "python",
      "pygments_lexer": "ipython3",
      "version": "3.11.7"
    },
    "colab": {
      "provenance": [],
      "collapsed_sections": [
        "iOxW-51Awb_D",
        "P0ipN-LAwgVj",
        "Yvkx8XlowxfD",
        "rx2nGjpyVdUj"
      ],
      "gpuType": "T4"
    },
    "accelerator": "GPU"
  },
  "nbformat": 4,
  "nbformat_minor": 5
}